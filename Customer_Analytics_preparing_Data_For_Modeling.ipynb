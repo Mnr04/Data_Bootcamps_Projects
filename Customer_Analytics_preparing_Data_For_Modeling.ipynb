{
 "cells": [
  {
   "cell_type": "markdown",
   "id": "959d3dbf-7c47-4a4e-aacc-570c31d519bb",
   "metadata": {},
   "source": [
    "# Introduction\n",
    "\n",
    "In the realm of data science, a common challenge faced when developing models to derive business insights is the sheer size of datasets. Large datasets can significantly prolong the time it takes for models to generate predictions, sometimes even stretching into days. Therefore, ensuring that datasets are stored as efficiently as possible becomes paramount. Efficient storage solutions not only enhance the speed of model predictions but also prevent the need to reduce dataset size, which could compromise the integrity and accuracy of analyses.\n",
    "\n",
    "This project is undertaken in collaboration with **Training Data Ltd.**, a prominent online data science training provider. The objective is to clean and optimize one of their largest customer datasets, which will ultimately serve to predict whether students are in search of new job opportunities. This predictive information is crucial for directing students to potential recruiters.\n",
    "\n",
    "The dataset provided for this proof-of-concept is **customer_train.csv**, a curated subset of the entire customer dataset. It contains anonymized information about students, including their job-seeking status during the training period.\n",
    "\n",
    "The Head Data Scientist at Training Data Ltd. has outlined specific requirements for creating a more efficient DataFrame, referred to as `ds_jobs_transformed`, from the **customer_train.csv** dataset:\n",
    "\n",
    "- **Boolean Storage**: Columns with categories limited to two factors must be represented as Booleans (`bool`).\n",
    "- **Integer Storage**: Columns containing only integers should utilize 32-bit integer storage (`int32`).\n",
    "- **Float Storage**: Columns with floating-point numbers should be stored as 16-bit floats (`float16`).\n",
    "- **Nominal Categorical Data**: Columns with nominal categorical data should be designated as the `category` data type.\n",
    "- **Ordinal Categorical Data**: Columns with ordinal categorical data must be treated as ordered categories without mapping to numerical values, reflecting their natural order.\n",
    "\n",
    "Furthermore, the DataFrame will be filtered to include only students with **10 or more years of experience** at companies with a minimum of **1,000 employees**. This filtering aligns with the needs of their recruiter base, which focuses on experienced professionals from enterprise-level companies.\n",
    "\n",
    "Let's proceed with the data cleaning and transformation process!"
   ]
  },
  {
   "cell_type": "code",
   "execution_count": 21,
   "id": "dea0121c-6963-4fdb-b770-a49a7340861b",
   "metadata": {},
   "outputs": [],
   "source": [
    "import pandas as pd"
   ]
  },
  {
   "cell_type": "code",
   "execution_count": 22,
   "id": "45857e35-6f6e-4eaa-a36e-8354e64a1249",
   "metadata": {},
   "outputs": [],
   "source": [
    "df = pd.read_csv('Dataset/customer_train.csv')"
   ]
  },
  {
   "cell_type": "code",
   "execution_count": 23,
   "id": "90122641-6722-4087-9acd-61b5022548a3",
   "metadata": {},
   "outputs": [
    {
     "name": "stdout",
     "output_type": "stream",
     "text": [
      "<class 'pandas.core.frame.DataFrame'>\n",
      "RangeIndex: 19158 entries, 0 to 19157\n",
      "Data columns (total 14 columns):\n",
      " #   Column                  Non-Null Count  Dtype  \n",
      "---  ------                  --------------  -----  \n",
      " 0   student_id              19158 non-null  int64  \n",
      " 1   city                    19158 non-null  object \n",
      " 2   city_development_index  19158 non-null  float64\n",
      " 3   gender                  14650 non-null  object \n",
      " 4   relevant_experience     19158 non-null  object \n",
      " 5   enrolled_university     18772 non-null  object \n",
      " 6   education_level         18698 non-null  object \n",
      " 7   major_discipline        16345 non-null  object \n",
      " 8   experience              19093 non-null  object \n",
      " 9   company_size            13220 non-null  object \n",
      " 10  company_type            13018 non-null  object \n",
      " 11  last_new_job            18735 non-null  object \n",
      " 12  training_hours          19158 non-null  int64  \n",
      " 13  job_change              19158 non-null  float64\n",
      "dtypes: float64(2), int64(2), object(10)\n",
      "memory usage: 2.0+ MB\n"
     ]
    }
   ],
   "source": [
    "df.info()"
   ]
  },
  {
   "cell_type": "code",
   "execution_count": 24,
   "id": "ae0301ec-cb54-4339-8465-09ff7ba472ca",
   "metadata": {},
   "outputs": [
    {
     "data": {
      "text/plain": [
       "2145828"
      ]
     },
     "execution_count": 24,
     "metadata": {},
     "output_type": "execute_result"
    }
   ],
   "source": [
    "df.memory_usage().sum()"
   ]
  },
  {
   "cell_type": "markdown",
   "id": "ad04407f-c0cb-49dd-a072-2db97032ed31",
   "metadata": {},
   "source": [
    "We need to optimize the memory usage of the dataset, starting with a baseline of 2,145,828 bytes."
   ]
  },
  {
   "cell_type": "code",
   "execution_count": 25,
   "id": "9fbd7a94-e15b-49d8-9da6-97a96ddb9204",
   "metadata": {},
   "outputs": [],
   "source": [
    "# Create a copy of ds_jobs for transforming\n",
    "df_transformed = df.copy()"
   ]
  },
  {
   "cell_type": "code",
   "execution_count": 26,
   "id": "04f998bc-7e20-470b-84bb-c25b4c77dc1b",
   "metadata": {},
   "outputs": [
    {
     "data": {
      "text/html": [
       "<div>\n",
       "<style scoped>\n",
       "    .dataframe tbody tr th:only-of-type {\n",
       "        vertical-align: middle;\n",
       "    }\n",
       "\n",
       "    .dataframe tbody tr th {\n",
       "        vertical-align: top;\n",
       "    }\n",
       "\n",
       "    .dataframe thead th {\n",
       "        text-align: right;\n",
       "    }\n",
       "</style>\n",
       "<table border=\"1\" class=\"dataframe\">\n",
       "  <thead>\n",
       "    <tr style=\"text-align: right;\">\n",
       "      <th></th>\n",
       "      <th>student_id</th>\n",
       "      <th>city</th>\n",
       "      <th>city_development_index</th>\n",
       "      <th>gender</th>\n",
       "      <th>relevant_experience</th>\n",
       "      <th>enrolled_university</th>\n",
       "      <th>education_level</th>\n",
       "      <th>major_discipline</th>\n",
       "      <th>experience</th>\n",
       "      <th>company_size</th>\n",
       "      <th>company_type</th>\n",
       "      <th>last_new_job</th>\n",
       "      <th>training_hours</th>\n",
       "      <th>job_change</th>\n",
       "    </tr>\n",
       "  </thead>\n",
       "  <tbody>\n",
       "    <tr>\n",
       "      <th>0</th>\n",
       "      <td>8949</td>\n",
       "      <td>city_103</td>\n",
       "      <td>0.920</td>\n",
       "      <td>Male</td>\n",
       "      <td>Has relevant experience</td>\n",
       "      <td>no_enrollment</td>\n",
       "      <td>Graduate</td>\n",
       "      <td>STEM</td>\n",
       "      <td>&gt;20</td>\n",
       "      <td>NaN</td>\n",
       "      <td>NaN</td>\n",
       "      <td>1</td>\n",
       "      <td>36</td>\n",
       "      <td>1.0</td>\n",
       "    </tr>\n",
       "    <tr>\n",
       "      <th>1</th>\n",
       "      <td>29725</td>\n",
       "      <td>city_40</td>\n",
       "      <td>0.776</td>\n",
       "      <td>Male</td>\n",
       "      <td>No relevant experience</td>\n",
       "      <td>no_enrollment</td>\n",
       "      <td>Graduate</td>\n",
       "      <td>STEM</td>\n",
       "      <td>15</td>\n",
       "      <td>50-99</td>\n",
       "      <td>Pvt Ltd</td>\n",
       "      <td>&gt;4</td>\n",
       "      <td>47</td>\n",
       "      <td>0.0</td>\n",
       "    </tr>\n",
       "    <tr>\n",
       "      <th>2</th>\n",
       "      <td>11561</td>\n",
       "      <td>city_21</td>\n",
       "      <td>0.624</td>\n",
       "      <td>NaN</td>\n",
       "      <td>No relevant experience</td>\n",
       "      <td>Full time course</td>\n",
       "      <td>Graduate</td>\n",
       "      <td>STEM</td>\n",
       "      <td>5</td>\n",
       "      <td>NaN</td>\n",
       "      <td>NaN</td>\n",
       "      <td>never</td>\n",
       "      <td>83</td>\n",
       "      <td>0.0</td>\n",
       "    </tr>\n",
       "    <tr>\n",
       "      <th>3</th>\n",
       "      <td>33241</td>\n",
       "      <td>city_115</td>\n",
       "      <td>0.789</td>\n",
       "      <td>NaN</td>\n",
       "      <td>No relevant experience</td>\n",
       "      <td>NaN</td>\n",
       "      <td>Graduate</td>\n",
       "      <td>Business Degree</td>\n",
       "      <td>&lt;1</td>\n",
       "      <td>NaN</td>\n",
       "      <td>Pvt Ltd</td>\n",
       "      <td>never</td>\n",
       "      <td>52</td>\n",
       "      <td>1.0</td>\n",
       "    </tr>\n",
       "    <tr>\n",
       "      <th>4</th>\n",
       "      <td>666</td>\n",
       "      <td>city_162</td>\n",
       "      <td>0.767</td>\n",
       "      <td>Male</td>\n",
       "      <td>Has relevant experience</td>\n",
       "      <td>no_enrollment</td>\n",
       "      <td>Masters</td>\n",
       "      <td>STEM</td>\n",
       "      <td>&gt;20</td>\n",
       "      <td>50-99</td>\n",
       "      <td>Funded Startup</td>\n",
       "      <td>4</td>\n",
       "      <td>8</td>\n",
       "      <td>0.0</td>\n",
       "    </tr>\n",
       "  </tbody>\n",
       "</table>\n",
       "</div>"
      ],
      "text/plain": [
       "   student_id      city  city_development_index gender  \\\n",
       "0        8949  city_103                   0.920   Male   \n",
       "1       29725   city_40                   0.776   Male   \n",
       "2       11561   city_21                   0.624    NaN   \n",
       "3       33241  city_115                   0.789    NaN   \n",
       "4         666  city_162                   0.767   Male   \n",
       "\n",
       "       relevant_experience enrolled_university education_level  \\\n",
       "0  Has relevant experience       no_enrollment        Graduate   \n",
       "1   No relevant experience       no_enrollment        Graduate   \n",
       "2   No relevant experience    Full time course        Graduate   \n",
       "3   No relevant experience                 NaN        Graduate   \n",
       "4  Has relevant experience       no_enrollment         Masters   \n",
       "\n",
       "  major_discipline experience company_size    company_type last_new_job  \\\n",
       "0             STEM        >20          NaN             NaN            1   \n",
       "1             STEM         15        50-99         Pvt Ltd           >4   \n",
       "2             STEM          5          NaN             NaN        never   \n",
       "3  Business Degree         <1          NaN         Pvt Ltd        never   \n",
       "4             STEM        >20        50-99  Funded Startup            4   \n",
       "\n",
       "   training_hours  job_change  \n",
       "0              36         1.0  \n",
       "1              47         0.0  \n",
       "2              83         0.0  \n",
       "3              52         1.0  \n",
       "4               8         0.0  "
      ]
     },
     "execution_count": 26,
     "metadata": {},
     "output_type": "execute_result"
    }
   ],
   "source": [
    "df_transformed.head()"
   ]
  },
  {
   "cell_type": "code",
   "execution_count": 27,
   "id": "2222eeaa-b5d8-4b40-83b7-b8da2d657000",
   "metadata": {},
   "outputs": [
    {
     "data": {
      "text/plain": [
       "(19158, 14)"
      ]
     },
     "execution_count": 27,
     "metadata": {},
     "output_type": "execute_result"
    }
   ],
   "source": [
    "df_transformed.shape"
   ]
  },
  {
   "cell_type": "code",
   "execution_count": 28,
   "id": "9d31ed43-aa55-4eb8-ab0b-37ebd07934a6",
   "metadata": {},
   "outputs": [
    {
     "data": {
      "text/plain": [
       "student_id                  int64\n",
       "city                       object\n",
       "city_development_index    float64\n",
       "gender                     object\n",
       "relevant_experience        object\n",
       "enrolled_university        object\n",
       "education_level            object\n",
       "major_discipline           object\n",
       "experience                 object\n",
       "company_size               object\n",
       "company_type               object\n",
       "last_new_job               object\n",
       "training_hours              int64\n",
       "job_change                float64\n",
       "dtype: object"
      ]
     },
     "execution_count": 28,
     "metadata": {},
     "output_type": "execute_result"
    }
   ],
   "source": [
    "df_transformed.dtypes\n"
   ]
  },
  {
   "cell_type": "markdown",
   "id": "e8ef1eb1-f1d3-4a50-9661-f2accf660add",
   "metadata": {},
   "source": [
    "We begin by converting the job change column to a Boolean type, where 1 represents True (indicating that the individual is looking for a new job) and 0 represents False (indicating that they are not seeking new job opportunities).\n"
   ]
  },
  {
   "cell_type": "code",
   "execution_count": 29,
   "id": "c4ff7af5-0615-498d-97f5-3921b02caccf",
   "metadata": {},
   "outputs": [],
   "source": [
    "df_transformed['job_change'] = df_transformed['job_change'].apply(lambda row: True if row ==1 else False)"
   ]
  },
  {
   "cell_type": "code",
   "execution_count": 30,
   "id": "c9233350-dd22-4c26-b2ce-94908dd95f51",
   "metadata": {},
   "outputs": [
    {
     "data": {
      "text/plain": [
       "0         True\n",
       "1        False\n",
       "2        False\n",
       "3         True\n",
       "4        False\n",
       "         ...  \n",
       "19153     True\n",
       "19154     True\n",
       "19155    False\n",
       "19156    False\n",
       "19157    False\n",
       "Name: job_change, Length: 19158, dtype: bool"
      ]
     },
     "execution_count": 30,
     "metadata": {},
     "output_type": "execute_result"
    }
   ],
   "source": [
    "df_transformed['job_change']"
   ]
  },
  {
   "cell_type": "code",
   "execution_count": 31,
   "id": "3a35d6f7-8a4e-4ec5-9fb4-d9fd625dbd82",
   "metadata": {},
   "outputs": [
    {
     "data": {
      "text/plain": [
       "job_change\n",
       "False    14381\n",
       "True      4777\n",
       "Name: count, dtype: int64"
      ]
     },
     "execution_count": 31,
     "metadata": {},
     "output_type": "execute_result"
    }
   ],
   "source": [
    "df_transformed['job_change'].value_counts()"
   ]
  },
  {
   "cell_type": "markdown",
   "id": "2382d29b-2a70-4871-8a2b-a3ff42b64279",
   "metadata": {},
   "source": [
    "Next, we apply a transformation to the experience column, replacing its values to ensure that only numeric values are present. Subsequently, we will store this data as 32-bit integers (int32)."
   ]
  },
  {
   "cell_type": "code",
   "execution_count": 32,
   "id": "da14021d-46ac-4467-9735-c451109975e2",
   "metadata": {},
   "outputs": [
    {
     "data": {
      "text/plain": [
       "<bound method Series.unique of 0        >20\n",
       "1         15\n",
       "2          5\n",
       "3         <1\n",
       "4        >20\n",
       "        ... \n",
       "19153     14\n",
       "19154     14\n",
       "19155    >20\n",
       "19156     <1\n",
       "19157      2\n",
       "Name: experience, Length: 19158, dtype: object>"
      ]
     },
     "execution_count": 32,
     "metadata": {},
     "output_type": "execute_result"
    }
   ],
   "source": [
    "df_transformed['experience'].unique"
   ]
  },
  {
   "cell_type": "code",
   "execution_count": 33,
   "id": "7a156a7f-8848-4db0-b25a-c4f16cf3a0a3",
   "metadata": {},
   "outputs": [],
   "source": [
    "df_transformed['experience'] = df['experience'].apply(lambda x: str(x).replace('<', '').replace('>', '').strip())"
   ]
  },
  {
   "cell_type": "code",
   "execution_count": 34,
   "id": "3e32f576-4c78-4071-9b42-0a5e888dd5d9",
   "metadata": {},
   "outputs": [
    {
     "data": {
      "text/plain": [
       "<bound method Series.unique of 0        20\n",
       "1        15\n",
       "2         5\n",
       "3         1\n",
       "4        20\n",
       "         ..\n",
       "19153    14\n",
       "19154    14\n",
       "19155    20\n",
       "19156     1\n",
       "19157     2\n",
       "Name: experience, Length: 19158, dtype: object>"
      ]
     },
     "execution_count": 34,
     "metadata": {},
     "output_type": "execute_result"
    }
   ],
   "source": [
    "df_transformed['experience'].unique"
   ]
  },
  {
   "cell_type": "code",
   "execution_count": 35,
   "id": "36536bd5-0e03-4e0a-87a2-ebf6ace1ab1a",
   "metadata": {},
   "outputs": [
    {
     "data": {
      "text/plain": [
       "dtype('O')"
      ]
     },
     "execution_count": 35,
     "metadata": {},
     "output_type": "execute_result"
    }
   ],
   "source": [
    "df_transformed['experience'].dtypes"
   ]
  },
  {
   "cell_type": "code",
   "execution_count": 36,
   "id": "49a58222-6ff9-4634-aef7-1b8cd54352ba",
   "metadata": {},
   "outputs": [
    {
     "ename": "TypeError",
     "evalue": "cannot convert the series to <class 'int'>",
     "output_type": "error",
     "traceback": [
      "\u001b[0;31m---------------------------------------------------------------------------\u001b[0m",
      "\u001b[0;31mTypeError\u001b[0m                                 Traceback (most recent call last)",
      "Cell \u001b[0;32mIn[36], line 1\u001b[0m\n\u001b[0;32m----> 1\u001b[0m df_transformed[\u001b[38;5;124m'\u001b[39m\u001b[38;5;124mexperience\u001b[39m\u001b[38;5;124m'\u001b[39m] \u001b[38;5;241m=\u001b[39m \u001b[38;5;28;43mint\u001b[39;49m\u001b[43m(\u001b[49m\u001b[43mdf_transformed\u001b[49m\u001b[43m[\u001b[49m\u001b[38;5;124;43m'\u001b[39;49m\u001b[38;5;124;43mexperience\u001b[39;49m\u001b[38;5;124;43m'\u001b[39;49m\u001b[43m]\u001b[49m\u001b[43m)\u001b[49m\n",
      "File \u001b[0;32m/Library/Frameworks/Python.framework/Versions/3.12/lib/python3.12/site-packages/pandas/core/series.py:248\u001b[0m, in \u001b[0;36m_coerce_method.<locals>.wrapper\u001b[0;34m(self)\u001b[0m\n\u001b[1;32m    240\u001b[0m     warnings\u001b[38;5;241m.\u001b[39mwarn(\n\u001b[1;32m    241\u001b[0m         \u001b[38;5;124mf\u001b[39m\u001b[38;5;124m\"\u001b[39m\u001b[38;5;124mCalling \u001b[39m\u001b[38;5;132;01m{\u001b[39;00mconverter\u001b[38;5;241m.\u001b[39m\u001b[38;5;18m__name__\u001b[39m\u001b[38;5;132;01m}\u001b[39;00m\u001b[38;5;124m on a single element Series is \u001b[39m\u001b[38;5;124m\"\u001b[39m\n\u001b[1;32m    242\u001b[0m         \u001b[38;5;124m\"\u001b[39m\u001b[38;5;124mdeprecated and will raise a TypeError in the future. \u001b[39m\u001b[38;5;124m\"\u001b[39m\n\u001b[0;32m   (...)\u001b[0m\n\u001b[1;32m    245\u001b[0m         stacklevel\u001b[38;5;241m=\u001b[39mfind_stack_level(),\n\u001b[1;32m    246\u001b[0m     )\n\u001b[1;32m    247\u001b[0m     \u001b[38;5;28;01mreturn\u001b[39;00m converter(\u001b[38;5;28mself\u001b[39m\u001b[38;5;241m.\u001b[39miloc[\u001b[38;5;241m0\u001b[39m])\n\u001b[0;32m--> 248\u001b[0m \u001b[38;5;28;01mraise\u001b[39;00m \u001b[38;5;167;01mTypeError\u001b[39;00m(\u001b[38;5;124mf\u001b[39m\u001b[38;5;124m\"\u001b[39m\u001b[38;5;124mcannot convert the series to \u001b[39m\u001b[38;5;132;01m{\u001b[39;00mconverter\u001b[38;5;132;01m}\u001b[39;00m\u001b[38;5;124m\"\u001b[39m)\n",
      "\u001b[0;31mTypeError\u001b[0m: cannot convert the series to <class 'int'>"
     ]
    }
   ],
   "source": [
    "df_transformed['experience'] = int(df_transformed['experience'])"
   ]
  },
  {
   "cell_type": "code",
   "execution_count": 37,
   "id": "04b5aa2b-f4da-4966-b925-b5216a02cbb2",
   "metadata": {},
   "outputs": [
    {
     "data": {
      "text/plain": [
       "0"
      ]
     },
     "execution_count": 37,
     "metadata": {},
     "output_type": "execute_result"
    }
   ],
   "source": [
    "df_transformed['experience'].isna().sum()"
   ]
  },
  {
   "cell_type": "code",
   "execution_count": 38,
   "id": "d8c43f4f-3a17-4567-bacb-e73709fa00a4",
   "metadata": {},
   "outputs": [],
   "source": [
    "df_transformed['experience'] = pd.to_numeric(df_transformed['experience'], errors='coerce')\n"
   ]
  },
  {
   "cell_type": "code",
   "execution_count": 39,
   "id": "c537cd43-2101-42f5-ae57-c7865408cfcf",
   "metadata": {},
   "outputs": [],
   "source": [
    "df_transformed['experience'] = df_transformed['experience'].fillna(0).astype('int32')"
   ]
  },
  {
   "cell_type": "code",
   "execution_count": 40,
   "id": "9e1a06b1-b182-4b31-8d26-18b0a8976833",
   "metadata": {},
   "outputs": [
    {
     "data": {
      "text/plain": [
       "dtype('int32')"
      ]
     },
     "execution_count": 40,
     "metadata": {},
     "output_type": "execute_result"
    }
   ],
   "source": [
    "df_transformed['experience'].dtype"
   ]
  },
  {
   "cell_type": "code",
   "execution_count": 41,
   "id": "5b0224b8-1170-475d-b3fc-03e95fbee183",
   "metadata": {},
   "outputs": [
    {
     "data": {
      "text/plain": [
       "2145828"
      ]
     },
     "execution_count": 41,
     "metadata": {},
     "output_type": "execute_result"
    }
   ],
   "source": [
    "df.memory_usage().sum()"
   ]
  },
  {
   "cell_type": "code",
   "execution_count": 42,
   "id": "50af8545-ba5a-47dc-92f1-206c736de870",
   "metadata": {},
   "outputs": [
    {
     "data": {
      "text/plain": [
       "training_hours\n",
       "28     329\n",
       "12     292\n",
       "18     291\n",
       "22     282\n",
       "50     279\n",
       "      ... \n",
       "266      6\n",
       "234      5\n",
       "272      5\n",
       "286      5\n",
       "238      4\n",
       "Name: count, Length: 241, dtype: int64"
      ]
     },
     "execution_count": 42,
     "metadata": {},
     "output_type": "execute_result"
    }
   ],
   "source": [
    "df_transformed[\"training_hours\"].value_counts()"
   ]
  },
  {
   "cell_type": "code",
   "execution_count": 43,
   "id": "06281fb2-b32c-4954-9474-e2adb1e1e28a",
   "metadata": {},
   "outputs": [
    {
     "data": {
      "text/plain": [
       "0"
      ]
     },
     "execution_count": 43,
     "metadata": {},
     "output_type": "execute_result"
    }
   ],
   "source": [
    "df_transformed[\"training_hours\"].isna().sum()"
   ]
  },
  {
   "cell_type": "code",
   "execution_count": 44,
   "id": "6de8ce44-2e73-4cc1-8729-93a2b4d23bb3",
   "metadata": {},
   "outputs": [],
   "source": [
    "df_transformed[\"training_hours\"] = df_transformed[\"training_hours\"].fillna(0).astype('int32')"
   ]
  },
  {
   "cell_type": "code",
   "execution_count": 45,
   "id": "32b98da8-6ebe-4db0-916f-82fefa1d3d3c",
   "metadata": {},
   "outputs": [
    {
     "data": {
      "text/plain": [
       "dtype('int32')"
      ]
     },
     "execution_count": 45,
     "metadata": {},
     "output_type": "execute_result"
    }
   ],
   "source": [
    "df_transformed['training_hours'].dtype"
   ]
  },
  {
   "cell_type": "code",
   "execution_count": 46,
   "id": "957b2ef3-2693-4ceb-be68-dda1dce9dba4",
   "metadata": {},
   "outputs": [
    {
     "data": {
      "text/html": [
       "<div>\n",
       "<style scoped>\n",
       "    .dataframe tbody tr th:only-of-type {\n",
       "        vertical-align: middle;\n",
       "    }\n",
       "\n",
       "    .dataframe tbody tr th {\n",
       "        vertical-align: top;\n",
       "    }\n",
       "\n",
       "    .dataframe thead th {\n",
       "        text-align: right;\n",
       "    }\n",
       "</style>\n",
       "<table border=\"1\" class=\"dataframe\">\n",
       "  <thead>\n",
       "    <tr style=\"text-align: right;\">\n",
       "      <th></th>\n",
       "      <th>student_id</th>\n",
       "      <th>city</th>\n",
       "      <th>city_development_index</th>\n",
       "      <th>gender</th>\n",
       "      <th>relevant_experience</th>\n",
       "      <th>enrolled_university</th>\n",
       "      <th>education_level</th>\n",
       "      <th>major_discipline</th>\n",
       "      <th>experience</th>\n",
       "      <th>company_size</th>\n",
       "      <th>company_type</th>\n",
       "      <th>last_new_job</th>\n",
       "      <th>training_hours</th>\n",
       "      <th>job_change</th>\n",
       "    </tr>\n",
       "  </thead>\n",
       "  <tbody>\n",
       "    <tr>\n",
       "      <th>0</th>\n",
       "      <td>8949</td>\n",
       "      <td>city_103</td>\n",
       "      <td>0.920</td>\n",
       "      <td>Male</td>\n",
       "      <td>Has relevant experience</td>\n",
       "      <td>no_enrollment</td>\n",
       "      <td>Graduate</td>\n",
       "      <td>STEM</td>\n",
       "      <td>20</td>\n",
       "      <td>NaN</td>\n",
       "      <td>NaN</td>\n",
       "      <td>1</td>\n",
       "      <td>36</td>\n",
       "      <td>True</td>\n",
       "    </tr>\n",
       "    <tr>\n",
       "      <th>1</th>\n",
       "      <td>29725</td>\n",
       "      <td>city_40</td>\n",
       "      <td>0.776</td>\n",
       "      <td>Male</td>\n",
       "      <td>No relevant experience</td>\n",
       "      <td>no_enrollment</td>\n",
       "      <td>Graduate</td>\n",
       "      <td>STEM</td>\n",
       "      <td>15</td>\n",
       "      <td>50-99</td>\n",
       "      <td>Pvt Ltd</td>\n",
       "      <td>&gt;4</td>\n",
       "      <td>47</td>\n",
       "      <td>False</td>\n",
       "    </tr>\n",
       "    <tr>\n",
       "      <th>2</th>\n",
       "      <td>11561</td>\n",
       "      <td>city_21</td>\n",
       "      <td>0.624</td>\n",
       "      <td>NaN</td>\n",
       "      <td>No relevant experience</td>\n",
       "      <td>Full time course</td>\n",
       "      <td>Graduate</td>\n",
       "      <td>STEM</td>\n",
       "      <td>5</td>\n",
       "      <td>NaN</td>\n",
       "      <td>NaN</td>\n",
       "      <td>never</td>\n",
       "      <td>83</td>\n",
       "      <td>False</td>\n",
       "    </tr>\n",
       "    <tr>\n",
       "      <th>3</th>\n",
       "      <td>33241</td>\n",
       "      <td>city_115</td>\n",
       "      <td>0.789</td>\n",
       "      <td>NaN</td>\n",
       "      <td>No relevant experience</td>\n",
       "      <td>NaN</td>\n",
       "      <td>Graduate</td>\n",
       "      <td>Business Degree</td>\n",
       "      <td>1</td>\n",
       "      <td>NaN</td>\n",
       "      <td>Pvt Ltd</td>\n",
       "      <td>never</td>\n",
       "      <td>52</td>\n",
       "      <td>True</td>\n",
       "    </tr>\n",
       "    <tr>\n",
       "      <th>4</th>\n",
       "      <td>666</td>\n",
       "      <td>city_162</td>\n",
       "      <td>0.767</td>\n",
       "      <td>Male</td>\n",
       "      <td>Has relevant experience</td>\n",
       "      <td>no_enrollment</td>\n",
       "      <td>Masters</td>\n",
       "      <td>STEM</td>\n",
       "      <td>20</td>\n",
       "      <td>50-99</td>\n",
       "      <td>Funded Startup</td>\n",
       "      <td>4</td>\n",
       "      <td>8</td>\n",
       "      <td>False</td>\n",
       "    </tr>\n",
       "  </tbody>\n",
       "</table>\n",
       "</div>"
      ],
      "text/plain": [
       "   student_id      city  city_development_index gender  \\\n",
       "0        8949  city_103                   0.920   Male   \n",
       "1       29725   city_40                   0.776   Male   \n",
       "2       11561   city_21                   0.624    NaN   \n",
       "3       33241  city_115                   0.789    NaN   \n",
       "4         666  city_162                   0.767   Male   \n",
       "\n",
       "       relevant_experience enrolled_university education_level  \\\n",
       "0  Has relevant experience       no_enrollment        Graduate   \n",
       "1   No relevant experience       no_enrollment        Graduate   \n",
       "2   No relevant experience    Full time course        Graduate   \n",
       "3   No relevant experience                 NaN        Graduate   \n",
       "4  Has relevant experience       no_enrollment         Masters   \n",
       "\n",
       "  major_discipline  experience company_size    company_type last_new_job  \\\n",
       "0             STEM          20          NaN             NaN            1   \n",
       "1             STEM          15        50-99         Pvt Ltd           >4   \n",
       "2             STEM           5          NaN             NaN        never   \n",
       "3  Business Degree           1          NaN         Pvt Ltd        never   \n",
       "4             STEM          20        50-99  Funded Startup            4   \n",
       "\n",
       "   training_hours  job_change  \n",
       "0              36        True  \n",
       "1              47       False  \n",
       "2              83       False  \n",
       "3              52        True  \n",
       "4               8       False  "
      ]
     },
     "execution_count": 46,
     "metadata": {},
     "output_type": "execute_result"
    }
   ],
   "source": [
    "df_transformed.head()"
   ]
  },
  {
   "cell_type": "code",
   "execution_count": 47,
   "id": "416a1c2c-146f-43cb-bdf6-336c532264ba",
   "metadata": {},
   "outputs": [],
   "source": [
    "df_transformed['last_new_job'] = df['last_new_job'].apply(lambda x: str(x).replace('never', '0').strip())"
   ]
  },
  {
   "cell_type": "code",
   "execution_count": 48,
   "id": "dc89653e-a5eb-48f4-8e85-b856970c2afe",
   "metadata": {},
   "outputs": [
    {
     "data": {
      "text/plain": [
       "0         1\n",
       "1        >4\n",
       "2         0\n",
       "3         0\n",
       "4         4\n",
       "         ..\n",
       "19153     1\n",
       "19154     4\n",
       "19155     4\n",
       "19156     2\n",
       "19157     1\n",
       "Name: last_new_job, Length: 19158, dtype: object"
      ]
     },
     "execution_count": 48,
     "metadata": {},
     "output_type": "execute_result"
    }
   ],
   "source": [
    "df_transformed['last_new_job']"
   ]
  },
  {
   "cell_type": "code",
   "execution_count": 75,
   "id": "05f720e6-4eb5-495c-a1d2-113c9bf1f0f5",
   "metadata": {},
   "outputs": [],
   "source": [
    "df_transformed['last_new_job'] = df['last_new_job'].apply(lambda x: str(x).replace('<', '').replace('>', '').replace('never','0').replace(\"nan\", \"0\").strip())"
   ]
  },
  {
   "cell_type": "code",
   "execution_count": 76,
   "id": "82ab9a07-7584-4c63-b3d7-ea1c7c307fa9",
   "metadata": {},
   "outputs": [
    {
     "data": {
      "text/plain": [
       "0        1\n",
       "1        4\n",
       "2        0\n",
       "3        0\n",
       "4        4\n",
       "        ..\n",
       "19153    1\n",
       "19154    4\n",
       "19155    4\n",
       "19156    2\n",
       "19157    1\n",
       "Name: last_new_job, Length: 19158, dtype: object"
      ]
     },
     "execution_count": 76,
     "metadata": {},
     "output_type": "execute_result"
    }
   ],
   "source": [
    "df_transformed['last_new_job']"
   ]
  },
  {
   "cell_type": "code",
   "execution_count": 70,
   "id": "7102db72-854e-4923-bbdf-cfa6d3e925fd",
   "metadata": {},
   "outputs": [],
   "source": [
    "nan_string_count = df_transformed[df_transformed[\"last_new_job\"] == 'nan']"
   ]
  },
  {
   "cell_type": "code",
   "execution_count": 78,
   "id": "ec4727ff-0ae9-43e9-bc51-689f894fe2d6",
   "metadata": {},
   "outputs": [],
   "source": [
    "df_transformed[\"last_new_job\"] = df_transformed[\"last_new_job\"].fillna(0).astype('int32')"
   ]
  },
  {
   "cell_type": "code",
   "execution_count": 79,
   "id": "7a61608a-a906-42e4-98a2-cbaa1b40873e",
   "metadata": {},
   "outputs": [
    {
     "data": {
      "text/plain": [
       "dtype('int32')"
      ]
     },
     "execution_count": 79,
     "metadata": {},
     "output_type": "execute_result"
    }
   ],
   "source": [
    "df_transformed[\"last_new_job\"].dtypes"
   ]
  },
  {
   "cell_type": "code",
   "execution_count": 80,
   "id": "015ca3ff-185a-4b77-8bc5-678d0347aacc",
   "metadata": {},
   "outputs": [
    {
     "data": {
      "text/plain": [
       "dtype('float64')"
      ]
     },
     "execution_count": 80,
     "metadata": {},
     "output_type": "execute_result"
    }
   ],
   "source": [
    "df_transformed['city_development_index'].dtypes"
   ]
  },
  {
   "cell_type": "code",
   "execution_count": 82,
   "id": "6847bb77-fbce-4323-b77e-b413ed807f62",
   "metadata": {},
   "outputs": [],
   "source": [
    "df_transformed['education_level']= df_transformed['education_level'].astype(\"category\")"
   ]
  },
  {
   "cell_type": "code",
   "execution_count": 83,
   "id": "5e477bb4-89e5-4459-b99c-4e7523df8ef1",
   "metadata": {},
   "outputs": [
    {
     "data": {
      "text/plain": [
       "CategoricalDtype(categories=['Graduate', 'High School', 'Masters', 'Phd',\n",
       "                  'Primary School'],\n",
       ", ordered=False, categories_dtype=object)"
      ]
     },
     "execution_count": 83,
     "metadata": {},
     "output_type": "execute_result"
    }
   ],
   "source": [
    "df_transformed['education_level'].dtypes"
   ]
  },
  {
   "cell_type": "markdown",
   "id": "8b82323c-aaf4-40f5-b799-33d28c5b5854",
   "metadata": {},
   "source": [
    "For a better understanding of the data for future analysis, we organize the education levels."
   ]
  },
  {
   "cell_type": "code",
   "execution_count": 85,
   "id": "304a02fb-92d6-497d-90e9-b61c70051061",
   "metadata": {},
   "outputs": [],
   "source": [
    "education_order = ['Primary School', 'High School', 'Graduate', 'Masters', 'PhD']"
   ]
  },
  {
   "cell_type": "code",
   "execution_count": 86,
   "id": "3cbf8182-167b-4423-88c7-dcbe020374f5",
   "metadata": {},
   "outputs": [],
   "source": [
    "df_transformed['education_level'] = pd.Categorical(df_transformed['education_level'], categories=education_order, ordered=True)"
   ]
  },
  {
   "cell_type": "code",
   "execution_count": 87,
   "id": "53b383c9-f7a1-48dc-89da-5e31be14efa8",
   "metadata": {},
   "outputs": [
    {
     "data": {
      "text/plain": [
       "CategoricalDtype(categories=['Primary School', 'High School', 'Graduate', 'Masters',\n",
       "                  'PhD'],\n",
       ", ordered=True, categories_dtype=object)"
      ]
     },
     "execution_count": 87,
     "metadata": {},
     "output_type": "execute_result"
    }
   ],
   "source": [
    "df_transformed['education_level'].dtypes"
   ]
  },
  {
   "cell_type": "code",
   "execution_count": 91,
   "id": "81759cea-4a0b-46a9-bbd7-3ad29c50a2a0",
   "metadata": {},
   "outputs": [],
   "source": [
    "gender_counts = df_transformed['gender'].value_counts(normalize=True)*100"
   ]
  },
  {
   "cell_type": "code",
   "execution_count": 92,
   "id": "f58375f2-01e5-402f-b680-43f7cc7c673a",
   "metadata": {},
   "outputs": [
    {
     "data": {
      "text/plain": [
       "gender\n",
       "Male      90.245734\n",
       "Female     8.450512\n",
       "Other      1.303754\n",
       "Name: proportion, dtype: float64"
      ]
     },
     "execution_count": 92,
     "metadata": {},
     "output_type": "execute_result"
    }
   ],
   "source": [
    "gender_counts"
   ]
  },
  {
   "cell_type": "markdown",
   "id": "07c4f93f-e027-402c-8c74-dfb645c2cf3c",
   "metadata": {},
   "source": [
    "We can see that only 1.30% of the DataFrame has NaN values for the Gender column. Given this small percentage, it is best to drop those rows."
   ]
  },
  {
   "cell_type": "code",
   "execution_count": 94,
   "id": "ef209f26-3580-49e2-b105-c5c152c6490d",
   "metadata": {},
   "outputs": [],
   "source": [
    "df_transformed = df_transformed.dropna(subset=['gender'])"
   ]
  },
  {
   "cell_type": "code",
   "execution_count": 96,
   "id": "b58bc997-009c-4a6c-ac95-6e4542418d77",
   "metadata": {},
   "outputs": [],
   "source": [
    "gender_transform_counts = df_transformed['gender'].value_counts()"
   ]
  },
  {
   "cell_type": "code",
   "execution_count": 97,
   "id": "1ff78584-b5ba-4ee1-b124-fe80d0ee42f3",
   "metadata": {},
   "outputs": [
    {
     "data": {
      "text/plain": [
       "gender\n",
       "Male      13221\n",
       "Female     1238\n",
       "Other       191\n",
       "Name: count, dtype: int64"
      ]
     },
     "execution_count": 97,
     "metadata": {},
     "output_type": "execute_result"
    }
   ],
   "source": [
    "gender_transform_counts"
   ]
  },
  {
   "cell_type": "code",
   "execution_count": 98,
   "id": "93dea8ec-16d8-40d4-8b83-233ac0af3381",
   "metadata": {},
   "outputs": [],
   "source": [
    "df_transformed = df_transformed[df_transformed['gender'] != 'Other']"
   ]
  },
  {
   "cell_type": "code",
   "execution_count": 99,
   "id": "e2593b31-4d04-4de4-93e5-f45e6d3ae1a5",
   "metadata": {},
   "outputs": [
    {
     "data": {
      "text/plain": [
       "gender\n",
       "Male      13221\n",
       "Female     1238\n",
       "Name: count, dtype: int64"
      ]
     },
     "execution_count": 99,
     "metadata": {},
     "output_type": "execute_result"
    }
   ],
   "source": [
    "df_transformed['gender'].value_counts()"
   ]
  }
 ],
 "metadata": {
  "kernelspec": {
   "display_name": "Python 3 (ipykernel)",
   "language": "python",
   "name": "python3"
  },
  "language_info": {
   "codemirror_mode": {
    "name": "ipython",
    "version": 3
   },
   "file_extension": ".py",
   "mimetype": "text/x-python",
   "name": "python",
   "nbconvert_exporter": "python",
   "pygments_lexer": "ipython3",
   "version": "3.12.3"
  }
 },
 "nbformat": 4,
 "nbformat_minor": 5
}
