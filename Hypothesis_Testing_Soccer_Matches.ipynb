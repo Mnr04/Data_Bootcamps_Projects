{
 "cells": [
  {
   "cell_type": "markdown",
   "id": "d50bb1bc-5c13-44b3-bb11-938efce2bb91",
   "metadata": {},
   "source": [
    "# Comparative Analysis of Goals Scored in Men's and Women's International Soccer Matches\n",
    "\n",
    "## Introduction\n",
    "\n",
    "As sports journalists specializing in soccer analysis, we are intrigued by an intuitive hypothesis: that more goals are scored in women's international soccer matches than in men's matches. Having closely followed both men's and women's competitions, this assumption could lead to an engaging investigative article for our audience. However, to substantiate this claim, a rigorous statistical analysis is necessary.\n",
    "\n",
    "### Objective of the Analysis\n",
    "\n",
    "The objective of this study is to statistically test whether the average number of goals scored in women's international soccer matches is greater than that of men's matches. We will conduct a hypothesis test to determine whether we can reject or fail to reject the null hypothesis at a 10% significance level. This analysis will focus exclusively on official FIFA World Cup matches since January 1, 2002.\n",
    "\n",
    "### Hypotheses\n",
    "\n",
    "To address our research question, we will formulate the following hypotheses:\n",
    "\n",
    "- **Null Hypothesis ( \\( H_0 \\) )**: The mean number of goals scored in women's international soccer matches is the same as in men's matches.\n",
    "- **Alternative Hypothesis ( \\( H_1 \\) )**: The mean number of goals scored in women's international soccer matches is greater than in men's matches.\n",
    "\n",
    "### Data and Methodology\n",
    "\n",
    "The data used for this analysis includes the results of all official international soccer matches for both men and women since January 1, 2002, collected from a reliable online source. These results are stored in two CSV files: `women_results.csv` for women's matches and `men_results.csv` for men's matches. We will assume that each match is independent, ignoring individual team performances over the course of the tournament for the sake of simplifying the statistical model.\n",
    "\n",
    "The outcome of the test will be summarized in a Python dictionary, `result_dict`, which will contain:\n",
    "\n",
    "- **p_val**: the p-value obtained from the hypothesis test\n",
    "- **result**: a conclusion expressed as either \"reject\" or \"fail to reject,\" based on the findings regarding the null hypothesis.\n",
    "\n",
    "### Research Question\n",
    "\n",
    "**Are more goals scored in women's international soccer matches than in men's matches?**\n",
    "\n",
    "Through this methodology, we aim to answer this question rigorously by interpreting the available data using statistical testing.\n"
   ]
  },
  {
   "cell_type": "code",
   "execution_count": 1,
   "id": "4299bfcb-834a-422f-855c-f8ccba83d4fe",
   "metadata": {},
   "outputs": [],
   "source": [
    "import pandas as pd\n",
    "import numpy as np\n",
    "import matplotlib.pyplot as plt\n",
    "import seaborn as sns\n",
    "from scipy import stats\n",
    "from scipy.stats import kstest, norm\n",
    "import pingouin as pg"
   ]
  },
  {
   "cell_type": "code",
   "execution_count": 2,
   "id": "897e1b10-6943-46ec-860e-d5076554cd63",
   "metadata": {},
   "outputs": [],
   "source": [
    "#import files and load in dataframes\n",
    "mens_df = pd.read_csv('Dataset/men_results.csv')\n",
    "womens_df = pd.read_csv('Dataset/women_results.csv')"
   ]
  },
  {
   "cell_type": "code",
   "execution_count": 3,
   "id": "7eba54fa-2828-4067-8c77-951c47f4894e",
   "metadata": {},
   "outputs": [
    {
     "data": {
      "text/html": [
       "<div>\n",
       "<style scoped>\n",
       "    .dataframe tbody tr th:only-of-type {\n",
       "        vertical-align: middle;\n",
       "    }\n",
       "\n",
       "    .dataframe tbody tr th {\n",
       "        vertical-align: top;\n",
       "    }\n",
       "\n",
       "    .dataframe thead th {\n",
       "        text-align: right;\n",
       "    }\n",
       "</style>\n",
       "<table border=\"1\" class=\"dataframe\">\n",
       "  <thead>\n",
       "    <tr style=\"text-align: right;\">\n",
       "      <th></th>\n",
       "      <th>Unnamed: 0</th>\n",
       "      <th>date</th>\n",
       "      <th>home_team</th>\n",
       "      <th>away_team</th>\n",
       "      <th>home_score</th>\n",
       "      <th>away_score</th>\n",
       "      <th>tournament</th>\n",
       "    </tr>\n",
       "  </thead>\n",
       "  <tbody>\n",
       "    <tr>\n",
       "      <th>0</th>\n",
       "      <td>0</td>\n",
       "      <td>1872-11-30</td>\n",
       "      <td>Scotland</td>\n",
       "      <td>England</td>\n",
       "      <td>0</td>\n",
       "      <td>0</td>\n",
       "      <td>Friendly</td>\n",
       "    </tr>\n",
       "    <tr>\n",
       "      <th>1</th>\n",
       "      <td>1</td>\n",
       "      <td>1873-03-08</td>\n",
       "      <td>England</td>\n",
       "      <td>Scotland</td>\n",
       "      <td>4</td>\n",
       "      <td>2</td>\n",
       "      <td>Friendly</td>\n",
       "    </tr>\n",
       "    <tr>\n",
       "      <th>2</th>\n",
       "      <td>2</td>\n",
       "      <td>1874-03-07</td>\n",
       "      <td>Scotland</td>\n",
       "      <td>England</td>\n",
       "      <td>2</td>\n",
       "      <td>1</td>\n",
       "      <td>Friendly</td>\n",
       "    </tr>\n",
       "    <tr>\n",
       "      <th>3</th>\n",
       "      <td>3</td>\n",
       "      <td>1875-03-06</td>\n",
       "      <td>England</td>\n",
       "      <td>Scotland</td>\n",
       "      <td>2</td>\n",
       "      <td>2</td>\n",
       "      <td>Friendly</td>\n",
       "    </tr>\n",
       "    <tr>\n",
       "      <th>4</th>\n",
       "      <td>4</td>\n",
       "      <td>1876-03-04</td>\n",
       "      <td>Scotland</td>\n",
       "      <td>England</td>\n",
       "      <td>3</td>\n",
       "      <td>0</td>\n",
       "      <td>Friendly</td>\n",
       "    </tr>\n",
       "  </tbody>\n",
       "</table>\n",
       "</div>"
      ],
      "text/plain": [
       "   Unnamed: 0        date home_team away_team  home_score  away_score  \\\n",
       "0           0  1872-11-30  Scotland   England           0           0   \n",
       "1           1  1873-03-08   England  Scotland           4           2   \n",
       "2           2  1874-03-07  Scotland   England           2           1   \n",
       "3           3  1875-03-06   England  Scotland           2           2   \n",
       "4           4  1876-03-04  Scotland   England           3           0   \n",
       "\n",
       "  tournament  \n",
       "0   Friendly  \n",
       "1   Friendly  \n",
       "2   Friendly  \n",
       "3   Friendly  \n",
       "4   Friendly  "
      ]
     },
     "execution_count": 3,
     "metadata": {},
     "output_type": "execute_result"
    }
   ],
   "source": [
    "mens_df.head()"
   ]
  },
  {
   "cell_type": "code",
   "execution_count": 4,
   "id": "efbf2e74-f7a7-4f84-a584-a359a76da118",
   "metadata": {},
   "outputs": [
    {
     "data": {
      "text/html": [
       "<div>\n",
       "<style scoped>\n",
       "    .dataframe tbody tr th:only-of-type {\n",
       "        vertical-align: middle;\n",
       "    }\n",
       "\n",
       "    .dataframe tbody tr th {\n",
       "        vertical-align: top;\n",
       "    }\n",
       "\n",
       "    .dataframe thead th {\n",
       "        text-align: right;\n",
       "    }\n",
       "</style>\n",
       "<table border=\"1\" class=\"dataframe\">\n",
       "  <thead>\n",
       "    <tr style=\"text-align: right;\">\n",
       "      <th></th>\n",
       "      <th>Unnamed: 0</th>\n",
       "      <th>date</th>\n",
       "      <th>home_team</th>\n",
       "      <th>away_team</th>\n",
       "      <th>home_score</th>\n",
       "      <th>away_score</th>\n",
       "      <th>tournament</th>\n",
       "    </tr>\n",
       "  </thead>\n",
       "  <tbody>\n",
       "    <tr>\n",
       "      <th>0</th>\n",
       "      <td>0</td>\n",
       "      <td>1969-11-01</td>\n",
       "      <td>Italy</td>\n",
       "      <td>France</td>\n",
       "      <td>1</td>\n",
       "      <td>0</td>\n",
       "      <td>Euro</td>\n",
       "    </tr>\n",
       "    <tr>\n",
       "      <th>1</th>\n",
       "      <td>1</td>\n",
       "      <td>1969-11-01</td>\n",
       "      <td>Denmark</td>\n",
       "      <td>England</td>\n",
       "      <td>4</td>\n",
       "      <td>3</td>\n",
       "      <td>Euro</td>\n",
       "    </tr>\n",
       "    <tr>\n",
       "      <th>2</th>\n",
       "      <td>2</td>\n",
       "      <td>1969-11-02</td>\n",
       "      <td>England</td>\n",
       "      <td>France</td>\n",
       "      <td>2</td>\n",
       "      <td>0</td>\n",
       "      <td>Euro</td>\n",
       "    </tr>\n",
       "    <tr>\n",
       "      <th>3</th>\n",
       "      <td>3</td>\n",
       "      <td>1969-11-02</td>\n",
       "      <td>Italy</td>\n",
       "      <td>Denmark</td>\n",
       "      <td>3</td>\n",
       "      <td>1</td>\n",
       "      <td>Euro</td>\n",
       "    </tr>\n",
       "    <tr>\n",
       "      <th>4</th>\n",
       "      <td>4</td>\n",
       "      <td>1975-08-25</td>\n",
       "      <td>Thailand</td>\n",
       "      <td>Australia</td>\n",
       "      <td>3</td>\n",
       "      <td>2</td>\n",
       "      <td>AFC Championship</td>\n",
       "    </tr>\n",
       "  </tbody>\n",
       "</table>\n",
       "</div>"
      ],
      "text/plain": [
       "   Unnamed: 0        date home_team  away_team  home_score  away_score  \\\n",
       "0           0  1969-11-01     Italy     France           1           0   \n",
       "1           1  1969-11-01   Denmark    England           4           3   \n",
       "2           2  1969-11-02   England     France           2           0   \n",
       "3           3  1969-11-02     Italy    Denmark           3           1   \n",
       "4           4  1975-08-25  Thailand  Australia           3           2   \n",
       "\n",
       "         tournament  \n",
       "0              Euro  \n",
       "1              Euro  \n",
       "2              Euro  \n",
       "3              Euro  \n",
       "4  AFC Championship  "
      ]
     },
     "execution_count": 4,
     "metadata": {},
     "output_type": "execute_result"
    }
   ],
   "source": [
    "womens_df.head()"
   ]
  },
  {
   "cell_type": "markdown",
   "id": "d52ed98b-a3da-4736-879a-d2c995b6a126",
   "metadata": {},
   "source": [
    "### Filtering the data"
   ]
  },
  {
   "cell_type": "markdown",
   "id": "f5c99271-e18d-46a5-a977-3134407f6f27",
   "metadata": {},
   "source": [
    "Filter the data to only include official FIFA World Cup matches that took place after 2002-01-01."
   ]
  },
  {
   "cell_type": "code",
   "execution_count": 5,
   "id": "53e5bc9b-8a7e-4589-88df-33288f1f001b",
   "metadata": {},
   "outputs": [
    {
     "data": {
      "text/plain": [
       "array(['Friendly', 'British Home Championship', 'Évence Coppée Trophy',\n",
       "       'Copa Lipton', 'Copa Newton', 'Copa Premio Honor Argentino',\n",
       "       'Copa Premio Honor Uruguayo', 'Copa Roca', 'Copa América',\n",
       "       'Copa Chevallier Boutell', 'Nordic Championship',\n",
       "       'Central European International Cup', 'Baltic Cup', 'Balkan Cup',\n",
       "       'FIFA World Cup', 'Copa Rio Branco',\n",
       "       'FIFA World Cup qualification', 'Bolivarian Games',\n",
       "       'CCCF Championship', 'NAFC Championship', 'Copa Oswaldo Cruz',\n",
       "       'Pan American Championship', 'Copa del Pacífico',\n",
       "       \"Copa Bernardo O'Higgins\", 'AFC Asian Cup qualification',\n",
       "       'Atlantic Cup', 'AFC Asian Cup', 'African Cup of Nations',\n",
       "       'Copa Paz del Chaco', 'Merdeka Tournament',\n",
       "       'UEFA Euro qualification', 'UEFA Euro',\n",
       "       'Windward Islands Tournament',\n",
       "       'African Cup of Nations qualification', 'Vietnam Independence Cup',\n",
       "       'Copa Carlos Dittborn', 'Phillip Seaga Cup',\n",
       "       'CONCACAF Championship', 'Copa Juan Pinto Durán', 'Arab Cup',\n",
       "       'South Pacific Games', 'CONCACAF Championship qualification',\n",
       "       'Copa Artigas', 'GaNEFo', \"King's Cup\", 'Gulf Cup',\n",
       "       'Indonesia Tournament', 'Korea Cup', 'Palestine Cup',\n",
       "       'Brazil Independence Cup', 'Copa Ramón Castilla',\n",
       "       'Oceania Nations Cup', 'CECAFA Cup', 'Kuneitra Cup',\n",
       "       'Copa Félix Bogado', 'Real Madrid 75th Anniversary Cup',\n",
       "       'Beijing International Friendship Tournament', 'Kirin Cup',\n",
       "       'CFU Caribbean Cup qualification', 'CFU Caribbean Cup',\n",
       "       'Amílcar Cabral Cup', 'FIFA 75th Anniversary Cup',\n",
       "       'Guangzhou International Friendship Tournament', 'Mundialito',\n",
       "       'West African Cup', 'Nehru Cup', 'Merlion Cup', 'Great Wall Cup',\n",
       "       'UDEAC Cup', 'Rous Cup', 'CONMEBOL–UEFA Cup of Champions',\n",
       "       'Lunar New Year Cup', 'Arab Cup qualification',\n",
       "       'Tournoi de France', 'Malta International Tournament',\n",
       "       'Matthews Cup', 'Tournament Burkina Faso', 'Island Games',\n",
       "       'NAFU Championship', 'Dynasty Cup', 'Dakar Tournament',\n",
       "       'UNCAF Cup', 'Gold Cup', 'USA Cup',\n",
       "       'Jordan International Tournament', 'Confederations Cup',\n",
       "       'United Arab Emirates Friendship Tournament',\n",
       "       'Oceania Nations Cup qualification', 'Simba Tournament',\n",
       "       'SAFF Cup', 'AFF Championship', 'King Hassan II Tournament',\n",
       "       'Cyprus International Tournament', 'Dunhill Cup',\n",
       "       'COSAFA Cup qualification', 'COSAFA Cup', 'Gold Cup qualification',\n",
       "       'SKN Football Festival', 'UNIFFAC Cup', 'WAFF Championship',\n",
       "       'Millennium Cup', 'Cup of Ancient Civilizations',\n",
       "       \"Prime Minister's Cup\", 'EAFF Championship', 'TIFOCO Tournament',\n",
       "       'Afro-Asian Games', 'AFC Challenge Cup', 'FIFI Wild Cup',\n",
       "       'ELF Cup', 'Viva World Cup', 'AFC Challenge Cup qualification',\n",
       "       'African Nations Championship', 'VFF Cup', 'Dragon Cup',\n",
       "       'ABCS Tournament', 'Nile Basin Tournament', 'Nations Cup',\n",
       "       'Copa Confraternidad', 'Pacific Games',\n",
       "       'Superclásico de las Américas', 'Kirin Challenge Cup', 'OSN Cup',\n",
       "       'CONIFA World Football Cup', 'CONIFA European Football Cup',\n",
       "       'Copa América qualification', 'World Unity Cup',\n",
       "       'Pacific Mini Games', 'Intercontinental Cup',\n",
       "       'AFF Championship qualification', 'UEFA Nations League',\n",
       "       'CONCACAF Nations League qualification',\n",
       "       'African Nations Championship qualification',\n",
       "       'Atlantic Heritage Cup', 'Inter Games Football Tournament',\n",
       "       'CONCACAF Nations League', 'Three Nations Cup',\n",
       "       'Mahinda Rajapaksa Cup', 'Navruz Cup',\n",
       "       'CONIFA Africa Football Cup', 'CONIFA South America Football Cup',\n",
       "       \"MSG Prime Minister's Cup\"], dtype=object)"
      ]
     },
     "execution_count": 5,
     "metadata": {},
     "output_type": "execute_result"
    }
   ],
   "source": [
    "# Filter data for men's matches\n",
    "mens_df[\"tournament\"].unique()"
   ]
  },
  {
   "cell_type": "code",
   "execution_count": 6,
   "id": "51ed0a09-28cf-46f4-9491-b45ac3f38fed",
   "metadata": {},
   "outputs": [
    {
     "data": {
      "text/plain": [
       "dtype('O')"
      ]
     },
     "execution_count": 6,
     "metadata": {},
     "output_type": "execute_result"
    }
   ],
   "source": [
    "mens_df[\"date\"].dtypes"
   ]
  },
  {
   "cell_type": "code",
   "execution_count": 7,
   "id": "d1a7355f-c185-4108-9fd9-623f2c5d3fee",
   "metadata": {},
   "outputs": [],
   "source": [
    "# Convert the 'date' column to datetime format for better usability\n",
    "mens_df[\"date\"] = pd.to_datetime(mens_df[\"date\"])"
   ]
  },
  {
   "cell_type": "code",
   "execution_count": 8,
   "id": "21273943-fea4-41ad-842e-8a7ab2604e95",
   "metadata": {},
   "outputs": [
    {
     "data": {
      "text/plain": [
       "dtype('<M8[ns]')"
      ]
     },
     "execution_count": 8,
     "metadata": {},
     "output_type": "execute_result"
    }
   ],
   "source": [
    "mens_df[\"date\"].dtypes"
   ]
  },
  {
   "cell_type": "code",
   "execution_count": 9,
   "id": "31140aaf-0b30-45b7-b253-624fdc19a422",
   "metadata": {},
   "outputs": [],
   "source": [
    "# Filter for FIFA World Cup matches\n",
    "mens_worldCup = mens_df[mens_df[\"tournament\"] == 'FIFA World Cup']"
   ]
  },
  {
   "cell_type": "code",
   "execution_count": 10,
   "id": "7a6ae459-6b87-48e1-992a-b073b68cdf18",
   "metadata": {},
   "outputs": [
    {
     "data": {
      "text/html": [
       "<div>\n",
       "<style scoped>\n",
       "    .dataframe tbody tr th:only-of-type {\n",
       "        vertical-align: middle;\n",
       "    }\n",
       "\n",
       "    .dataframe tbody tr th {\n",
       "        vertical-align: top;\n",
       "    }\n",
       "\n",
       "    .dataframe thead th {\n",
       "        text-align: right;\n",
       "    }\n",
       "</style>\n",
       "<table border=\"1\" class=\"dataframe\">\n",
       "  <thead>\n",
       "    <tr style=\"text-align: right;\">\n",
       "      <th></th>\n",
       "      <th>Unnamed: 0</th>\n",
       "      <th>date</th>\n",
       "      <th>home_team</th>\n",
       "      <th>away_team</th>\n",
       "      <th>home_score</th>\n",
       "      <th>away_score</th>\n",
       "      <th>tournament</th>\n",
       "    </tr>\n",
       "  </thead>\n",
       "  <tbody>\n",
       "    <tr>\n",
       "      <th>1311</th>\n",
       "      <td>1311</td>\n",
       "      <td>1930-07-13</td>\n",
       "      <td>Belgium</td>\n",
       "      <td>United States</td>\n",
       "      <td>0</td>\n",
       "      <td>3</td>\n",
       "      <td>FIFA World Cup</td>\n",
       "    </tr>\n",
       "    <tr>\n",
       "      <th>1312</th>\n",
       "      <td>1312</td>\n",
       "      <td>1930-07-13</td>\n",
       "      <td>France</td>\n",
       "      <td>Mexico</td>\n",
       "      <td>4</td>\n",
       "      <td>1</td>\n",
       "      <td>FIFA World Cup</td>\n",
       "    </tr>\n",
       "    <tr>\n",
       "      <th>1313</th>\n",
       "      <td>1313</td>\n",
       "      <td>1930-07-14</td>\n",
       "      <td>Brazil</td>\n",
       "      <td>Yugoslavia</td>\n",
       "      <td>1</td>\n",
       "      <td>2</td>\n",
       "      <td>FIFA World Cup</td>\n",
       "    </tr>\n",
       "    <tr>\n",
       "      <th>1314</th>\n",
       "      <td>1314</td>\n",
       "      <td>1930-07-14</td>\n",
       "      <td>Peru</td>\n",
       "      <td>Romania</td>\n",
       "      <td>1</td>\n",
       "      <td>3</td>\n",
       "      <td>FIFA World Cup</td>\n",
       "    </tr>\n",
       "    <tr>\n",
       "      <th>1315</th>\n",
       "      <td>1315</td>\n",
       "      <td>1930-07-15</td>\n",
       "      <td>Argentina</td>\n",
       "      <td>France</td>\n",
       "      <td>1</td>\n",
       "      <td>0</td>\n",
       "      <td>FIFA World Cup</td>\n",
       "    </tr>\n",
       "  </tbody>\n",
       "</table>\n",
       "</div>"
      ],
      "text/plain": [
       "      Unnamed: 0       date  home_team      away_team  home_score  away_score  \\\n",
       "1311        1311 1930-07-13    Belgium  United States           0           3   \n",
       "1312        1312 1930-07-13     France         Mexico           4           1   \n",
       "1313        1313 1930-07-14     Brazil     Yugoslavia           1           2   \n",
       "1314        1314 1930-07-14       Peru        Romania           1           3   \n",
       "1315        1315 1930-07-15  Argentina         France           1           0   \n",
       "\n",
       "          tournament  \n",
       "1311  FIFA World Cup  \n",
       "1312  FIFA World Cup  \n",
       "1313  FIFA World Cup  \n",
       "1314  FIFA World Cup  \n",
       "1315  FIFA World Cup  "
      ]
     },
     "execution_count": 10,
     "metadata": {},
     "output_type": "execute_result"
    }
   ],
   "source": [
    "mens_worldCup.head()"
   ]
  },
  {
   "cell_type": "code",
   "execution_count": 11,
   "id": "2af1be93-12cc-4233-94d1-d1f96b18fe0c",
   "metadata": {},
   "outputs": [],
   "source": [
    "# Filter for matches after January 1, 2002\n",
    "mens_worldCup  = mens_df[mens_df[\"date\"] > pd.Timestamp('2002-01-01')]"
   ]
  },
  {
   "cell_type": "code",
   "execution_count": 12,
   "id": "0ca8176b-c2ae-4c7a-bb6c-ce16232245f3",
   "metadata": {},
   "outputs": [],
   "source": [
    "# Filter data for women's matches"
   ]
  },
  {
   "cell_type": "code",
   "execution_count": 13,
   "id": "14e1587b-bdd3-435e-8c78-8d2ba638e276",
   "metadata": {},
   "outputs": [
    {
     "data": {
      "text/plain": [
       "array(['Euro', 'AFC Championship', 'UEFA Euro qualification',\n",
       "       'OFC Championship', 'UEFA Euro', 'African Championship',\n",
       "       'CONCACAF Championship', 'Copa América', 'FIFA World Cup',\n",
       "       'CONCACAF Invitational Tournament', 'Algarve Cup', 'Olympic Games',\n",
       "       'Four Nations Tournament', 'African Championship qualification',\n",
       "       'CONCACAF Gold Cup qualification', 'CONCACAF Gold Cup',\n",
       "       'AFC Asian Cup qualification', 'AFC Asian Cup', 'Cyprus Cup',\n",
       "       'Olympic Games qualification', 'Friendly', 'SheBelieves Cup',\n",
       "       'FIFA World Cup qualification', 'Tournament of Nations',\n",
       "       'OFC Nations Cup qualification', 'African Cup of Nations',\n",
       "       'OFC Nations Cup', 'Tournoi de France',\n",
       "       \"Basque Country Women's Cup\",\n",
       "       'African Cup of Nations qualification'], dtype=object)"
      ]
     },
     "execution_count": 13,
     "metadata": {},
     "output_type": "execute_result"
    }
   ],
   "source": [
    "womens_df[\"tournament\"].unique()"
   ]
  },
  {
   "cell_type": "code",
   "execution_count": 14,
   "id": "67423641-21b7-4ba7-a53b-635426281a4f",
   "metadata": {},
   "outputs": [
    {
     "data": {
      "text/plain": [
       "dtype('O')"
      ]
     },
     "execution_count": 14,
     "metadata": {},
     "output_type": "execute_result"
    }
   ],
   "source": [
    "womens_df[\"date\"].dtypes"
   ]
  },
  {
   "cell_type": "code",
   "execution_count": 15,
   "id": "d7acdbe8-58ef-46b6-9e2a-1489d44dcd31",
   "metadata": {},
   "outputs": [],
   "source": [
    "# Convert the 'date' column to datetime format for better usability\n",
    "womens_df[\"date\"] = pd.to_datetime(womens_df[\"date\"])"
   ]
  },
  {
   "cell_type": "code",
   "execution_count": 16,
   "id": "c6e1ef69-0c40-4886-bfc1-fd0720ff6312",
   "metadata": {},
   "outputs": [],
   "source": [
    "womens_worldCup = womens_df[(womens_df[\"tournament\"] == 'FIFA World Cup') & (womens_df[\"date\"] > pd.Timestamp('2002-01-01'))]"
   ]
  },
  {
   "cell_type": "code",
   "execution_count": 17,
   "id": "1a6c8bfb-01e3-4177-8d6f-b91355274034",
   "metadata": {},
   "outputs": [
    {
     "data": {
      "text/html": [
       "<div>\n",
       "<style scoped>\n",
       "    .dataframe tbody tr th:only-of-type {\n",
       "        vertical-align: middle;\n",
       "    }\n",
       "\n",
       "    .dataframe tbody tr th {\n",
       "        vertical-align: top;\n",
       "    }\n",
       "\n",
       "    .dataframe thead th {\n",
       "        text-align: right;\n",
       "    }\n",
       "</style>\n",
       "<table border=\"1\" class=\"dataframe\">\n",
       "  <thead>\n",
       "    <tr style=\"text-align: right;\">\n",
       "      <th></th>\n",
       "      <th>Unnamed: 0</th>\n",
       "      <th>date</th>\n",
       "      <th>home_team</th>\n",
       "      <th>away_team</th>\n",
       "      <th>home_score</th>\n",
       "      <th>away_score</th>\n",
       "      <th>tournament</th>\n",
       "    </tr>\n",
       "  </thead>\n",
       "  <tbody>\n",
       "    <tr>\n",
       "      <th>1600</th>\n",
       "      <td>1600</td>\n",
       "      <td>2003-09-20</td>\n",
       "      <td>Nigeria</td>\n",
       "      <td>North Korea</td>\n",
       "      <td>0</td>\n",
       "      <td>3</td>\n",
       "      <td>FIFA World Cup</td>\n",
       "    </tr>\n",
       "    <tr>\n",
       "      <th>1601</th>\n",
       "      <td>1601</td>\n",
       "      <td>2003-09-20</td>\n",
       "      <td>Norway</td>\n",
       "      <td>France</td>\n",
       "      <td>2</td>\n",
       "      <td>0</td>\n",
       "      <td>FIFA World Cup</td>\n",
       "    </tr>\n",
       "    <tr>\n",
       "      <th>1602</th>\n",
       "      <td>1602</td>\n",
       "      <td>2003-09-20</td>\n",
       "      <td>Germany</td>\n",
       "      <td>Canada</td>\n",
       "      <td>4</td>\n",
       "      <td>1</td>\n",
       "      <td>FIFA World Cup</td>\n",
       "    </tr>\n",
       "    <tr>\n",
       "      <th>1603</th>\n",
       "      <td>1603</td>\n",
       "      <td>2003-09-20</td>\n",
       "      <td>Japan</td>\n",
       "      <td>Argentina</td>\n",
       "      <td>6</td>\n",
       "      <td>0</td>\n",
       "      <td>FIFA World Cup</td>\n",
       "    </tr>\n",
       "    <tr>\n",
       "      <th>1604</th>\n",
       "      <td>1604</td>\n",
       "      <td>2003-09-21</td>\n",
       "      <td>United States</td>\n",
       "      <td>Sweden</td>\n",
       "      <td>3</td>\n",
       "      <td>1</td>\n",
       "      <td>FIFA World Cup</td>\n",
       "    </tr>\n",
       "    <tr>\n",
       "      <th>...</th>\n",
       "      <td>...</td>\n",
       "      <td>...</td>\n",
       "      <td>...</td>\n",
       "      <td>...</td>\n",
       "      <td>...</td>\n",
       "      <td>...</td>\n",
       "      <td>...</td>\n",
       "    </tr>\n",
       "    <tr>\n",
       "      <th>4465</th>\n",
       "      <td>4465</td>\n",
       "      <td>2019-06-29</td>\n",
       "      <td>Germany</td>\n",
       "      <td>Sweden</td>\n",
       "      <td>1</td>\n",
       "      <td>2</td>\n",
       "      <td>FIFA World Cup</td>\n",
       "    </tr>\n",
       "    <tr>\n",
       "      <th>4466</th>\n",
       "      <td>4466</td>\n",
       "      <td>2019-07-02</td>\n",
       "      <td>England</td>\n",
       "      <td>United States</td>\n",
       "      <td>1</td>\n",
       "      <td>2</td>\n",
       "      <td>FIFA World Cup</td>\n",
       "    </tr>\n",
       "    <tr>\n",
       "      <th>4467</th>\n",
       "      <td>4467</td>\n",
       "      <td>2019-07-03</td>\n",
       "      <td>Netherlands</td>\n",
       "      <td>Sweden</td>\n",
       "      <td>1</td>\n",
       "      <td>0</td>\n",
       "      <td>FIFA World Cup</td>\n",
       "    </tr>\n",
       "    <tr>\n",
       "      <th>4468</th>\n",
       "      <td>4468</td>\n",
       "      <td>2019-07-06</td>\n",
       "      <td>England</td>\n",
       "      <td>Sweden</td>\n",
       "      <td>1</td>\n",
       "      <td>2</td>\n",
       "      <td>FIFA World Cup</td>\n",
       "    </tr>\n",
       "    <tr>\n",
       "      <th>4469</th>\n",
       "      <td>4469</td>\n",
       "      <td>2019-07-07</td>\n",
       "      <td>United States</td>\n",
       "      <td>Netherlands</td>\n",
       "      <td>2</td>\n",
       "      <td>0</td>\n",
       "      <td>FIFA World Cup</td>\n",
       "    </tr>\n",
       "  </tbody>\n",
       "</table>\n",
       "<p>200 rows × 7 columns</p>\n",
       "</div>"
      ],
      "text/plain": [
       "      Unnamed: 0       date      home_team      away_team  home_score  \\\n",
       "1600        1600 2003-09-20        Nigeria    North Korea           0   \n",
       "1601        1601 2003-09-20         Norway         France           2   \n",
       "1602        1602 2003-09-20        Germany         Canada           4   \n",
       "1603        1603 2003-09-20          Japan      Argentina           6   \n",
       "1604        1604 2003-09-21  United States         Sweden           3   \n",
       "...          ...        ...            ...            ...         ...   \n",
       "4465        4465 2019-06-29        Germany         Sweden           1   \n",
       "4466        4466 2019-07-02        England  United States           1   \n",
       "4467        4467 2019-07-03    Netherlands         Sweden           1   \n",
       "4468        4468 2019-07-06        England         Sweden           1   \n",
       "4469        4469 2019-07-07  United States    Netherlands           2   \n",
       "\n",
       "      away_score      tournament  \n",
       "1600           3  FIFA World Cup  \n",
       "1601           0  FIFA World Cup  \n",
       "1602           1  FIFA World Cup  \n",
       "1603           0  FIFA World Cup  \n",
       "1604           1  FIFA World Cup  \n",
       "...          ...             ...  \n",
       "4465           2  FIFA World Cup  \n",
       "4466           2  FIFA World Cup  \n",
       "4467           0  FIFA World Cup  \n",
       "4468           2  FIFA World Cup  \n",
       "4469           0  FIFA World Cup  \n",
       "\n",
       "[200 rows x 7 columns]"
      ]
     },
     "execution_count": 17,
     "metadata": {},
     "output_type": "execute_result"
    }
   ],
   "source": [
    "womens_worldCup"
   ]
  },
  {
   "cell_type": "markdown",
   "id": "62fcd418-f63f-4ca6-a106-dc221f782557",
   "metadata": {},
   "source": [
    "### Choosing the correct hypothesis test"
   ]
  },
  {
   "cell_type": "markdown",
   "id": "b0b91d74-74f6-4aed-825b-1f5ea618cdfd",
   "metadata": {},
   "source": [
    "In this scenario, we are comparing two independent groups, men and women, which requires a two-sample independent test. The two most commonly used tests for this purpose are:\n",
    "\n",
    "- The unpaired t-test: A parametric test used when the data follows a normal distribution.\n",
    "- The Wilcoxon-Mann-Whitney test: A non-parametric alternative to the unpaired t-test, used when the data does not meet the assumption of normality.\n",
    "  \n",
    "These tests allow us to assess whether there is a significant difference between the two groups."
   ]
  },
  {
   "cell_type": "markdown",
   "id": "143d704d-3809-487e-ad0c-4d6d942f5fdd",
   "metadata": {},
   "source": [
    "We need to analyze the sample size and distribution in order to select the most appropriate test."
   ]
  },
  {
   "cell_type": "code",
   "execution_count": 18,
   "id": "1819a41e-4735-46a9-801e-3cadd004b9e6",
   "metadata": {},
   "outputs": [
    {
     "name": "stdout",
     "output_type": "stream",
     "text": [
      "The women's DataFrame contains 200 rows.\n"
     ]
    }
   ],
   "source": [
    "# Sample for women's data\n",
    "womens_sample = womens_worldCup.shape\n",
    "print(f\"The women's DataFrame contains {womens_sample[0]} rows.\")"
   ]
  },
  {
   "cell_type": "markdown",
   "id": "66ed749f-3218-4c7b-9909-2c98685c5496",
   "metadata": {},
   "source": [
    "We estimate that a minimum of 30 data points is needed to prefer a parametric test."
   ]
  },
  {
   "cell_type": "code",
   "execution_count": 19,
   "id": "6641ea05-36ea-4db4-a222-d0ddb475fa01",
   "metadata": {},
   "outputs": [
    {
     "name": "stdout",
     "output_type": "stream",
     "text": [
      "The men's DataFrame contains 19490 rows.\n"
     ]
    }
   ],
   "source": [
    "# Sample for men's data\n",
    "mens_sample = mens_worldCup.shape\n",
    "print(f\"The men's DataFrame contains {mens_sample[0]} rows.\")"
   ]
  },
  {
   "cell_type": "markdown",
   "id": "f9a0a90a-6b8f-4843-8cfb-88fa600cd6c2",
   "metadata": {},
   "source": [
    "Now we need to check the normality of each distribution"
   ]
  },
  {
   "cell_type": "code",
   "execution_count": 20,
   "id": "68c10394-3d72-4cd2-8cc9-30d630e53bfb",
   "metadata": {},
   "outputs": [
    {
     "name": "stderr",
     "output_type": "stream",
     "text": [
      "/var/folders/lz/zsz00k2n3pbflxxlfqttyt500000gn/T/ipykernel_2156/2392342256.py:2: SettingWithCopyWarning: \n",
      "A value is trying to be set on a copy of a slice from a DataFrame.\n",
      "Try using .loc[row_indexer,col_indexer] = value instead\n",
      "\n",
      "See the caveats in the documentation: https://pandas.pydata.org/pandas-docs/stable/user_guide/indexing.html#returning-a-view-versus-a-copy\n",
      "  womens_worldCup.loc[:,\"Total_goals\"] = womens_worldCup[\"home_score\"] + womens_worldCup[\"away_score\"]\n",
      "/var/folders/lz/zsz00k2n3pbflxxlfqttyt500000gn/T/ipykernel_2156/2392342256.py:3: SettingWithCopyWarning: \n",
      "A value is trying to be set on a copy of a slice from a DataFrame.\n",
      "Try using .loc[row_indexer,col_indexer] = value instead\n",
      "\n",
      "See the caveats in the documentation: https://pandas.pydata.org/pandas-docs/stable/user_guide/indexing.html#returning-a-view-versus-a-copy\n",
      "  mens_worldCup.loc[:,\"Total_goals\"] = mens_worldCup[\"home_score\"] + mens_worldCup[\"away_score\"]\n"
     ]
    }
   ],
   "source": [
    "# New column for total goals per match\n",
    "womens_worldCup.loc[:,\"Total_goals\"] = womens_worldCup[\"home_score\"] + womens_worldCup[\"away_score\"]\n",
    "mens_worldCup.loc[:,\"Total_goals\"] = mens_worldCup[\"home_score\"] + mens_worldCup[\"away_score\"]"
   ]
  },
  {
   "cell_type": "code",
   "execution_count": 21,
   "id": "041b606d-2435-42c0-a7cf-c0ee42bf585f",
   "metadata": {},
   "outputs": [
    {
     "data": {
      "text/html": [
       "<div>\n",
       "<style scoped>\n",
       "    .dataframe tbody tr th:only-of-type {\n",
       "        vertical-align: middle;\n",
       "    }\n",
       "\n",
       "    .dataframe tbody tr th {\n",
       "        vertical-align: top;\n",
       "    }\n",
       "\n",
       "    .dataframe thead th {\n",
       "        text-align: right;\n",
       "    }\n",
       "</style>\n",
       "<table border=\"1\" class=\"dataframe\">\n",
       "  <thead>\n",
       "    <tr style=\"text-align: right;\">\n",
       "      <th></th>\n",
       "      <th>Unnamed: 0</th>\n",
       "      <th>date</th>\n",
       "      <th>home_team</th>\n",
       "      <th>away_team</th>\n",
       "      <th>home_score</th>\n",
       "      <th>away_score</th>\n",
       "      <th>tournament</th>\n",
       "      <th>Total_goals</th>\n",
       "    </tr>\n",
       "  </thead>\n",
       "  <tbody>\n",
       "    <tr>\n",
       "      <th>24863</th>\n",
       "      <td>24863</td>\n",
       "      <td>2002-01-04</td>\n",
       "      <td>Bahrain</td>\n",
       "      <td>Finland</td>\n",
       "      <td>0</td>\n",
       "      <td>2</td>\n",
       "      <td>Prime Minister's Cup</td>\n",
       "      <td>2</td>\n",
       "    </tr>\n",
       "    <tr>\n",
       "      <th>24864</th>\n",
       "      <td>24864</td>\n",
       "      <td>2002-01-04</td>\n",
       "      <td>Egypt</td>\n",
       "      <td>Ghana</td>\n",
       "      <td>2</td>\n",
       "      <td>0</td>\n",
       "      <td>Friendly</td>\n",
       "      <td>2</td>\n",
       "    </tr>\n",
       "    <tr>\n",
       "      <th>24865</th>\n",
       "      <td>24865</td>\n",
       "      <td>2002-01-04</td>\n",
       "      <td>Martinique</td>\n",
       "      <td>Guadeloupe</td>\n",
       "      <td>1</td>\n",
       "      <td>3</td>\n",
       "      <td>Friendly</td>\n",
       "      <td>4</td>\n",
       "    </tr>\n",
       "    <tr>\n",
       "      <th>24866</th>\n",
       "      <td>24866</td>\n",
       "      <td>2002-01-05</td>\n",
       "      <td>Albania</td>\n",
       "      <td>North Macedonia</td>\n",
       "      <td>0</td>\n",
       "      <td>0</td>\n",
       "      <td>Prime Minister's Cup</td>\n",
       "      <td>0</td>\n",
       "    </tr>\n",
       "    <tr>\n",
       "      <th>24867</th>\n",
       "      <td>24867</td>\n",
       "      <td>2002-01-05</td>\n",
       "      <td>Kuwait</td>\n",
       "      <td>Zimbabwe</td>\n",
       "      <td>3</td>\n",
       "      <td>0</td>\n",
       "      <td>Friendly</td>\n",
       "      <td>3</td>\n",
       "    </tr>\n",
       "  </tbody>\n",
       "</table>\n",
       "</div>"
      ],
      "text/plain": [
       "       Unnamed: 0       date   home_team        away_team  home_score  \\\n",
       "24863       24863 2002-01-04     Bahrain          Finland           0   \n",
       "24864       24864 2002-01-04       Egypt            Ghana           2   \n",
       "24865       24865 2002-01-04  Martinique       Guadeloupe           1   \n",
       "24866       24866 2002-01-05     Albania  North Macedonia           0   \n",
       "24867       24867 2002-01-05      Kuwait         Zimbabwe           3   \n",
       "\n",
       "       away_score            tournament  Total_goals  \n",
       "24863           2  Prime Minister's Cup            2  \n",
       "24864           0              Friendly            2  \n",
       "24865           3              Friendly            4  \n",
       "24866           0  Prime Minister's Cup            0  \n",
       "24867           0              Friendly            3  "
      ]
     },
     "execution_count": 21,
     "metadata": {},
     "output_type": "execute_result"
    }
   ],
   "source": [
    "mens_worldCup.head()"
   ]
  },
  {
   "cell_type": "code",
   "execution_count": 22,
   "id": "4e2cea98-ad59-432a-a728-4907c42ee878",
   "metadata": {},
   "outputs": [
    {
     "data": {
      "text/html": [
       "<div>\n",
       "<style scoped>\n",
       "    .dataframe tbody tr th:only-of-type {\n",
       "        vertical-align: middle;\n",
       "    }\n",
       "\n",
       "    .dataframe tbody tr th {\n",
       "        vertical-align: top;\n",
       "    }\n",
       "\n",
       "    .dataframe thead th {\n",
       "        text-align: right;\n",
       "    }\n",
       "</style>\n",
       "<table border=\"1\" class=\"dataframe\">\n",
       "  <thead>\n",
       "    <tr style=\"text-align: right;\">\n",
       "      <th></th>\n",
       "      <th>Unnamed: 0</th>\n",
       "      <th>date</th>\n",
       "      <th>home_team</th>\n",
       "      <th>away_team</th>\n",
       "      <th>home_score</th>\n",
       "      <th>away_score</th>\n",
       "      <th>tournament</th>\n",
       "      <th>Total_goals</th>\n",
       "    </tr>\n",
       "  </thead>\n",
       "  <tbody>\n",
       "    <tr>\n",
       "      <th>1600</th>\n",
       "      <td>1600</td>\n",
       "      <td>2003-09-20</td>\n",
       "      <td>Nigeria</td>\n",
       "      <td>North Korea</td>\n",
       "      <td>0</td>\n",
       "      <td>3</td>\n",
       "      <td>FIFA World Cup</td>\n",
       "      <td>3</td>\n",
       "    </tr>\n",
       "    <tr>\n",
       "      <th>1601</th>\n",
       "      <td>1601</td>\n",
       "      <td>2003-09-20</td>\n",
       "      <td>Norway</td>\n",
       "      <td>France</td>\n",
       "      <td>2</td>\n",
       "      <td>0</td>\n",
       "      <td>FIFA World Cup</td>\n",
       "      <td>2</td>\n",
       "    </tr>\n",
       "    <tr>\n",
       "      <th>1602</th>\n",
       "      <td>1602</td>\n",
       "      <td>2003-09-20</td>\n",
       "      <td>Germany</td>\n",
       "      <td>Canada</td>\n",
       "      <td>4</td>\n",
       "      <td>1</td>\n",
       "      <td>FIFA World Cup</td>\n",
       "      <td>5</td>\n",
       "    </tr>\n",
       "    <tr>\n",
       "      <th>1603</th>\n",
       "      <td>1603</td>\n",
       "      <td>2003-09-20</td>\n",
       "      <td>Japan</td>\n",
       "      <td>Argentina</td>\n",
       "      <td>6</td>\n",
       "      <td>0</td>\n",
       "      <td>FIFA World Cup</td>\n",
       "      <td>6</td>\n",
       "    </tr>\n",
       "    <tr>\n",
       "      <th>1604</th>\n",
       "      <td>1604</td>\n",
       "      <td>2003-09-21</td>\n",
       "      <td>United States</td>\n",
       "      <td>Sweden</td>\n",
       "      <td>3</td>\n",
       "      <td>1</td>\n",
       "      <td>FIFA World Cup</td>\n",
       "      <td>4</td>\n",
       "    </tr>\n",
       "  </tbody>\n",
       "</table>\n",
       "</div>"
      ],
      "text/plain": [
       "      Unnamed: 0       date      home_team    away_team  home_score  \\\n",
       "1600        1600 2003-09-20        Nigeria  North Korea           0   \n",
       "1601        1601 2003-09-20         Norway       France           2   \n",
       "1602        1602 2003-09-20        Germany       Canada           4   \n",
       "1603        1603 2003-09-20          Japan    Argentina           6   \n",
       "1604        1604 2003-09-21  United States       Sweden           3   \n",
       "\n",
       "      away_score      tournament  Total_goals  \n",
       "1600           3  FIFA World Cup            3  \n",
       "1601           0  FIFA World Cup            2  \n",
       "1602           1  FIFA World Cup            5  \n",
       "1603           0  FIFA World Cup            6  \n",
       "1604           1  FIFA World Cup            4  "
      ]
     },
     "execution_count": 22,
     "metadata": {},
     "output_type": "execute_result"
    }
   ],
   "source": [
    "womens_worldCup.head()"
   ]
  },
  {
   "cell_type": "code",
   "execution_count": 23,
   "id": "77f3de1e-e146-4903-9c94-2aeba4e08e76",
   "metadata": {},
   "outputs": [
    {
     "data": {
      "image/png": "[encoded data removed]",
      "text/plain": [
       "<Figure size 1200x600 with 1 Axes>"
      ]
     },
     "metadata": {},
     "output_type": "display_data"
    },
    {
     "data": {
      "image/png": "[encoded data removed]",
      "text/plain": [
       "<Figure size 1200x600 with 1 Axes>"
      ]
     },
     "metadata": {},
     "output_type": "display_data"
    }
   ],
   "source": [
    "# Plot histogram to visualize the distribution of total goals for womens \n",
    "cible = womens_worldCup[\"Total_goals\"]\n",
    "\n",
    "# Histogram\n",
    "plt.figure(figsize=(12, 6))\n",
    "sns.histplot(cible, kde=True)  \n",
    "plt.title('Histogram of Values')\n",
    "plt.xlabel('Values')\n",
    "plt.ylabel('Frequency')\n",
    "plt.show()\n",
    "\n",
    "# Q-Q Plot\n",
    "plt.figure(figsize=(12, 6))\n",
    "stats.probplot(cible, dist=\"norm\", plot=plt)\n",
    "plt.title('Q-Q Plot')\n",
    "plt.show()"
   ]
  },
  {
   "cell_type": "markdown",
   "id": "27f30801-8c0b-4ef7-b1c8-7b48dcdd2ccb",
   "metadata": {},
   "source": [
    "The Q-Q plot suggests the data reasonably follows a normal distribution, indicating parametric statistical tests can be appropriately applied.\n",
    "While there are some deviations in the tails, the overall adherence to the reference line supports the normality assumption."
   ]
  },
  {
   "cell_type": "code",
   "execution_count": 24,
   "id": "e07e9997-9e0a-4bb0-bf3d-ccf4198d2f82",
   "metadata": {},
   "outputs": [
    {
     "data": {
      "image/png": "[encoded data removed]",
      "text/plain": [
       "<Figure size 1200x600 with 1 Axes>"
      ]
     },
     "metadata": {},
     "output_type": "display_data"
    },
    {
     "data": {
      "image/png": "[encoded data removed]",
      "text/plain": [
       "<Figure size 1200x600 with 1 Axes>"
      ]
     },
     "metadata": {},
     "output_type": "display_data"
    }
   ],
   "source": [
    "# Plot histogram to visualize the distribution of total goals for mens\n",
    "cible = mens_worldCup[\"Total_goals\"]\n",
    "\n",
    "# Histogram\n",
    "plt.figure(figsize=(12, 6))\n",
    "sns.histplot(cible, kde=True)  \n",
    "plt.title('Histogram of Values')\n",
    "plt.xlabel('Values')\n",
    "plt.ylabel('Frequency')\n",
    "plt.show()\n",
    "\n",
    "# Q-Q Plot\n",
    "plt.figure(figsize=(12, 6))\n",
    "stats.probplot(cible, dist=\"norm\", plot=plt)\n",
    "plt.title('Q-Q Plot')\n",
    "plt.show()"
   ]
  },
  {
   "cell_type": "markdown",
   "id": "a767b655-3e57-41a8-96b4-007b1eb3de40",
   "metadata": {},
   "source": [
    "The Q-Q plot suggests that the data deviates from normality, which may invalidate the use of parametric tests. To confirm this visual assessment, we can conduct a normality test, such as the Kolmogorov–Smirnov test or the Shapiro–Wilk test."
   ]
  },
  {
   "cell_type": "markdown",
   "id": "c427b7a4-0be1-4cdb-9a43-ef2918cca7c4",
   "metadata": {},
   "source": [
    "The Kolmogorov-Smirnov (K-S) test evaluates whether a dataset follows a normal distribution by testing the null hypothesis (H0) that the data is normally distributed. A p-value less than 0.05 indicates significant evidence to reject H0, suggesting that the data does not follow a normal distribution. Conversely, a p-value of 0.05 or higher suggests insufficient evidence to reject H0, implying that the data may be normally distributed."
   ]
  },
  {
   "cell_type": "code",
   "execution_count": 25,
   "id": "450eba00-4edd-4c80-adf2-ddde4807da43",
   "metadata": {},
   "outputs": [
    {
     "name": "stdout",
     "output_type": "stream",
     "text": [
      "K-S Statistic: 0.7516064187211853\n",
      "p-value: 0.0\n",
      "The data does not follow a normal distribution (p < 0.05)\n"
     ]
    }
   ],
   "source": [
    "# Kolmogorov-Smirnov test on mens goals\n",
    "cible = mens_worldCup[\"Total_goals\"]\n",
    "ks_statistic, p_value = kstest(cible, 'norm')\n",
    "\n",
    "print(\"K-S Statistic:\", ks_statistic)\n",
    "print(\"p-value:\", p_value)\n",
    "\n",
    "# Result interpretation\n",
    "if p_value < 0.05:\n",
    "    print(\"The data does not follow a normal distribution (p < 0.05)\")\n",
    "else:\n",
    "    print(\"The data follows a normal distribution (p >= 0.05)\")\n"
   ]
  },
  {
   "cell_type": "code",
   "execution_count": 26,
   "id": "d3e6b9cf-cde4-4d97-87ad-f848b3e3c53e",
   "metadata": {},
   "outputs": [
    {
     "name": "stdout",
     "output_type": "stream",
     "text": [
      "K-S Statistic: 0.8113447460685429\n",
      "p-value: 9.431656241073109e-144\n",
      "The data does not follow a normal distribution (p < 0.05)\n"
     ]
    }
   ],
   "source": [
    "# Kolmogorov-Smirnov test on womens goals\n",
    "cible = womens_worldCup[\"Total_goals\"]\n",
    "ks_statistic, p_value = kstest(cible, 'norm')\n",
    "\n",
    "print(\"K-S Statistic:\", ks_statistic)\n",
    "print(\"p-value:\", p_value)\n",
    "\n",
    "# Result interpretation\n",
    "if p_value < 0.05:\n",
    "    print(\"The data does not follow a normal distribution (p < 0.05)\")\n",
    "else:\n",
    "    print(\"The data follows a normal distribution (p >= 0.05)\")"
   ]
  },
  {
   "cell_type": "markdown",
   "id": "edd143d4-31af-4bc7-8680-688fc629cbbe",
   "metadata": {},
   "source": [
    "Given the results of the test and the visualizations from the histogram and Q-Q plot, we can now proceed with non-parametric testing since the data do not follow a normal distribution."
   ]
  },
  {
   "cell_type": "markdown",
   "id": "11acb2dc-1135-40d5-bfee-5dca1ac56db4",
   "metadata": {},
   "source": [
    "### Mann-Whitney U non-parametric test"
   ]
  },
  {
   "cell_type": "code",
   "execution_count": 29,
   "id": "17f8d850-79cc-42da-b84b-2cd9f92c29cd",
   "metadata": {},
   "outputs": [],
   "source": [
    "# Create dataframes for test\n",
    "womens_df = pd.DataFrame({'Goals': womens_worldCup[\"Total_goals\"], 'Category': 'Women'})\n",
    "mens_df = pd.DataFrame({'Goals': mens_worldCup[\"Total_goals\"], 'Category': 'Men'})\n",
    "df = pd.concat([womens_df, mens_df])"
   ]
  },
  {
   "cell_type": "code",
   "execution_count": 40,
   "id": "27558e3f-0a73-4c06-8efa-633878c1ea7c",
   "metadata": {},
   "outputs": [],
   "source": [
    "# Performing the Mann-Whitney U test - using only the Goals columns\n",
    "statistic, p_value = stats.mannwhitneyu(\n",
    "    womens_df['Goals'],  # Only the Goals column\n",
    "    mens_df['Goals'],    # Only the Goals column\n",
    "    alternative='greater'  # Specifying that we are testing if women score more goals\n",
    ")"
   ]
  },
  {
   "cell_type": "code",
   "execution_count": 41,
   "id": "d2df11fa-e291-42e4-89ad-e3f8ea3edaa0",
   "metadata": {},
   "outputs": [
    {
     "data": {
      "text/plain": [
       "Text(0, 0.5, 'Number of Goals')"
      ]
     },
     "execution_count": 41,
     "metadata": {},
     "output_type": "execute_result"
    },
    {
     "data": {
      "image/png": "[encoded data removed]",
      "text/plain": [
       "<Figure size 1000x600 with 1 Axes>"
      ]
     },
     "metadata": {},
     "output_type": "display_data"
    }
   ],
   "source": [
    "# Creating a visualization\n",
    "plt.figure(figsize=(10, 6))\n",
    "sns.boxplot(data=df, x='Category', y='Goals')\n",
    "plt.title('Goal Distribution by Category')\n",
    "plt.xlabel('Category')\n",
    "plt.ylabel('Number of Goals')\n"
   ]
  },
  {
   "cell_type": "code",
   "execution_count": 42,
   "id": "06d5b9d4-09d1-429f-97f9-0bcfdd4164c2",
   "metadata": {},
   "outputs": [
    {
     "name": "stdout",
     "output_type": "stream",
     "text": [
      "U test statistic: 2097621.0000\n",
      "P-value: 0.0295\n",
      "\n",
      "Interpretation:\n",
      "We reject H0: there is a significant difference in the average number of goals.\n",
      "Women's matches have, on average, more goals than men's matches.\n"
     ]
    }
   ],
   "source": [
    "# Displaying the results\n",
    "print(f\"U test statistic: {statistic:.4f}\")\n",
    "print(f\"P-value: {p_value:.4f}\")\n",
    "print(\"\\nInterpretation:\")\n",
    "if p_value < 0.05:\n",
    "    print(\"We reject H0: there is a significant difference in the average number of goals.\")\n",
    "    print(\"Women's matches have, on average, more goals than men's matches.\")\n",
    "else:\n",
    "    print(\"We cannot reject H0: no significant difference found.\")"
   ]
  }
 ],
 "metadata": {
  "kernelspec": {
   "display_name": "Python 3 (ipykernel)",
   "language": "python",
   "name": "python3"
  },
  "language_info": {
   "codemirror_mode": {
    "name": "ipython",
    "version": 3
   },
   "file_extension": ".py",
   "mimetype": "text/x-python",
   "name": "python",
   "nbconvert_exporter": "python",
   "pygments_lexer": "ipython3",
   "version": "3.12.3"
  }
 },
 "nbformat": 4,
 "nbformat_minor": 5
}
