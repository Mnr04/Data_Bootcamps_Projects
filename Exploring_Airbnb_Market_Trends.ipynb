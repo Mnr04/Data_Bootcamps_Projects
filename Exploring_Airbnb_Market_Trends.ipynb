{
 "cells": [
  {
   "cell_type": "markdown",
   "id": "5225f9e0-505e-4556-80a5-aac3deeb6c62",
   "metadata": {},
   "source": [
    "# New York City Airbnb Market Analysis\n",
    "\n",
    "Welcome to this notebook, where we will explore the short-term rental market in New York City by analyzing Airbnb listings data. As a consultant working for a real estate start-up, I've gathered Airbnb data from various sources to help the company gain insights into private room listings. In particular, we'll focus on understanding the prices, room types, and reviews associated with these listings.\n",
    "\n",
    "## Project Overview\n",
    "\n",
    "New York City is one of the most-visited cities in the world, attracting millions of travelers each year. The demand for temporary lodging, especially through platforms like Airbnb, is high, ranging from a few nights to several months. This project aims to dive into this bustling market by analyzing data on Airbnb listings.\n",
    "\n",
    "To conduct this analysis, we will combine data from multiple file types—CSV, Excel, and TSV files—that provide various information about listings, such as pricing, room type, and review dates.\n",
    "\n",
    "## Data Files Overview\n",
    "\n",
    "The following files are available in the `data/` folder for this analysis:\n",
    "\n",
    "1. **airbnb_price.csv**  \n",
    "   A CSV file containing data on listing prices and their locations:\n",
    "   - `listing_id`: Unique identifier of the listing\n",
    "   - `price`: Nightly price of the listing (USD)\n",
    "   - `nbhood_full`: Borough and neighborhood where the listing is located\n",
    "\n",
    "2. **airbnb_room_type.xlsx**  \n",
    "   An Excel file with data on listing descriptions and room types:\n",
    "   - `listing_id`: Unique identifier of the listing\n",
    "   - `description`: Text description of the listing\n",
    "   - `room_type`: Type of room offered (shared room, private room, or entire home/apartment)\n",
    "\n",
    "3. **airbnb_last_review.tsv**  \n",
    "   A TSV file containing host names and the dates of the last review:\n",
    "   - `listing_id`: Unique identifier of the listing\n",
    "   - `host_name`: Name of the listing host\n",
    "   - `last_review`: Date of the last review for the listing\n",
    "\n",
    "## Key Questions to Address\n",
    "- What are the dates of the earliest and most recent reviews?\n",
    "- How many of the listings are private rooms?\n",
    "- What is the average price of all listings?\n",
    "\n",
    "## Objective\n",
    "\n",
    "Using the data provided, we will extract and process key information to answer the above questions. In particular, we will:\n",
    "- Identify the earliest and most recent review dates.\n",
    "- Count the number of private room listings.\n",
    "- Calculate the average price of all listings, rounded to two decimal places.\n",
    "\n",
    "Finally, we will combine this information into a single DataFrame called `review_dates` with four columns: `first_reviewed`, `last_reviewed`, `nb_private_rooms`, and `avg_price`. The DataFrame will contain one row summarizing these insights.\n",
    "\n",
    "Let's dive into the analysis!"
   ]
  },
  {
   "cell_type": "code",
   "execution_count": 1,
   "id": "d4cec165-f199-45b7-b366-1b5c49f839b1",
   "metadata": {},
   "outputs": [],
   "source": [
    "import pandas as pd"
   ]
  },
  {
   "cell_type": "code",
   "execution_count": 2,
   "id": "fe4c09df-5a0a-4c58-8096-fc96c865a1d4",
   "metadata": {},
   "outputs": [],
   "source": [
    "#Loading data from different file types\n",
    "airbnb_price = pd.read_csv(\"Dataset/airbnb_data/airbnb_price.csv\")\n",
    "airbnb_room_type = pd.read_excel(\"Dataset/airbnb_data/airbnb_room_type.xlsx\")\n",
    "airbnb_last_review = pd.read_csv('Dataset/airbnb_data/airbnb_last_review.tsv', sep='\\t')"
   ]
  },
  {
   "cell_type": "code",
   "execution_count": 3,
   "id": "8f32df21-9236-49a5-99e2-9476f04b6777",
   "metadata": {},
   "outputs": [
    {
     "data": {
      "text/html": [
       "<div>\n",
       "<style scoped>\n",
       "    .dataframe tbody tr th:only-of-type {\n",
       "        vertical-align: middle;\n",
       "    }\n",
       "\n",
       "    .dataframe tbody tr th {\n",
       "        vertical-align: top;\n",
       "    }\n",
       "\n",
       "    .dataframe thead th {\n",
       "        text-align: right;\n",
       "    }\n",
       "</style>\n",
       "<table border=\"1\" class=\"dataframe\">\n",
       "  <thead>\n",
       "    <tr style=\"text-align: right;\">\n",
       "      <th></th>\n",
       "      <th>listing_id</th>\n",
       "      <th>price</th>\n",
       "      <th>nbhood_full</th>\n",
       "    </tr>\n",
       "  </thead>\n",
       "  <tbody>\n",
       "    <tr>\n",
       "      <th>0</th>\n",
       "      <td>2595</td>\n",
       "      <td>225 dollars</td>\n",
       "      <td>Manhattan, Midtown</td>\n",
       "    </tr>\n",
       "    <tr>\n",
       "      <th>1</th>\n",
       "      <td>3831</td>\n",
       "      <td>89 dollars</td>\n",
       "      <td>Brooklyn, Clinton Hill</td>\n",
       "    </tr>\n",
       "    <tr>\n",
       "      <th>2</th>\n",
       "      <td>5099</td>\n",
       "      <td>200 dollars</td>\n",
       "      <td>Manhattan, Murray Hill</td>\n",
       "    </tr>\n",
       "    <tr>\n",
       "      <th>3</th>\n",
       "      <td>5178</td>\n",
       "      <td>79 dollars</td>\n",
       "      <td>Manhattan, Hell's Kitchen</td>\n",
       "    </tr>\n",
       "    <tr>\n",
       "      <th>4</th>\n",
       "      <td>5238</td>\n",
       "      <td>150 dollars</td>\n",
       "      <td>Manhattan, Chinatown</td>\n",
       "    </tr>\n",
       "  </tbody>\n",
       "</table>\n",
       "</div>"
      ],
      "text/plain": [
       "   listing_id        price                nbhood_full\n",
       "0        2595  225 dollars         Manhattan, Midtown\n",
       "1        3831   89 dollars     Brooklyn, Clinton Hill\n",
       "2        5099  200 dollars     Manhattan, Murray Hill\n",
       "3        5178   79 dollars  Manhattan, Hell's Kitchen\n",
       "4        5238  150 dollars       Manhattan, Chinatown"
      ]
     },
     "execution_count": 3,
     "metadata": {},
     "output_type": "execute_result"
    }
   ],
   "source": [
    "airbnb_price.head()"
   ]
  },
  {
   "cell_type": "code",
   "execution_count": 4,
   "id": "4c3b8532-46fe-4f49-aa4f-530ffa32017a",
   "metadata": {},
   "outputs": [
    {
     "data": {
      "text/html": [
       "<div>\n",
       "<style scoped>\n",
       "    .dataframe tbody tr th:only-of-type {\n",
       "        vertical-align: middle;\n",
       "    }\n",
       "\n",
       "    .dataframe tbody tr th {\n",
       "        vertical-align: top;\n",
       "    }\n",
       "\n",
       "    .dataframe thead th {\n",
       "        text-align: right;\n",
       "    }\n",
       "</style>\n",
       "<table border=\"1\" class=\"dataframe\">\n",
       "  <thead>\n",
       "    <tr style=\"text-align: right;\">\n",
       "      <th></th>\n",
       "      <th>listing_id</th>\n",
       "      <th>description</th>\n",
       "      <th>room_type</th>\n",
       "    </tr>\n",
       "  </thead>\n",
       "  <tbody>\n",
       "    <tr>\n",
       "      <th>0</th>\n",
       "      <td>2595</td>\n",
       "      <td>Skylit Midtown Castle</td>\n",
       "      <td>Entire home/apt</td>\n",
       "    </tr>\n",
       "    <tr>\n",
       "      <th>1</th>\n",
       "      <td>3831</td>\n",
       "      <td>Cozy Entire Floor of Brownstone</td>\n",
       "      <td>Entire home/apt</td>\n",
       "    </tr>\n",
       "    <tr>\n",
       "      <th>2</th>\n",
       "      <td>5099</td>\n",
       "      <td>Large Cozy 1 BR Apartment In Midtown East</td>\n",
       "      <td>Entire home/apt</td>\n",
       "    </tr>\n",
       "    <tr>\n",
       "      <th>3</th>\n",
       "      <td>5178</td>\n",
       "      <td>Large Furnished Room Near B'way</td>\n",
       "      <td>private room</td>\n",
       "    </tr>\n",
       "    <tr>\n",
       "      <th>4</th>\n",
       "      <td>5238</td>\n",
       "      <td>Cute &amp; Cozy Lower East Side 1 bdrm</td>\n",
       "      <td>Entire home/apt</td>\n",
       "    </tr>\n",
       "  </tbody>\n",
       "</table>\n",
       "</div>"
      ],
      "text/plain": [
       "   listing_id                                description        room_type\n",
       "0        2595                      Skylit Midtown Castle  Entire home/apt\n",
       "1        3831            Cozy Entire Floor of Brownstone  Entire home/apt\n",
       "2        5099  Large Cozy 1 BR Apartment In Midtown East  Entire home/apt\n",
       "3        5178            Large Furnished Room Near B'way     private room\n",
       "4        5238         Cute & Cozy Lower East Side 1 bdrm  Entire home/apt"
      ]
     },
     "execution_count": 4,
     "metadata": {},
     "output_type": "execute_result"
    }
   ],
   "source": [
    "airbnb_room_type.head()"
   ]
  },
  {
   "cell_type": "code",
   "execution_count": 5,
   "id": "c6d06c4d-48af-4e75-89e5-e11493e33de8",
   "metadata": {},
   "outputs": [
    {
     "data": {
      "text/html": [
       "<div>\n",
       "<style scoped>\n",
       "    .dataframe tbody tr th:only-of-type {\n",
       "        vertical-align: middle;\n",
       "    }\n",
       "\n",
       "    .dataframe tbody tr th {\n",
       "        vertical-align: top;\n",
       "    }\n",
       "\n",
       "    .dataframe thead th {\n",
       "        text-align: right;\n",
       "    }\n",
       "</style>\n",
       "<table border=\"1\" class=\"dataframe\">\n",
       "  <thead>\n",
       "    <tr style=\"text-align: right;\">\n",
       "      <th></th>\n",
       "      <th>listing_id</th>\n",
       "      <th>host_name</th>\n",
       "      <th>last_review</th>\n",
       "    </tr>\n",
       "  </thead>\n",
       "  <tbody>\n",
       "    <tr>\n",
       "      <th>0</th>\n",
       "      <td>2595</td>\n",
       "      <td>Jennifer</td>\n",
       "      <td>May 21 2019</td>\n",
       "    </tr>\n",
       "    <tr>\n",
       "      <th>1</th>\n",
       "      <td>3831</td>\n",
       "      <td>LisaRoxanne</td>\n",
       "      <td>July 05 2019</td>\n",
       "    </tr>\n",
       "    <tr>\n",
       "      <th>2</th>\n",
       "      <td>5099</td>\n",
       "      <td>Chris</td>\n",
       "      <td>June 22 2019</td>\n",
       "    </tr>\n",
       "    <tr>\n",
       "      <th>3</th>\n",
       "      <td>5178</td>\n",
       "      <td>Shunichi</td>\n",
       "      <td>June 24 2019</td>\n",
       "    </tr>\n",
       "    <tr>\n",
       "      <th>4</th>\n",
       "      <td>5238</td>\n",
       "      <td>Ben</td>\n",
       "      <td>June 09 2019</td>\n",
       "    </tr>\n",
       "  </tbody>\n",
       "</table>\n",
       "</div>"
      ],
      "text/plain": [
       "   listing_id    host_name   last_review\n",
       "0        2595     Jennifer   May 21 2019\n",
       "1        3831  LisaRoxanne  July 05 2019\n",
       "2        5099        Chris  June 22 2019\n",
       "3        5178     Shunichi  June 24 2019\n",
       "4        5238          Ben  June 09 2019"
      ]
     },
     "execution_count": 5,
     "metadata": {},
     "output_type": "execute_result"
    }
   ],
   "source": [
    "airbnb_last_review.head()"
   ]
  },
  {
   "cell_type": "markdown",
   "id": "c072febe-affb-4273-b86b-90023a51b7ed",
   "metadata": {},
   "source": [
    "So, we've decided to **merge** the three datasets into one for a clearer overall understanding and improved analysis. "
   ]
  },
  {
   "cell_type": "code",
   "execution_count": 7,
   "id": "dce36f7c-2a42-4784-a2c1-92db5adbb4f2",
   "metadata": {},
   "outputs": [],
   "source": [
    "# Make a copy of the datasets before manipulating them\n",
    "airbnb_price_copy = airbnb_price.copy()\n",
    "airbnb_room_type_copy = airbnb_room_type.copy()\n",
    "airbnb_last_review_copy = airbnb_last_review.copy()"
   ]
  },
  {
   "cell_type": "code",
   "execution_count": 9,
   "id": "68359261-7c34-47b0-b558-01b5e8520de3",
   "metadata": {},
   "outputs": [],
   "source": [
    "#We can merge the three datasets on listing_id\n",
    "merged_data = airbnb_price_copy.merge(airbnb_room_type_copy, on='listing_id', how='inner') \\\n",
    "                               .merge(airbnb_last_review_copy, on='listing_id', how='inner')"
   ]
  },
  {
   "cell_type": "code",
   "execution_count": 10,
   "id": "a2529118-16eb-4648-bcf7-ec80e7cfd02d",
   "metadata": {},
   "outputs": [
    {
     "data": {
      "text/html": [
       "<div>\n",
       "<style scoped>\n",
       "    .dataframe tbody tr th:only-of-type {\n",
       "        vertical-align: middle;\n",
       "    }\n",
       "\n",
       "    .dataframe tbody tr th {\n",
       "        vertical-align: top;\n",
       "    }\n",
       "\n",
       "    .dataframe thead th {\n",
       "        text-align: right;\n",
       "    }\n",
       "</style>\n",
       "<table border=\"1\" class=\"dataframe\">\n",
       "  <thead>\n",
       "    <tr style=\"text-align: right;\">\n",
       "      <th></th>\n",
       "      <th>listing_id</th>\n",
       "      <th>price</th>\n",
       "      <th>nbhood_full</th>\n",
       "      <th>description</th>\n",
       "      <th>room_type</th>\n",
       "      <th>host_name</th>\n",
       "      <th>last_review</th>\n",
       "    </tr>\n",
       "  </thead>\n",
       "  <tbody>\n",
       "    <tr>\n",
       "      <th>0</th>\n",
       "      <td>2595</td>\n",
       "      <td>225 dollars</td>\n",
       "      <td>Manhattan, Midtown</td>\n",
       "      <td>Skylit Midtown Castle</td>\n",
       "      <td>Entire home/apt</td>\n",
       "      <td>Jennifer</td>\n",
       "      <td>May 21 2019</td>\n",
       "    </tr>\n",
       "    <tr>\n",
       "      <th>1</th>\n",
       "      <td>3831</td>\n",
       "      <td>89 dollars</td>\n",
       "      <td>Brooklyn, Clinton Hill</td>\n",
       "      <td>Cozy Entire Floor of Brownstone</td>\n",
       "      <td>Entire home/apt</td>\n",
       "      <td>LisaRoxanne</td>\n",
       "      <td>July 05 2019</td>\n",
       "    </tr>\n",
       "    <tr>\n",
       "      <th>2</th>\n",
       "      <td>5099</td>\n",
       "      <td>200 dollars</td>\n",
       "      <td>Manhattan, Murray Hill</td>\n",
       "      <td>Large Cozy 1 BR Apartment In Midtown East</td>\n",
       "      <td>Entire home/apt</td>\n",
       "      <td>Chris</td>\n",
       "      <td>June 22 2019</td>\n",
       "    </tr>\n",
       "    <tr>\n",
       "      <th>3</th>\n",
       "      <td>5178</td>\n",
       "      <td>79 dollars</td>\n",
       "      <td>Manhattan, Hell's Kitchen</td>\n",
       "      <td>Large Furnished Room Near B'way</td>\n",
       "      <td>private room</td>\n",
       "      <td>Shunichi</td>\n",
       "      <td>June 24 2019</td>\n",
       "    </tr>\n",
       "    <tr>\n",
       "      <th>4</th>\n",
       "      <td>5238</td>\n",
       "      <td>150 dollars</td>\n",
       "      <td>Manhattan, Chinatown</td>\n",
       "      <td>Cute &amp; Cozy Lower East Side 1 bdrm</td>\n",
       "      <td>Entire home/apt</td>\n",
       "      <td>Ben</td>\n",
       "      <td>June 09 2019</td>\n",
       "    </tr>\n",
       "  </tbody>\n",
       "</table>\n",
       "</div>"
      ],
      "text/plain": [
       "   listing_id        price                nbhood_full  \\\n",
       "0        2595  225 dollars         Manhattan, Midtown   \n",
       "1        3831   89 dollars     Brooklyn, Clinton Hill   \n",
       "2        5099  200 dollars     Manhattan, Murray Hill   \n",
       "3        5178   79 dollars  Manhattan, Hell's Kitchen   \n",
       "4        5238  150 dollars       Manhattan, Chinatown   \n",
       "\n",
       "                                 description        room_type    host_name  \\\n",
       "0                      Skylit Midtown Castle  Entire home/apt     Jennifer   \n",
       "1            Cozy Entire Floor of Brownstone  Entire home/apt  LisaRoxanne   \n",
       "2  Large Cozy 1 BR Apartment In Midtown East  Entire home/apt        Chris   \n",
       "3            Large Furnished Room Near B'way     private room     Shunichi   \n",
       "4         Cute & Cozy Lower East Side 1 bdrm  Entire home/apt          Ben   \n",
       "\n",
       "    last_review  \n",
       "0   May 21 2019  \n",
       "1  July 05 2019  \n",
       "2  June 22 2019  \n",
       "3  June 24 2019  \n",
       "4  June 09 2019  "
      ]
     },
     "execution_count": 10,
     "metadata": {},
     "output_type": "execute_result"
    }
   ],
   "source": [
    "merged_data.head()"
   ]
  },
  {
   "cell_type": "markdown",
   "id": "2fe9091d-356e-4506-8ab5-e294da3a4873",
   "metadata": {},
   "source": [
    "### 1. Determining the earliest and most recent review dates"
   ]
  },
  {
   "cell_type": "code",
   "execution_count": 15,
   "id": "67dad524-c9a0-4dc5-8a5c-76b5908ba5fa",
   "metadata": {},
   "outputs": [
    {
     "data": {
      "text/plain": [
       "dtype('O')"
      ]
     },
     "execution_count": 15,
     "metadata": {},
     "output_type": "execute_result"
    }
   ],
   "source": [
    "merged_data[\"last_review\"].dtypes"
   ]
  },
  {
   "cell_type": "code",
   "execution_count": 17,
   "id": "9ffc1fa1-2bac-43dd-a5de-f89c3676157e",
   "metadata": {},
   "outputs": [],
   "source": [
    "#Convert the 'last_review' column to datetime format\n",
    "merged_data[\"last_review\"] = pd.to_datetime(merged_data[\"last_review\"], errors='coerce')"
   ]
  },
  {
   "cell_type": "code",
   "execution_count": 18,
   "id": "c05a3584-5841-41b8-b996-920836005b58",
   "metadata": {},
   "outputs": [
    {
     "data": {
      "text/plain": [
       "dtype('<M8[ns]')"
      ]
     },
     "execution_count": 18,
     "metadata": {},
     "output_type": "execute_result"
    }
   ],
   "source": [
    "merged_data[\"last_review\"].dtypes"
   ]
  },
  {
   "cell_type": "code",
   "execution_count": 24,
   "id": "0854bef0-3acf-433e-bc95-aedd8c688d8e",
   "metadata": {},
   "outputs": [],
   "source": [
    "earliest_review = merged_data[\"last_review\"].min()"
   ]
  },
  {
   "cell_type": "markdown",
   "id": "63673ab3-f76d-42be-af29-c6891860eb25",
   "metadata": {},
   "source": [
    "The earliest reviews date back to January 1, 2019."
   ]
  },
  {
   "cell_type": "code",
   "execution_count": 21,
   "id": "5fe23c4e-f9ff-441d-8795-f22c734d34c7",
   "metadata": {},
   "outputs": [
    {
     "data": {
      "text/plain": [
       "Timestamp('2019-07-09 00:00:00')"
      ]
     },
     "execution_count": 21,
     "metadata": {},
     "output_type": "execute_result"
    }
   ],
   "source": [
    "merged_data[\"last_review\"].max()"
   ]
  },
  {
   "cell_type": "code",
   "execution_count": null,
   "id": "25da03ee-bb98-4e6d-ac91-0d002c80cf9d",
   "metadata": {},
   "outputs": [],
   "source": [
    "The most recent reviews date back to July 9, 2019."
   ]
  }
 ],
 "metadata": {
  "kernelspec": {
   "display_name": "Python 3 (ipykernel)",
   "language": "python",
   "name": "python3"
  },
  "language_info": {
   "codemirror_mode": {
    "name": "ipython",
    "version": 3
   },
   "file_extension": ".py",
   "mimetype": "text/x-python",
   "name": "python",
   "nbconvert_exporter": "python",
   "pygments_lexer": "ipython3",
   "version": "3.12.3"
  }
 },
 "nbformat": 4,
 "nbformat_minor": 5
}
