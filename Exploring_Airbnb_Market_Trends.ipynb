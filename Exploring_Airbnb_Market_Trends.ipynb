{
 "cells": [
  {
   "cell_type": "markdown",
   "id": "5225f9e0-505e-4556-80a5-aac3deeb6c62",
   "metadata": {},
   "source": [
    "# New York City Airbnb Market Analysis\n",
    "\n",
    "Welcome to this notebook, where we will explore the short-term rental market in New York City by analyzing Airbnb listings data. As a consultant working for a real estate start-up, I've gathered Airbnb data from various sources to help the company gain insights into private room listings. In particular, we'll focus on understanding the prices, room types, and reviews associated with these listings.\n",
    "\n",
    "## Project Overview\n",
    "\n",
    "New York City is one of the most-visited cities in the world, attracting millions of travelers each year. The demand for temporary lodging, especially through platforms like Airbnb, is high, ranging from a few nights to several months. This project aims to dive into this bustling market by analyzing data on Airbnb listings.\n",
    "\n",
    "To conduct this analysis, we will combine data from multiple file types—CSV, Excel, and TSV files—that provide various information about listings, such as pricing, room type, and review dates.\n",
    "\n",
    "## Key Questions to Address\n",
    "- What are the dates of the earliest and most recent reviews?\n",
    "- How many of the listings are private rooms?\n",
    "- What is the average price of all listings?\n",
    "\n",
    "Let's dive into the analysis!"
   ]
  },
  {
   "cell_type": "code",
   "execution_count": 1,
   "id": "d4cec165-f199-45b7-b366-1b5c49f839b1",
   "metadata": {},
   "outputs": [],
   "source": [
    "import pandas as pd\n",
    "import matplotlib.pyplot as plt\n",
    "import seaborn as sns"
   ]
  },
  {
   "cell_type": "code",
   "execution_count": 2,
   "id": "fe4c09df-5a0a-4c58-8096-fc96c865a1d4",
   "metadata": {},
   "outputs": [],
   "source": [
    "#Loading data from different file types\n",
    "airbnb_price = pd.read_csv(\"Dataset/airbnb_data/airbnb_price.csv\")\n",
    "airbnb_room_type = pd.read_excel(\"Dataset/airbnb_data/airbnb_room_type.xlsx\")\n",
    "airbnb_last_review = pd.read_csv('Dataset/airbnb_data/airbnb_last_review.tsv', sep='\\t')"
   ]
  },
  {
   "cell_type": "code",
   "execution_count": 3,
   "id": "8f32df21-9236-49a5-99e2-9476f04b6777",
   "metadata": {},
   "outputs": [
    {
     "data": {
      "text/html": [
       "<div>\n",
       "<style scoped>\n",
       "    .dataframe tbody tr th:only-of-type {\n",
       "        vertical-align: middle;\n",
       "    }\n",
       "\n",
       "    .dataframe tbody tr th {\n",
       "        vertical-align: top;\n",
       "    }\n",
       "\n",
       "    .dataframe thead th {\n",
       "        text-align: right;\n",
       "    }\n",
       "</style>\n",
       "<table border=\"1\" class=\"dataframe\">\n",
       "  <thead>\n",
       "    <tr style=\"text-align: right;\">\n",
       "      <th></th>\n",
       "      <th>listing_id</th>\n",
       "      <th>price</th>\n",
       "      <th>nbhood_full</th>\n",
       "    </tr>\n",
       "  </thead>\n",
       "  <tbody>\n",
       "    <tr>\n",
       "      <th>0</th>\n",
       "      <td>2595</td>\n",
       "      <td>225 dollars</td>\n",
       "      <td>Manhattan, Midtown</td>\n",
       "    </tr>\n",
       "    <tr>\n",
       "      <th>1</th>\n",
       "      <td>3831</td>\n",
       "      <td>89 dollars</td>\n",
       "      <td>Brooklyn, Clinton Hill</td>\n",
       "    </tr>\n",
       "    <tr>\n",
       "      <th>2</th>\n",
       "      <td>5099</td>\n",
       "      <td>200 dollars</td>\n",
       "      <td>Manhattan, Murray Hill</td>\n",
       "    </tr>\n",
       "    <tr>\n",
       "      <th>3</th>\n",
       "      <td>5178</td>\n",
       "      <td>79 dollars</td>\n",
       "      <td>Manhattan, Hell's Kitchen</td>\n",
       "    </tr>\n",
       "    <tr>\n",
       "      <th>4</th>\n",
       "      <td>5238</td>\n",
       "      <td>150 dollars</td>\n",
       "      <td>Manhattan, Chinatown</td>\n",
       "    </tr>\n",
       "  </tbody>\n",
       "</table>\n",
       "</div>"
      ],
      "text/plain": [
       "   listing_id        price                nbhood_full\n",
       "0        2595  225 dollars         Manhattan, Midtown\n",
       "1        3831   89 dollars     Brooklyn, Clinton Hill\n",
       "2        5099  200 dollars     Manhattan, Murray Hill\n",
       "3        5178   79 dollars  Manhattan, Hell's Kitchen\n",
       "4        5238  150 dollars       Manhattan, Chinatown"
      ]
     },
     "execution_count": 3,
     "metadata": {},
     "output_type": "execute_result"
    }
   ],
   "source": [
    "airbnb_price.head()"
   ]
  },
  {
   "cell_type": "code",
   "execution_count": 4,
   "id": "4c3b8532-46fe-4f49-aa4f-530ffa32017a",
   "metadata": {},
   "outputs": [
    {
     "data": {
      "text/html": [
       "<div>\n",
       "<style scoped>\n",
       "    .dataframe tbody tr th:only-of-type {\n",
       "        vertical-align: middle;\n",
       "    }\n",
       "\n",
       "    .dataframe tbody tr th {\n",
       "        vertical-align: top;\n",
       "    }\n",
       "\n",
       "    .dataframe thead th {\n",
       "        text-align: right;\n",
       "    }\n",
       "</style>\n",
       "<table border=\"1\" class=\"dataframe\">\n",
       "  <thead>\n",
       "    <tr style=\"text-align: right;\">\n",
       "      <th></th>\n",
       "      <th>listing_id</th>\n",
       "      <th>description</th>\n",
       "      <th>room_type</th>\n",
       "    </tr>\n",
       "  </thead>\n",
       "  <tbody>\n",
       "    <tr>\n",
       "      <th>0</th>\n",
       "      <td>2595</td>\n",
       "      <td>Skylit Midtown Castle</td>\n",
       "      <td>Entire home/apt</td>\n",
       "    </tr>\n",
       "    <tr>\n",
       "      <th>1</th>\n",
       "      <td>3831</td>\n",
       "      <td>Cozy Entire Floor of Brownstone</td>\n",
       "      <td>Entire home/apt</td>\n",
       "    </tr>\n",
       "    <tr>\n",
       "      <th>2</th>\n",
       "      <td>5099</td>\n",
       "      <td>Large Cozy 1 BR Apartment In Midtown East</td>\n",
       "      <td>Entire home/apt</td>\n",
       "    </tr>\n",
       "    <tr>\n",
       "      <th>3</th>\n",
       "      <td>5178</td>\n",
       "      <td>Large Furnished Room Near B'way</td>\n",
       "      <td>private room</td>\n",
       "    </tr>\n",
       "    <tr>\n",
       "      <th>4</th>\n",
       "      <td>5238</td>\n",
       "      <td>Cute &amp; Cozy Lower East Side 1 bdrm</td>\n",
       "      <td>Entire home/apt</td>\n",
       "    </tr>\n",
       "  </tbody>\n",
       "</table>\n",
       "</div>"
      ],
      "text/plain": [
       "   listing_id                                description        room_type\n",
       "0        2595                      Skylit Midtown Castle  Entire home/apt\n",
       "1        3831            Cozy Entire Floor of Brownstone  Entire home/apt\n",
       "2        5099  Large Cozy 1 BR Apartment In Midtown East  Entire home/apt\n",
       "3        5178            Large Furnished Room Near B'way     private room\n",
       "4        5238         Cute & Cozy Lower East Side 1 bdrm  Entire home/apt"
      ]
     },
     "execution_count": 4,
     "metadata": {},
     "output_type": "execute_result"
    }
   ],
   "source": [
    "airbnb_room_type.head()"
   ]
  },
  {
   "cell_type": "code",
   "execution_count": 5,
   "id": "c6d06c4d-48af-4e75-89e5-e11493e33de8",
   "metadata": {},
   "outputs": [
    {
     "data": {
      "text/html": [
       "<div>\n",
       "<style scoped>\n",
       "    .dataframe tbody tr th:only-of-type {\n",
       "        vertical-align: middle;\n",
       "    }\n",
       "\n",
       "    .dataframe tbody tr th {\n",
       "        vertical-align: top;\n",
       "    }\n",
       "\n",
       "    .dataframe thead th {\n",
       "        text-align: right;\n",
       "    }\n",
       "</style>\n",
       "<table border=\"1\" class=\"dataframe\">\n",
       "  <thead>\n",
       "    <tr style=\"text-align: right;\">\n",
       "      <th></th>\n",
       "      <th>listing_id</th>\n",
       "      <th>host_name</th>\n",
       "      <th>last_review</th>\n",
       "    </tr>\n",
       "  </thead>\n",
       "  <tbody>\n",
       "    <tr>\n",
       "      <th>0</th>\n",
       "      <td>2595</td>\n",
       "      <td>Jennifer</td>\n",
       "      <td>May 21 2019</td>\n",
       "    </tr>\n",
       "    <tr>\n",
       "      <th>1</th>\n",
       "      <td>3831</td>\n",
       "      <td>LisaRoxanne</td>\n",
       "      <td>July 05 2019</td>\n",
       "    </tr>\n",
       "    <tr>\n",
       "      <th>2</th>\n",
       "      <td>5099</td>\n",
       "      <td>Chris</td>\n",
       "      <td>June 22 2019</td>\n",
       "    </tr>\n",
       "    <tr>\n",
       "      <th>3</th>\n",
       "      <td>5178</td>\n",
       "      <td>Shunichi</td>\n",
       "      <td>June 24 2019</td>\n",
       "    </tr>\n",
       "    <tr>\n",
       "      <th>4</th>\n",
       "      <td>5238</td>\n",
       "      <td>Ben</td>\n",
       "      <td>June 09 2019</td>\n",
       "    </tr>\n",
       "  </tbody>\n",
       "</table>\n",
       "</div>"
      ],
      "text/plain": [
       "   listing_id    host_name   last_review\n",
       "0        2595     Jennifer   May 21 2019\n",
       "1        3831  LisaRoxanne  July 05 2019\n",
       "2        5099        Chris  June 22 2019\n",
       "3        5178     Shunichi  June 24 2019\n",
       "4        5238          Ben  June 09 2019"
      ]
     },
     "execution_count": 5,
     "metadata": {},
     "output_type": "execute_result"
    }
   ],
   "source": [
    "airbnb_last_review.head()"
   ]
  },
  {
   "cell_type": "markdown",
   "id": "c072febe-affb-4273-b86b-90023a51b7ed",
   "metadata": {},
   "source": [
    "So, we've decided to **merge** the three datasets into one for a clearer overall understanding and improved analysis. "
   ]
  },
  {
   "cell_type": "code",
   "execution_count": 6,
   "id": "dce36f7c-2a42-4784-a2c1-92db5adbb4f2",
   "metadata": {},
   "outputs": [],
   "source": [
    "# Make a copy of the datasets before manipulating them\n",
    "airbnb_price_copy = airbnb_price.copy()\n",
    "airbnb_room_type_copy = airbnb_room_type.copy()\n",
    "airbnb_last_review_copy = airbnb_last_review.copy()"
   ]
  },
  {
   "cell_type": "code",
   "execution_count": 7,
   "id": "68359261-7c34-47b0-b558-01b5e8520de3",
   "metadata": {},
   "outputs": [],
   "source": [
    "#We can merge the three datasets on listing_id\n",
    "merged_data = airbnb_price_copy.merge(airbnb_room_type_copy, on='listing_id', how='inner') \\\n",
    "                               .merge(airbnb_last_review_copy, on='listing_id', how='inner')"
   ]
  },
  {
   "cell_type": "code",
   "execution_count": 8,
   "id": "a2529118-16eb-4648-bcf7-ec80e7cfd02d",
   "metadata": {},
   "outputs": [
    {
     "data": {
      "text/html": [
       "<div>\n",
       "<style scoped>\n",
       "    .dataframe tbody tr th:only-of-type {\n",
       "        vertical-align: middle;\n",
       "    }\n",
       "\n",
       "    .dataframe tbody tr th {\n",
       "        vertical-align: top;\n",
       "    }\n",
       "\n",
       "    .dataframe thead th {\n",
       "        text-align: right;\n",
       "    }\n",
       "</style>\n",
       "<table border=\"1\" class=\"dataframe\">\n",
       "  <thead>\n",
       "    <tr style=\"text-align: right;\">\n",
       "      <th></th>\n",
       "      <th>listing_id</th>\n",
       "      <th>price</th>\n",
       "      <th>nbhood_full</th>\n",
       "      <th>description</th>\n",
       "      <th>room_type</th>\n",
       "      <th>host_name</th>\n",
       "      <th>last_review</th>\n",
       "    </tr>\n",
       "  </thead>\n",
       "  <tbody>\n",
       "    <tr>\n",
       "      <th>0</th>\n",
       "      <td>2595</td>\n",
       "      <td>225 dollars</td>\n",
       "      <td>Manhattan, Midtown</td>\n",
       "      <td>Skylit Midtown Castle</td>\n",
       "      <td>Entire home/apt</td>\n",
       "      <td>Jennifer</td>\n",
       "      <td>May 21 2019</td>\n",
       "    </tr>\n",
       "    <tr>\n",
       "      <th>1</th>\n",
       "      <td>3831</td>\n",
       "      <td>89 dollars</td>\n",
       "      <td>Brooklyn, Clinton Hill</td>\n",
       "      <td>Cozy Entire Floor of Brownstone</td>\n",
       "      <td>Entire home/apt</td>\n",
       "      <td>LisaRoxanne</td>\n",
       "      <td>July 05 2019</td>\n",
       "    </tr>\n",
       "    <tr>\n",
       "      <th>2</th>\n",
       "      <td>5099</td>\n",
       "      <td>200 dollars</td>\n",
       "      <td>Manhattan, Murray Hill</td>\n",
       "      <td>Large Cozy 1 BR Apartment In Midtown East</td>\n",
       "      <td>Entire home/apt</td>\n",
       "      <td>Chris</td>\n",
       "      <td>June 22 2019</td>\n",
       "    </tr>\n",
       "    <tr>\n",
       "      <th>3</th>\n",
       "      <td>5178</td>\n",
       "      <td>79 dollars</td>\n",
       "      <td>Manhattan, Hell's Kitchen</td>\n",
       "      <td>Large Furnished Room Near B'way</td>\n",
       "      <td>private room</td>\n",
       "      <td>Shunichi</td>\n",
       "      <td>June 24 2019</td>\n",
       "    </tr>\n",
       "    <tr>\n",
       "      <th>4</th>\n",
       "      <td>5238</td>\n",
       "      <td>150 dollars</td>\n",
       "      <td>Manhattan, Chinatown</td>\n",
       "      <td>Cute &amp; Cozy Lower East Side 1 bdrm</td>\n",
       "      <td>Entire home/apt</td>\n",
       "      <td>Ben</td>\n",
       "      <td>June 09 2019</td>\n",
       "    </tr>\n",
       "  </tbody>\n",
       "</table>\n",
       "</div>"
      ],
      "text/plain": [
       "   listing_id        price                nbhood_full  \\\n",
       "0        2595  225 dollars         Manhattan, Midtown   \n",
       "1        3831   89 dollars     Brooklyn, Clinton Hill   \n",
       "2        5099  200 dollars     Manhattan, Murray Hill   \n",
       "3        5178   79 dollars  Manhattan, Hell's Kitchen   \n",
       "4        5238  150 dollars       Manhattan, Chinatown   \n",
       "\n",
       "                                 description        room_type    host_name  \\\n",
       "0                      Skylit Midtown Castle  Entire home/apt     Jennifer   \n",
       "1            Cozy Entire Floor of Brownstone  Entire home/apt  LisaRoxanne   \n",
       "2  Large Cozy 1 BR Apartment In Midtown East  Entire home/apt        Chris   \n",
       "3            Large Furnished Room Near B'way     private room     Shunichi   \n",
       "4         Cute & Cozy Lower East Side 1 bdrm  Entire home/apt          Ben   \n",
       "\n",
       "    last_review  \n",
       "0   May 21 2019  \n",
       "1  July 05 2019  \n",
       "2  June 22 2019  \n",
       "3  June 24 2019  \n",
       "4  June 09 2019  "
      ]
     },
     "execution_count": 8,
     "metadata": {},
     "output_type": "execute_result"
    }
   ],
   "source": [
    "merged_data.head()"
   ]
  },
  {
   "cell_type": "markdown",
   "id": "2fe9091d-356e-4506-8ab5-e294da3a4873",
   "metadata": {},
   "source": [
    "### 1. Determining the earliest and most recent review dates"
   ]
  },
  {
   "cell_type": "code",
   "execution_count": 9,
   "id": "67dad524-c9a0-4dc5-8a5c-76b5908ba5fa",
   "metadata": {},
   "outputs": [
    {
     "data": {
      "text/plain": [
       "dtype('O')"
      ]
     },
     "execution_count": 9,
     "metadata": {},
     "output_type": "execute_result"
    }
   ],
   "source": [
    "merged_data[\"last_review\"].dtypes"
   ]
  },
  {
   "cell_type": "code",
   "execution_count": 10,
   "id": "9ffc1fa1-2bac-43dd-a5de-f89c3676157e",
   "metadata": {},
   "outputs": [],
   "source": [
    "#Convert the 'last_review' column to datetime format\n",
    "merged_data[\"last_review\"] = pd.to_datetime(merged_data[\"last_review\"], errors='coerce')"
   ]
  },
  {
   "cell_type": "code",
   "execution_count": 11,
   "id": "c05a3584-5841-41b8-b996-920836005b58",
   "metadata": {},
   "outputs": [
    {
     "data": {
      "text/plain": [
       "dtype('<M8[ns]')"
      ]
     },
     "execution_count": 11,
     "metadata": {},
     "output_type": "execute_result"
    }
   ],
   "source": [
    "merged_data[\"last_review\"].dtypes"
   ]
  },
  {
   "cell_type": "code",
   "execution_count": 12,
   "id": "0854bef0-3acf-433e-bc95-aedd8c688d8e",
   "metadata": {},
   "outputs": [],
   "source": [
    "earliest_review = merged_data[\"last_review\"].min()"
   ]
  },
  {
   "cell_type": "markdown",
   "id": "63673ab3-f76d-42be-af29-c6891860eb25",
   "metadata": {},
   "source": [
    "The earliest reviews date back to January 1, 2019."
   ]
  },
  {
   "cell_type": "code",
   "execution_count": 45,
   "id": "5fe23c4e-f9ff-441d-8795-f22c734d34c7",
   "metadata": {},
   "outputs": [
    {
     "data": {
      "text/plain": [
       "Timestamp('2019-07-09 00:00:00')"
      ]
     },
     "execution_count": 45,
     "metadata": {},
     "output_type": "execute_result"
    }
   ],
   "source": [
    "most_recent_review = merged_data[\"last_review\"].max()\n",
    "most_recent_review"
   ]
  },
  {
   "cell_type": "markdown",
   "id": "d336b4a1-3548-4308-884b-84957774e34c",
   "metadata": {},
   "source": [
    "The most recent reviews date back to July 9, 2019."
   ]
  },
  {
   "cell_type": "markdown",
   "id": "0a189bda-0c15-4ed3-a9a5-628e47f633b0",
   "metadata": {},
   "source": [
    "### 2.Finding how many listings are private rooms"
   ]
  },
  {
   "cell_type": "code",
   "execution_count": 14,
   "id": "e0ab49f5-a250-4b58-8a27-198ba1d0aee4",
   "metadata": {},
   "outputs": [
    {
     "data": {
      "text/html": [
       "<div>\n",
       "<style scoped>\n",
       "    .dataframe tbody tr th:only-of-type {\n",
       "        vertical-align: middle;\n",
       "    }\n",
       "\n",
       "    .dataframe tbody tr th {\n",
       "        vertical-align: top;\n",
       "    }\n",
       "\n",
       "    .dataframe thead th {\n",
       "        text-align: right;\n",
       "    }\n",
       "</style>\n",
       "<table border=\"1\" class=\"dataframe\">\n",
       "  <thead>\n",
       "    <tr style=\"text-align: right;\">\n",
       "      <th></th>\n",
       "      <th>listing_id</th>\n",
       "      <th>price</th>\n",
       "      <th>nbhood_full</th>\n",
       "      <th>description</th>\n",
       "      <th>room_type</th>\n",
       "      <th>host_name</th>\n",
       "      <th>last_review</th>\n",
       "    </tr>\n",
       "  </thead>\n",
       "  <tbody>\n",
       "    <tr>\n",
       "      <th>0</th>\n",
       "      <td>2595</td>\n",
       "      <td>225 dollars</td>\n",
       "      <td>Manhattan, Midtown</td>\n",
       "      <td>Skylit Midtown Castle</td>\n",
       "      <td>Entire home/apt</td>\n",
       "      <td>Jennifer</td>\n",
       "      <td>2019-05-21</td>\n",
       "    </tr>\n",
       "    <tr>\n",
       "      <th>1</th>\n",
       "      <td>3831</td>\n",
       "      <td>89 dollars</td>\n",
       "      <td>Brooklyn, Clinton Hill</td>\n",
       "      <td>Cozy Entire Floor of Brownstone</td>\n",
       "      <td>Entire home/apt</td>\n",
       "      <td>LisaRoxanne</td>\n",
       "      <td>2019-07-05</td>\n",
       "    </tr>\n",
       "    <tr>\n",
       "      <th>2</th>\n",
       "      <td>5099</td>\n",
       "      <td>200 dollars</td>\n",
       "      <td>Manhattan, Murray Hill</td>\n",
       "      <td>Large Cozy 1 BR Apartment In Midtown East</td>\n",
       "      <td>Entire home/apt</td>\n",
       "      <td>Chris</td>\n",
       "      <td>2019-06-22</td>\n",
       "    </tr>\n",
       "    <tr>\n",
       "      <th>3</th>\n",
       "      <td>5178</td>\n",
       "      <td>79 dollars</td>\n",
       "      <td>Manhattan, Hell's Kitchen</td>\n",
       "      <td>Large Furnished Room Near B'way</td>\n",
       "      <td>private room</td>\n",
       "      <td>Shunichi</td>\n",
       "      <td>2019-06-24</td>\n",
       "    </tr>\n",
       "    <tr>\n",
       "      <th>4</th>\n",
       "      <td>5238</td>\n",
       "      <td>150 dollars</td>\n",
       "      <td>Manhattan, Chinatown</td>\n",
       "      <td>Cute &amp; Cozy Lower East Side 1 bdrm</td>\n",
       "      <td>Entire home/apt</td>\n",
       "      <td>Ben</td>\n",
       "      <td>2019-06-09</td>\n",
       "    </tr>\n",
       "    <tr>\n",
       "      <th>...</th>\n",
       "      <td>...</td>\n",
       "      <td>...</td>\n",
       "      <td>...</td>\n",
       "      <td>...</td>\n",
       "      <td>...</td>\n",
       "      <td>...</td>\n",
       "      <td>...</td>\n",
       "    </tr>\n",
       "    <tr>\n",
       "      <th>25204</th>\n",
       "      <td>36425863</td>\n",
       "      <td>129 dollars</td>\n",
       "      <td>Manhattan, Upper East Side</td>\n",
       "      <td>Lovely Privet Bedroom with Privet Restroom</td>\n",
       "      <td>PRIVATE ROOM</td>\n",
       "      <td>Rusaa</td>\n",
       "      <td>2019-07-07</td>\n",
       "    </tr>\n",
       "    <tr>\n",
       "      <th>25205</th>\n",
       "      <td>36427429</td>\n",
       "      <td>45 dollars</td>\n",
       "      <td>Queens, Flushing</td>\n",
       "      <td>No.2 with queen size bed</td>\n",
       "      <td>PRIVATE ROOM</td>\n",
       "      <td>H Ai</td>\n",
       "      <td>2019-07-07</td>\n",
       "    </tr>\n",
       "    <tr>\n",
       "      <th>25206</th>\n",
       "      <td>36438336</td>\n",
       "      <td>235 dollars</td>\n",
       "      <td>Staten Island, Great Kills</td>\n",
       "      <td>Seas The Moment</td>\n",
       "      <td>Private room</td>\n",
       "      <td>Ben</td>\n",
       "      <td>2019-07-07</td>\n",
       "    </tr>\n",
       "    <tr>\n",
       "      <th>25207</th>\n",
       "      <td>36442252</td>\n",
       "      <td>100 dollars</td>\n",
       "      <td>Bronx, Mott Haven</td>\n",
       "      <td>1B-1B apartment near by Metro</td>\n",
       "      <td>Entire home/apt</td>\n",
       "      <td>Blaine</td>\n",
       "      <td>2019-07-07</td>\n",
       "    </tr>\n",
       "    <tr>\n",
       "      <th>25208</th>\n",
       "      <td>36455809</td>\n",
       "      <td>30 dollars</td>\n",
       "      <td>Brooklyn, Bushwick</td>\n",
       "      <td>Cozy Private Room in Bushwick, Brooklyn</td>\n",
       "      <td>Private room</td>\n",
       "      <td>Christine</td>\n",
       "      <td>2019-07-08</td>\n",
       "    </tr>\n",
       "  </tbody>\n",
       "</table>\n",
       "<p>25209 rows × 7 columns</p>\n",
       "</div>"
      ],
      "text/plain": [
       "       listing_id        price                 nbhood_full  \\\n",
       "0            2595  225 dollars          Manhattan, Midtown   \n",
       "1            3831   89 dollars      Brooklyn, Clinton Hill   \n",
       "2            5099  200 dollars      Manhattan, Murray Hill   \n",
       "3            5178   79 dollars   Manhattan, Hell's Kitchen   \n",
       "4            5238  150 dollars        Manhattan, Chinatown   \n",
       "...           ...          ...                         ...   \n",
       "25204    36425863  129 dollars  Manhattan, Upper East Side   \n",
       "25205    36427429   45 dollars            Queens, Flushing   \n",
       "25206    36438336  235 dollars  Staten Island, Great Kills   \n",
       "25207    36442252  100 dollars           Bronx, Mott Haven   \n",
       "25208    36455809   30 dollars          Brooklyn, Bushwick   \n",
       "\n",
       "                                      description        room_type  \\\n",
       "0                           Skylit Midtown Castle  Entire home/apt   \n",
       "1                 Cozy Entire Floor of Brownstone  Entire home/apt   \n",
       "2       Large Cozy 1 BR Apartment In Midtown East  Entire home/apt   \n",
       "3                 Large Furnished Room Near B'way     private room   \n",
       "4              Cute & Cozy Lower East Side 1 bdrm  Entire home/apt   \n",
       "...                                           ...              ...   \n",
       "25204  Lovely Privet Bedroom with Privet Restroom     PRIVATE ROOM   \n",
       "25205                    No.2 with queen size bed     PRIVATE ROOM   \n",
       "25206                             Seas The Moment     Private room   \n",
       "25207               1B-1B apartment near by Metro  Entire home/apt   \n",
       "25208     Cozy Private Room in Bushwick, Brooklyn     Private room   \n",
       "\n",
       "         host_name last_review  \n",
       "0         Jennifer  2019-05-21  \n",
       "1      LisaRoxanne  2019-07-05  \n",
       "2            Chris  2019-06-22  \n",
       "3         Shunichi  2019-06-24  \n",
       "4              Ben  2019-06-09  \n",
       "...            ...         ...  \n",
       "25204        Rusaa  2019-07-07  \n",
       "25205         H Ai  2019-07-07  \n",
       "25206          Ben  2019-07-07  \n",
       "25207       Blaine  2019-07-07  \n",
       "25208    Christine  2019-07-08  \n",
       "\n",
       "[25209 rows x 7 columns]"
      ]
     },
     "execution_count": 14,
     "metadata": {},
     "output_type": "execute_result"
    }
   ],
   "source": [
    "merged_data"
   ]
  },
  {
   "cell_type": "code",
   "execution_count": 15,
   "id": "1b38b7a7-0af8-497b-a07d-63c11a8b8e27",
   "metadata": {},
   "outputs": [
    {
     "data": {
      "text/plain": [
       "array(['Entire home/apt', 'private room', 'Private room',\n",
       "       'entire home/apt', 'PRIVATE ROOM', 'shared room',\n",
       "       'ENTIRE HOME/APT', 'Shared room', 'SHARED ROOM'], dtype=object)"
      ]
     },
     "execution_count": 15,
     "metadata": {},
     "output_type": "execute_result"
    }
   ],
   "source": [
    "# Display all rooms types values\n",
    "merged_data[\"room_type\"].unique()"
   ]
  },
  {
   "cell_type": "markdown",
   "id": "36018e8a-af38-431b-b284-0bb20f416cca",
   "metadata": {},
   "source": [
    "First, we need to clean the data to filter out only private rooms."
   ]
  },
  {
   "cell_type": "code",
   "execution_count": 16,
   "id": "fe65b196-b938-46ea-9d20-b6064aa72dd8",
   "metadata": {},
   "outputs": [
    {
     "data": {
      "text/plain": [
       "array(['Entire home/apt', 'Private room', 'Shared room'], dtype=object)"
      ]
     },
     "execution_count": 16,
     "metadata": {},
     "output_type": "execute_result"
    }
   ],
   "source": [
    "#We clean the data \n",
    "merged_data[\"room_type\"] = merged_data[\"room_type\"].str.lower().str.capitalize()\n",
    "#Display the result\n",
    "merged_data[\"room_type\"].unique()"
   ]
  },
  {
   "cell_type": "code",
   "execution_count": 17,
   "id": "5130f847-1aec-4fcf-827c-167cb79cf222",
   "metadata": {},
   "outputs": [],
   "source": [
    "#Display the total of Private room\n",
    "privates_rooms_listings = (merged_data[\"room_type\"] == \"Private room\").sum()"
   ]
  },
  {
   "cell_type": "code",
   "execution_count": 18,
   "id": "13912bca-bf29-4c8b-9ec5-98adbac5f560",
   "metadata": {},
   "outputs": [
    {
     "data": {
      "text/plain": [
       "11356"
      ]
     },
     "execution_count": 18,
     "metadata": {},
     "output_type": "execute_result"
    }
   ],
   "source": [
    "privates_rooms_listings"
   ]
  },
  {
   "cell_type": "code",
   "execution_count": 19,
   "id": "158d9d8f-8d5b-4b89-8e65-dd053ecc2287",
   "metadata": {},
   "outputs": [],
   "source": [
    "#Display the total of rooms \n",
    "total_rooms_listings = (merged_data[\"room_type\"] == \"Private room\").value_counts().sum()"
   ]
  },
  {
   "cell_type": "code",
   "execution_count": 20,
   "id": "c7f89790-fccd-4501-9e2b-d6cdc53a1c39",
   "metadata": {},
   "outputs": [
    {
     "data": {
      "text/plain": [
       "25209"
      ]
     },
     "execution_count": 20,
     "metadata": {},
     "output_type": "execute_result"
    }
   ],
   "source": [
    "total_rooms_listings"
   ]
  },
  {
   "cell_type": "markdown",
   "id": "ec11cd6f-3fc1-43e5-8fc1-9cab5bd48f85",
   "metadata": {},
   "source": [
    "We plot a graph to improve visualization."
   ]
  },
  {
   "cell_type": "code",
   "execution_count": 21,
   "id": "df5932f1-146c-4598-81c2-8e27fb8f47ec",
   "metadata": {},
   "outputs": [
    {
     "data": {
      "image/png": "[encoded data removed]",
      "text/plain": [
       "<Figure size 640x480 with 1 Axes>"
      ]
     },
     "metadata": {},
     "output_type": "display_data"
    }
   ],
   "source": [
    "# Count occurrences of each room type\n",
    "room_type_counts = merged_data[\"room_type\"].value_counts()\n",
    "\n",
    "# Calculate percentage of each room type\n",
    "total_listings = room_type_counts.sum()\n",
    "room_type_percentages = (room_type_counts / total_listings) * 100\n",
    "\n",
    "# Create the bar plot\n",
    "plt.bar(room_type_counts.index, room_type_counts.values)\n",
    "\n",
    "# Add labels and a title in English\n",
    "plt.xlabel('Room Type')\n",
    "plt.ylabel('Number of Listings')\n",
    "plt.title('Number of Listings by Room Type')\n",
    "\n",
    "# Display percentages above each bar\n",
    "for i, value in enumerate(room_type_counts.values):\n",
    "    percentage = room_type_percentages.iloc[i]\n",
    "    plt.text(i, value + 5, f'{percentage:.1f}%', ha='center')\n",
    "\n",
    "# Adjust x-axis labels to avoid overlap\n",
    "plt.xticks(rotation=45)\n",
    "\n",
    "# Show the plot\n",
    "plt.show()"
   ]
  },
  {
   "cell_type": "code",
   "execution_count": 22,
   "id": "a0c81cd7-8bdd-42ff-a928-a319fb073964",
   "metadata": {},
   "outputs": [
    {
     "name": "stdout",
     "output_type": "stream",
     "text": [
      "There are 11356 private rooms in total in the dataset.\n"
     ]
    }
   ],
   "source": [
    "print(f\"There are {privates_rooms_listings} private rooms in total in the dataset.\")"
   ]
  },
  {
   "cell_type": "markdown",
   "id": "235cacba-87de-4b42-9471-d8f6f45715e6",
   "metadata": {},
   "source": [
    "### 3. Finding the average price of listings"
   ]
  },
  {
   "cell_type": "code",
   "execution_count": 24,
   "id": "f47a7135-e84e-4ac0-8287-992aeef11b5a",
   "metadata": {},
   "outputs": [
    {
     "data": {
      "text/plain": [
       "<bound method Series.unique of 0        225 dollars\n",
       "1         89 dollars\n",
       "2        200 dollars\n",
       "3         79 dollars\n",
       "4        150 dollars\n",
       "            ...     \n",
       "25204    129 dollars\n",
       "25205     45 dollars\n",
       "25206    235 dollars\n",
       "25207    100 dollars\n",
       "25208     30 dollars\n",
       "Name: price, Length: 25209, dtype: object>"
      ]
     },
     "execution_count": 24,
     "metadata": {},
     "output_type": "execute_result"
    }
   ],
   "source": [
    "merged_data[\"price\"].unique"
   ]
  },
  {
   "cell_type": "markdown",
   "id": "f12fbb46-f3d8-44a5-aecd-7f51b29216ca",
   "metadata": {},
   "source": [
    "You'll need to convert the price data to float values to find their mean."
   ]
  },
  {
   "cell_type": "code",
   "execution_count": 27,
   "id": "4d12fa4a-9beb-41ac-a6f6-299d5f327322",
   "metadata": {},
   "outputs": [],
   "source": [
    "#Extract numeric part and convert to integer\n",
    "merged_data[\"new_price\"] = merged_data[\"price\"].str.extract(r'(\\d+)').astype(int)"
   ]
  },
  {
   "cell_type": "code",
   "execution_count": 32,
   "id": "821d8b5f-2a62-42ca-aaaf-3b92573c68b7",
   "metadata": {},
   "outputs": [],
   "source": [
    "#Delete \n",
    "merged_data.drop('price', axis=1, inplace=True)"
   ]
  },
  {
   "cell_type": "code",
   "execution_count": null,
   "id": "d8123fa4-9902-4111-a2ea-b7a4ebae6045",
   "metadata": {},
   "outputs": [],
   "source": [
    "#Rename the new row\n",
    "merged_data.rename(columns={'new_price': 'price'}, inplace=True)"
   ]
  },
  {
   "cell_type": "code",
   "execution_count": 33,
   "id": "886706b7-ed53-4ba2-96bf-d50572912ec6",
   "metadata": {},
   "outputs": [
    {
     "data": {
      "text/plain": [
       "<bound method Series.unique of 0        225\n",
       "1         89\n",
       "2        200\n",
       "3         79\n",
       "4        150\n",
       "        ... \n",
       "25204    129\n",
       "25205     45\n",
       "25206    235\n",
       "25207    100\n",
       "25208     30\n",
       "Name: price, Length: 25209, dtype: int64>"
      ]
     },
     "execution_count": 33,
     "metadata": {},
     "output_type": "execute_result"
    }
   ],
   "source": [
    "merged_data[\"price\"].unique"
   ]
  },
  {
   "cell_type": "markdown",
   "id": "b60e9eea-0571-44f6-8a55-bc8607d5bde5",
   "metadata": {},
   "source": [
    "Now we have a numeric columns "
   ]
  },
  {
   "cell_type": "code",
   "execution_count": 41,
   "id": "3711baf9-d49a-44d2-bfe4-4b3cda33329e",
   "metadata": {},
   "outputs": [],
   "source": [
    "# Calculate the mean price rounded to 2 digits\n",
    "mean_price = round(merged_data[\"price\"].mean(), 2)"
   ]
  },
  {
   "cell_type": "code",
   "execution_count": 42,
   "id": "3030155c-3d61-4ee7-aed1-30c93861885c",
   "metadata": {},
   "outputs": [
    {
     "name": "stdout",
     "output_type": "stream",
     "text": [
      "The mean price for a night is 141.78 $\n"
     ]
    }
   ],
   "source": [
    "print(f\"The mean price for a night is {mean_price} $\")"
   ]
  },
  {
   "cell_type": "markdown",
   "id": "24bb92fb-4e0f-488e-ab02-8e974803ed02",
   "metadata": {},
   "source": [
    "4. ### Creating a DataFrame with the four solution values"
   ]
  },
  {
   "cell_type": "markdown",
   "id": "047071f4-be5f-4baf-b35f-c8cfc98d8367",
   "metadata": {},
   "source": [
    "Combine the insights gathered into one DataFrame called review_dates containing four columns and one row of data, and round the avg_price to two decimal places."
   ]
  },
  {
   "cell_type": "code",
   "execution_count": 47,
   "id": "a99a2bc1-eda6-481d-b1e5-25a4a82a198e",
   "metadata": {},
   "outputs": [],
   "source": [
    "data = {\n",
    "    'Earliest review':earliest_review,\n",
    "    'Most recent review':most_recent_review,\n",
    "    'Privates rooms listings':privates_rooms_listings,\n",
    "    'Mean price':mean_price,    \n",
    "}\n",
    "review_dates = pd.DataFrame(data, index=[0])"
   ]
  },
  {
   "cell_type": "code",
   "execution_count": 48,
   "id": "4a202806-1f63-43f2-b87f-56d9291bf8e6",
   "metadata": {},
   "outputs": [
    {
     "data": {
      "text/html": [
       "<div>\n",
       "<style scoped>\n",
       "    .dataframe tbody tr th:only-of-type {\n",
       "        vertical-align: middle;\n",
       "    }\n",
       "\n",
       "    .dataframe tbody tr th {\n",
       "        vertical-align: top;\n",
       "    }\n",
       "\n",
       "    .dataframe thead th {\n",
       "        text-align: right;\n",
       "    }\n",
       "</style>\n",
       "<table border=\"1\" class=\"dataframe\">\n",
       "  <thead>\n",
       "    <tr style=\"text-align: right;\">\n",
       "      <th></th>\n",
       "      <th>Earliest review</th>\n",
       "      <th>Most recent review</th>\n",
       "      <th>Privates rooms listings</th>\n",
       "      <th>Mean price</th>\n",
       "    </tr>\n",
       "  </thead>\n",
       "  <tbody>\n",
       "    <tr>\n",
       "      <th>0</th>\n",
       "      <td>2019-01-01</td>\n",
       "      <td>2019-07-09</td>\n",
       "      <td>11356</td>\n",
       "      <td>141.78</td>\n",
       "    </tr>\n",
       "  </tbody>\n",
       "</table>\n",
       "</div>"
      ],
      "text/plain": [
       "  Earliest review Most recent review  Privates rooms listings  Mean price\n",
       "0      2019-01-01         2019-07-09                    11356      141.78"
      ]
     },
     "execution_count": 48,
     "metadata": {},
     "output_type": "execute_result"
    }
   ],
   "source": [
    "review_dates"
   ]
  }
 ],
 "metadata": {
  "kernelspec": {
   "display_name": "Python 3 (ipykernel)",
   "language": "python",
   "name": "python3"
  },
  "language_info": {
   "codemirror_mode": {
    "name": "ipython",
    "version": 3
   },
   "file_extension": ".py",
   "mimetype": "text/x-python",
   "name": "python",
   "nbconvert_exporter": "python",
   "pygments_lexer": "ipython3",
   "version": "3.12.3"
  }
 },
 "nbformat": 4,
 "nbformat_minor": 5
}
