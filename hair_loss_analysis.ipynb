{
 "cells": [
  {
   "cell_type": "markdown",
   "id": "b1bd2192-ba0f-4409-9ca5-a53244094242",
   "metadata": {},
   "source": [
    "# <div style=\"text-align:center; border-radius:30px 30px; padding:13px; color:white; margin:0; font-size:130%; font-family:Pacifico; background-color:#3170af; overflow:hidden\"><b>Decoding Hair Loss: A Descriptive Analysis</b></div>"
   ]
  },
  {
   "cell_type": "markdown",
   "id": "3fafcd0f-1d98-4817-881e-70e66f7df74f",
   "metadata": {},
   "source": [
    "<div style=\"padding: 20px; border-color: #c77220; border-radius: 10px; box-shadow: 0 2px 4px 0 rgba(0, 0, 0, 0.1); border: 2px solid #c77220;\">\n",
    "    <h2 style=\"font-size: 24px; font-family: 'Arial'; font-weight: bold;\">Executive Summary</h2>\n",
    "    <p style=\"font-size: 20px; font-family: 'Arial'; line-height: 1.5em;\">\n",
    "        This analysis explores the factors contributing to hair loss based on descriptive statistics from the dataset. Key findings and recommendations are summarized below:\n",
    "    </p>\n",
    "    <ul style=\"font-size: 20px; font-family: 'Arial'; line-height: 1.5em;\">\n",
    "        <li><strong>Average Age:</strong> The average age of individuals experiencing hair loss is approximately <strong>34.19 years</strong>. The age distribution reveals that individuals between the ages of <strong>26 and 42</strong> are more likely to experience hair loss, with a range from <strong>18 to 50 years old</strong>.</li>\n",
    "        <li><strong>Medical Conditions:</strong> The most common medical conditions linked to hair loss include <strong>alopecia areata</strong>, <strong>psoriasis</strong>, and <strong>thyroid problems</strong>, which were found to affect a significant number of individuals in the dataset. These conditions suggest that underlying medical factors may play a critical role in hair loss.</li>\n",
    "        <li><strong>Nutritional Deficiencies:</strong> Nutritional deficiencies, particularly in <strong>zinc</strong>, <strong>vitamin D</strong>, and <strong>biotin</strong>, are commonly observed among individuals with hair loss. These deficiencies may contribute to the condition, indicating the need for improved nutrition to support hair health.</li>\n",
    "    </ul>\n",
    "    <p style=\"font-size: 20px; font-family: 'Arial'; line-height: 1.5em;\">\n",
    "        Based on these findings, we recommend focusing on preventive strategies, such as enhancing diet to address nutritional deficiencies, managing stress levels, and seeking medical consultations for individuals with underlying conditions like thyroid problems or alopecia. These steps could help mitigate the risk of hair loss and promote healthier hair growth.\n",
    "    </p>\n",
    "</div>"
   ]
  },
  {
   "cell_type": "markdown",
   "id": "feb14810-450f-4806-beee-114b5b7c014e",
   "metadata": {},
   "source": [
    "## <div style=\"text-align:center; border-radius:30px 30px; padding:13px; color:white; margin:0; font-size:130%; font-family:Pacifico; background-color:#3170af; overflow:hidden\"><b>Project Strucure</b></div>"
   ]
  },
  {
   "cell_type": "markdown",
   "id": "4737fe76-b6f9-4d47-b238-afaa313287f0",
   "metadata": {},
   "source": [
    "- 1. Data Preprocessing: Cleaning the dataset, handling missing values, and preparing data for analysis.\n",
    "- 2. Descriptive Statistics: Analyzing key variables such as age, medical conditions, and nutritional deficiencies.\n",
    "- 3. Results Interpretation: Drawing insights from the descriptive statistics.\n",
    "- 4. Recommendations: Based on the analysis, suggesting potential actions and recommendations."
   ]
  },
  {
   "cell_type": "markdown",
   "id": "192221ee-a657-4444-8baf-c540beeba179",
   "metadata": {},
   "source": [
    "## <div style=\"text-align:center; border-radius:30px 30px; padding:13px; color:white; margin:0; font-size:130%; font-family:Pacifico; background-color:#3170af; overflow:hidden\"><b>Data Preprocessing</b></div>"
   ]
  },
  {
   "cell_type": "code",
   "execution_count": 1,
   "id": "7d171c08-c985-4adc-8d5e-bc8b45005882",
   "metadata": {},
   "outputs": [
    {
     "data": {
      "text/html": [
       "<div>\n",
       "<style scoped>\n",
       "    .dataframe tbody tr th:only-of-type {\n",
       "        vertical-align: middle;\n",
       "    }\n",
       "\n",
       "    .dataframe tbody tr th {\n",
       "        vertical-align: top;\n",
       "    }\n",
       "\n",
       "    .dataframe thead th {\n",
       "        text-align: right;\n",
       "    }\n",
       "</style>\n",
       "<table border=\"1\" class=\"dataframe\">\n",
       "  <thead>\n",
       "    <tr style=\"text-align: right;\">\n",
       "      <th></th>\n",
       "      <th>Id</th>\n",
       "      <th>Genetics</th>\n",
       "      <th>Hormonal Changes</th>\n",
       "      <th>Medical Conditions</th>\n",
       "      <th>Medications &amp; Treatments</th>\n",
       "      <th>Nutritional Deficiencies</th>\n",
       "      <th>Stress</th>\n",
       "      <th>Age</th>\n",
       "      <th>Poor Hair Care Habits</th>\n",
       "      <th>Environmental Factors</th>\n",
       "      <th>Smoking</th>\n",
       "      <th>Weight Loss</th>\n",
       "      <th>Hair Loss</th>\n",
       "    </tr>\n",
       "  </thead>\n",
       "  <tbody>\n",
       "    <tr>\n",
       "      <th>0</th>\n",
       "      <td>133992</td>\n",
       "      <td>Yes</td>\n",
       "      <td>No</td>\n",
       "      <td>No Data</td>\n",
       "      <td>No Data</td>\n",
       "      <td>Magnesium deficiency</td>\n",
       "      <td>Moderate</td>\n",
       "      <td>19</td>\n",
       "      <td>Yes</td>\n",
       "      <td>Yes</td>\n",
       "      <td>No</td>\n",
       "      <td>No</td>\n",
       "      <td>0</td>\n",
       "    </tr>\n",
       "    <tr>\n",
       "      <th>1</th>\n",
       "      <td>148393</td>\n",
       "      <td>No</td>\n",
       "      <td>No</td>\n",
       "      <td>Eczema</td>\n",
       "      <td>Antibiotics</td>\n",
       "      <td>Magnesium deficiency</td>\n",
       "      <td>High</td>\n",
       "      <td>43</td>\n",
       "      <td>Yes</td>\n",
       "      <td>Yes</td>\n",
       "      <td>No</td>\n",
       "      <td>No</td>\n",
       "      <td>0</td>\n",
       "    </tr>\n",
       "    <tr>\n",
       "      <th>2</th>\n",
       "      <td>155074</td>\n",
       "      <td>No</td>\n",
       "      <td>No</td>\n",
       "      <td>Dermatosis</td>\n",
       "      <td>Antifungal Cream</td>\n",
       "      <td>Protein deficiency</td>\n",
       "      <td>Moderate</td>\n",
       "      <td>26</td>\n",
       "      <td>Yes</td>\n",
       "      <td>Yes</td>\n",
       "      <td>No</td>\n",
       "      <td>Yes</td>\n",
       "      <td>0</td>\n",
       "    </tr>\n",
       "    <tr>\n",
       "      <th>3</th>\n",
       "      <td>118261</td>\n",
       "      <td>Yes</td>\n",
       "      <td>Yes</td>\n",
       "      <td>Ringworm</td>\n",
       "      <td>Antibiotics</td>\n",
       "      <td>Biotin Deficiency</td>\n",
       "      <td>Moderate</td>\n",
       "      <td>46</td>\n",
       "      <td>Yes</td>\n",
       "      <td>Yes</td>\n",
       "      <td>No</td>\n",
       "      <td>No</td>\n",
       "      <td>0</td>\n",
       "    </tr>\n",
       "    <tr>\n",
       "      <th>4</th>\n",
       "      <td>111915</td>\n",
       "      <td>No</td>\n",
       "      <td>No</td>\n",
       "      <td>Psoriasis</td>\n",
       "      <td>Accutane</td>\n",
       "      <td>Iron deficiency</td>\n",
       "      <td>Moderate</td>\n",
       "      <td>30</td>\n",
       "      <td>No</td>\n",
       "      <td>Yes</td>\n",
       "      <td>Yes</td>\n",
       "      <td>No</td>\n",
       "      <td>1</td>\n",
       "    </tr>\n",
       "  </tbody>\n",
       "</table>\n",
       "</div>"
      ],
      "text/plain": [
       "       Id Genetics Hormonal Changes Medical Conditions  \\\n",
       "0  133992      Yes               No            No Data   \n",
       "1  148393       No               No             Eczema   \n",
       "2  155074       No               No         Dermatosis   \n",
       "3  118261      Yes              Yes           Ringworm   \n",
       "4  111915       No               No          Psoriasis   \n",
       "\n",
       "  Medications & Treatments Nutritional Deficiencies     Stress  Age  \\\n",
       "0                  No Data      Magnesium deficiency  Moderate   19   \n",
       "1              Antibiotics      Magnesium deficiency      High   43   \n",
       "2         Antifungal Cream        Protein deficiency  Moderate   26   \n",
       "3              Antibiotics        Biotin Deficiency   Moderate   46   \n",
       "4                 Accutane           Iron deficiency  Moderate   30   \n",
       "\n",
       "  Poor Hair Care Habits  Environmental Factors Smoking Weight Loss   Hair Loss  \n",
       "0                    Yes                   Yes      No           No          0  \n",
       "1                    Yes                   Yes      No           No          0  \n",
       "2                    Yes                   Yes      No          Yes          0  \n",
       "3                    Yes                   Yes      No           No          0  \n",
       "4                     No                   Yes     Yes           No          1  "
      ]
     },
     "execution_count": 1,
     "metadata": {},
     "output_type": "execute_result"
    }
   ],
   "source": [
    "import pandas as pd\n",
    "\n",
    "# Load the dataset\n",
    "data = pd.read_csv('Predict_Hair_Fall.csv')\n",
    "\n",
    "# Inspect the first few rows of the dataset\n",
    "data.head()\n"
   ]
  },
  {
   "cell_type": "code",
   "execution_count": 2,
   "id": "3d1ec517-7fed-401d-bf52-a89bb05ff064",
   "metadata": {},
   "outputs": [
    {
     "data": {
      "text/plain": [
       "Id                           0\n",
       "Genetics                     0\n",
       "Hormonal Changes             0\n",
       "Medical Conditions           0\n",
       "Medications & Treatments     0\n",
       "Nutritional Deficiencies     0\n",
       "Stress                       0\n",
       "Age                          0\n",
       "Poor Hair Care Habits        0\n",
       "Environmental Factors        0\n",
       "Smoking                      0\n",
       "Weight Loss                  0\n",
       "Hair Loss                    0\n",
       "dtype: int64"
      ]
     },
     "execution_count": 2,
     "metadata": {},
     "output_type": "execute_result"
    }
   ],
   "source": [
    "# Check for missing values in the dataset\n",
    "data.isnull().sum()"
   ]
  },
  {
   "cell_type": "code",
   "execution_count": 4,
   "id": "381b450c-3d94-41fe-bd5f-e5f33a45fc8b",
   "metadata": {},
   "outputs": [],
   "source": [
    "# Convert categorical variables to numeric for analysis\n",
    "data['Genetics'] = data['Genetics'].map({'Yes': 1, 'No': 0})\n",
    "data['Hormonal Changes'] = data['Hormonal Changes'].map({'Yes': 1, 'No': 0})\n",
    "data['Stress'] = data['Stress'].map({'Low': 0, 'Moderate': 1, 'High': 2})\n",
    "data['Hair Loss'] = data['Hair Loss'].map({'Yes': 1, 'No': 0})"
   ]
  },
  {
   "cell_type": "code",
   "execution_count": 5,
   "id": "490c3781-e5cb-4448-946c-4b861c1974e4",
   "metadata": {},
   "outputs": [
    {
     "data": {
      "text/html": [
       "<div>\n",
       "<style scoped>\n",
       "    .dataframe tbody tr th:only-of-type {\n",
       "        vertical-align: middle;\n",
       "    }\n",
       "\n",
       "    .dataframe tbody tr th {\n",
       "        vertical-align: top;\n",
       "    }\n",
       "\n",
       "    .dataframe thead th {\n",
       "        text-align: right;\n",
       "    }\n",
       "</style>\n",
       "<table border=\"1\" class=\"dataframe\">\n",
       "  <thead>\n",
       "    <tr style=\"text-align: right;\">\n",
       "      <th></th>\n",
       "      <th>Id</th>\n",
       "      <th>Genetics</th>\n",
       "      <th>Hormonal Changes</th>\n",
       "      <th>Medical Conditions</th>\n",
       "      <th>Medications &amp; Treatments</th>\n",
       "      <th>Nutritional Deficiencies</th>\n",
       "      <th>Stress</th>\n",
       "      <th>Age</th>\n",
       "      <th>Poor Hair Care Habits</th>\n",
       "      <th>Environmental Factors</th>\n",
       "      <th>Smoking</th>\n",
       "      <th>Weight Loss</th>\n",
       "      <th>Hair Loss</th>\n",
       "    </tr>\n",
       "  </thead>\n",
       "  <tbody>\n",
       "    <tr>\n",
       "      <th>0</th>\n",
       "      <td>133992</td>\n",
       "      <td>1</td>\n",
       "      <td>0</td>\n",
       "      <td>No Data</td>\n",
       "      <td>No Data</td>\n",
       "      <td>Magnesium deficiency</td>\n",
       "      <td>1</td>\n",
       "      <td>19</td>\n",
       "      <td>Yes</td>\n",
       "      <td>Yes</td>\n",
       "      <td>No</td>\n",
       "      <td>No</td>\n",
       "      <td>NaN</td>\n",
       "    </tr>\n",
       "    <tr>\n",
       "      <th>1</th>\n",
       "      <td>148393</td>\n",
       "      <td>0</td>\n",
       "      <td>0</td>\n",
       "      <td>Eczema</td>\n",
       "      <td>Antibiotics</td>\n",
       "      <td>Magnesium deficiency</td>\n",
       "      <td>2</td>\n",
       "      <td>43</td>\n",
       "      <td>Yes</td>\n",
       "      <td>Yes</td>\n",
       "      <td>No</td>\n",
       "      <td>No</td>\n",
       "      <td>NaN</td>\n",
       "    </tr>\n",
       "    <tr>\n",
       "      <th>2</th>\n",
       "      <td>155074</td>\n",
       "      <td>0</td>\n",
       "      <td>0</td>\n",
       "      <td>Dermatosis</td>\n",
       "      <td>Antifungal Cream</td>\n",
       "      <td>Protein deficiency</td>\n",
       "      <td>1</td>\n",
       "      <td>26</td>\n",
       "      <td>Yes</td>\n",
       "      <td>Yes</td>\n",
       "      <td>No</td>\n",
       "      <td>Yes</td>\n",
       "      <td>NaN</td>\n",
       "    </tr>\n",
       "    <tr>\n",
       "      <th>3</th>\n",
       "      <td>118261</td>\n",
       "      <td>1</td>\n",
       "      <td>1</td>\n",
       "      <td>Ringworm</td>\n",
       "      <td>Antibiotics</td>\n",
       "      <td>Biotin Deficiency</td>\n",
       "      <td>1</td>\n",
       "      <td>46</td>\n",
       "      <td>Yes</td>\n",
       "      <td>Yes</td>\n",
       "      <td>No</td>\n",
       "      <td>No</td>\n",
       "      <td>NaN</td>\n",
       "    </tr>\n",
       "    <tr>\n",
       "      <th>4</th>\n",
       "      <td>111915</td>\n",
       "      <td>0</td>\n",
       "      <td>0</td>\n",
       "      <td>Psoriasis</td>\n",
       "      <td>Accutane</td>\n",
       "      <td>Iron deficiency</td>\n",
       "      <td>1</td>\n",
       "      <td>30</td>\n",
       "      <td>No</td>\n",
       "      <td>Yes</td>\n",
       "      <td>Yes</td>\n",
       "      <td>No</td>\n",
       "      <td>NaN</td>\n",
       "    </tr>\n",
       "  </tbody>\n",
       "</table>\n",
       "</div>"
      ],
      "text/plain": [
       "       Id  Genetics  Hormonal Changes Medical Conditions  \\\n",
       "0  133992         1                 0            No Data   \n",
       "1  148393         0                 0             Eczema   \n",
       "2  155074         0                 0         Dermatosis   \n",
       "3  118261         1                 1           Ringworm   \n",
       "4  111915         0                 0          Psoriasis   \n",
       "\n",
       "  Medications & Treatments Nutritional Deficiencies   Stress  Age  \\\n",
       "0                  No Data      Magnesium deficiency       1   19   \n",
       "1              Antibiotics      Magnesium deficiency       2   43   \n",
       "2         Antifungal Cream        Protein deficiency       1   26   \n",
       "3              Antibiotics        Biotin Deficiency        1   46   \n",
       "4                 Accutane           Iron deficiency       1   30   \n",
       "\n",
       "  Poor Hair Care Habits  Environmental Factors Smoking Weight Loss   Hair Loss  \n",
       "0                    Yes                   Yes      No           No        NaN  \n",
       "1                    Yes                   Yes      No           No        NaN  \n",
       "2                    Yes                   Yes      No          Yes        NaN  \n",
       "3                    Yes                   Yes      No           No        NaN  \n",
       "4                     No                   Yes     Yes           No        NaN  "
      ]
     },
     "execution_count": 5,
     "metadata": {},
     "output_type": "execute_result"
    }
   ],
   "source": [
    "data.head()"
   ]
  },
  {
   "cell_type": "markdown",
   "id": "11e6ef17-6777-4e0f-8db2-b1618795f0b4",
   "metadata": {},
   "source": [
    "## <div style=\"text-align:center; border-radius:30px 30px; padding:13px; color:white; margin:0; font-size:130%; font-family:Pacifico; background-color:#3170af; overflow:hidden\"><b>Descriptive Statistics</b></div>"
   ]
  },
  {
   "cell_type": "markdown",
   "id": "69a32ba2-7794-48c7-b9fc-cecb92ca2198",
   "metadata": {},
   "source": [
    "1. What is the average age? What is the age distribution?\n",
    "To answer this question, we will calculate the average age and the distribution of ages in the dataset."
   ]
  },
  {
   "cell_type": "code",
   "execution_count": 7,
   "id": "1ff972d4-a086-4333-b184-fa408d2919fe",
   "metadata": {},
   "outputs": [
    {
     "name": "stdout",
     "output_type": "stream",
     "text": [
      "Average Age: 34.188188188188185\n",
      "Age Distribution:\n",
      "count    999.000000\n",
      "mean      34.188188\n",
      "std        9.377980\n",
      "min       18.000000\n",
      "25%       26.000000\n",
      "50%       34.000000\n",
      "75%       42.000000\n",
      "max       50.000000\n",
      "Name: Age, dtype: float64\n"
     ]
    }
   ],
   "source": [
    "# Calculate the average age\n",
    "average_age = data['Age'].mean()\n",
    "\n",
    "# Get the age distribution (summary statistics)\n",
    "age_distribution = data['Age'].describe()\n",
    "\n",
    "# Display results\n",
    "print(f\"Average Age: {average_age}\")\n",
    "print(f\"Age Distribution:\\n{age_distribution}\")"
   ]
  },
  {
   "cell_type": "markdown",
   "id": "bd9aafa1-cac9-4316-a65b-e9c18aceb64c",
   "metadata": {},
   "source": [
    "2. Which medical conditions are the most common? How often do they occur?\n",
    "We will analyze the medical conditions column to identify which conditions are the most frequent among participants."
   ]
  },
  {
   "cell_type": "code",
   "execution_count": 9,
   "id": "6b92b211-d68a-4104-9db4-be67902323f6",
   "metadata": {},
   "outputs": [
    {
     "name": "stdout",
     "output_type": "stream",
     "text": [
      "Most Common Medical Conditions:\n",
      "Medical Conditions\n",
      "No Data                  110\n",
      "Alopecia Areata          107\n",
      "Psoriasis                100\n",
      "Thyroid Problems          99\n",
      "Androgenetic Alopecia     98\n",
      "Dermatitis                92\n",
      "Dermatosis                88\n",
      "Seborrheic Dermatitis     88\n",
      "Scalp Infection           79\n",
      "Eczema                    69\n",
      "Ringworm                  69\n",
      "Name: count, dtype: int64\n"
     ]
    }
   ],
   "source": [
    "# Count occurrences of medical conditions\n",
    "medical_conditions = data['Medical Conditions'].value_counts()\n",
    "\n",
    "# Display results\n",
    "print(f\"Most Common Medical Conditions:\\n{medical_conditions}\")"
   ]
  },
  {
   "cell_type": "code",
   "execution_count": null,
   "id": "bf777a78-8960-4035-8873-eb934d8627ad",
   "metadata": {},
   "outputs": [],
   "source": [
    "3. What types of nutritional deficiencies are there and how often do they occur?\n",
    "Next, we will analyze the nutritional deficiencies column to identify the most common deficiencies and their frequencies."
   ]
  },
  {
   "cell_type": "code",
   "execution_count": 13,
   "id": "e974b2dc-31e9-4785-a869-bb181aa5b668",
   "metadata": {},
   "outputs": [
    {
     "name": "stdout",
     "output_type": "stream",
     "text": [
      "Most Common Nutritional Deficiencies:\n",
      "Nutritional Deficiencies \n",
      "Zinc Deficiency         108\n",
      "Vitamin D Deficiency    104\n",
      "Biotin Deficiency        99\n",
      "Vitamin A Deficiency     99\n",
      "Omega-3 fatty acids      92\n",
      "Protein deficiency       90\n",
      "Magnesium deficiency     84\n",
      "Vitamin E deficiency     83\n",
      "Selenium deficiency      82\n",
      "No Data                  80\n",
      "Iron deficiency          78\n",
      "Name: count, dtype: int64\n"
     ]
    }
   ],
   "source": [
    "# Count occurrences of nutritional deficiencies\n",
    "nutritional_deficiencies = data['Nutritional Deficiencies '].value_counts()\n",
    "\n",
    "# Display results\n",
    "print(f\"Most Common Nutritional Deficiencies:\\n{nutritional_deficiencies}\")"
   ]
  },
  {
   "cell_type": "markdown",
   "id": "ddadad66-9e30-46fb-a9d9-e779e7072c9c",
   "metadata": {},
   "source": [
    "## <div style=\"text-align:center; border-radius:30px 30px; padding:13px; color:white; margin:0; font-size:130%; font-family:Pacifico; background-color:#3170af; overflow:hidden\"><b>Results Interpretation</b></div>"
   ]
  },
  {
   "cell_type": "markdown",
   "id": "0effb1cc-46a2-4702-8910-836b014c823f",
   "metadata": {},
   "source": [
    "<div style=\"padding: 20px; border-color: #c77220; border-radius: 10px; box-shadow: 0 2px 4px 0 rgba(0, 0, 0, 0.1); border: 2px solid #c77220;\">\n",
    "    <ul style=\"font-size: 22px; font-family: 'Arial'; line-height: 1.5em;\">\n",
    "        <li><strong>Age Insights:</strong>\n",
    "            <ul>\n",
    "                <li><strong>Average Age:</strong> The average age of individuals in the dataset is <strong>34.19 years</strong>. This provides a general idea of the age group in which hair loss is more prevalent.</li>\n",
    "                <li><strong>Age Distribution:</strong> The age distribution of the dataset is as follows:\n",
    "                    <ul>\n",
    "                        <li>Count: <strong>999 individuals</strong></li>\n",
    "                        <li>Mean age: <strong>34.19 years</strong></li>\n",
    "                        <li>Standard Deviation: <strong>9.38 years</strong></li>\n",
    "                        <li>Age range: The youngest individual is <strong>18 years old</strong>, while the oldest is <strong>50 years old</strong>.</li>\n",
    "                        <li>The middle 50% of individuals are aged between <strong>26</strong> and <strong>42 years</strong>.</li>\n",
    "                    </ul>\n",
    "                </li>\n",
    "        </li>\n",
    "        <li><strong>Medical Conditions Insights:</strong>\n",
    "            <ul>\n",
    "                <li>The most common medical conditions associated with hair loss are as follows:\n",
    "                    <ul>\n",
    "                        <li><strong>Alopecia Areata</strong>: Occurs in <strong>107 individuals</strong></li>\n",
    "                        <li><strong>Psoriasis</strong>: Occurs in <strong>100 individuals</strong></li>\n",
    "                        <li><strong>Thyroid Problems</strong>: Reported in <strong>99 individuals</strong></li>\n",
    "                        <li><strong>Androgenetic Alopecia</strong>: Found in <strong>98 individuals</strong></li>\n",
    "                        <li><strong>Dermatitis</strong>: Affects <strong>92 individuals</strong></li>\n",
    "                        <li><strong>Scalp Infections</strong>: Seen in <strong>79 individuals</strong></li>\n",
    "                        <li><strong>Other conditions</strong>: Including Dermatosis, Seborrheic Dermatitis, Eczema, and Ringworm also appear frequently.</li>\n",
    "                    </ul>\n",
    "                </li>\n",
    "        </li>\n",
    "        <li><strong>Nutritional Deficiencies Insights:</strong>\n",
    "            <ul>\n",
    "                <li>The most common nutritional deficiencies linked to hair loss are as follows:\n",
    "                    <ul>\n",
    "                        <li><strong>Zinc Deficiency</strong>: Found in <strong>108 individuals</strong></li>\n",
    "                        <li><strong>Vitamin D Deficiency</strong>: Reported in <strong>104 individuals</strong></li>\n",
    "                        <li><strong>Biotin Deficiency</strong>: Affects <strong>99 individuals</strong></li>\n",
    "                        <li><strong>Vitamin A Deficiency</strong>: Found in <strong>99 individuals</strong></li>\n",
    "                        <li><strong>Omega-3 Fatty Acids Deficiency</strong>: Reported in <strong>92 individuals</strong></li>\n",
    "                        <li><strong>Iron Deficiency</strong>: Found in <strong>78 individuals</strong></li>\n",
    "                        <li><strong>Other deficiencies</strong>: Magnesium, Vitamin E, and Selenium deficiencies are also notable contributors to hair loss.</li>\n",
    "                    </ul>\n",
    "                </li>\n",
    "        </li>\n",
    "    </ul>\n",
    "</div>"
   ]
  },
  {
   "cell_type": "markdown",
   "id": "b6f993a5-4189-4832-a21a-8c3a0d3ee679",
   "metadata": {},
   "source": [
    "## <div style=\"text-align:center; border-radius:30px 30px; padding:13px; color:white; margin:0; font-size:130%; font-family:Pacifico; background-color:#3170af; overflow:hidden\"><b>Recommendations</b></div>"
   ]
  },
  {
   "cell_type": "markdown",
   "id": "dfc4bf46-75f6-4acc-9833-2b88c1c4373f",
   "metadata": {},
   "source": [
    "<div style=\"padding: 20px; border-color: #c77220; border-radius: 10px; box-shadow: 0 2px 4px 0 rgba(0, 0, 0, 0.1); border: 2px solid #c77220;\">\n",
    "    <ul style=\"font-size: 22px; font-family: 'Arial'; line-height: 1.5em;\">\n",
    "        <li><strong>Dietary Recommendations:</strong>\n",
    "            <ul>\n",
    "                <li>If nutritional deficiencies such as <strong>biotin</strong> and <strong>iron</strong> are found to be common among individuals with hair loss, it is recommended that individuals ensure they are meeting their daily nutritional needs. This can be done through dietary improvements or by taking specific supplements.</li>\n",
    "                <li><strong>Biotin-rich foods</strong> (e.g., eggs, nuts, and legumes) and <strong>iron-rich foods</strong> (e.g., spinach, lentils, and red meat) can be incorporated into meals.</li>\n",
    "                <li>Consulting a nutritionist may be beneficial to tailor a diet plan that supports healthy hair growth.</li>\n",
    "            </ul>\n",
    "        </li>\n",
    "        <li><strong>Medical Consultations:</strong>\n",
    "            <ul>\n",
    "                <li>If individuals with hair loss have underlying medical conditions such as <strong>thyroid issues</strong> or <strong>alopecia</strong>, it is highly recommended to seek medical consultation for proper diagnosis and treatment.</li>\n",
    "                <li>For individuals with conditions like <strong>alopecia areata</strong>, treatments such as corticosteroids or immunotherapy may be suggested by healthcare professionals.</li>\n",
    "                <li>If thyroid problems are present, medical tests to assess thyroid function, followed by appropriate medications, may help manage hair loss effectively.</li>\n",
    "            </ul>\n",
    "        </li>\n",
    "        <li><strong>Stress Management:</strong>\n",
    "            <ul>\n",
    "                <li>If stress is found to be a contributing factor to hair loss, individuals should prioritize managing stress levels to promote better health and potentially reduce hair loss.</li>\n",
    "                <li>Techniques such as <strong>mindfulness meditation</strong>, <strong>yoga</strong>, and <strong>breathing exercises</strong> can help reduce stress effectively.</li>\n",
    "                <li>Engaging in regular <strong>physical exercise</strong> can also help lower stress levels and improve overall well-being, which may indirectly help prevent hair loss.</li>\n",
    "                <li>Seeking support from a counselor or therapist may be beneficial if emotional or psychological stress is significant.</li>\n",
    "            </ul>\n",
    "        </li>\n",
    "    </ul>\n",
    "</div>\n"
   ]
  }
 ],
 "metadata": {
  "kernelspec": {
   "display_name": "Python 3 (ipykernel)",
   "language": "python",
   "name": "python3"
  },
  "language_info": {
   "codemirror_mode": {
    "name": "ipython",
    "version": 3
   },
   "file_extension": ".py",
   "mimetype": "text/x-python",
   "name": "python",
   "nbconvert_exporter": "python",
   "pygments_lexer": "ipython3",
   "version": "3.12.3"
  }
 },
 "nbformat": 4,
 "nbformat_minor": 5
}
