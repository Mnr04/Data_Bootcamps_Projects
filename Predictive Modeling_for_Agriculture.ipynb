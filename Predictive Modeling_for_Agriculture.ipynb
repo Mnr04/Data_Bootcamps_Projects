{
 "cells": [
  {
   "cell_type": "markdown",
   "id": "a942d88a-e4d1-48ac-881c-e23a1278928e",
   "metadata": {},
   "source": [
    "# Sowing Success: How Machine Learning Helps Farmers Select the Best Crops\n",
    "\n",
    "In agriculture, making informed decisions about crop selection is crucial for maximizing yield and ensuring sustainable farming practices. One of the primary factors influencing crop growth is the condition of the soil, which can be assessed by measuring essential soil metrics such as nitrogen, phosphorus, potassium levels, and pH value. However, this process can often be expensive and time-consuming, forcing farmers to prioritize which metrics to measure based on their budget constraints.\n",
    "\n",
    "Farmers face numerous choices each season regarding which crops to plant, with their primary objective being to optimize crop yield. Understanding soil health is vital in this decision-making process, as each crop has specific ideal soil conditions that promote optimal growth and yield.\n",
    "\n",
    "A farmer has approached you, a machine learning expert, for assistance in selecting the best crop for his field. To aid in this endeavor, you have been provided with a dataset called `soil_measures.csv`, which contains the following key metrics:\n",
    "\n",
    "- **N**: Nitrogen content ratio in the soil\n",
    "- **P**: Phosphorous content ratio in the soil\n",
    "- **K**: Potassium content ratio in the soil\n",
    "- **pH**: pH value of the soil\n",
    "- **crop**: Categorical values representing various crops (target variable)\n",
    "\n",
    "Each row in this dataset corresponds to the soil measurements of a specific field, with the crop specified in the \"crop\" column being the optimal choice for that field based on these measurements.\n",
    "\n",
    "## Project Goals\n",
    "\n",
    "In this project, you will build multi-class classification models to predict the type of crop that should be planted based on the provided soil metrics. Additionally, you will identify the single most important feature that contributes to predictive performance. The steps will include:\n",
    "\n",
    "1. **Model Development**: Construct classification models to predict the crop type.\n",
    "2. **Feature Importance Analysis**: Identify which feature in the dataset provides the best score for predicting the \"crop\".\n",
    "3. **Best Predictive Feature**: Create a variable called `best_predictive_feature`, which will be a dictionary containing the name of the best predictive feature as the key and its corresponding evaluation score as the value.\n",
    "\n",
    "This project aims to leverage machine learning techniques to provide valuable insights that can enhance decision-making in crop selection, ultimately leading to increased agricultural productivity.\n"
   ]
  },
  {
   "cell_type": "code",
   "execution_count": 20,
   "id": "798cbe0b-7092-4c55-a13f-62a891376af9",
   "metadata": {},
   "outputs": [],
   "source": [
    "import pandas as pd\n",
    "from sklearn.linear_model import LogisticRegression\n",
    "from sklearn.model_selection import train_test_split\n",
    "from sklearn import metrics"
   ]
  },
  {
   "cell_type": "code",
   "execution_count": 2,
   "id": "44993142-b2af-44b0-8010-b5e90e18b558",
   "metadata": {},
   "outputs": [],
   "source": [
    "df = pd.read_csv('Dataset/soil_measures.csv')"
   ]
  },
  {
   "cell_type": "code",
   "execution_count": 3,
   "id": "d21ea82b-d04c-400e-afe9-4feeff2e4f45",
   "metadata": {},
   "outputs": [
    {
     "data": {
      "text/html": [
       "<div>\n",
       "<style scoped>\n",
       "    .dataframe tbody tr th:only-of-type {\n",
       "        vertical-align: middle;\n",
       "    }\n",
       "\n",
       "    .dataframe tbody tr th {\n",
       "        vertical-align: top;\n",
       "    }\n",
       "\n",
       "    .dataframe thead th {\n",
       "        text-align: right;\n",
       "    }\n",
       "</style>\n",
       "<table border=\"1\" class=\"dataframe\">\n",
       "  <thead>\n",
       "    <tr style=\"text-align: right;\">\n",
       "      <th></th>\n",
       "      <th>N</th>\n",
       "      <th>P</th>\n",
       "      <th>K</th>\n",
       "      <th>ph</th>\n",
       "      <th>crop</th>\n",
       "    </tr>\n",
       "  </thead>\n",
       "  <tbody>\n",
       "    <tr>\n",
       "      <th>0</th>\n",
       "      <td>90</td>\n",
       "      <td>42</td>\n",
       "      <td>43</td>\n",
       "      <td>6.502985</td>\n",
       "      <td>rice</td>\n",
       "    </tr>\n",
       "    <tr>\n",
       "      <th>1</th>\n",
       "      <td>85</td>\n",
       "      <td>58</td>\n",
       "      <td>41</td>\n",
       "      <td>7.038096</td>\n",
       "      <td>rice</td>\n",
       "    </tr>\n",
       "    <tr>\n",
       "      <th>2</th>\n",
       "      <td>60</td>\n",
       "      <td>55</td>\n",
       "      <td>44</td>\n",
       "      <td>7.840207</td>\n",
       "      <td>rice</td>\n",
       "    </tr>\n",
       "    <tr>\n",
       "      <th>3</th>\n",
       "      <td>74</td>\n",
       "      <td>35</td>\n",
       "      <td>40</td>\n",
       "      <td>6.980401</td>\n",
       "      <td>rice</td>\n",
       "    </tr>\n",
       "    <tr>\n",
       "      <th>4</th>\n",
       "      <td>78</td>\n",
       "      <td>42</td>\n",
       "      <td>42</td>\n",
       "      <td>7.628473</td>\n",
       "      <td>rice</td>\n",
       "    </tr>\n",
       "  </tbody>\n",
       "</table>\n",
       "</div>"
      ],
      "text/plain": [
       "    N   P   K        ph  crop\n",
       "0  90  42  43  6.502985  rice\n",
       "1  85  58  41  7.038096  rice\n",
       "2  60  55  44  7.840207  rice\n",
       "3  74  35  40  6.980401  rice\n",
       "4  78  42  42  7.628473  rice"
      ]
     },
     "execution_count": 3,
     "metadata": {},
     "output_type": "execute_result"
    }
   ],
   "source": [
    "# Show the first five rows of the DataFrame\n",
    "df.head()"
   ]
  },
  {
   "cell_type": "code",
   "execution_count": 4,
   "id": "ce4c1989-6081-4937-bc36-00aced0545fb",
   "metadata": {},
   "outputs": [
    {
     "data": {
      "text/plain": [
       "(2200, 5)"
      ]
     },
     "execution_count": 4,
     "metadata": {},
     "output_type": "execute_result"
    }
   ],
   "source": [
    "# Display the dimensions of the DataFrame\n",
    "df.shape"
   ]
  },
  {
   "cell_type": "code",
   "execution_count": 5,
   "id": "3ffd2a99-bd3c-4e92-8f95-70c8ab1f4294",
   "metadata": {},
   "outputs": [
    {
     "data": {
      "text/plain": [
       "<bound method NDFrame.describe of         N   P   K        ph    crop\n",
       "0      90  42  43  6.502985    rice\n",
       "1      85  58  41  7.038096    rice\n",
       "2      60  55  44  7.840207    rice\n",
       "3      74  35  40  6.980401    rice\n",
       "4      78  42  42  7.628473    rice\n",
       "...   ...  ..  ..       ...     ...\n",
       "2195  107  34  32  6.780064  coffee\n",
       "2196   99  15  27  6.086922  coffee\n",
       "2197  118  33  30  6.362608  coffee\n",
       "2198  117  32  34  6.758793  coffee\n",
       "2199  104  18  30  6.779833  coffee\n",
       "\n",
       "[2200 rows x 5 columns]>"
      ]
     },
     "execution_count": 5,
     "metadata": {},
     "output_type": "execute_result"
    }
   ],
   "source": [
    "# Display basic statistics of the DataFrame\n",
    "df.describe"
   ]
  },
  {
   "cell_type": "code",
   "execution_count": 6,
   "id": "68e2b0a2-bd04-47e0-aee0-9227e3b0db33",
   "metadata": {},
   "outputs": [
    {
     "data": {
      "text/plain": [
       "N       0\n",
       "P       0\n",
       "K       0\n",
       "ph      0\n",
       "crop    0\n",
       "dtype: int64"
      ]
     },
     "execution_count": 6,
     "metadata": {},
     "output_type": "execute_result"
    }
   ],
   "source": [
    "# Display the number of missing values in each column\n",
    "df.isna().sum()"
   ]
  },
  {
   "cell_type": "code",
   "execution_count": 8,
   "id": "cca25a2a-0fe4-4111-8320-6222cdaabf4b",
   "metadata": {},
   "outputs": [
    {
     "data": {
      "text/plain": [
       "array(['rice', 'maize', 'chickpea', 'kidneybeans', 'pigeonpeas',\n",
       "       'mothbeans', 'mungbean', 'blackgram', 'lentil', 'pomegranate',\n",
       "       'banana', 'mango', 'grapes', 'watermelon', 'muskmelon', 'apple',\n",
       "       'orange', 'papaya', 'coconut', 'cotton', 'jute', 'coffee'],\n",
       "      dtype=object)"
      ]
     },
     "execution_count": 8,
     "metadata": {},
     "output_type": "execute_result"
    }
   ],
   "source": [
    "# Display all unique values\n",
    "df['crop'].unique()"
   ]
  },
  {
   "cell_type": "markdown",
   "id": "ebd2cfd6-cee3-46f8-9d2e-b330c31c4b73",
   "metadata": {},
   "source": [
    "## Split the Data "
   ]
  },
  {
   "cell_type": "code",
   "execution_count": 16,
   "id": "578c2a9a-4d43-4d73-a948-876152c954fe",
   "metadata": {},
   "outputs": [],
   "source": [
    "X = df.drop(columns=[\"crop\"])\n",
    "y = df['crop']"
   ]
  },
  {
   "cell_type": "code",
   "execution_count": 17,
   "id": "a7ea06d2-161b-445a-b059-00011ff437e9",
   "metadata": {},
   "outputs": [
    {
     "data": {
      "text/html": [
       "<div>\n",
       "<style scoped>\n",
       "    .dataframe tbody tr th:only-of-type {\n",
       "        vertical-align: middle;\n",
       "    }\n",
       "\n",
       "    .dataframe tbody tr th {\n",
       "        vertical-align: top;\n",
       "    }\n",
       "\n",
       "    .dataframe thead th {\n",
       "        text-align: right;\n",
       "    }\n",
       "</style>\n",
       "<table border=\"1\" class=\"dataframe\">\n",
       "  <thead>\n",
       "    <tr style=\"text-align: right;\">\n",
       "      <th></th>\n",
       "      <th>N</th>\n",
       "      <th>P</th>\n",
       "      <th>K</th>\n",
       "      <th>ph</th>\n",
       "    </tr>\n",
       "  </thead>\n",
       "  <tbody>\n",
       "    <tr>\n",
       "      <th>0</th>\n",
       "      <td>90</td>\n",
       "      <td>42</td>\n",
       "      <td>43</td>\n",
       "      <td>6.502985</td>\n",
       "    </tr>\n",
       "    <tr>\n",
       "      <th>1</th>\n",
       "      <td>85</td>\n",
       "      <td>58</td>\n",
       "      <td>41</td>\n",
       "      <td>7.038096</td>\n",
       "    </tr>\n",
       "    <tr>\n",
       "      <th>2</th>\n",
       "      <td>60</td>\n",
       "      <td>55</td>\n",
       "      <td>44</td>\n",
       "      <td>7.840207</td>\n",
       "    </tr>\n",
       "    <tr>\n",
       "      <th>3</th>\n",
       "      <td>74</td>\n",
       "      <td>35</td>\n",
       "      <td>40</td>\n",
       "      <td>6.980401</td>\n",
       "    </tr>\n",
       "    <tr>\n",
       "      <th>4</th>\n",
       "      <td>78</td>\n",
       "      <td>42</td>\n",
       "      <td>42</td>\n",
       "      <td>7.628473</td>\n",
       "    </tr>\n",
       "    <tr>\n",
       "      <th>...</th>\n",
       "      <td>...</td>\n",
       "      <td>...</td>\n",
       "      <td>...</td>\n",
       "      <td>...</td>\n",
       "    </tr>\n",
       "    <tr>\n",
       "      <th>2195</th>\n",
       "      <td>107</td>\n",
       "      <td>34</td>\n",
       "      <td>32</td>\n",
       "      <td>6.780064</td>\n",
       "    </tr>\n",
       "    <tr>\n",
       "      <th>2196</th>\n",
       "      <td>99</td>\n",
       "      <td>15</td>\n",
       "      <td>27</td>\n",
       "      <td>6.086922</td>\n",
       "    </tr>\n",
       "    <tr>\n",
       "      <th>2197</th>\n",
       "      <td>118</td>\n",
       "      <td>33</td>\n",
       "      <td>30</td>\n",
       "      <td>6.362608</td>\n",
       "    </tr>\n",
       "    <tr>\n",
       "      <th>2198</th>\n",
       "      <td>117</td>\n",
       "      <td>32</td>\n",
       "      <td>34</td>\n",
       "      <td>6.758793</td>\n",
       "    </tr>\n",
       "    <tr>\n",
       "      <th>2199</th>\n",
       "      <td>104</td>\n",
       "      <td>18</td>\n",
       "      <td>30</td>\n",
       "      <td>6.779833</td>\n",
       "    </tr>\n",
       "  </tbody>\n",
       "</table>\n",
       "<p>2200 rows × 4 columns</p>\n",
       "</div>"
      ],
      "text/plain": [
       "        N   P   K        ph\n",
       "0      90  42  43  6.502985\n",
       "1      85  58  41  7.038096\n",
       "2      60  55  44  7.840207\n",
       "3      74  35  40  6.980401\n",
       "4      78  42  42  7.628473\n",
       "...   ...  ..  ..       ...\n",
       "2195  107  34  32  6.780064\n",
       "2196   99  15  27  6.086922\n",
       "2197  118  33  30  6.362608\n",
       "2198  117  32  34  6.758793\n",
       "2199  104  18  30  6.779833\n",
       "\n",
       "[2200 rows x 4 columns]"
      ]
     },
     "execution_count": 17,
     "metadata": {},
     "output_type": "execute_result"
    }
   ],
   "source": [
    "X"
   ]
  },
  {
   "cell_type": "code",
   "execution_count": 18,
   "id": "6e9154b1-ef8f-4f18-829b-c10e123e1e0c",
   "metadata": {},
   "outputs": [
    {
     "data": {
      "text/plain": [
       "0         rice\n",
       "1         rice\n",
       "2         rice\n",
       "3         rice\n",
       "4         rice\n",
       "         ...  \n",
       "2195    coffee\n",
       "2196    coffee\n",
       "2197    coffee\n",
       "2198    coffee\n",
       "2199    coffee\n",
       "Name: crop, Length: 2200, dtype: object"
      ]
     },
     "execution_count": 18,
     "metadata": {},
     "output_type": "execute_result"
    }
   ],
   "source": [
    "y"
   ]
  },
  {
   "cell_type": "code",
   "execution_count": 21,
   "id": "431b45a8-897b-49b2-b5f6-82263e347307",
   "metadata": {},
   "outputs": [],
   "source": [
    "# Separate data into test and train \n",
    "X_train, X_test, y_train, y_test = train_test_split(X, y, test_size=0.2, random_state = 42)"
   ]
  },
  {
   "cell_type": "markdown",
   "id": "6f17823a-7df2-43b2-849f-3121358e1f45",
   "metadata": {},
   "source": [
    "## Evaluate feature performance"
   ]
  },
  {
   "cell_type": "markdown",
   "id": "c5bbe48d-018e-416b-8439-a458aadd07d1",
   "metadata": {},
   "source": [
    "Predict the crop using each feature individually. You should build a model for each feature. That means you will build four models.\n",
    "\n",
    "\n"
   ]
  },
  {
   "cell_type": "code",
   "execution_count": 25,
   "id": "3d30d349-f279-494c-8f33-4c8f62406b11",
   "metadata": {},
   "outputs": [],
   "source": [
    "# Create an empty dictionary\n",
    "features_dict = {}"
   ]
  },
  {
   "cell_type": "code",
   "execution_count": null,
   "id": "afc71a50-ea12-4153-9f3a-17a7f52f80af",
   "metadata": {},
   "outputs": [],
   "source": []
  },
  {
   "cell_type": "code",
   "execution_count": null,
   "id": "bb2fa941-2102-4e3b-9377-8c7a3db95418",
   "metadata": {},
   "outputs": [],
   "source": [
    "for feature in [\"N\", \"P\", \"K\", \"ph\"]:\n",
    "    log_reg = LogisticRegression(feature, multi_class=\"multinomial\")\n",
    "    log_reg.fit(X_train[[feature]], y_train)\n",
    "    y_pred = log_reg.predict(X_test)"
   ]
  }
 ],
 "metadata": {
  "kernelspec": {
   "display_name": "Python 3 (ipykernel)",
   "language": "python",
   "name": "python3"
  },
  "language_info": {
   "codemirror_mode": {
    "name": "ipython",
    "version": 3
   },
   "file_extension": ".py",
   "mimetype": "text/x-python",
   "name": "python",
   "nbconvert_exporter": "python",
   "pygments_lexer": "ipython3",
   "version": "3.12.3"
  }
 },
 "nbformat": 4,
 "nbformat_minor": 5
}
