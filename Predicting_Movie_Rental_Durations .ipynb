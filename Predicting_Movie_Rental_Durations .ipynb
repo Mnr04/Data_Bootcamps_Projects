{
 "cells": [
  {
   "cell_type": "markdown",
   "id": "e2723a73-6592-4157-abbe-3b251c65ed19",
   "metadata": {},
   "source": [
    "# <div style=\"text-align:center; border-radius:30px 30px; padding:13px; color:white; margin:0; font-size:100%; font-family:Pacifico; background-color:#3170af; overflow:hidden\"><b>Predicting Movie Rental Durations</b></div>"
   ]
  },
  {
   "cell_type": "markdown",
   "id": "5f67dd0c-db3d-49a5-a904-2ca99e000cef",
   "metadata": {},
   "source": [
    "## <u> Introduction 📀 </u>"
   ]
  },
  {
   "cell_type": "markdown",
   "id": "a0605b71-63d6-4ffb-b92b-47827021780e",
   "metadata": {},
   "source": [
    "In this project, we aim to help a DVD rental company optimize its inventory management by predicting the duration of each DVD rental in days. Predicting rental duration allows the company to estimate demand more accurately, which can help in managing inventory, reducing costs, and improving customer satisfaction. By building a regression model to predict the number of days a customer rents a DVD, we can provide the company with actionable insights to improve their planning. The target is to achieve a model with a mean squared error (MSE) of less than 3, ensuring precise predictions that will be beneficial in real-world applications. This project will involve data cleaning, feature engineering, model selection, and evaluation to determine the best-performing model."
   ]
  },
  {
   "cell_type": "markdown",
   "id": "4bd8401c-bb7d-4786-ac06-81952ff50d0f",
   "metadata": {},
   "source": [
    "## <u>Plan</u>"
   ]
  },
  {
   "cell_type": "markdown",
   "id": "ba1d34f4-c96b-49a9-a6a9-957877249cce",
   "metadata": {},
   "source": [
    "1. **Data Preprocessing and Feature Engineering**\n",
    "\n",
    "\n",
    "    1.1 **Data Loading**  \n",
    "    1.2 **Calculate Rental Duration**  \n",
    "    1.3 **Encode Special Features**  \n",
    "    1.4 **Feature Selection**  \n",
    "\n",
    "3. **Data Splitting**\n",
    "\n",
    "4. **Modeling and Evaluation**\n",
    "\n",
    "5. **Conclusion**"
   ]
  },
  {
   "cell_type": "code",
   "execution_count": 160,
   "id": "260c5bee-eb62-4bef-96b2-792be1a1ef6e",
   "metadata": {},
   "outputs": [],
   "source": [
    "import pandas as pd\n",
    "from sklearn.model_selection import train_test_split, GridSearchCV\n",
    "import numpy as np\n",
    "from sklearn.linear_model import LinearRegression, Lasso\n",
    "from sklearn.tree import DecisionTreeRegressor \n",
    "from sklearn.ensemble import RandomForestRegressor\n",
    "from sklearn.metrics import mean_squared_error\n",
    "from sklearn.model_selection import RandomizedSearchCV\n",
    "import matplotlib.pyplot as plt"
   ]
  },
  {
   "cell_type": "markdown",
   "id": "30502d2b-6ad4-463b-8939-ebb1859a2892",
   "metadata": {},
   "source": [
    "## <u>1. **Data Preprocessing and Feature Engineering**</u>"
   ]
  },
  {
   "cell_type": "markdown",
   "id": "e9b77444-093b-4dac-ad1a-fe7971ef8243",
   "metadata": {},
   "source": [
    " ### <u>1.1 **Data Loading**  </u>"
   ]
  },
  {
   "cell_type": "code",
   "execution_count": 161,
   "id": "c0e0bb4e-cc9d-4de4-b2a2-236b236c95d8",
   "metadata": {
    "scrolled": true
   },
   "outputs": [
    {
     "data": {
      "text/html": [
       "<div>\n",
       "<style scoped>\n",
       "    .dataframe tbody tr th:only-of-type {\n",
       "        vertical-align: middle;\n",
       "    }\n",
       "\n",
       "    .dataframe tbody tr th {\n",
       "        vertical-align: top;\n",
       "    }\n",
       "\n",
       "    .dataframe thead th {\n",
       "        text-align: right;\n",
       "    }\n",
       "</style>\n",
       "<table border=\"1\" class=\"dataframe\">\n",
       "  <thead>\n",
       "    <tr style=\"text-align: right;\">\n",
       "      <th></th>\n",
       "      <th>rental_date</th>\n",
       "      <th>return_date</th>\n",
       "      <th>amount</th>\n",
       "      <th>release_year</th>\n",
       "      <th>rental_rate</th>\n",
       "      <th>length</th>\n",
       "      <th>replacement_cost</th>\n",
       "      <th>special_features</th>\n",
       "      <th>NC-17</th>\n",
       "      <th>PG</th>\n",
       "      <th>PG-13</th>\n",
       "      <th>R</th>\n",
       "      <th>amount_2</th>\n",
       "      <th>length_2</th>\n",
       "      <th>rental_rate_2</th>\n",
       "    </tr>\n",
       "  </thead>\n",
       "  <tbody>\n",
       "    <tr>\n",
       "      <th>0</th>\n",
       "      <td>2005-05-25 02:54:33+00:00</td>\n",
       "      <td>2005-05-28 23:40:33+00:00</td>\n",
       "      <td>2.99</td>\n",
       "      <td>2005.0</td>\n",
       "      <td>2.99</td>\n",
       "      <td>126.0</td>\n",
       "      <td>16.99</td>\n",
       "      <td>{Trailers,\"Behind the Scenes\"}</td>\n",
       "      <td>0</td>\n",
       "      <td>0</td>\n",
       "      <td>0</td>\n",
       "      <td>1</td>\n",
       "      <td>8.9401</td>\n",
       "      <td>15876.0</td>\n",
       "      <td>8.9401</td>\n",
       "    </tr>\n",
       "    <tr>\n",
       "      <th>1</th>\n",
       "      <td>2005-06-15 23:19:16+00:00</td>\n",
       "      <td>2005-06-18 19:24:16+00:00</td>\n",
       "      <td>2.99</td>\n",
       "      <td>2005.0</td>\n",
       "      <td>2.99</td>\n",
       "      <td>126.0</td>\n",
       "      <td>16.99</td>\n",
       "      <td>{Trailers,\"Behind the Scenes\"}</td>\n",
       "      <td>0</td>\n",
       "      <td>0</td>\n",
       "      <td>0</td>\n",
       "      <td>1</td>\n",
       "      <td>8.9401</td>\n",
       "      <td>15876.0</td>\n",
       "      <td>8.9401</td>\n",
       "    </tr>\n",
       "    <tr>\n",
       "      <th>2</th>\n",
       "      <td>2005-07-10 04:27:45+00:00</td>\n",
       "      <td>2005-07-17 10:11:45+00:00</td>\n",
       "      <td>2.99</td>\n",
       "      <td>2005.0</td>\n",
       "      <td>2.99</td>\n",
       "      <td>126.0</td>\n",
       "      <td>16.99</td>\n",
       "      <td>{Trailers,\"Behind the Scenes\"}</td>\n",
       "      <td>0</td>\n",
       "      <td>0</td>\n",
       "      <td>0</td>\n",
       "      <td>1</td>\n",
       "      <td>8.9401</td>\n",
       "      <td>15876.0</td>\n",
       "      <td>8.9401</td>\n",
       "    </tr>\n",
       "    <tr>\n",
       "      <th>3</th>\n",
       "      <td>2005-07-31 12:06:41+00:00</td>\n",
       "      <td>2005-08-02 14:30:41+00:00</td>\n",
       "      <td>2.99</td>\n",
       "      <td>2005.0</td>\n",
       "      <td>2.99</td>\n",
       "      <td>126.0</td>\n",
       "      <td>16.99</td>\n",
       "      <td>{Trailers,\"Behind the Scenes\"}</td>\n",
       "      <td>0</td>\n",
       "      <td>0</td>\n",
       "      <td>0</td>\n",
       "      <td>1</td>\n",
       "      <td>8.9401</td>\n",
       "      <td>15876.0</td>\n",
       "      <td>8.9401</td>\n",
       "    </tr>\n",
       "    <tr>\n",
       "      <th>4</th>\n",
       "      <td>2005-08-19 12:30:04+00:00</td>\n",
       "      <td>2005-08-23 13:35:04+00:00</td>\n",
       "      <td>2.99</td>\n",
       "      <td>2005.0</td>\n",
       "      <td>2.99</td>\n",
       "      <td>126.0</td>\n",
       "      <td>16.99</td>\n",
       "      <td>{Trailers,\"Behind the Scenes\"}</td>\n",
       "      <td>0</td>\n",
       "      <td>0</td>\n",
       "      <td>0</td>\n",
       "      <td>1</td>\n",
       "      <td>8.9401</td>\n",
       "      <td>15876.0</td>\n",
       "      <td>8.9401</td>\n",
       "    </tr>\n",
       "  </tbody>\n",
       "</table>\n",
       "</div>"
      ],
      "text/plain": [
       "                 rental_date                return_date  amount  release_year  \\\n",
       "0  2005-05-25 02:54:33+00:00  2005-05-28 23:40:33+00:00    2.99        2005.0   \n",
       "1  2005-06-15 23:19:16+00:00  2005-06-18 19:24:16+00:00    2.99        2005.0   \n",
       "2  2005-07-10 04:27:45+00:00  2005-07-17 10:11:45+00:00    2.99        2005.0   \n",
       "3  2005-07-31 12:06:41+00:00  2005-08-02 14:30:41+00:00    2.99        2005.0   \n",
       "4  2005-08-19 12:30:04+00:00  2005-08-23 13:35:04+00:00    2.99        2005.0   \n",
       "\n",
       "   rental_rate  length  replacement_cost                special_features  \\\n",
       "0         2.99   126.0             16.99  {Trailers,\"Behind the Scenes\"}   \n",
       "1         2.99   126.0             16.99  {Trailers,\"Behind the Scenes\"}   \n",
       "2         2.99   126.0             16.99  {Trailers,\"Behind the Scenes\"}   \n",
       "3         2.99   126.0             16.99  {Trailers,\"Behind the Scenes\"}   \n",
       "4         2.99   126.0             16.99  {Trailers,\"Behind the Scenes\"}   \n",
       "\n",
       "   NC-17  PG  PG-13  R  amount_2  length_2  rental_rate_2  \n",
       "0      0   0      0  1    8.9401   15876.0         8.9401  \n",
       "1      0   0      0  1    8.9401   15876.0         8.9401  \n",
       "2      0   0      0  1    8.9401   15876.0         8.9401  \n",
       "3      0   0      0  1    8.9401   15876.0         8.9401  \n",
       "4      0   0      0  1    8.9401   15876.0         8.9401  "
      ]
     },
     "execution_count": 161,
     "metadata": {},
     "output_type": "execute_result"
    }
   ],
   "source": [
    "df = pd.read_csv('Dataset/rental_info.csv')\n",
    "df.head()"
   ]
  },
  {
   "cell_type": "code",
   "execution_count": 162,
   "id": "9e5529e7-c4c7-43d3-a663-1b452305d6e5",
   "metadata": {},
   "outputs": [
    {
     "name": "stdout",
     "output_type": "stream",
     "text": [
      "<class 'pandas.core.frame.DataFrame'>\n",
      "RangeIndex: 15861 entries, 0 to 15860\n",
      "Data columns (total 15 columns):\n",
      " #   Column            Non-Null Count  Dtype  \n",
      "---  ------            --------------  -----  \n",
      " 0   rental_date       15861 non-null  object \n",
      " 1   return_date       15861 non-null  object \n",
      " 2   amount            15861 non-null  float64\n",
      " 3   release_year      15861 non-null  float64\n",
      " 4   rental_rate       15861 non-null  float64\n",
      " 5   length            15861 non-null  float64\n",
      " 6   replacement_cost  15861 non-null  float64\n",
      " 7   special_features  15861 non-null  object \n",
      " 8   NC-17             15861 non-null  int64  \n",
      " 9   PG                15861 non-null  int64  \n",
      " 10  PG-13             15861 non-null  int64  \n",
      " 11  R                 15861 non-null  int64  \n",
      " 12  amount_2          15861 non-null  float64\n",
      " 13  length_2          15861 non-null  float64\n",
      " 14  rental_rate_2     15861 non-null  float64\n",
      "dtypes: float64(8), int64(4), object(3)\n",
      "memory usage: 1.8+ MB\n"
     ]
    }
   ],
   "source": [
    "df.info()"
   ]
  },
  {
   "cell_type": "code",
   "execution_count": 163,
   "id": "45dc25ed-5492-4b40-95cd-af0a00153c79",
   "metadata": {},
   "outputs": [
    {
     "data": {
      "text/html": [
       "<div>\n",
       "<style scoped>\n",
       "    .dataframe tbody tr th:only-of-type {\n",
       "        vertical-align: middle;\n",
       "    }\n",
       "\n",
       "    .dataframe tbody tr th {\n",
       "        vertical-align: top;\n",
       "    }\n",
       "\n",
       "    .dataframe thead th {\n",
       "        text-align: right;\n",
       "    }\n",
       "</style>\n",
       "<table border=\"1\" class=\"dataframe\">\n",
       "  <thead>\n",
       "    <tr style=\"text-align: right;\">\n",
       "      <th></th>\n",
       "      <th>amount</th>\n",
       "      <th>release_year</th>\n",
       "      <th>rental_rate</th>\n",
       "      <th>length</th>\n",
       "      <th>replacement_cost</th>\n",
       "      <th>NC-17</th>\n",
       "      <th>PG</th>\n",
       "      <th>PG-13</th>\n",
       "      <th>R</th>\n",
       "      <th>amount_2</th>\n",
       "      <th>length_2</th>\n",
       "      <th>rental_rate_2</th>\n",
       "    </tr>\n",
       "  </thead>\n",
       "  <tbody>\n",
       "    <tr>\n",
       "      <th>count</th>\n",
       "      <td>15861.000000</td>\n",
       "      <td>15861.000000</td>\n",
       "      <td>15861.000000</td>\n",
       "      <td>15861.000000</td>\n",
       "      <td>15861.000000</td>\n",
       "      <td>15861.000000</td>\n",
       "      <td>15861.000000</td>\n",
       "      <td>15861.000000</td>\n",
       "      <td>15861.000000</td>\n",
       "      <td>15861.000000</td>\n",
       "      <td>15861.000000</td>\n",
       "      <td>15861.000000</td>\n",
       "    </tr>\n",
       "    <tr>\n",
       "      <th>mean</th>\n",
       "      <td>4.217161</td>\n",
       "      <td>2006.885379</td>\n",
       "      <td>2.944101</td>\n",
       "      <td>114.994578</td>\n",
       "      <td>20.224727</td>\n",
       "      <td>0.204842</td>\n",
       "      <td>0.200303</td>\n",
       "      <td>0.223378</td>\n",
       "      <td>0.198726</td>\n",
       "      <td>23.355504</td>\n",
       "      <td>14832.841876</td>\n",
       "      <td>11.389287</td>\n",
       "    </tr>\n",
       "    <tr>\n",
       "      <th>std</th>\n",
       "      <td>2.360383</td>\n",
       "      <td>2.025027</td>\n",
       "      <td>1.649766</td>\n",
       "      <td>40.114715</td>\n",
       "      <td>6.083784</td>\n",
       "      <td>0.403599</td>\n",
       "      <td>0.400239</td>\n",
       "      <td>0.416523</td>\n",
       "      <td>0.399054</td>\n",
       "      <td>23.503164</td>\n",
       "      <td>9393.431996</td>\n",
       "      <td>10.005293</td>\n",
       "    </tr>\n",
       "    <tr>\n",
       "      <th>min</th>\n",
       "      <td>0.990000</td>\n",
       "      <td>2004.000000</td>\n",
       "      <td>0.990000</td>\n",
       "      <td>46.000000</td>\n",
       "      <td>9.990000</td>\n",
       "      <td>0.000000</td>\n",
       "      <td>0.000000</td>\n",
       "      <td>0.000000</td>\n",
       "      <td>0.000000</td>\n",
       "      <td>0.980100</td>\n",
       "      <td>2116.000000</td>\n",
       "      <td>0.980100</td>\n",
       "    </tr>\n",
       "    <tr>\n",
       "      <th>25%</th>\n",
       "      <td>2.990000</td>\n",
       "      <td>2005.000000</td>\n",
       "      <td>0.990000</td>\n",
       "      <td>81.000000</td>\n",
       "      <td>14.990000</td>\n",
       "      <td>0.000000</td>\n",
       "      <td>0.000000</td>\n",
       "      <td>0.000000</td>\n",
       "      <td>0.000000</td>\n",
       "      <td>8.940100</td>\n",
       "      <td>6561.000000</td>\n",
       "      <td>0.980100</td>\n",
       "    </tr>\n",
       "    <tr>\n",
       "      <th>50%</th>\n",
       "      <td>3.990000</td>\n",
       "      <td>2007.000000</td>\n",
       "      <td>2.990000</td>\n",
       "      <td>114.000000</td>\n",
       "      <td>20.990000</td>\n",
       "      <td>0.000000</td>\n",
       "      <td>0.000000</td>\n",
       "      <td>0.000000</td>\n",
       "      <td>0.000000</td>\n",
       "      <td>15.920100</td>\n",
       "      <td>12996.000000</td>\n",
       "      <td>8.940100</td>\n",
       "    </tr>\n",
       "    <tr>\n",
       "      <th>75%</th>\n",
       "      <td>4.990000</td>\n",
       "      <td>2009.000000</td>\n",
       "      <td>4.990000</td>\n",
       "      <td>148.000000</td>\n",
       "      <td>25.990000</td>\n",
       "      <td>0.000000</td>\n",
       "      <td>0.000000</td>\n",
       "      <td>0.000000</td>\n",
       "      <td>0.000000</td>\n",
       "      <td>24.900100</td>\n",
       "      <td>21904.000000</td>\n",
       "      <td>24.900100</td>\n",
       "    </tr>\n",
       "    <tr>\n",
       "      <th>max</th>\n",
       "      <td>11.990000</td>\n",
       "      <td>2010.000000</td>\n",
       "      <td>4.990000</td>\n",
       "      <td>185.000000</td>\n",
       "      <td>29.990000</td>\n",
       "      <td>1.000000</td>\n",
       "      <td>1.000000</td>\n",
       "      <td>1.000000</td>\n",
       "      <td>1.000000</td>\n",
       "      <td>143.760100</td>\n",
       "      <td>34225.000000</td>\n",
       "      <td>24.900100</td>\n",
       "    </tr>\n",
       "  </tbody>\n",
       "</table>\n",
       "</div>"
      ],
      "text/plain": [
       "             amount  release_year   rental_rate        length  \\\n",
       "count  15861.000000  15861.000000  15861.000000  15861.000000   \n",
       "mean       4.217161   2006.885379      2.944101    114.994578   \n",
       "std        2.360383      2.025027      1.649766     40.114715   \n",
       "min        0.990000   2004.000000      0.990000     46.000000   \n",
       "25%        2.990000   2005.000000      0.990000     81.000000   \n",
       "50%        3.990000   2007.000000      2.990000    114.000000   \n",
       "75%        4.990000   2009.000000      4.990000    148.000000   \n",
       "max       11.990000   2010.000000      4.990000    185.000000   \n",
       "\n",
       "       replacement_cost         NC-17            PG         PG-13  \\\n",
       "count      15861.000000  15861.000000  15861.000000  15861.000000   \n",
       "mean          20.224727      0.204842      0.200303      0.223378   \n",
       "std            6.083784      0.403599      0.400239      0.416523   \n",
       "min            9.990000      0.000000      0.000000      0.000000   \n",
       "25%           14.990000      0.000000      0.000000      0.000000   \n",
       "50%           20.990000      0.000000      0.000000      0.000000   \n",
       "75%           25.990000      0.000000      0.000000      0.000000   \n",
       "max           29.990000      1.000000      1.000000      1.000000   \n",
       "\n",
       "                  R      amount_2      length_2  rental_rate_2  \n",
       "count  15861.000000  15861.000000  15861.000000   15861.000000  \n",
       "mean       0.198726     23.355504  14832.841876      11.389287  \n",
       "std        0.399054     23.503164   9393.431996      10.005293  \n",
       "min        0.000000      0.980100   2116.000000       0.980100  \n",
       "25%        0.000000      8.940100   6561.000000       0.980100  \n",
       "50%        0.000000     15.920100  12996.000000       8.940100  \n",
       "75%        0.000000     24.900100  21904.000000      24.900100  \n",
       "max        1.000000    143.760100  34225.000000      24.900100  "
      ]
     },
     "execution_count": 163,
     "metadata": {},
     "output_type": "execute_result"
    }
   ],
   "source": [
    "df.describe()"
   ]
  },
  {
   "cell_type": "code",
   "execution_count": 164,
   "id": "1ab54120-1113-4243-8a8f-6b448e3faa62",
   "metadata": {},
   "outputs": [
    {
     "data": {
      "text/plain": [
       "rental_date         0\n",
       "return_date         0\n",
       "amount              0\n",
       "release_year        0\n",
       "rental_rate         0\n",
       "length              0\n",
       "replacement_cost    0\n",
       "special_features    0\n",
       "NC-17               0\n",
       "PG                  0\n",
       "PG-13               0\n",
       "R                   0\n",
       "amount_2            0\n",
       "length_2            0\n",
       "rental_rate_2       0\n",
       "dtype: int64"
      ]
     },
     "execution_count": 164,
     "metadata": {},
     "output_type": "execute_result"
    }
   ],
   "source": [
    "df.isna().sum()"
   ]
  },
  {
   "cell_type": "code",
   "execution_count": 165,
   "id": "cf01ac1d-4b44-4a11-b48e-049b5808c5ee",
   "metadata": {},
   "outputs": [
    {
     "data": {
      "text/plain": [
       "Index(['rental_date', 'return_date', 'amount', 'release_year', 'rental_rate',\n",
       "       'length', 'replacement_cost', 'special_features', 'NC-17', 'PG',\n",
       "       'PG-13', 'R', 'amount_2', 'length_2', 'rental_rate_2'],\n",
       "      dtype='object')"
      ]
     },
     "execution_count": 165,
     "metadata": {},
     "output_type": "execute_result"
    }
   ],
   "source": [
    "df.columns"
   ]
  },
  {
   "cell_type": "markdown",
   "id": "84db7e77-22df-4e99-b2b0-2e498d6464d8",
   "metadata": {},
   "source": [
    "### <u> 1.2 **Calculate Rental Duration**  </u>"
   ]
  },
  {
   "cell_type": "code",
   "execution_count": 166,
   "id": "073e46aa-c2d7-4ce7-aa98-ac57c839d8f5",
   "metadata": {},
   "outputs": [],
   "source": [
    "#Convert object columns to date type\n",
    "df['return_date'] = pd.to_datetime(df['return_date'])\n",
    "df['rental_date'] = pd.to_datetime(df['rental_date'])"
   ]
  },
  {
   "cell_type": "code",
   "execution_count": 167,
   "id": "860785f0-8e26-4d24-b945-24c8151bdd4c",
   "metadata": {},
   "outputs": [],
   "source": [
    "#Create target columns\n",
    "df['rental_length_days']= (df['return_date'] - df['rental_date']).dt.days"
   ]
  },
  {
   "cell_type": "code",
   "execution_count": 168,
   "id": "23589b63-09b6-4530-a720-2cd1f241f27c",
   "metadata": {},
   "outputs": [
    {
     "data": {
      "text/plain": [
       "4.525944139713763"
      ]
     },
     "execution_count": 168,
     "metadata": {},
     "output_type": "execute_result"
    }
   ],
   "source": [
    "means_duration = df['rental_length_days'].mean()\n",
    "means_duration"
   ]
  },
  {
   "cell_type": "markdown",
   "id": "756d406b-d338-45e0-bbdb-68d1ee33d9e5",
   "metadata": {},
   "source": [
    "<strong> Now we have a new column for the durations, we have also calculated that the mean duration of a DVD rental is 4.5 days.</strong>"
   ]
  },
  {
   "cell_type": "markdown",
   "id": "a3e5f56a-303e-476f-8bc1-433b1e845110",
   "metadata": {},
   "source": [
    "### <u> 1.3 **Encode Special Features** </u>"
   ]
  },
  {
   "cell_type": "code",
   "execution_count": 169,
   "id": "916ebbbe-d0a7-4b8e-b5e4-61359bd195a7",
   "metadata": {},
   "outputs": [
    {
     "data": {
      "text/plain": [
       "0                         {Trailers,\"Behind the Scenes\"}\n",
       "1                         {Trailers,\"Behind the Scenes\"}\n",
       "2                         {Trailers,\"Behind the Scenes\"}\n",
       "3                         {Trailers,\"Behind the Scenes\"}\n",
       "4                         {Trailers,\"Behind the Scenes\"}\n",
       "                              ...                       \n",
       "15856    {Trailers,\"Deleted Scenes\",\"Behind the Scenes\"}\n",
       "15857    {Trailers,\"Deleted Scenes\",\"Behind the Scenes\"}\n",
       "15858    {Trailers,\"Deleted Scenes\",\"Behind the Scenes\"}\n",
       "15859    {Trailers,\"Deleted Scenes\",\"Behind the Scenes\"}\n",
       "15860    {Trailers,\"Deleted Scenes\",\"Behind the Scenes\"}\n",
       "Name: special_features, Length: 15861, dtype: object"
      ]
     },
     "execution_count": 169,
     "metadata": {},
     "output_type": "execute_result"
    }
   ],
   "source": [
    "df['special_features']"
   ]
  },
  {
   "cell_type": "code",
   "execution_count": 170,
   "id": "b2d445a9-4a0c-438c-b973-36ce3ac217ad",
   "metadata": {},
   "outputs": [
    {
     "data": {
      "text/plain": [
       "array(['{Trailers,\"Behind the Scenes\"}', '{Trailers}',\n",
       "       '{Commentaries,\"Behind the Scenes\"}', '{Trailers,Commentaries}',\n",
       "       '{\"Deleted Scenes\",\"Behind the Scenes\"}',\n",
       "       '{Commentaries,\"Deleted Scenes\",\"Behind the Scenes\"}',\n",
       "       '{Trailers,Commentaries,\"Deleted Scenes\"}',\n",
       "       '{\"Behind the Scenes\"}',\n",
       "       '{Trailers,\"Deleted Scenes\",\"Behind the Scenes\"}',\n",
       "       '{Commentaries,\"Deleted Scenes\"}', '{Commentaries}',\n",
       "       '{Trailers,Commentaries,\"Behind the Scenes\"}',\n",
       "       '{Trailers,\"Deleted Scenes\"}', '{\"Deleted Scenes\"}',\n",
       "       '{Trailers,Commentaries,\"Deleted Scenes\",\"Behind the Scenes\"}'],\n",
       "      dtype=object)"
      ]
     },
     "execution_count": 170,
     "metadata": {},
     "output_type": "execute_result"
    }
   ],
   "source": [
    "df['special_features'].unique()"
   ]
  },
  {
   "cell_type": "code",
   "execution_count": 171,
   "id": "cceb192b-8d1d-4fcf-96a5-6683de011500",
   "metadata": {},
   "outputs": [],
   "source": [
    "# Function to create dummy columns\n",
    "def create_dummy_columns(df):\n",
    "    df[\"deleted_scenes\"] = df['special_features'].apply(lambda x:1 if \"Deleted Scenes\" in x else 0)\n",
    "    df[\"Behind the Scenes\"] = df['special_features'].apply(lambda x:1 if \"Behind the Scenes\" in x else 0)\n",
    "\n",
    "    return df"
   ]
  },
  {
   "cell_type": "code",
   "execution_count": 172,
   "id": "2e1052f8-8e7a-4073-bd6c-8f83338a5471",
   "metadata": {},
   "outputs": [],
   "source": [
    "df = create_dummy_columns(df)"
   ]
  },
  {
   "cell_type": "code",
   "execution_count": 173,
   "id": "73d38b61-35b9-4d24-b707-3acb455255ff",
   "metadata": {},
   "outputs": [
    {
     "data": {
      "text/html": [
       "<div>\n",
       "<style scoped>\n",
       "    .dataframe tbody tr th:only-of-type {\n",
       "        vertical-align: middle;\n",
       "    }\n",
       "\n",
       "    .dataframe tbody tr th {\n",
       "        vertical-align: top;\n",
       "    }\n",
       "\n",
       "    .dataframe thead th {\n",
       "        text-align: right;\n",
       "    }\n",
       "</style>\n",
       "<table border=\"1\" class=\"dataframe\">\n",
       "  <thead>\n",
       "    <tr style=\"text-align: right;\">\n",
       "      <th></th>\n",
       "      <th>rental_date</th>\n",
       "      <th>return_date</th>\n",
       "      <th>amount</th>\n",
       "      <th>release_year</th>\n",
       "      <th>rental_rate</th>\n",
       "      <th>length</th>\n",
       "      <th>replacement_cost</th>\n",
       "      <th>special_features</th>\n",
       "      <th>NC-17</th>\n",
       "      <th>PG</th>\n",
       "      <th>PG-13</th>\n",
       "      <th>R</th>\n",
       "      <th>amount_2</th>\n",
       "      <th>length_2</th>\n",
       "      <th>rental_rate_2</th>\n",
       "      <th>rental_length_days</th>\n",
       "      <th>deleted_scenes</th>\n",
       "      <th>Behind the Scenes</th>\n",
       "    </tr>\n",
       "  </thead>\n",
       "  <tbody>\n",
       "    <tr>\n",
       "      <th>0</th>\n",
       "      <td>2005-05-25 02:54:33+00:00</td>\n",
       "      <td>2005-05-28 23:40:33+00:00</td>\n",
       "      <td>2.99</td>\n",
       "      <td>2005.0</td>\n",
       "      <td>2.99</td>\n",
       "      <td>126.0</td>\n",
       "      <td>16.99</td>\n",
       "      <td>{Trailers,\"Behind the Scenes\"}</td>\n",
       "      <td>0</td>\n",
       "      <td>0</td>\n",
       "      <td>0</td>\n",
       "      <td>1</td>\n",
       "      <td>8.9401</td>\n",
       "      <td>15876.0</td>\n",
       "      <td>8.9401</td>\n",
       "      <td>3</td>\n",
       "      <td>0</td>\n",
       "      <td>1</td>\n",
       "    </tr>\n",
       "    <tr>\n",
       "      <th>1</th>\n",
       "      <td>2005-06-15 23:19:16+00:00</td>\n",
       "      <td>2005-06-18 19:24:16+00:00</td>\n",
       "      <td>2.99</td>\n",
       "      <td>2005.0</td>\n",
       "      <td>2.99</td>\n",
       "      <td>126.0</td>\n",
       "      <td>16.99</td>\n",
       "      <td>{Trailers,\"Behind the Scenes\"}</td>\n",
       "      <td>0</td>\n",
       "      <td>0</td>\n",
       "      <td>0</td>\n",
       "      <td>1</td>\n",
       "      <td>8.9401</td>\n",
       "      <td>15876.0</td>\n",
       "      <td>8.9401</td>\n",
       "      <td>2</td>\n",
       "      <td>0</td>\n",
       "      <td>1</td>\n",
       "    </tr>\n",
       "    <tr>\n",
       "      <th>2</th>\n",
       "      <td>2005-07-10 04:27:45+00:00</td>\n",
       "      <td>2005-07-17 10:11:45+00:00</td>\n",
       "      <td>2.99</td>\n",
       "      <td>2005.0</td>\n",
       "      <td>2.99</td>\n",
       "      <td>126.0</td>\n",
       "      <td>16.99</td>\n",
       "      <td>{Trailers,\"Behind the Scenes\"}</td>\n",
       "      <td>0</td>\n",
       "      <td>0</td>\n",
       "      <td>0</td>\n",
       "      <td>1</td>\n",
       "      <td>8.9401</td>\n",
       "      <td>15876.0</td>\n",
       "      <td>8.9401</td>\n",
       "      <td>7</td>\n",
       "      <td>0</td>\n",
       "      <td>1</td>\n",
       "    </tr>\n",
       "    <tr>\n",
       "      <th>3</th>\n",
       "      <td>2005-07-31 12:06:41+00:00</td>\n",
       "      <td>2005-08-02 14:30:41+00:00</td>\n",
       "      <td>2.99</td>\n",
       "      <td>2005.0</td>\n",
       "      <td>2.99</td>\n",
       "      <td>126.0</td>\n",
       "      <td>16.99</td>\n",
       "      <td>{Trailers,\"Behind the Scenes\"}</td>\n",
       "      <td>0</td>\n",
       "      <td>0</td>\n",
       "      <td>0</td>\n",
       "      <td>1</td>\n",
       "      <td>8.9401</td>\n",
       "      <td>15876.0</td>\n",
       "      <td>8.9401</td>\n",
       "      <td>2</td>\n",
       "      <td>0</td>\n",
       "      <td>1</td>\n",
       "    </tr>\n",
       "    <tr>\n",
       "      <th>4</th>\n",
       "      <td>2005-08-19 12:30:04+00:00</td>\n",
       "      <td>2005-08-23 13:35:04+00:00</td>\n",
       "      <td>2.99</td>\n",
       "      <td>2005.0</td>\n",
       "      <td>2.99</td>\n",
       "      <td>126.0</td>\n",
       "      <td>16.99</td>\n",
       "      <td>{Trailers,\"Behind the Scenes\"}</td>\n",
       "      <td>0</td>\n",
       "      <td>0</td>\n",
       "      <td>0</td>\n",
       "      <td>1</td>\n",
       "      <td>8.9401</td>\n",
       "      <td>15876.0</td>\n",
       "      <td>8.9401</td>\n",
       "      <td>4</td>\n",
       "      <td>0</td>\n",
       "      <td>1</td>\n",
       "    </tr>\n",
       "    <tr>\n",
       "      <th>...</th>\n",
       "      <td>...</td>\n",
       "      <td>...</td>\n",
       "      <td>...</td>\n",
       "      <td>...</td>\n",
       "      <td>...</td>\n",
       "      <td>...</td>\n",
       "      <td>...</td>\n",
       "      <td>...</td>\n",
       "      <td>...</td>\n",
       "      <td>...</td>\n",
       "      <td>...</td>\n",
       "      <td>...</td>\n",
       "      <td>...</td>\n",
       "      <td>...</td>\n",
       "      <td>...</td>\n",
       "      <td>...</td>\n",
       "      <td>...</td>\n",
       "      <td>...</td>\n",
       "    </tr>\n",
       "    <tr>\n",
       "      <th>15856</th>\n",
       "      <td>2005-08-22 10:49:15+00:00</td>\n",
       "      <td>2005-08-29 09:52:15+00:00</td>\n",
       "      <td>6.99</td>\n",
       "      <td>2009.0</td>\n",
       "      <td>4.99</td>\n",
       "      <td>88.0</td>\n",
       "      <td>11.99</td>\n",
       "      <td>{Trailers,\"Deleted Scenes\",\"Behind the Scenes\"}</td>\n",
       "      <td>0</td>\n",
       "      <td>0</td>\n",
       "      <td>0</td>\n",
       "      <td>1</td>\n",
       "      <td>48.8601</td>\n",
       "      <td>7744.0</td>\n",
       "      <td>24.9001</td>\n",
       "      <td>6</td>\n",
       "      <td>1</td>\n",
       "      <td>1</td>\n",
       "    </tr>\n",
       "    <tr>\n",
       "      <th>15857</th>\n",
       "      <td>2005-07-31 09:48:49+00:00</td>\n",
       "      <td>2005-08-04 10:53:49+00:00</td>\n",
       "      <td>4.99</td>\n",
       "      <td>2009.0</td>\n",
       "      <td>4.99</td>\n",
       "      <td>88.0</td>\n",
       "      <td>11.99</td>\n",
       "      <td>{Trailers,\"Deleted Scenes\",\"Behind the Scenes\"}</td>\n",
       "      <td>0</td>\n",
       "      <td>0</td>\n",
       "      <td>0</td>\n",
       "      <td>1</td>\n",
       "      <td>24.9001</td>\n",
       "      <td>7744.0</td>\n",
       "      <td>24.9001</td>\n",
       "      <td>4</td>\n",
       "      <td>1</td>\n",
       "      <td>1</td>\n",
       "    </tr>\n",
       "    <tr>\n",
       "      <th>15858</th>\n",
       "      <td>2005-08-20 10:35:30+00:00</td>\n",
       "      <td>2005-08-29 13:03:30+00:00</td>\n",
       "      <td>8.99</td>\n",
       "      <td>2009.0</td>\n",
       "      <td>4.99</td>\n",
       "      <td>88.0</td>\n",
       "      <td>11.99</td>\n",
       "      <td>{Trailers,\"Deleted Scenes\",\"Behind the Scenes\"}</td>\n",
       "      <td>0</td>\n",
       "      <td>0</td>\n",
       "      <td>0</td>\n",
       "      <td>1</td>\n",
       "      <td>80.8201</td>\n",
       "      <td>7744.0</td>\n",
       "      <td>24.9001</td>\n",
       "      <td>9</td>\n",
       "      <td>1</td>\n",
       "      <td>1</td>\n",
       "    </tr>\n",
       "    <tr>\n",
       "      <th>15859</th>\n",
       "      <td>2005-07-31 13:10:20+00:00</td>\n",
       "      <td>2005-08-08 14:07:20+00:00</td>\n",
       "      <td>7.99</td>\n",
       "      <td>2009.0</td>\n",
       "      <td>4.99</td>\n",
       "      <td>88.0</td>\n",
       "      <td>11.99</td>\n",
       "      <td>{Trailers,\"Deleted Scenes\",\"Behind the Scenes\"}</td>\n",
       "      <td>0</td>\n",
       "      <td>0</td>\n",
       "      <td>0</td>\n",
       "      <td>1</td>\n",
       "      <td>63.8401</td>\n",
       "      <td>7744.0</td>\n",
       "      <td>24.9001</td>\n",
       "      <td>8</td>\n",
       "      <td>1</td>\n",
       "      <td>1</td>\n",
       "    </tr>\n",
       "    <tr>\n",
       "      <th>15860</th>\n",
       "      <td>2005-08-18 06:33:55+00:00</td>\n",
       "      <td>2005-08-24 07:14:55+00:00</td>\n",
       "      <td>5.99</td>\n",
       "      <td>2009.0</td>\n",
       "      <td>4.99</td>\n",
       "      <td>88.0</td>\n",
       "      <td>11.99</td>\n",
       "      <td>{Trailers,\"Deleted Scenes\",\"Behind the Scenes\"}</td>\n",
       "      <td>0</td>\n",
       "      <td>0</td>\n",
       "      <td>0</td>\n",
       "      <td>1</td>\n",
       "      <td>35.8801</td>\n",
       "      <td>7744.0</td>\n",
       "      <td>24.9001</td>\n",
       "      <td>6</td>\n",
       "      <td>1</td>\n",
       "      <td>1</td>\n",
       "    </tr>\n",
       "  </tbody>\n",
       "</table>\n",
       "<p>15861 rows × 18 columns</p>\n",
       "</div>"
      ],
      "text/plain": [
       "                    rental_date               return_date  amount  \\\n",
       "0     2005-05-25 02:54:33+00:00 2005-05-28 23:40:33+00:00    2.99   \n",
       "1     2005-06-15 23:19:16+00:00 2005-06-18 19:24:16+00:00    2.99   \n",
       "2     2005-07-10 04:27:45+00:00 2005-07-17 10:11:45+00:00    2.99   \n",
       "3     2005-07-31 12:06:41+00:00 2005-08-02 14:30:41+00:00    2.99   \n",
       "4     2005-08-19 12:30:04+00:00 2005-08-23 13:35:04+00:00    2.99   \n",
       "...                         ...                       ...     ...   \n",
       "15856 2005-08-22 10:49:15+00:00 2005-08-29 09:52:15+00:00    6.99   \n",
       "15857 2005-07-31 09:48:49+00:00 2005-08-04 10:53:49+00:00    4.99   \n",
       "15858 2005-08-20 10:35:30+00:00 2005-08-29 13:03:30+00:00    8.99   \n",
       "15859 2005-07-31 13:10:20+00:00 2005-08-08 14:07:20+00:00    7.99   \n",
       "15860 2005-08-18 06:33:55+00:00 2005-08-24 07:14:55+00:00    5.99   \n",
       "\n",
       "       release_year  rental_rate  length  replacement_cost  \\\n",
       "0            2005.0         2.99   126.0             16.99   \n",
       "1            2005.0         2.99   126.0             16.99   \n",
       "2            2005.0         2.99   126.0             16.99   \n",
       "3            2005.0         2.99   126.0             16.99   \n",
       "4            2005.0         2.99   126.0             16.99   \n",
       "...             ...          ...     ...               ...   \n",
       "15856        2009.0         4.99    88.0             11.99   \n",
       "15857        2009.0         4.99    88.0             11.99   \n",
       "15858        2009.0         4.99    88.0             11.99   \n",
       "15859        2009.0         4.99    88.0             11.99   \n",
       "15860        2009.0         4.99    88.0             11.99   \n",
       "\n",
       "                                      special_features  NC-17  PG  PG-13  R  \\\n",
       "0                       {Trailers,\"Behind the Scenes\"}      0   0      0  1   \n",
       "1                       {Trailers,\"Behind the Scenes\"}      0   0      0  1   \n",
       "2                       {Trailers,\"Behind the Scenes\"}      0   0      0  1   \n",
       "3                       {Trailers,\"Behind the Scenes\"}      0   0      0  1   \n",
       "4                       {Trailers,\"Behind the Scenes\"}      0   0      0  1   \n",
       "...                                                ...    ...  ..    ... ..   \n",
       "15856  {Trailers,\"Deleted Scenes\",\"Behind the Scenes\"}      0   0      0  1   \n",
       "15857  {Trailers,\"Deleted Scenes\",\"Behind the Scenes\"}      0   0      0  1   \n",
       "15858  {Trailers,\"Deleted Scenes\",\"Behind the Scenes\"}      0   0      0  1   \n",
       "15859  {Trailers,\"Deleted Scenes\",\"Behind the Scenes\"}      0   0      0  1   \n",
       "15860  {Trailers,\"Deleted Scenes\",\"Behind the Scenes\"}      0   0      0  1   \n",
       "\n",
       "       amount_2  length_2  rental_rate_2  rental_length_days  deleted_scenes  \\\n",
       "0        8.9401   15876.0         8.9401                   3               0   \n",
       "1        8.9401   15876.0         8.9401                   2               0   \n",
       "2        8.9401   15876.0         8.9401                   7               0   \n",
       "3        8.9401   15876.0         8.9401                   2               0   \n",
       "4        8.9401   15876.0         8.9401                   4               0   \n",
       "...         ...       ...            ...                 ...             ...   \n",
       "15856   48.8601    7744.0        24.9001                   6               1   \n",
       "15857   24.9001    7744.0        24.9001                   4               1   \n",
       "15858   80.8201    7744.0        24.9001                   9               1   \n",
       "15859   63.8401    7744.0        24.9001                   8               1   \n",
       "15860   35.8801    7744.0        24.9001                   6               1   \n",
       "\n",
       "       Behind the Scenes  \n",
       "0                      1  \n",
       "1                      1  \n",
       "2                      1  \n",
       "3                      1  \n",
       "4                      1  \n",
       "...                  ...  \n",
       "15856                  1  \n",
       "15857                  1  \n",
       "15858                  1  \n",
       "15859                  1  \n",
       "15860                  1  \n",
       "\n",
       "[15861 rows x 18 columns]"
      ]
     },
     "execution_count": 173,
     "metadata": {},
     "output_type": "execute_result"
    }
   ],
   "source": [
    "df"
   ]
  },
  {
   "cell_type": "markdown",
   "id": "9f634dab-5b66-425b-b45c-b1cb8891de6d",
   "metadata": {},
   "source": [
    "### <u>1.4 **Feature Selection** </u>"
   ]
  },
  {
   "cell_type": "code",
   "execution_count": 174,
   "id": "ae00da8b-d764-4098-8da1-1bab7cbc97e3",
   "metadata": {},
   "outputs": [],
   "source": [
    "#Select columns for features and exclude those that leak data about the target.\n",
    "X = df.drop(columns=['rental_date','return_date', 'special_features', 'rental_length_days'])"
   ]
  },
  {
   "cell_type": "code",
   "execution_count": 175,
   "id": "7a6ba699-1454-4b51-8868-7a30aa10b27a",
   "metadata": {},
   "outputs": [],
   "source": [
    "#Select Target\n",
    "y = df['rental_length_days']"
   ]
  },
  {
   "cell_type": "markdown",
   "id": "8b8de64b-e7ac-409f-b04a-586ba0a905a6",
   "metadata": {},
   "source": [
    "## <u> 3. **Data Splitting** </u>"
   ]
  },
  {
   "cell_type": "code",
   "execution_count": 176,
   "id": "02594c14-6574-4ef1-8431-f5ca15d0069b",
   "metadata": {},
   "outputs": [],
   "source": [
    "#Create Train and Test set \n",
    "X_train, X_test, y_train, y_test = train_test_split(X, y, test_size=0.3, random_state=9)"
   ]
  },
  {
   "cell_type": "markdown",
   "id": "01285411-dccd-4e72-9d09-529682bcef3f",
   "metadata": {},
   "source": [
    "## <u> 4. **Modeling and Evaluation** </u>"
   ]
  },
  {
   "cell_type": "markdown",
   "id": "253487d4-8113-44dd-83bc-d73491c3cfd7",
   "metadata": {},
   "source": [
    "<u> <h3>a) Linear Regression </h3> </u>"
   ]
  },
  {
   "cell_type": "markdown",
   "id": "7c6d231c-6cb3-4291-ae48-6aedeb71df20",
   "metadata": {},
   "source": [
    "We find the best features for the models "
   ]
  },
  {
   "cell_type": "code",
   "execution_count": 177,
   "id": "474498cc-0a01-4952-846a-0d2fa2c72a82",
   "metadata": {},
   "outputs": [],
   "source": [
    "# Create the Lasso model\n",
    "lasso = Lasso(alpha=0.3, random_state=9) "
   ]
  },
  {
   "cell_type": "code",
   "execution_count": 178,
   "id": "7d34a16b-b188-40ff-85b8-f9483a185852",
   "metadata": {},
   "outputs": [],
   "source": [
    "# Train the model and access the coefficients\n",
    "lasso.fit(X_train, y_train)\n",
    "lasso_coef = lasso.coef_"
   ]
  },
  {
   "cell_type": "code",
   "execution_count": 179,
   "id": "96aca51a-06d6-4a8b-8db3-772ee0f80a8a",
   "metadata": {
    "scrolled": true
   },
   "outputs": [
    {
     "data": {
      "text/plain": [
       "array([ 5.77222892e-01,  0.00000000e+00, -0.00000000e+00, -0.00000000e+00,\n",
       "       -0.00000000e+00,  0.00000000e+00,  0.00000000e+00,  0.00000000e+00,\n",
       "       -0.00000000e+00,  4.37993127e-02,  2.50573025e-06, -1.51706637e-01,\n",
       "       -0.00000000e+00,  0.00000000e+00])"
      ]
     },
     "execution_count": 179,
     "metadata": {},
     "output_type": "execute_result"
    }
   ],
   "source": [
    "lasso_coef"
   ]
  },
  {
   "cell_type": "code",
   "execution_count": 180,
   "id": "e6368ca8-8eb6-450e-a1df-69ec6dc3c66d",
   "metadata": {},
   "outputs": [],
   "source": [
    "# Perform feature selectino by choosing columns with positive coefficients\n",
    "X_lasso_train, X_lasso_test = X_train.iloc[:, lasso_coef > 0], X_test.iloc[:, lasso_coef > 0]"
   ]
  },
  {
   "cell_type": "code",
   "execution_count": 181,
   "id": "2276b8c4-7ece-4d01-9ccf-ab63b090f26f",
   "metadata": {},
   "outputs": [],
   "source": [
    "# Run OLS models on lasso chosen regression\n",
    "ols = LinearRegression()\n",
    "ols = ols.fit(X_lasso_train, y_train)\n",
    "y_test_pred = ols.predict(X_lasso_test)\n",
    "mse_lin_reg_lasso = mean_squared_error(y_test, y_test_pred)"
   ]
  },
  {
   "cell_type": "code",
   "execution_count": 182,
   "id": "95f84718-1fdf-4b6b-b2d3-3e052c854faa",
   "metadata": {},
   "outputs": [
    {
     "data": {
      "text/plain": [
       "4.8705568457555675"
      ]
     },
     "execution_count": 182,
     "metadata": {},
     "output_type": "execute_result"
    }
   ],
   "source": [
    "mse_lin_reg_lasso"
   ]
  },
  {
   "cell_type": "markdown",
   "id": "43bbd5f1-947c-4d20-a9ce-097734e6c5a6",
   "metadata": {},
   "source": [
    "<u><h3> b) Decision Tree Regressor</h3> </u>"
   ]
  },
  {
   "cell_type": "code",
   "execution_count": 183,
   "id": "2ca0f60d-0fa1-468c-8492-f0714683b285",
   "metadata": {},
   "outputs": [],
   "source": [
    "# Define the hyperparameters to tune\n",
    "param_grid = {\n",
    "    'max_depth': [2, 3, 5, 7, 10, 12],\n",
    "    'min_samples_split': [2, 5, 10],\n",
    "    'min_samples_leaf': [1, 2, 4]\n",
    "}"
   ]
  },
  {
   "cell_type": "code",
   "execution_count": 184,
   "id": "2ab9a5e3-9788-40de-a33b-0efdf2421be7",
   "metadata": {},
   "outputs": [],
   "source": [
    "# Create the decision tree regressor model\n",
    "model = DecisionTreeRegressor()"
   ]
  },
  {
   "cell_type": "code",
   "execution_count": 185,
   "id": "9f795162-1f8e-4449-a81f-84d817e06159",
   "metadata": {},
   "outputs": [
    {
     "data": {
      "text/html": [
       "<style>#sk-container-id-9 {color: black;}#sk-container-id-9 pre{padding: 0;}#sk-container-id-9 div.sk-toggleable {background-color: white;}#sk-container-id-9 label.sk-toggleable__label {cursor: pointer;display: block;width: 100%;margin-bottom: 0;padding: 0.3em;box-sizing: border-box;text-align: center;}#sk-container-id-9 label.sk-toggleable__label-arrow:before {content: \"▸\";float: left;margin-right: 0.25em;color: #696969;}#sk-container-id-9 label.sk-toggleable__label-arrow:hover:before {color: black;}#sk-container-id-9 div.sk-estimator:hover label.sk-toggleable__label-arrow:before {color: black;}#sk-container-id-9 div.sk-toggleable__content {max-height: 0;max-width: 0;overflow: hidden;text-align: left;background-color: #f0f8ff;}#sk-container-id-9 div.sk-toggleable__content pre {margin: 0.2em;color: black;border-radius: 0.25em;background-color: #f0f8ff;}#sk-container-id-9 input.sk-toggleable__control:checked~div.sk-toggleable__content {max-height: 200px;max-width: 100%;overflow: auto;}#sk-container-id-9 input.sk-toggleable__control:checked~label.sk-toggleable__label-arrow:before {content: \"▾\";}#sk-container-id-9 div.sk-estimator input.sk-toggleable__control:checked~label.sk-toggleable__label {background-color: #d4ebff;}#sk-container-id-9 div.sk-label input.sk-toggleable__control:checked~label.sk-toggleable__label {background-color: #d4ebff;}#sk-container-id-9 input.sk-hidden--visually {border: 0;clip: rect(1px 1px 1px 1px);clip: rect(1px, 1px, 1px, 1px);height: 1px;margin: -1px;overflow: hidden;padding: 0;position: absolute;width: 1px;}#sk-container-id-9 div.sk-estimator {font-family: monospace;background-color: #f0f8ff;border: 1px dotted black;border-radius: 0.25em;box-sizing: border-box;margin-bottom: 0.5em;}#sk-container-id-9 div.sk-estimator:hover {background-color: #d4ebff;}#sk-container-id-9 div.sk-parallel-item::after {content: \"\";width: 100%;border-bottom: 1px solid gray;flex-grow: 1;}#sk-container-id-9 div.sk-label:hover label.sk-toggleable__label {background-color: #d4ebff;}#sk-container-id-9 div.sk-serial::before {content: \"\";position: absolute;border-left: 1px solid gray;box-sizing: border-box;top: 0;bottom: 0;left: 50%;z-index: 0;}#sk-container-id-9 div.sk-serial {display: flex;flex-direction: column;align-items: center;background-color: white;padding-right: 0.2em;padding-left: 0.2em;position: relative;}#sk-container-id-9 div.sk-item {position: relative;z-index: 1;}#sk-container-id-9 div.sk-parallel {display: flex;align-items: stretch;justify-content: center;background-color: white;position: relative;}#sk-container-id-9 div.sk-item::before, #sk-container-id-9 div.sk-parallel-item::before {content: \"\";position: absolute;border-left: 1px solid gray;box-sizing: border-box;top: 0;bottom: 0;left: 50%;z-index: -1;}#sk-container-id-9 div.sk-parallel-item {display: flex;flex-direction: column;z-index: 1;position: relative;background-color: white;}#sk-container-id-9 div.sk-parallel-item:first-child::after {align-self: flex-end;width: 50%;}#sk-container-id-9 div.sk-parallel-item:last-child::after {align-self: flex-start;width: 50%;}#sk-container-id-9 div.sk-parallel-item:only-child::after {width: 0;}#sk-container-id-9 div.sk-dashed-wrapped {border: 1px dashed gray;margin: 0 0.4em 0.5em 0.4em;box-sizing: border-box;padding-bottom: 0.4em;background-color: white;}#sk-container-id-9 div.sk-label label {font-family: monospace;font-weight: bold;display: inline-block;line-height: 1.2em;}#sk-container-id-9 div.sk-label-container {text-align: center;}#sk-container-id-9 div.sk-container {/* jupyter's `normalize.less` sets `[hidden] { display: none; }` but bootstrap.min.css set `[hidden] { display: none !important; }` so we also need the `!important` here to be able to override the default hidden behavior on the sphinx rendered scikit-learn.org. See: https://github.com/scikit-learn/scikit-learn/issues/21755 */display: inline-block !important;position: relative;}#sk-container-id-9 div.sk-text-repr-fallback {display: none;}</style><div id=\"sk-container-id-9\" class=\"sk-top-container\"><div class=\"sk-text-repr-fallback\"><pre>GridSearchCV(cv=5, estimator=DecisionTreeRegressor(),\n",
       "             param_grid={&#x27;max_depth&#x27;: [2, 3, 5, 7, 10, 12],\n",
       "                         &#x27;min_samples_leaf&#x27;: [1, 2, 4],\n",
       "                         &#x27;min_samples_split&#x27;: [2, 5, 10]})</pre><b>In a Jupyter environment, please rerun this cell to show the HTML representation or trust the notebook. <br />On GitHub, the HTML representation is unable to render, please try loading this page with nbviewer.org.</b></div><div class=\"sk-container\" hidden><div class=\"sk-item sk-dashed-wrapped\"><div class=\"sk-label-container\"><div class=\"sk-label sk-toggleable\"><input class=\"sk-toggleable__control sk-hidden--visually\" id=\"sk-estimator-id-25\" type=\"checkbox\" ><label for=\"sk-estimator-id-25\" class=\"sk-toggleable__label sk-toggleable__label-arrow\">GridSearchCV</label><div class=\"sk-toggleable__content\"><pre>GridSearchCV(cv=5, estimator=DecisionTreeRegressor(),\n",
       "             param_grid={&#x27;max_depth&#x27;: [2, 3, 5, 7, 10, 12],\n",
       "                         &#x27;min_samples_leaf&#x27;: [1, 2, 4],\n",
       "                         &#x27;min_samples_split&#x27;: [2, 5, 10]})</pre></div></div></div><div class=\"sk-parallel\"><div class=\"sk-parallel-item\"><div class=\"sk-item\"><div class=\"sk-label-container\"><div class=\"sk-label sk-toggleable\"><input class=\"sk-toggleable__control sk-hidden--visually\" id=\"sk-estimator-id-26\" type=\"checkbox\" ><label for=\"sk-estimator-id-26\" class=\"sk-toggleable__label sk-toggleable__label-arrow\">estimator: DecisionTreeRegressor</label><div class=\"sk-toggleable__content\"><pre>DecisionTreeRegressor()</pre></div></div></div><div class=\"sk-serial\"><div class=\"sk-item\"><div class=\"sk-estimator sk-toggleable\"><input class=\"sk-toggleable__control sk-hidden--visually\" id=\"sk-estimator-id-27\" type=\"checkbox\" ><label for=\"sk-estimator-id-27\" class=\"sk-toggleable__label sk-toggleable__label-arrow\">DecisionTreeRegressor</label><div class=\"sk-toggleable__content\"><pre>DecisionTreeRegressor()</pre></div></div></div></div></div></div></div></div></div></div>"
      ],
      "text/plain": [
       "GridSearchCV(cv=5, estimator=DecisionTreeRegressor(),\n",
       "             param_grid={'max_depth': [2, 3, 5, 7, 10, 12],\n",
       "                         'min_samples_leaf': [1, 2, 4],\n",
       "                         'min_samples_split': [2, 5, 10]})"
      ]
     },
     "execution_count": 185,
     "metadata": {},
     "output_type": "execute_result"
    }
   ],
   "source": [
    "# Use GridSearchCV to find the best hyperparameters\n",
    "grid_search = GridSearchCV(model, param_grid=param_grid, cv=5)\n",
    "grid_search.fit(X_train, y_train)"
   ]
  },
  {
   "cell_type": "code",
   "execution_count": 186,
   "id": "ff08eedb-7f9b-4f46-a3bd-bd16ace363c8",
   "metadata": {},
   "outputs": [
    {
     "name": "stdout",
     "output_type": "stream",
     "text": [
      "Best hyperparameters: {'max_depth': 12, 'min_samples_leaf': 1, 'min_samples_split': 5}\n"
     ]
    }
   ],
   "source": [
    "# Print the best hyperparameters \n",
    "print(f\"Best hyperparameters: {grid_search.best_params_}\")"
   ]
  },
  {
   "cell_type": "code",
   "execution_count": 187,
   "id": "f71d9427-d8d6-4c82-9ef6-50fa5f9b52a3",
   "metadata": {},
   "outputs": [],
   "source": [
    "# Use the best model for predictions\n",
    "best_model = grid_search.best_estimator_\n",
    "y_pred_DT = best_model.predict(X_test)"
   ]
  },
  {
   "cell_type": "code",
   "execution_count": 188,
   "id": "ca777f90-29c6-4571-a526-93e85f6f393a",
   "metadata": {},
   "outputs": [
    {
     "data": {
      "text/plain": [
       "2.296635649041803"
      ]
     },
     "execution_count": 188,
     "metadata": {},
     "output_type": "execute_result"
    }
   ],
   "source": [
    "mse_Decision_Tree = mean_squared_error(y_test, y_pred_DT)\n",
    "mse_Decision_Tree"
   ]
  },
  {
   "cell_type": "markdown",
   "id": "7058023d-b5c9-4742-9871-5b40c0865a1a",
   "metadata": {},
   "source": [
    "<u><h3> c) Random Forest</h3> </u>"
   ]
  },
  {
   "cell_type": "code",
   "execution_count": 189,
   "id": "9484e694-c1c7-4a79-8368-e0ee85241c3e",
   "metadata": {},
   "outputs": [],
   "source": [
    "# Random forest hyperparameter space\n",
    "param_dist = {'n_estimators': np.arange(1,101,1),\n",
    "          'max_depth':np.arange(1,11,1)}"
   ]
  },
  {
   "cell_type": "code",
   "execution_count": 190,
   "id": "a06ad383-b8d1-4d9c-b89d-214226068259",
   "metadata": {},
   "outputs": [],
   "source": [
    "# Create a random forest regressor\n",
    "rf = RandomForestRegressor()"
   ]
  },
  {
   "cell_type": "code",
   "execution_count": 191,
   "id": "a203fef3-b50d-4124-af57-674e39d69354",
   "metadata": {},
   "outputs": [],
   "source": [
    "# Use random search to find the best hyperparameters\n",
    "rand_search = RandomizedSearchCV(rf, \n",
    "                                 param_distributions=param_dist, \n",
    "                                 cv=5, \n",
    "                                 random_state=9)"
   ]
  },
  {
   "cell_type": "code",
   "execution_count": 192,
   "id": "fa4b4c17-cdc4-4634-ad40-288fd13e0697",
   "metadata": {},
   "outputs": [
    {
     "data": {
      "text/html": [
       "<style>#sk-container-id-10 {color: black;}#sk-container-id-10 pre{padding: 0;}#sk-container-id-10 div.sk-toggleable {background-color: white;}#sk-container-id-10 label.sk-toggleable__label {cursor: pointer;display: block;width: 100%;margin-bottom: 0;padding: 0.3em;box-sizing: border-box;text-align: center;}#sk-container-id-10 label.sk-toggleable__label-arrow:before {content: \"▸\";float: left;margin-right: 0.25em;color: #696969;}#sk-container-id-10 label.sk-toggleable__label-arrow:hover:before {color: black;}#sk-container-id-10 div.sk-estimator:hover label.sk-toggleable__label-arrow:before {color: black;}#sk-container-id-10 div.sk-toggleable__content {max-height: 0;max-width: 0;overflow: hidden;text-align: left;background-color: #f0f8ff;}#sk-container-id-10 div.sk-toggleable__content pre {margin: 0.2em;color: black;border-radius: 0.25em;background-color: #f0f8ff;}#sk-container-id-10 input.sk-toggleable__control:checked~div.sk-toggleable__content {max-height: 200px;max-width: 100%;overflow: auto;}#sk-container-id-10 input.sk-toggleable__control:checked~label.sk-toggleable__label-arrow:before {content: \"▾\";}#sk-container-id-10 div.sk-estimator input.sk-toggleable__control:checked~label.sk-toggleable__label {background-color: #d4ebff;}#sk-container-id-10 div.sk-label input.sk-toggleable__control:checked~label.sk-toggleable__label {background-color: #d4ebff;}#sk-container-id-10 input.sk-hidden--visually {border: 0;clip: rect(1px 1px 1px 1px);clip: rect(1px, 1px, 1px, 1px);height: 1px;margin: -1px;overflow: hidden;padding: 0;position: absolute;width: 1px;}#sk-container-id-10 div.sk-estimator {font-family: monospace;background-color: #f0f8ff;border: 1px dotted black;border-radius: 0.25em;box-sizing: border-box;margin-bottom: 0.5em;}#sk-container-id-10 div.sk-estimator:hover {background-color: #d4ebff;}#sk-container-id-10 div.sk-parallel-item::after {content: \"\";width: 100%;border-bottom: 1px solid gray;flex-grow: 1;}#sk-container-id-10 div.sk-label:hover label.sk-toggleable__label {background-color: #d4ebff;}#sk-container-id-10 div.sk-serial::before {content: \"\";position: absolute;border-left: 1px solid gray;box-sizing: border-box;top: 0;bottom: 0;left: 50%;z-index: 0;}#sk-container-id-10 div.sk-serial {display: flex;flex-direction: column;align-items: center;background-color: white;padding-right: 0.2em;padding-left: 0.2em;position: relative;}#sk-container-id-10 div.sk-item {position: relative;z-index: 1;}#sk-container-id-10 div.sk-parallel {display: flex;align-items: stretch;justify-content: center;background-color: white;position: relative;}#sk-container-id-10 div.sk-item::before, #sk-container-id-10 div.sk-parallel-item::before {content: \"\";position: absolute;border-left: 1px solid gray;box-sizing: border-box;top: 0;bottom: 0;left: 50%;z-index: -1;}#sk-container-id-10 div.sk-parallel-item {display: flex;flex-direction: column;z-index: 1;position: relative;background-color: white;}#sk-container-id-10 div.sk-parallel-item:first-child::after {align-self: flex-end;width: 50%;}#sk-container-id-10 div.sk-parallel-item:last-child::after {align-self: flex-start;width: 50%;}#sk-container-id-10 div.sk-parallel-item:only-child::after {width: 0;}#sk-container-id-10 div.sk-dashed-wrapped {border: 1px dashed gray;margin: 0 0.4em 0.5em 0.4em;box-sizing: border-box;padding-bottom: 0.4em;background-color: white;}#sk-container-id-10 div.sk-label label {font-family: monospace;font-weight: bold;display: inline-block;line-height: 1.2em;}#sk-container-id-10 div.sk-label-container {text-align: center;}#sk-container-id-10 div.sk-container {/* jupyter's `normalize.less` sets `[hidden] { display: none; }` but bootstrap.min.css set `[hidden] { display: none !important; }` so we also need the `!important` here to be able to override the default hidden behavior on the sphinx rendered scikit-learn.org. See: https://github.com/scikit-learn/scikit-learn/issues/21755 */display: inline-block !important;position: relative;}#sk-container-id-10 div.sk-text-repr-fallback {display: none;}</style><div id=\"sk-container-id-10\" class=\"sk-top-container\"><div class=\"sk-text-repr-fallback\"><pre>RandomizedSearchCV(cv=5, estimator=RandomForestRegressor(),\n",
       "                   param_distributions={&#x27;max_depth&#x27;: array([ 1,  2,  3,  4,  5,  6,  7,  8,  9, 10]),\n",
       "                                        &#x27;n_estimators&#x27;: array([  1,   2,   3,   4,   5,   6,   7,   8,   9,  10,  11,  12,  13,\n",
       "        14,  15,  16,  17,  18,  19,  20,  21,  22,  23,  24,  25,  26,\n",
       "        27,  28,  29,  30,  31,  32,  33,  34,  35,  36,  37,  38,  39,\n",
       "        40,  41,  42,  43,  44,  45,  46,  47,  48,  49,  50,  51,  52,\n",
       "        53,  54,  55,  56,  57,  58,  59,  60,  61,  62,  63,  64,  65,\n",
       "        66,  67,  68,  69,  70,  71,  72,  73,  74,  75,  76,  77,  78,\n",
       "        79,  80,  81,  82,  83,  84,  85,  86,  87,  88,  89,  90,  91,\n",
       "        92,  93,  94,  95,  96,  97,  98,  99, 100])},\n",
       "                   random_state=9)</pre><b>In a Jupyter environment, please rerun this cell to show the HTML representation or trust the notebook. <br />On GitHub, the HTML representation is unable to render, please try loading this page with nbviewer.org.</b></div><div class=\"sk-container\" hidden><div class=\"sk-item sk-dashed-wrapped\"><div class=\"sk-label-container\"><div class=\"sk-label sk-toggleable\"><input class=\"sk-toggleable__control sk-hidden--visually\" id=\"sk-estimator-id-28\" type=\"checkbox\" ><label for=\"sk-estimator-id-28\" class=\"sk-toggleable__label sk-toggleable__label-arrow\">RandomizedSearchCV</label><div class=\"sk-toggleable__content\"><pre>RandomizedSearchCV(cv=5, estimator=RandomForestRegressor(),\n",
       "                   param_distributions={&#x27;max_depth&#x27;: array([ 1,  2,  3,  4,  5,  6,  7,  8,  9, 10]),\n",
       "                                        &#x27;n_estimators&#x27;: array([  1,   2,   3,   4,   5,   6,   7,   8,   9,  10,  11,  12,  13,\n",
       "        14,  15,  16,  17,  18,  19,  20,  21,  22,  23,  24,  25,  26,\n",
       "        27,  28,  29,  30,  31,  32,  33,  34,  35,  36,  37,  38,  39,\n",
       "        40,  41,  42,  43,  44,  45,  46,  47,  48,  49,  50,  51,  52,\n",
       "        53,  54,  55,  56,  57,  58,  59,  60,  61,  62,  63,  64,  65,\n",
       "        66,  67,  68,  69,  70,  71,  72,  73,  74,  75,  76,  77,  78,\n",
       "        79,  80,  81,  82,  83,  84,  85,  86,  87,  88,  89,  90,  91,\n",
       "        92,  93,  94,  95,  96,  97,  98,  99, 100])},\n",
       "                   random_state=9)</pre></div></div></div><div class=\"sk-parallel\"><div class=\"sk-parallel-item\"><div class=\"sk-item\"><div class=\"sk-label-container\"><div class=\"sk-label sk-toggleable\"><input class=\"sk-toggleable__control sk-hidden--visually\" id=\"sk-estimator-id-29\" type=\"checkbox\" ><label for=\"sk-estimator-id-29\" class=\"sk-toggleable__label sk-toggleable__label-arrow\">estimator: RandomForestRegressor</label><div class=\"sk-toggleable__content\"><pre>RandomForestRegressor()</pre></div></div></div><div class=\"sk-serial\"><div class=\"sk-item\"><div class=\"sk-estimator sk-toggleable\"><input class=\"sk-toggleable__control sk-hidden--visually\" id=\"sk-estimator-id-30\" type=\"checkbox\" ><label for=\"sk-estimator-id-30\" class=\"sk-toggleable__label sk-toggleable__label-arrow\">RandomForestRegressor</label><div class=\"sk-toggleable__content\"><pre>RandomForestRegressor()</pre></div></div></div></div></div></div></div></div></div></div>"
      ],
      "text/plain": [
       "RandomizedSearchCV(cv=5, estimator=RandomForestRegressor(),\n",
       "                   param_distributions={'max_depth': array([ 1,  2,  3,  4,  5,  6,  7,  8,  9, 10]),\n",
       "                                        'n_estimators': array([  1,   2,   3,   4,   5,   6,   7,   8,   9,  10,  11,  12,  13,\n",
       "        14,  15,  16,  17,  18,  19,  20,  21,  22,  23,  24,  25,  26,\n",
       "        27,  28,  29,  30,  31,  32,  33,  34,  35,  36,  37,  38,  39,\n",
       "        40,  41,  42,  43,  44,  45,  46,  47,  48,  49,  50,  51,  52,\n",
       "        53,  54,  55,  56,  57,  58,  59,  60,  61,  62,  63,  64,  65,\n",
       "        66,  67,  68,  69,  70,  71,  72,  73,  74,  75,  76,  77,  78,\n",
       "        79,  80,  81,  82,  83,  84,  85,  86,  87,  88,  89,  90,  91,\n",
       "        92,  93,  94,  95,  96,  97,  98,  99, 100])},\n",
       "                   random_state=9)"
      ]
     },
     "execution_count": 192,
     "metadata": {},
     "output_type": "execute_result"
    }
   ],
   "source": [
    "rand_search.fit(X_train, y_train)"
   ]
  },
  {
   "cell_type": "code",
   "execution_count": 193,
   "id": "d2cb002c-89a6-4361-82a6-bcf5d28e03c3",
   "metadata": {},
   "outputs": [],
   "source": [
    "rf_pred = rand_search.predict(X_test)"
   ]
  },
  {
   "cell_type": "code",
   "execution_count": 194,
   "id": "f9126258-16a7-4662-9569-577a592fff12",
   "metadata": {},
   "outputs": [
    {
     "data": {
      "text/plain": [
       "2.21353558877225"
      ]
     },
     "execution_count": 194,
     "metadata": {},
     "output_type": "execute_result"
    }
   ],
   "source": [
    "mse_rf = mean_squared_error(y_test, rf_pred)\n",
    "mse_rf"
   ]
  },
  {
   "cell_type": "code",
   "execution_count": null,
   "id": "bef278dd-cbce-4929-b90c-1836a64ec8fa",
   "metadata": {},
   "outputs": [],
   "source": [
    "<u><h3>d) Evaluations"
   ]
  },
  {
   "cell_type": "code",
   "execution_count": 195,
   "id": "1fab6607-9545-42b0-9902-2f2be82510c3",
   "metadata": {},
   "outputs": [
    {
     "name": "stdout",
     "output_type": "stream",
     "text": [
      "                          Model       MSE\n",
      "0                 Random Forest  2.213536\n",
      "1                 Decision Tree  2.296636\n",
      "2  Linear Regression with Lasso  4.870557\n"
     ]
    }
   ],
   "source": [
    "#We create a new DataFrames to display all the results\n",
    "mse_df = pd.DataFrame({\n",
    "    'Model': ['Random Forest', 'Decision Tree', 'Linear Regression with Lasso'],\n",
    "    'MSE': [mse_rf, mse_Decision_Tree, mse_lin_reg_lasso]\n",
    "})\n",
    "\n",
    "print(mse_df)"
   ]
  },
  {
   "cell_type": "markdown",
   "id": "c09918fb-f05e-4988-b1eb-ebfee5aab6c8",
   "metadata": {},
   "source": [
    "## <u> 4. Conclusion </u>\n",
    "\n",
    "In conclusion, our project focused on evaluating different machine learning models for predictive accuracy. We tested three models:\n",
    "\n",
    "| Model                        | Mean Squared Error (MSE) |\n",
    "|------------------------------|--------------------------|\n",
    "| Random Forest                | 2.209                    |\n",
    "| Decision Tree                | 2.293                    |\n",
    "| Linear Regression with Lasso | 4.871                    |\n",
    "\n",
    "The results show that the **Random Forest** model performed best, achieving the lowest Mean Squared Error (MSE) of 2.209, followed closely by the **Decision Tree** model with an MSE of 2.293. In contrast, the **Linear Regression with Lasso** model had a considerably higher MSE of 4.871, indicating lower predictive accuracy.\n",
    "\n",
    "Based on these findings, the Random Forest model emerges as the most effective choice for our dataset, demonstrating strong predictive capabilities compared to the other methods. This comparison underscores the value of ensemble methods like Random Forest in achieving higher accuracy in predictive modeling.\n"
   ]
  }
 ],
 "metadata": {
  "kernelspec": {
   "display_name": "Python 3 (ipykernel)",
   "language": "python",
   "name": "python3"
  },
  "language_info": {
   "codemirror_mode": {
    "name": "ipython",
    "version": 3
   },
   "file_extension": ".py",
   "mimetype": "text/x-python",
   "name": "python",
   "nbconvert_exporter": "python",
   "pygments_lexer": "ipython3",
   "version": "3.12.3"
  }
 },
 "nbformat": 4,
 "nbformat_minor": 5
}
