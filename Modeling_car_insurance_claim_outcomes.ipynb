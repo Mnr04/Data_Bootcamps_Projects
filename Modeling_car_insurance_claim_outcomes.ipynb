{
 "cells": [
  {
   "cell_type": "markdown",
   "id": "9883f784-92b5-4c03-ada8-649e1eb0be38",
   "metadata": {},
   "source": [
    "# Car Insurance Claim Prediction Project\n",
    "\n",
    "## Introduction\n",
    "\n",
    "Insurance companies invest significant time and resources into optimizing pricing models and accurately estimating the probability that customers will make a claim. In many countries, car insurance is legally required to drive on public roads, which creates a massive market for such services. \n",
    "\n",
    "In this project, **On the Road** car insurance has tasked us with developing a model that predicts whether a customer will file a claim during the policy period. Given their limited expertise and infrastructure in deploying and monitoring machine learning models, they have asked for a **simple solution**: identify the single most predictive feature from their customer dataset, which can help them build an initial model. \n",
    "\n",
    "Our goal is to:\n",
    "1. **Analyze the data** provided in the `car_insurance.csv` file.\n",
    "2. **Identify the single best feature** that predicts whether a customer will file a claim (as indicated by the \"outcome\" column).\n",
    "3. Measure the performance of this feature using **accuracy** as the evaluation metric.\n",
    "4. Store the result in a DataFrame named `best_feature_df`, containing the following columns:\n",
    "    - `best_feature`: the name of the most predictive feature.\n",
    "    - `best_accuracy`: the corresponding accuracy score of the feature.\n",
    "\n",
    "This approach will enable **On the Road** to start with a simple model in production, ensuring that they can deploy and monitor it effectively while minimizing complexity.\n"
   ]
  },
  {
   "cell_type": "code",
   "execution_count": 31,
   "id": "a1c9d54d-8382-4c27-bb7e-6df296fcb642",
   "metadata": {},
   "outputs": [],
   "source": [
    "import pandas as pd\n",
    "from statsmodels.formula.api import logit"
   ]
  },
  {
   "cell_type": "code",
   "execution_count": 2,
   "id": "d4550eb8-f375-4e18-be97-61c795f77ebc",
   "metadata": {},
   "outputs": [],
   "source": [
    "df = pd.read_csv(\"Dataset/car_insurance.csv\")"
   ]
  },
  {
   "cell_type": "code",
   "execution_count": 3,
   "id": "97fd566d-9786-4494-9030-5332baac29b0",
   "metadata": {},
   "outputs": [
    {
     "data": {
      "text/html": [
       "<div>\n",
       "<style scoped>\n",
       "    .dataframe tbody tr th:only-of-type {\n",
       "        vertical-align: middle;\n",
       "    }\n",
       "\n",
       "    .dataframe tbody tr th {\n",
       "        vertical-align: top;\n",
       "    }\n",
       "\n",
       "    .dataframe thead th {\n",
       "        text-align: right;\n",
       "    }\n",
       "</style>\n",
       "<table border=\"1\" class=\"dataframe\">\n",
       "  <thead>\n",
       "    <tr style=\"text-align: right;\">\n",
       "      <th></th>\n",
       "      <th>id</th>\n",
       "      <th>age</th>\n",
       "      <th>gender</th>\n",
       "      <th>driving_experience</th>\n",
       "      <th>education</th>\n",
       "      <th>income</th>\n",
       "      <th>credit_score</th>\n",
       "      <th>vehicle_ownership</th>\n",
       "      <th>vehicle_year</th>\n",
       "      <th>married</th>\n",
       "      <th>children</th>\n",
       "      <th>postal_code</th>\n",
       "      <th>annual_mileage</th>\n",
       "      <th>vehicle_type</th>\n",
       "      <th>speeding_violations</th>\n",
       "      <th>duis</th>\n",
       "      <th>past_accidents</th>\n",
       "      <th>outcome</th>\n",
       "    </tr>\n",
       "  </thead>\n",
       "  <tbody>\n",
       "    <tr>\n",
       "      <th>0</th>\n",
       "      <td>569520</td>\n",
       "      <td>3</td>\n",
       "      <td>0</td>\n",
       "      <td>0-9y</td>\n",
       "      <td>high school</td>\n",
       "      <td>upper class</td>\n",
       "      <td>0.629027</td>\n",
       "      <td>1.0</td>\n",
       "      <td>after 2015</td>\n",
       "      <td>0.0</td>\n",
       "      <td>1.0</td>\n",
       "      <td>10238</td>\n",
       "      <td>12000.0</td>\n",
       "      <td>sedan</td>\n",
       "      <td>0</td>\n",
       "      <td>0</td>\n",
       "      <td>0</td>\n",
       "      <td>0.0</td>\n",
       "    </tr>\n",
       "    <tr>\n",
       "      <th>1</th>\n",
       "      <td>750365</td>\n",
       "      <td>0</td>\n",
       "      <td>1</td>\n",
       "      <td>0-9y</td>\n",
       "      <td>none</td>\n",
       "      <td>poverty</td>\n",
       "      <td>0.357757</td>\n",
       "      <td>0.0</td>\n",
       "      <td>before 2015</td>\n",
       "      <td>0.0</td>\n",
       "      <td>0.0</td>\n",
       "      <td>10238</td>\n",
       "      <td>16000.0</td>\n",
       "      <td>sedan</td>\n",
       "      <td>0</td>\n",
       "      <td>0</td>\n",
       "      <td>0</td>\n",
       "      <td>1.0</td>\n",
       "    </tr>\n",
       "    <tr>\n",
       "      <th>2</th>\n",
       "      <td>199901</td>\n",
       "      <td>0</td>\n",
       "      <td>0</td>\n",
       "      <td>0-9y</td>\n",
       "      <td>high school</td>\n",
       "      <td>working class</td>\n",
       "      <td>0.493146</td>\n",
       "      <td>1.0</td>\n",
       "      <td>before 2015</td>\n",
       "      <td>0.0</td>\n",
       "      <td>0.0</td>\n",
       "      <td>10238</td>\n",
       "      <td>11000.0</td>\n",
       "      <td>sedan</td>\n",
       "      <td>0</td>\n",
       "      <td>0</td>\n",
       "      <td>0</td>\n",
       "      <td>0.0</td>\n",
       "    </tr>\n",
       "    <tr>\n",
       "      <th>3</th>\n",
       "      <td>478866</td>\n",
       "      <td>0</td>\n",
       "      <td>1</td>\n",
       "      <td>0-9y</td>\n",
       "      <td>university</td>\n",
       "      <td>working class</td>\n",
       "      <td>0.206013</td>\n",
       "      <td>1.0</td>\n",
       "      <td>before 2015</td>\n",
       "      <td>0.0</td>\n",
       "      <td>1.0</td>\n",
       "      <td>32765</td>\n",
       "      <td>11000.0</td>\n",
       "      <td>sedan</td>\n",
       "      <td>0</td>\n",
       "      <td>0</td>\n",
       "      <td>0</td>\n",
       "      <td>0.0</td>\n",
       "    </tr>\n",
       "    <tr>\n",
       "      <th>4</th>\n",
       "      <td>731664</td>\n",
       "      <td>1</td>\n",
       "      <td>1</td>\n",
       "      <td>10-19y</td>\n",
       "      <td>none</td>\n",
       "      <td>working class</td>\n",
       "      <td>0.388366</td>\n",
       "      <td>1.0</td>\n",
       "      <td>before 2015</td>\n",
       "      <td>0.0</td>\n",
       "      <td>0.0</td>\n",
       "      <td>32765</td>\n",
       "      <td>12000.0</td>\n",
       "      <td>sedan</td>\n",
       "      <td>2</td>\n",
       "      <td>0</td>\n",
       "      <td>1</td>\n",
       "      <td>1.0</td>\n",
       "    </tr>\n",
       "  </tbody>\n",
       "</table>\n",
       "</div>"
      ],
      "text/plain": [
       "       id  age  gender driving_experience    education         income  \\\n",
       "0  569520    3       0               0-9y  high school    upper class   \n",
       "1  750365    0       1               0-9y         none        poverty   \n",
       "2  199901    0       0               0-9y  high school  working class   \n",
       "3  478866    0       1               0-9y   university  working class   \n",
       "4  731664    1       1             10-19y         none  working class   \n",
       "\n",
       "   credit_score  vehicle_ownership vehicle_year  married  children  \\\n",
       "0      0.629027                1.0   after 2015      0.0       1.0   \n",
       "1      0.357757                0.0  before 2015      0.0       0.0   \n",
       "2      0.493146                1.0  before 2015      0.0       0.0   \n",
       "3      0.206013                1.0  before 2015      0.0       1.0   \n",
       "4      0.388366                1.0  before 2015      0.0       0.0   \n",
       "\n",
       "   postal_code  annual_mileage vehicle_type  speeding_violations  duis  \\\n",
       "0        10238         12000.0        sedan                    0     0   \n",
       "1        10238         16000.0        sedan                    0     0   \n",
       "2        10238         11000.0        sedan                    0     0   \n",
       "3        32765         11000.0        sedan                    0     0   \n",
       "4        32765         12000.0        sedan                    2     0   \n",
       "\n",
       "   past_accidents  outcome  \n",
       "0               0      0.0  \n",
       "1               0      1.0  \n",
       "2               0      0.0  \n",
       "3               0      0.0  \n",
       "4               1      1.0  "
      ]
     },
     "execution_count": 3,
     "metadata": {},
     "output_type": "execute_result"
    }
   ],
   "source": [
    "df.head()"
   ]
  },
  {
   "cell_type": "code",
   "execution_count": 4,
   "id": "402c4633-6856-414d-af3d-ca180efb6bd5",
   "metadata": {},
   "outputs": [
    {
     "data": {
      "text/html": [
       "<div>\n",
       "<style scoped>\n",
       "    .dataframe tbody tr th:only-of-type {\n",
       "        vertical-align: middle;\n",
       "    }\n",
       "\n",
       "    .dataframe tbody tr th {\n",
       "        vertical-align: top;\n",
       "    }\n",
       "\n",
       "    .dataframe thead th {\n",
       "        text-align: right;\n",
       "    }\n",
       "</style>\n",
       "<table border=\"1\" class=\"dataframe\">\n",
       "  <thead>\n",
       "    <tr style=\"text-align: right;\">\n",
       "      <th></th>\n",
       "      <th>id</th>\n",
       "      <th>age</th>\n",
       "      <th>gender</th>\n",
       "      <th>credit_score</th>\n",
       "      <th>vehicle_ownership</th>\n",
       "      <th>married</th>\n",
       "      <th>children</th>\n",
       "      <th>postal_code</th>\n",
       "      <th>annual_mileage</th>\n",
       "      <th>speeding_violations</th>\n",
       "      <th>duis</th>\n",
       "      <th>past_accidents</th>\n",
       "      <th>outcome</th>\n",
       "    </tr>\n",
       "  </thead>\n",
       "  <tbody>\n",
       "    <tr>\n",
       "      <th>count</th>\n",
       "      <td>10000.000000</td>\n",
       "      <td>10000.000000</td>\n",
       "      <td>10000.000000</td>\n",
       "      <td>9018.000000</td>\n",
       "      <td>10000.000000</td>\n",
       "      <td>10000.000000</td>\n",
       "      <td>10000.000000</td>\n",
       "      <td>10000.000000</td>\n",
       "      <td>9043.000000</td>\n",
       "      <td>10000.000000</td>\n",
       "      <td>10000.00000</td>\n",
       "      <td>10000.000000</td>\n",
       "      <td>10000.000000</td>\n",
       "    </tr>\n",
       "    <tr>\n",
       "      <th>mean</th>\n",
       "      <td>500521.906800</td>\n",
       "      <td>1.489500</td>\n",
       "      <td>0.499000</td>\n",
       "      <td>0.515813</td>\n",
       "      <td>0.697000</td>\n",
       "      <td>0.498200</td>\n",
       "      <td>0.688800</td>\n",
       "      <td>19864.548400</td>\n",
       "      <td>11697.003207</td>\n",
       "      <td>1.482900</td>\n",
       "      <td>0.23920</td>\n",
       "      <td>1.056300</td>\n",
       "      <td>0.313300</td>\n",
       "    </tr>\n",
       "    <tr>\n",
       "      <th>std</th>\n",
       "      <td>290030.768758</td>\n",
       "      <td>1.025278</td>\n",
       "      <td>0.500024</td>\n",
       "      <td>0.137688</td>\n",
       "      <td>0.459578</td>\n",
       "      <td>0.500022</td>\n",
       "      <td>0.463008</td>\n",
       "      <td>18915.613855</td>\n",
       "      <td>2818.434528</td>\n",
       "      <td>2.241966</td>\n",
       "      <td>0.55499</td>\n",
       "      <td>1.652454</td>\n",
       "      <td>0.463858</td>\n",
       "    </tr>\n",
       "    <tr>\n",
       "      <th>min</th>\n",
       "      <td>101.000000</td>\n",
       "      <td>0.000000</td>\n",
       "      <td>0.000000</td>\n",
       "      <td>0.053358</td>\n",
       "      <td>0.000000</td>\n",
       "      <td>0.000000</td>\n",
       "      <td>0.000000</td>\n",
       "      <td>10238.000000</td>\n",
       "      <td>2000.000000</td>\n",
       "      <td>0.000000</td>\n",
       "      <td>0.00000</td>\n",
       "      <td>0.000000</td>\n",
       "      <td>0.000000</td>\n",
       "    </tr>\n",
       "    <tr>\n",
       "      <th>25%</th>\n",
       "      <td>249638.500000</td>\n",
       "      <td>1.000000</td>\n",
       "      <td>0.000000</td>\n",
       "      <td>0.417191</td>\n",
       "      <td>0.000000</td>\n",
       "      <td>0.000000</td>\n",
       "      <td>0.000000</td>\n",
       "      <td>10238.000000</td>\n",
       "      <td>10000.000000</td>\n",
       "      <td>0.000000</td>\n",
       "      <td>0.00000</td>\n",
       "      <td>0.000000</td>\n",
       "      <td>0.000000</td>\n",
       "    </tr>\n",
       "    <tr>\n",
       "      <th>50%</th>\n",
       "      <td>501777.000000</td>\n",
       "      <td>1.000000</td>\n",
       "      <td>0.000000</td>\n",
       "      <td>0.525033</td>\n",
       "      <td>1.000000</td>\n",
       "      <td>0.000000</td>\n",
       "      <td>1.000000</td>\n",
       "      <td>10238.000000</td>\n",
       "      <td>12000.000000</td>\n",
       "      <td>0.000000</td>\n",
       "      <td>0.00000</td>\n",
       "      <td>0.000000</td>\n",
       "      <td>0.000000</td>\n",
       "    </tr>\n",
       "    <tr>\n",
       "      <th>75%</th>\n",
       "      <td>753974.500000</td>\n",
       "      <td>2.000000</td>\n",
       "      <td>1.000000</td>\n",
       "      <td>0.618312</td>\n",
       "      <td>1.000000</td>\n",
       "      <td>1.000000</td>\n",
       "      <td>1.000000</td>\n",
       "      <td>32765.000000</td>\n",
       "      <td>14000.000000</td>\n",
       "      <td>2.000000</td>\n",
       "      <td>0.00000</td>\n",
       "      <td>2.000000</td>\n",
       "      <td>1.000000</td>\n",
       "    </tr>\n",
       "    <tr>\n",
       "      <th>max</th>\n",
       "      <td>999976.000000</td>\n",
       "      <td>3.000000</td>\n",
       "      <td>1.000000</td>\n",
       "      <td>0.960819</td>\n",
       "      <td>1.000000</td>\n",
       "      <td>1.000000</td>\n",
       "      <td>1.000000</td>\n",
       "      <td>92101.000000</td>\n",
       "      <td>22000.000000</td>\n",
       "      <td>22.000000</td>\n",
       "      <td>6.00000</td>\n",
       "      <td>15.000000</td>\n",
       "      <td>1.000000</td>\n",
       "    </tr>\n",
       "  </tbody>\n",
       "</table>\n",
       "</div>"
      ],
      "text/plain": [
       "                  id           age        gender  credit_score  \\\n",
       "count   10000.000000  10000.000000  10000.000000   9018.000000   \n",
       "mean   500521.906800      1.489500      0.499000      0.515813   \n",
       "std    290030.768758      1.025278      0.500024      0.137688   \n",
       "min       101.000000      0.000000      0.000000      0.053358   \n",
       "25%    249638.500000      1.000000      0.000000      0.417191   \n",
       "50%    501777.000000      1.000000      0.000000      0.525033   \n",
       "75%    753974.500000      2.000000      1.000000      0.618312   \n",
       "max    999976.000000      3.000000      1.000000      0.960819   \n",
       "\n",
       "       vehicle_ownership       married      children   postal_code  \\\n",
       "count       10000.000000  10000.000000  10000.000000  10000.000000   \n",
       "mean            0.697000      0.498200      0.688800  19864.548400   \n",
       "std             0.459578      0.500022      0.463008  18915.613855   \n",
       "min             0.000000      0.000000      0.000000  10238.000000   \n",
       "25%             0.000000      0.000000      0.000000  10238.000000   \n",
       "50%             1.000000      0.000000      1.000000  10238.000000   \n",
       "75%             1.000000      1.000000      1.000000  32765.000000   \n",
       "max             1.000000      1.000000      1.000000  92101.000000   \n",
       "\n",
       "       annual_mileage  speeding_violations         duis  past_accidents  \\\n",
       "count     9043.000000         10000.000000  10000.00000    10000.000000   \n",
       "mean     11697.003207             1.482900      0.23920        1.056300   \n",
       "std       2818.434528             2.241966      0.55499        1.652454   \n",
       "min       2000.000000             0.000000      0.00000        0.000000   \n",
       "25%      10000.000000             0.000000      0.00000        0.000000   \n",
       "50%      12000.000000             0.000000      0.00000        0.000000   \n",
       "75%      14000.000000             2.000000      0.00000        2.000000   \n",
       "max      22000.000000            22.000000      6.00000       15.000000   \n",
       "\n",
       "            outcome  \n",
       "count  10000.000000  \n",
       "mean       0.313300  \n",
       "std        0.463858  \n",
       "min        0.000000  \n",
       "25%        0.000000  \n",
       "50%        0.000000  \n",
       "75%        1.000000  \n",
       "max        1.000000  "
      ]
     },
     "execution_count": 4,
     "metadata": {},
     "output_type": "execute_result"
    }
   ],
   "source": [
    "df.describe()"
   ]
  },
  {
   "cell_type": "code",
   "execution_count": 5,
   "id": "71f0bc55-48fe-4e7d-8e25-3dd796c264d7",
   "metadata": {},
   "outputs": [
    {
     "data": {
      "text/plain": [
       "id                       0\n",
       "age                      0\n",
       "gender                   0\n",
       "driving_experience       0\n",
       "education                0\n",
       "income                   0\n",
       "credit_score           982\n",
       "vehicle_ownership        0\n",
       "vehicle_year             0\n",
       "married                  0\n",
       "children                 0\n",
       "postal_code              0\n",
       "annual_mileage         957\n",
       "vehicle_type             0\n",
       "speeding_violations      0\n",
       "duis                     0\n",
       "past_accidents           0\n",
       "outcome                  0\n",
       "dtype: int64"
      ]
     },
     "execution_count": 5,
     "metadata": {},
     "output_type": "execute_result"
    }
   ],
   "source": [
    "df.isna().sum()"
   ]
  },
  {
   "cell_type": "code",
   "execution_count": 6,
   "id": "cb10641d-4a9f-4635-b7aa-9b338426b900",
   "metadata": {},
   "outputs": [
    {
     "name": "stdout",
     "output_type": "stream",
     "text": [
      "<class 'pandas.core.frame.DataFrame'>\n",
      "RangeIndex: 10000 entries, 0 to 9999\n",
      "Data columns (total 18 columns):\n",
      " #   Column               Non-Null Count  Dtype  \n",
      "---  ------               --------------  -----  \n",
      " 0   id                   10000 non-null  int64  \n",
      " 1   age                  10000 non-null  int64  \n",
      " 2   gender               10000 non-null  int64  \n",
      " 3   driving_experience   10000 non-null  object \n",
      " 4   education            10000 non-null  object \n",
      " 5   income               10000 non-null  object \n",
      " 6   credit_score         9018 non-null   float64\n",
      " 7   vehicle_ownership    10000 non-null  float64\n",
      " 8   vehicle_year         10000 non-null  object \n",
      " 9   married              10000 non-null  float64\n",
      " 10  children             10000 non-null  float64\n",
      " 11  postal_code          10000 non-null  int64  \n",
      " 12  annual_mileage       9043 non-null   float64\n",
      " 13  vehicle_type         10000 non-null  object \n",
      " 14  speeding_violations  10000 non-null  int64  \n",
      " 15  duis                 10000 non-null  int64  \n",
      " 16  past_accidents       10000 non-null  int64  \n",
      " 17  outcome              10000 non-null  float64\n",
      "dtypes: float64(6), int64(7), object(5)\n",
      "memory usage: 1.4+ MB\n"
     ]
    }
   ],
   "source": [
    "df.info()"
   ]
  },
  {
   "cell_type": "code",
   "execution_count": 7,
   "id": "9d485147-e6b3-45e5-b006-73018ccc823f",
   "metadata": {},
   "outputs": [
    {
     "data": {
      "text/plain": [
       "(10000, 18)"
      ]
     },
     "execution_count": 7,
     "metadata": {},
     "output_type": "execute_result"
    }
   ],
   "source": [
    "df.shape"
   ]
  },
  {
   "cell_type": "markdown",
   "id": "31cab13f-1c6b-44d5-92c1-6395204b3e18",
   "metadata": {},
   "source": [
    "There are two columns with missing value : credit_score and annual_mileage"
   ]
  },
  {
   "cell_type": "code",
   "execution_count": 8,
   "id": "cbd24d7c-f2cc-4872-a8fb-430a6a47d420",
   "metadata": {},
   "outputs": [
    {
     "data": {
      "text/plain": [
       "982"
      ]
     },
     "execution_count": 8,
     "metadata": {},
     "output_type": "execute_result"
    }
   ],
   "source": [
    "# Display all missing values \n",
    "df[\"credit_score\"].isna().sum()"
   ]
  },
  {
   "cell_type": "code",
   "execution_count": 9,
   "id": "6320a128-6f48-4c08-9757-acce74b97aa5",
   "metadata": {},
   "outputs": [
    {
     "data": {
      "text/plain": [
       "0.515812809602791"
      ]
     },
     "execution_count": 9,
     "metadata": {},
     "output_type": "execute_result"
    }
   ],
   "source": [
    "# Calculate the mean of the credit score columns\n",
    "mean_credit_score = df[\"credit_score\"].mean()\n",
    "mean_credit_score"
   ]
  },
  {
   "cell_type": "code",
   "execution_count": 10,
   "id": "ca797afa-13b0-4b9b-83fd-fee97a53092d",
   "metadata": {},
   "outputs": [
    {
     "name": "stderr",
     "output_type": "stream",
     "text": [
      "/var/folders/lz/zsz00k2n3pbflxxlfqttyt500000gn/T/ipykernel_3132/1807579580.py:2: FutureWarning: A value is trying to be set on a copy of a DataFrame or Series through chained assignment using an inplace method.\n",
      "The behavior will change in pandas 3.0. This inplace method will never work because the intermediate object on which we are setting values always behaves as a copy.\n",
      "\n",
      "For example, when doing 'df[col].method(value, inplace=True)', try using 'df.method({col: value}, inplace=True)' or df[col] = df[col].method(value) instead, to perform the operation inplace on the original object.\n",
      "\n",
      "\n",
      "  df[\"credit_score\"].fillna(mean_credit_score, inplace=True)\n"
     ]
    }
   ],
   "source": [
    "# Replace missing values with the mean\n",
    "df[\"credit_score\"].fillna(mean_credit_score, inplace=True)"
   ]
  },
  {
   "cell_type": "code",
   "execution_count": 11,
   "id": "0bbd4b41-bdd1-4ada-b7d6-296bf24c7241",
   "metadata": {},
   "outputs": [
    {
     "name": "stdout",
     "output_type": "stream",
     "text": [
      "<class 'pandas.core.series.Series'>\n",
      "RangeIndex: 10000 entries, 0 to 9999\n",
      "Series name: credit_score\n",
      "Non-Null Count  Dtype  \n",
      "--------------  -----  \n",
      "10000 non-null  float64\n",
      "dtypes: float64(1)\n",
      "memory usage: 78.3 KB\n"
     ]
    }
   ],
   "source": [
    "df[\"credit_score\"].info()"
   ]
  },
  {
   "cell_type": "code",
   "execution_count": 12,
   "id": "d290d023-60e3-4eb2-887e-71b83201abfa",
   "metadata": {},
   "outputs": [
    {
     "data": {
      "text/plain": [
       "957"
      ]
     },
     "execution_count": 12,
     "metadata": {},
     "output_type": "execute_result"
    }
   ],
   "source": [
    "df[\"annual_mileage\"].isna().sum()"
   ]
  },
  {
   "cell_type": "code",
   "execution_count": 13,
   "id": "1dd0b4dc-f421-4996-9937-1fd27cf0629a",
   "metadata": {},
   "outputs": [
    {
     "data": {
      "text/plain": [
       "11697.003206900365"
      ]
     },
     "execution_count": 13,
     "metadata": {},
     "output_type": "execute_result"
    }
   ],
   "source": [
    "# Calculate the mean of the annual mileage columns\n",
    "mean_annual_mileage = df[\"annual_mileage\"].mean()\n",
    "mean_annual_mileage"
   ]
  },
  {
   "cell_type": "code",
   "execution_count": 14,
   "id": "2dfadf04-b395-466b-ac98-cffaef0ac851",
   "metadata": {},
   "outputs": [
    {
     "data": {
      "text/plain": [
       "0       12000.000000\n",
       "1       16000.000000\n",
       "2       11000.000000\n",
       "3       11000.000000\n",
       "4       12000.000000\n",
       "            ...     \n",
       "9995    16000.000000\n",
       "9996    11697.003207\n",
       "9997    14000.000000\n",
       "9998    13000.000000\n",
       "9999    13000.000000\n",
       "Name: annual_mileage, Length: 10000, dtype: float64"
      ]
     },
     "execution_count": 14,
     "metadata": {},
     "output_type": "execute_result"
    }
   ],
   "source": [
    "# Replace missing values with the mean\n",
    "df[\"annual_mileage\"].fillna(mean_annual_mileage)"
   ]
  },
  {
   "cell_type": "code",
   "execution_count": 15,
   "id": "1eeff24d-0541-4af4-b354-74d4577090d3",
   "metadata": {},
   "outputs": [
    {
     "data": {
      "text/plain": [
       "957"
      ]
     },
     "execution_count": 15,
     "metadata": {},
     "output_type": "execute_result"
    }
   ],
   "source": [
    "df[\"annual_mileage\"].isna().sum()"
   ]
  },
  {
   "cell_type": "code",
   "execution_count": 38,
   "id": "3064f62c-28f0-4d19-8dba-83ffb66fdd2c",
   "metadata": {},
   "outputs": [],
   "source": [
    "# Empty list to store model results\n",
    "models = []"
   ]
  },
  {
   "cell_type": "code",
   "execution_count": 41,
   "id": "48c937bb-cd04-497c-aac0-056abfccdb9c",
   "metadata": {},
   "outputs": [
    {
     "data": {
      "text/plain": [
       "Index(['age', 'gender', 'driving_experience', 'education', 'income',\n",
       "       'credit_score', 'vehicle_ownership', 'vehicle_year', 'married',\n",
       "       'children', 'postal_code', 'annual_mileage', 'vehicle_type',\n",
       "       'speeding_violations', 'duis', 'past_accidents'],\n",
       "      dtype='object')"
      ]
     },
     "execution_count": 41,
     "metadata": {},
     "output_type": "execute_result"
    }
   ],
   "source": [
    "# Feature columns\n",
    "features = df.drop(columns=[\"id\", \"outcome\"]).columns\n",
    "features"
   ]
  },
  {
   "cell_type": "code",
   "execution_count": 43,
   "id": "032610ad-dc54-44f4-83d7-31518f7673c1",
   "metadata": {},
   "outputs": [
    {
     "name": "stdout",
     "output_type": "stream",
     "text": [
      "Optimization terminated successfully.\n",
      "         Current function value: 0.511794\n",
      "         Iterations 6\n",
      "Optimization terminated successfully.\n",
      "         Current function value: 0.615951\n",
      "         Iterations 5\n",
      "Optimization terminated successfully.\n",
      "         Current function value: 0.467092\n",
      "         Iterations 8\n",
      "Optimization terminated successfully.\n",
      "         Current function value: 0.603742\n",
      "         Iterations 5\n",
      "Optimization terminated successfully.\n",
      "         Current function value: 0.531499\n",
      "         Iterations 6\n",
      "Optimization terminated successfully.\n",
      "         Current function value: 0.572557\n",
      "         Iterations 6\n",
      "Optimization terminated successfully.\n",
      "         Current function value: 0.552412\n",
      "         Iterations 5\n",
      "Optimization terminated successfully.\n",
      "         Current function value: 0.572668\n",
      "         Iterations 6\n",
      "Optimization terminated successfully.\n",
      "         Current function value: 0.586659\n",
      "         Iterations 5\n",
      "Optimization terminated successfully.\n",
      "         Current function value: 0.595431\n",
      "         Iterations 5\n",
      "Optimization terminated successfully.\n",
      "         Current function value: 0.617345\n",
      "         Iterations 5\n",
      "Optimization terminated successfully.\n",
      "         Current function value: 0.601906\n",
      "         Iterations 5\n",
      "Optimization terminated successfully.\n",
      "         Current function value: 0.621700\n",
      "         Iterations 5\n",
      "Optimization terminated successfully.\n",
      "         Current function value: 0.558922\n",
      "         Iterations 7\n",
      "Optimization terminated successfully.\n",
      "         Current function value: 0.598699\n",
      "         Iterations 6\n",
      "Optimization terminated successfully.\n",
      "         Current function value: 0.549220\n",
      "         Iterations 7\n"
     ]
    }
   ],
   "source": [
    "# Loop through features\n",
    "for col in features:\n",
    "    # Create a model\n",
    "    model = logit(f\"outcome ~ {col}\", data=df).fit()\n",
    "    # Add each model to the models list\n",
    "    models.append(model)"
   ]
  },
  {
   "cell_type": "code",
   "execution_count": 44,
   "id": "36ee910f-39be-49aa-925b-8c513206b8e4",
   "metadata": {},
   "outputs": [],
   "source": [
    "# Empty list to store accuracies\n",
    "accuracies = []"
   ]
  },
  {
   "cell_type": "code",
   "execution_count": 45,
   "id": "ca4958e0-f1fd-4491-9a03-ff834f2be638",
   "metadata": {},
   "outputs": [],
   "source": [
    "# Loop through models\n",
    "for feature in range(0, len(models)):\n",
    "    # Compute the confusion matrix\n",
    "    conf_matrix = models[feature].pred_table()\n",
    "    # True negatives\n",
    "    tn = conf_matrix[0,0]\n",
    "    # True positives\n",
    "    tp = conf_matrix[1,1]\n",
    "    # False negatives\n",
    "    fn = conf_matrix[1,0]\n",
    "    # False positives\n",
    "    fp = conf_matrix[0,1]\n",
    "    # Compute accuracy\n",
    "    acc = (tn + tp) / (tn + fn + fp + tp)\n",
    "    accuracies.append(acc)"
   ]
  },
  {
   "cell_type": "code",
   "execution_count": 47,
   "id": "cc467b29-43b7-4c7a-be8f-e5809f28b73d",
   "metadata": {},
   "outputs": [
    {
     "data": {
      "text/plain": [
       "[0.7747,\n",
       " 0.6867,\n",
       " 0.7771,\n",
       " 0.6867,\n",
       " 0.7425,\n",
       " 0.7054,\n",
       " 0.7351,\n",
       " 0.6867,\n",
       " 0.6867,\n",
       " 0.6867,\n",
       " 0.6867,\n",
       " 0.6933539754506248,\n",
       " 0.6867,\n",
       " 0.6867,\n",
       " 0.6867,\n",
       " 0.6867]"
      ]
     },
     "execution_count": 47,
     "metadata": {},
     "output_type": "execute_result"
    }
   ],
   "source": [
    "accuracies"
   ]
  },
  {
   "cell_type": "code",
   "execution_count": 46,
   "id": "0588c561-19e9-457c-91ce-16cf724c5362",
   "metadata": {},
   "outputs": [
    {
     "data": {
      "text/html": [
       "<div>\n",
       "<style scoped>\n",
       "    .dataframe tbody tr th:only-of-type {\n",
       "        vertical-align: middle;\n",
       "    }\n",
       "\n",
       "    .dataframe tbody tr th {\n",
       "        vertical-align: top;\n",
       "    }\n",
       "\n",
       "    .dataframe thead th {\n",
       "        text-align: right;\n",
       "    }\n",
       "</style>\n",
       "<table border=\"1\" class=\"dataframe\">\n",
       "  <thead>\n",
       "    <tr style=\"text-align: right;\">\n",
       "      <th></th>\n",
       "      <th>best_feature</th>\n",
       "      <th>best_accuracy</th>\n",
       "    </tr>\n",
       "  </thead>\n",
       "  <tbody>\n",
       "    <tr>\n",
       "      <th>0</th>\n",
       "      <td>driving_experience</td>\n",
       "      <td>0.7771</td>\n",
       "    </tr>\n",
       "  </tbody>\n",
       "</table>\n",
       "</div>"
      ],
      "text/plain": [
       "         best_feature  best_accuracy\n",
       "0  driving_experience         0.7771"
      ]
     },
     "execution_count": 46,
     "metadata": {},
     "output_type": "execute_result"
    }
   ],
   "source": [
    "# Find the feature with the largest accuracy\n",
    "best_feature = features[accuracies.index(max(accuracies))]\n",
    "\n",
    "# Create best_feature_df\n",
    "best_feature_df = pd.DataFrame({\"best_feature\": best_feature,\n",
    "                                \"best_accuracy\": max(accuracies)},\n",
    "                                index=[0])\n",
    "best_feature_df"
   ]
  }
 ],
 "metadata": {
  "kernelspec": {
   "display_name": "Python 3 (ipykernel)",
   "language": "python",
   "name": "python3"
  },
  "language_info": {
   "codemirror_mode": {
    "name": "ipython",
    "version": 3
   },
   "file_extension": ".py",
   "mimetype": "text/x-python",
   "name": "python",
   "nbconvert_exporter": "python",
   "pygments_lexer": "ipython3",
   "version": "3.12.3"
  }
 },
 "nbformat": 4,
 "nbformat_minor": 5
}
