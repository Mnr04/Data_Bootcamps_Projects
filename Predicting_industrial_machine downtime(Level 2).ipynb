{
 "cells": [
  {
   "cell_type": "markdown",
   "id": "4504858f-4bcf-4a07-a097-b87aa95171c6",
   "metadata": {},
   "source": [
    "# Predicting industrial machine downtime 🛠️"
   ]
  },
  {
   "cell_type": "markdown",
   "id": "b2ea469a-4c88-40c9-aa9d-9ad7ff5e3d79",
   "metadata": {},
   "source": [
    "###Table of Content"
   ]
  },
  {
   "cell_type": "markdown",
   "id": "231ce90f-c799-4fde-bfc8-830f7f96cf23",
   "metadata": {},
   "source": [
    "## 1. Introduction"
   ]
  },
  {
   "cell_type": "markdown",
   "id": "f1c50d72-c25f-49e2-8104-bb342443166d",
   "metadata": {},
   "source": [
    "Objective :"
   ]
  },
  {
   "cell_type": "markdown",
   "id": "3d2f4abe-8b40-4514-bfa1-04507c6e95d4",
   "metadata": {},
   "source": [
    "Methodology : "
   ]
  },
  {
   "cell_type": "markdown",
   "id": "da4910a3-5866-4e70-ace0-fb0485ffee38",
   "metadata": {},
   "source": [
    "Data :"
   ]
  },
  {
   "cell_type": "markdown",
   "id": "12c988af-e377-4cca-b246-8090c87d9003",
   "metadata": {},
   "source": [
    "Summary :"
   ]
  },
  {
   "cell_type": "markdown",
   "id": "9c575fd7-b0a2-4eaf-950c-5d30074ce065",
   "metadata": {},
   "source": [
    "## 2. Librairies & Configurations"
   ]
  },
  {
   "cell_type": "markdown",
   "id": "53670631-8697-4676-9417-5eed8ed41db7",
   "metadata": {},
   "source": [
    "### 2.1 Librairies"
   ]
  },
  {
   "cell_type": "code",
   "execution_count": 7,
   "id": "8ebdd838-9680-4a53-900c-45df5b0ca6ee",
   "metadata": {},
   "outputs": [],
   "source": [
    "import pandas as pd"
   ]
  },
  {
   "cell_type": "markdown",
   "id": "a04bcd78-a0b0-4f04-9bda-a1057e239932",
   "metadata": {},
   "source": [
    "### 2.3 Configurations"
   ]
  },
  {
   "cell_type": "markdown",
   "id": "9be1e9a3-66f8-409f-913d-bbe378a0928e",
   "metadata": {},
   "source": [
    "# 3. Data Wrangling"
   ]
  },
  {
   "cell_type": "markdown",
   "id": "5ad12e37-0d4e-4f7e-8b6d-06b6d49e6d81",
   "metadata": {},
   "source": [
    "Loading and wrangling the data "
   ]
  },
  {
   "cell_type": "code",
   "execution_count": 12,
   "id": "4202ce99-1283-4b1c-ae1c-fc9ab9a0e01c",
   "metadata": {},
   "outputs": [],
   "source": [
    "#Loading the dataframe \n",
    "df = pd.read_csv('machine_downtime.csv')"
   ]
  },
  {
   "cell_type": "code",
   "execution_count": 13,
   "id": "c3697550-1784-49ed-af50-051779596a2d",
   "metadata": {},
   "outputs": [
    {
     "data": {
      "text/html": [
       "<div>\n",
       "<style scoped>\n",
       "    .dataframe tbody tr th:only-of-type {\n",
       "        vertical-align: middle;\n",
       "    }\n",
       "\n",
       "    .dataframe tbody tr th {\n",
       "        vertical-align: top;\n",
       "    }\n",
       "\n",
       "    .dataframe thead th {\n",
       "        text-align: right;\n",
       "    }\n",
       "</style>\n",
       "<table border=\"1\" class=\"dataframe\">\n",
       "  <thead>\n",
       "    <tr style=\"text-align: right;\">\n",
       "      <th></th>\n",
       "      <th>Date</th>\n",
       "      <th>Machine_ID</th>\n",
       "      <th>Assembly_Line_No</th>\n",
       "      <th>Hydraulic_Pressure(bar)</th>\n",
       "      <th>Coolant_Pressure(bar)</th>\n",
       "      <th>Air_System_Pressure(bar)</th>\n",
       "      <th>Coolant_Temperature</th>\n",
       "      <th>Hydraulic_Oil_Temperature</th>\n",
       "      <th>Spindle_Bearing_Temperature</th>\n",
       "      <th>Spindle_Vibration</th>\n",
       "      <th>Tool_Vibration</th>\n",
       "      <th>Spindle_Speed(RPM)</th>\n",
       "      <th>Voltage(volts)</th>\n",
       "      <th>Torque(Nm)</th>\n",
       "      <th>Cutting(kN)</th>\n",
       "      <th>Downtime</th>\n",
       "    </tr>\n",
       "  </thead>\n",
       "  <tbody>\n",
       "    <tr>\n",
       "      <th>0</th>\n",
       "      <td>31-12-2021</td>\n",
       "      <td>Makino-L1-Unit1-2013</td>\n",
       "      <td>Shopfloor-L1</td>\n",
       "      <td>71.04</td>\n",
       "      <td>6.933725</td>\n",
       "      <td>6.284965</td>\n",
       "      <td>25.6</td>\n",
       "      <td>46.0</td>\n",
       "      <td>33.4</td>\n",
       "      <td>1.291</td>\n",
       "      <td>26.492</td>\n",
       "      <td>25892.0</td>\n",
       "      <td>335.0</td>\n",
       "      <td>24.055326</td>\n",
       "      <td>3.58</td>\n",
       "      <td>Machine_Failure</td>\n",
       "    </tr>\n",
       "    <tr>\n",
       "      <th>1</th>\n",
       "      <td>31-12-2021</td>\n",
       "      <td>Makino-L1-Unit1-2013</td>\n",
       "      <td>Shopfloor-L1</td>\n",
       "      <td>125.33</td>\n",
       "      <td>4.936892</td>\n",
       "      <td>6.196733</td>\n",
       "      <td>35.3</td>\n",
       "      <td>47.4</td>\n",
       "      <td>34.6</td>\n",
       "      <td>1.382</td>\n",
       "      <td>25.274</td>\n",
       "      <td>19856.0</td>\n",
       "      <td>368.0</td>\n",
       "      <td>14.202890</td>\n",
       "      <td>2.68</td>\n",
       "      <td>Machine_Failure</td>\n",
       "    </tr>\n",
       "    <tr>\n",
       "      <th>2</th>\n",
       "      <td>31-12-2021</td>\n",
       "      <td>Makino-L3-Unit1-2015</td>\n",
       "      <td>Shopfloor-L3</td>\n",
       "      <td>71.12</td>\n",
       "      <td>6.839413</td>\n",
       "      <td>6.655448</td>\n",
       "      <td>13.1</td>\n",
       "      <td>40.7</td>\n",
       "      <td>33.0</td>\n",
       "      <td>1.319</td>\n",
       "      <td>30.608</td>\n",
       "      <td>19851.0</td>\n",
       "      <td>325.0</td>\n",
       "      <td>24.049267</td>\n",
       "      <td>3.55</td>\n",
       "      <td>Machine_Failure</td>\n",
       "    </tr>\n",
       "    <tr>\n",
       "      <th>3</th>\n",
       "      <td>31-05-2022</td>\n",
       "      <td>Makino-L2-Unit1-2015</td>\n",
       "      <td>Shopfloor-L2</td>\n",
       "      <td>139.34</td>\n",
       "      <td>4.574382</td>\n",
       "      <td>6.560394</td>\n",
       "      <td>24.4</td>\n",
       "      <td>44.2</td>\n",
       "      <td>40.6</td>\n",
       "      <td>0.618</td>\n",
       "      <td>30.791</td>\n",
       "      <td>18461.0</td>\n",
       "      <td>360.0</td>\n",
       "      <td>25.860029</td>\n",
       "      <td>3.55</td>\n",
       "      <td>Machine_Failure</td>\n",
       "    </tr>\n",
       "    <tr>\n",
       "      <th>4</th>\n",
       "      <td>31-03-2022</td>\n",
       "      <td>Makino-L1-Unit1-2013</td>\n",
       "      <td>Shopfloor-L1</td>\n",
       "      <td>60.51</td>\n",
       "      <td>6.893182</td>\n",
       "      <td>6.141238</td>\n",
       "      <td>4.1</td>\n",
       "      <td>47.3</td>\n",
       "      <td>31.4</td>\n",
       "      <td>0.983</td>\n",
       "      <td>25.516</td>\n",
       "      <td>26526.0</td>\n",
       "      <td>354.0</td>\n",
       "      <td>25.515874</td>\n",
       "      <td>3.55</td>\n",
       "      <td>Machine_Failure</td>\n",
       "    </tr>\n",
       "  </tbody>\n",
       "</table>\n",
       "</div>"
      ],
      "text/plain": [
       "         Date            Machine_ID Assembly_Line_No  Hydraulic_Pressure(bar)  \\\n",
       "0  31-12-2021  Makino-L1-Unit1-2013     Shopfloor-L1                    71.04   \n",
       "1  31-12-2021  Makino-L1-Unit1-2013     Shopfloor-L1                   125.33   \n",
       "2  31-12-2021  Makino-L3-Unit1-2015     Shopfloor-L3                    71.12   \n",
       "3  31-05-2022  Makino-L2-Unit1-2015     Shopfloor-L2                   139.34   \n",
       "4  31-03-2022  Makino-L1-Unit1-2013     Shopfloor-L1                    60.51   \n",
       "\n",
       "   Coolant_Pressure(bar)  Air_System_Pressure(bar)  Coolant_Temperature  \\\n",
       "0               6.933725                  6.284965                 25.6   \n",
       "1               4.936892                  6.196733                 35.3   \n",
       "2               6.839413                  6.655448                 13.1   \n",
       "3               4.574382                  6.560394                 24.4   \n",
       "4               6.893182                  6.141238                  4.1   \n",
       "\n",
       "   Hydraulic_Oil_Temperature  Spindle_Bearing_Temperature  Spindle_Vibration  \\\n",
       "0                       46.0                         33.4              1.291   \n",
       "1                       47.4                         34.6              1.382   \n",
       "2                       40.7                         33.0              1.319   \n",
       "3                       44.2                         40.6              0.618   \n",
       "4                       47.3                         31.4              0.983   \n",
       "\n",
       "   Tool_Vibration  Spindle_Speed(RPM)  Voltage(volts)  Torque(Nm)  \\\n",
       "0          26.492             25892.0           335.0   24.055326   \n",
       "1          25.274             19856.0           368.0   14.202890   \n",
       "2          30.608             19851.0           325.0   24.049267   \n",
       "3          30.791             18461.0           360.0   25.860029   \n",
       "4          25.516             26526.0           354.0   25.515874   \n",
       "\n",
       "   Cutting(kN)         Downtime  \n",
       "0         3.58  Machine_Failure  \n",
       "1         2.68  Machine_Failure  \n",
       "2         3.55  Machine_Failure  \n",
       "3         3.55  Machine_Failure  \n",
       "4         3.55  Machine_Failure  "
      ]
     },
     "execution_count": 13,
     "metadata": {},
     "output_type": "execute_result"
    }
   ],
   "source": [
    "#viewing the dataframe\n",
    "df.head()"
   ]
  },
  {
   "cell_type": "code",
   "execution_count": 14,
   "id": "5a79754a-ebaa-4c36-ac29-38b5ebf0160c",
   "metadata": {},
   "outputs": [
    {
     "data": {
      "text/plain": [
       "(2500, 16)"
      ]
     },
     "execution_count": 14,
     "metadata": {},
     "output_type": "execute_result"
    }
   ],
   "source": [
    "#checking the number of rows and columns in the dataframe\n",
    "df.shape"
   ]
  },
  {
   "cell_type": "markdown",
   "id": "5248abb7-d9a9-4b7d-8ef9-e6d876a830ba",
   "metadata": {},
   "source": [
    "This data set has 2500 rows and 16 columns consisting of both numeric and categorical features."
   ]
  },
  {
   "cell_type": "markdown",
   "id": "23de5db2-26f3-4178-abbb-3336fa87d26f",
   "metadata": {},
   "source": [
    "# 3.1 Dataset Inspection"
   ]
  },
  {
   "cell_type": "code",
   "execution_count": null,
   "id": "856f58f1-4d64-472d-8329-70c86d80c73d",
   "metadata": {},
   "outputs": [],
   "source": []
  }
 ],
 "metadata": {
  "kernelspec": {
   "display_name": "Python 3 (ipykernel)",
   "language": "python",
   "name": "python3"
  },
  "language_info": {
   "codemirror_mode": {
    "name": "ipython",
    "version": 3
   },
   "file_extension": ".py",
   "mimetype": "text/x-python",
   "name": "python",
   "nbconvert_exporter": "python",
   "pygments_lexer": "ipython3",
   "version": "3.12.3"
  }
 },
 "nbformat": 4,
 "nbformat_minor": 5
}
