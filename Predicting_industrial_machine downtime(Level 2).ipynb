{
 "cells": [
  {
   "cell_type": "markdown",
   "id": "4504858f-4bcf-4a07-a097-b87aa95171c6",
   "metadata": {},
   "source": [
    "# Predicting industrial machine downtime 🛠️"
   ]
  },
  {
   "cell_type": "markdown",
   "id": "b2ea469a-4c88-40c9-aa9d-9ad7ff5e3d79",
   "metadata": {},
   "source": [
    "###Table of Content"
   ]
  },
  {
   "cell_type": "markdown",
   "id": "231ce90f-c799-4fde-bfc8-830f7f96cf23",
   "metadata": {},
   "source": [
    "## 1. Introduction"
   ]
  },
  {
   "cell_type": "markdown",
   "id": "f1c50d72-c25f-49e2-8104-bb342443166d",
   "metadata": {},
   "source": [
    "Objective :"
   ]
  },
  {
   "cell_type": "markdown",
   "id": "3d2f4abe-8b40-4514-bfa1-04507c6e95d4",
   "metadata": {},
   "source": [
    "Methodology : "
   ]
  },
  {
   "cell_type": "markdown",
   "id": "da4910a3-5866-4e70-ace0-fb0485ffee38",
   "metadata": {},
   "source": [
    "Data :"
   ]
  },
  {
   "cell_type": "markdown",
   "id": "12c988af-e377-4cca-b246-8090c87d9003",
   "metadata": {},
   "source": [
    "Summary :"
   ]
  },
  {
   "cell_type": "markdown",
   "id": "9c575fd7-b0a2-4eaf-950c-5d30074ce065",
   "metadata": {},
   "source": [
    "## 2. Librairies & Configurations"
   ]
  },
  {
   "cell_type": "markdown",
   "id": "53670631-8697-4676-9417-5eed8ed41db7",
   "metadata": {},
   "source": [
    "### 2.1 Librairies"
   ]
  },
  {
   "cell_type": "code",
   "execution_count": 1,
   "id": "8ebdd838-9680-4a53-900c-45df5b0ca6ee",
   "metadata": {},
   "outputs": [],
   "source": [
    "import pandas as pd"
   ]
  },
  {
   "cell_type": "markdown",
   "id": "a04bcd78-a0b0-4f04-9bda-a1057e239932",
   "metadata": {},
   "source": [
    "### 2.3 Configurations"
   ]
  },
  {
   "cell_type": "markdown",
   "id": "9be1e9a3-66f8-409f-913d-bbe378a0928e",
   "metadata": {},
   "source": [
    "# 3. Data Wrangling"
   ]
  },
  {
   "cell_type": "markdown",
   "id": "5ad12e37-0d4e-4f7e-8b6d-06b6d49e6d81",
   "metadata": {},
   "source": [
    "Loading and wrangling the data "
   ]
  },
  {
   "cell_type": "code",
   "execution_count": 2,
   "id": "4202ce99-1283-4b1c-ae1c-fc9ab9a0e01c",
   "metadata": {},
   "outputs": [],
   "source": [
    "#Loading the dataframe \n",
    "df = pd.read_csv('machine_downtime.csv')"
   ]
  },
  {
   "cell_type": "code",
   "execution_count": 3,
   "id": "c3697550-1784-49ed-af50-051779596a2d",
   "metadata": {},
   "outputs": [
    {
     "data": {
      "text/html": [
       "<div>\n",
       "<style scoped>\n",
       "    .dataframe tbody tr th:only-of-type {\n",
       "        vertical-align: middle;\n",
       "    }\n",
       "\n",
       "    .dataframe tbody tr th {\n",
       "        vertical-align: top;\n",
       "    }\n",
       "\n",
       "    .dataframe thead th {\n",
       "        text-align: right;\n",
       "    }\n",
       "</style>\n",
       "<table border=\"1\" class=\"dataframe\">\n",
       "  <thead>\n",
       "    <tr style=\"text-align: right;\">\n",
       "      <th></th>\n",
       "      <th>Date</th>\n",
       "      <th>Machine_ID</th>\n",
       "      <th>Assembly_Line_No</th>\n",
       "      <th>Hydraulic_Pressure(bar)</th>\n",
       "      <th>Coolant_Pressure(bar)</th>\n",
       "      <th>Air_System_Pressure(bar)</th>\n",
       "      <th>Coolant_Temperature</th>\n",
       "      <th>Hydraulic_Oil_Temperature</th>\n",
       "      <th>Spindle_Bearing_Temperature</th>\n",
       "      <th>Spindle_Vibration</th>\n",
       "      <th>Tool_Vibration</th>\n",
       "      <th>Spindle_Speed(RPM)</th>\n",
       "      <th>Voltage(volts)</th>\n",
       "      <th>Torque(Nm)</th>\n",
       "      <th>Cutting(kN)</th>\n",
       "      <th>Downtime</th>\n",
       "    </tr>\n",
       "  </thead>\n",
       "  <tbody>\n",
       "    <tr>\n",
       "      <th>0</th>\n",
       "      <td>31-12-2021</td>\n",
       "      <td>Makino-L1-Unit1-2013</td>\n",
       "      <td>Shopfloor-L1</td>\n",
       "      <td>71.04</td>\n",
       "      <td>6.933725</td>\n",
       "      <td>6.284965</td>\n",
       "      <td>25.6</td>\n",
       "      <td>46.0</td>\n",
       "      <td>33.4</td>\n",
       "      <td>1.291</td>\n",
       "      <td>26.492</td>\n",
       "      <td>25892.0</td>\n",
       "      <td>335.0</td>\n",
       "      <td>24.055326</td>\n",
       "      <td>3.58</td>\n",
       "      <td>Machine_Failure</td>\n",
       "    </tr>\n",
       "    <tr>\n",
       "      <th>1</th>\n",
       "      <td>31-12-2021</td>\n",
       "      <td>Makino-L1-Unit1-2013</td>\n",
       "      <td>Shopfloor-L1</td>\n",
       "      <td>125.33</td>\n",
       "      <td>4.936892</td>\n",
       "      <td>6.196733</td>\n",
       "      <td>35.3</td>\n",
       "      <td>47.4</td>\n",
       "      <td>34.6</td>\n",
       "      <td>1.382</td>\n",
       "      <td>25.274</td>\n",
       "      <td>19856.0</td>\n",
       "      <td>368.0</td>\n",
       "      <td>14.202890</td>\n",
       "      <td>2.68</td>\n",
       "      <td>Machine_Failure</td>\n",
       "    </tr>\n",
       "    <tr>\n",
       "      <th>2</th>\n",
       "      <td>31-12-2021</td>\n",
       "      <td>Makino-L3-Unit1-2015</td>\n",
       "      <td>Shopfloor-L3</td>\n",
       "      <td>71.12</td>\n",
       "      <td>6.839413</td>\n",
       "      <td>6.655448</td>\n",
       "      <td>13.1</td>\n",
       "      <td>40.7</td>\n",
       "      <td>33.0</td>\n",
       "      <td>1.319</td>\n",
       "      <td>30.608</td>\n",
       "      <td>19851.0</td>\n",
       "      <td>325.0</td>\n",
       "      <td>24.049267</td>\n",
       "      <td>3.55</td>\n",
       "      <td>Machine_Failure</td>\n",
       "    </tr>\n",
       "    <tr>\n",
       "      <th>3</th>\n",
       "      <td>31-05-2022</td>\n",
       "      <td>Makino-L2-Unit1-2015</td>\n",
       "      <td>Shopfloor-L2</td>\n",
       "      <td>139.34</td>\n",
       "      <td>4.574382</td>\n",
       "      <td>6.560394</td>\n",
       "      <td>24.4</td>\n",
       "      <td>44.2</td>\n",
       "      <td>40.6</td>\n",
       "      <td>0.618</td>\n",
       "      <td>30.791</td>\n",
       "      <td>18461.0</td>\n",
       "      <td>360.0</td>\n",
       "      <td>25.860029</td>\n",
       "      <td>3.55</td>\n",
       "      <td>Machine_Failure</td>\n",
       "    </tr>\n",
       "    <tr>\n",
       "      <th>4</th>\n",
       "      <td>31-03-2022</td>\n",
       "      <td>Makino-L1-Unit1-2013</td>\n",
       "      <td>Shopfloor-L1</td>\n",
       "      <td>60.51</td>\n",
       "      <td>6.893182</td>\n",
       "      <td>6.141238</td>\n",
       "      <td>4.1</td>\n",
       "      <td>47.3</td>\n",
       "      <td>31.4</td>\n",
       "      <td>0.983</td>\n",
       "      <td>25.516</td>\n",
       "      <td>26526.0</td>\n",
       "      <td>354.0</td>\n",
       "      <td>25.515874</td>\n",
       "      <td>3.55</td>\n",
       "      <td>Machine_Failure</td>\n",
       "    </tr>\n",
       "  </tbody>\n",
       "</table>\n",
       "</div>"
      ],
      "text/plain": [
       "         Date            Machine_ID Assembly_Line_No  Hydraulic_Pressure(bar)  \\\n",
       "0  31-12-2021  Makino-L1-Unit1-2013     Shopfloor-L1                    71.04   \n",
       "1  31-12-2021  Makino-L1-Unit1-2013     Shopfloor-L1                   125.33   \n",
       "2  31-12-2021  Makino-L3-Unit1-2015     Shopfloor-L3                    71.12   \n",
       "3  31-05-2022  Makino-L2-Unit1-2015     Shopfloor-L2                   139.34   \n",
       "4  31-03-2022  Makino-L1-Unit1-2013     Shopfloor-L1                    60.51   \n",
       "\n",
       "   Coolant_Pressure(bar)  Air_System_Pressure(bar)  Coolant_Temperature  \\\n",
       "0               6.933725                  6.284965                 25.6   \n",
       "1               4.936892                  6.196733                 35.3   \n",
       "2               6.839413                  6.655448                 13.1   \n",
       "3               4.574382                  6.560394                 24.4   \n",
       "4               6.893182                  6.141238                  4.1   \n",
       "\n",
       "   Hydraulic_Oil_Temperature  Spindle_Bearing_Temperature  Spindle_Vibration  \\\n",
       "0                       46.0                         33.4              1.291   \n",
       "1                       47.4                         34.6              1.382   \n",
       "2                       40.7                         33.0              1.319   \n",
       "3                       44.2                         40.6              0.618   \n",
       "4                       47.3                         31.4              0.983   \n",
       "\n",
       "   Tool_Vibration  Spindle_Speed(RPM)  Voltage(volts)  Torque(Nm)  \\\n",
       "0          26.492             25892.0           335.0   24.055326   \n",
       "1          25.274             19856.0           368.0   14.202890   \n",
       "2          30.608             19851.0           325.0   24.049267   \n",
       "3          30.791             18461.0           360.0   25.860029   \n",
       "4          25.516             26526.0           354.0   25.515874   \n",
       "\n",
       "   Cutting(kN)         Downtime  \n",
       "0         3.58  Machine_Failure  \n",
       "1         2.68  Machine_Failure  \n",
       "2         3.55  Machine_Failure  \n",
       "3         3.55  Machine_Failure  \n",
       "4         3.55  Machine_Failure  "
      ]
     },
     "execution_count": 3,
     "metadata": {},
     "output_type": "execute_result"
    }
   ],
   "source": [
    "#viewing the dataframe\n",
    "df.head()"
   ]
  },
  {
   "cell_type": "code",
   "execution_count": 4,
   "id": "5a79754a-ebaa-4c36-ac29-38b5ebf0160c",
   "metadata": {},
   "outputs": [
    {
     "data": {
      "text/plain": [
       "(2500, 16)"
      ]
     },
     "execution_count": 4,
     "metadata": {},
     "output_type": "execute_result"
    }
   ],
   "source": [
    "#checking the number of rows and columns in the dataframe\n",
    "df.shape"
   ]
  },
  {
   "cell_type": "markdown",
   "id": "5248abb7-d9a9-4b7d-8ef9-e6d876a830ba",
   "metadata": {},
   "source": [
    "This data set has 2500 rows and 16 columns consisting of both numeric and categorical features."
   ]
  },
  {
   "cell_type": "markdown",
   "id": "23de5db2-26f3-4178-abbb-3336fa87d26f",
   "metadata": {},
   "source": [
    "# 3.1 Dataset Inspection"
   ]
  },
  {
   "cell_type": "markdown",
   "id": "62f94c22-ab5a-4ffa-8b9d-c3b6d87720ea",
   "metadata": {},
   "source": [
    "The objective is to ensure the accuracy and validity of the data within the dataset."
   ]
  },
  {
   "cell_type": "code",
   "execution_count": 5,
   "id": "7ff98c5d-61d9-42ff-a5c7-2c4f7ed44a35",
   "metadata": {},
   "outputs": [
    {
     "name": "stdout",
     "output_type": "stream",
     "text": [
      "<class 'pandas.core.frame.DataFrame'>\n",
      "RangeIndex: 2500 entries, 0 to 2499\n",
      "Data columns (total 16 columns):\n",
      " #   Column                       Non-Null Count  Dtype  \n",
      "---  ------                       --------------  -----  \n",
      " 0   Date                         2500 non-null   object \n",
      " 1   Machine_ID                   2500 non-null   object \n",
      " 2   Assembly_Line_No             2500 non-null   object \n",
      " 3   Hydraulic_Pressure(bar)      2490 non-null   float64\n",
      " 4   Coolant_Pressure(bar)        2481 non-null   float64\n",
      " 5   Air_System_Pressure(bar)     2483 non-null   float64\n",
      " 6   Coolant_Temperature          2488 non-null   float64\n",
      " 7   Hydraulic_Oil_Temperature    2484 non-null   float64\n",
      " 8   Spindle_Bearing_Temperature  2493 non-null   float64\n",
      " 9   Spindle_Vibration            2489 non-null   float64\n",
      " 10  Tool_Vibration               2489 non-null   float64\n",
      " 11  Spindle_Speed(RPM)           2494 non-null   float64\n",
      " 12  Voltage(volts)               2494 non-null   float64\n",
      " 13  Torque(Nm)                   2479 non-null   float64\n",
      " 14  Cutting(kN)                  2493 non-null   float64\n",
      " 15  Downtime                     2500 non-null   object \n",
      "dtypes: float64(12), object(4)\n",
      "memory usage: 312.6+ KB\n"
     ]
    }
   ],
   "source": [
    "df.info()"
   ]
  },
  {
   "cell_type": "code",
   "execution_count": 6,
   "id": "5997fe35-b169-4e95-a1e1-6e3d2cf510e2",
   "metadata": {},
   "outputs": [
    {
     "data": {
      "text/html": [
       "<div>\n",
       "<style scoped>\n",
       "    .dataframe tbody tr th:only-of-type {\n",
       "        vertical-align: middle;\n",
       "    }\n",
       "\n",
       "    .dataframe tbody tr th {\n",
       "        vertical-align: top;\n",
       "    }\n",
       "\n",
       "    .dataframe thead th {\n",
       "        text-align: right;\n",
       "    }\n",
       "</style>\n",
       "<table border=\"1\" class=\"dataframe\">\n",
       "  <thead>\n",
       "    <tr style=\"text-align: right;\">\n",
       "      <th></th>\n",
       "      <th>Hydraulic_Pressure(bar)</th>\n",
       "      <th>Coolant_Pressure(bar)</th>\n",
       "      <th>Air_System_Pressure(bar)</th>\n",
       "      <th>Coolant_Temperature</th>\n",
       "      <th>Hydraulic_Oil_Temperature</th>\n",
       "      <th>Spindle_Bearing_Temperature</th>\n",
       "      <th>Spindle_Vibration</th>\n",
       "      <th>Tool_Vibration</th>\n",
       "      <th>Spindle_Speed(RPM)</th>\n",
       "      <th>Voltage(volts)</th>\n",
       "      <th>Torque(Nm)</th>\n",
       "      <th>Cutting(kN)</th>\n",
       "    </tr>\n",
       "  </thead>\n",
       "  <tbody>\n",
       "    <tr>\n",
       "      <th>count</th>\n",
       "      <td>2490.000000</td>\n",
       "      <td>2481.000000</td>\n",
       "      <td>2483.000000</td>\n",
       "      <td>2488.000000</td>\n",
       "      <td>2484.000000</td>\n",
       "      <td>2493.000000</td>\n",
       "      <td>2489.000000</td>\n",
       "      <td>2489.000000</td>\n",
       "      <td>2494.000000</td>\n",
       "      <td>2494.000000</td>\n",
       "      <td>2479.000000</td>\n",
       "      <td>2493.000000</td>\n",
       "    </tr>\n",
       "    <tr>\n",
       "      <th>mean</th>\n",
       "      <td>101.409084</td>\n",
       "      <td>4.947058</td>\n",
       "      <td>6.499275</td>\n",
       "      <td>18.559887</td>\n",
       "      <td>47.618317</td>\n",
       "      <td>35.063698</td>\n",
       "      <td>1.009334</td>\n",
       "      <td>25.411975</td>\n",
       "      <td>20274.792302</td>\n",
       "      <td>348.996792</td>\n",
       "      <td>25.234968</td>\n",
       "      <td>2.782551</td>\n",
       "    </tr>\n",
       "    <tr>\n",
       "      <th>std</th>\n",
       "      <td>30.289301</td>\n",
       "      <td>0.997357</td>\n",
       "      <td>0.407279</td>\n",
       "      <td>8.554480</td>\n",
       "      <td>3.768674</td>\n",
       "      <td>3.764823</td>\n",
       "      <td>0.342898</td>\n",
       "      <td>6.437142</td>\n",
       "      <td>3852.660056</td>\n",
       "      <td>45.376024</td>\n",
       "      <td>6.138564</td>\n",
       "      <td>0.616688</td>\n",
       "    </tr>\n",
       "    <tr>\n",
       "      <th>min</th>\n",
       "      <td>-14.326454</td>\n",
       "      <td>0.325000</td>\n",
       "      <td>5.063480</td>\n",
       "      <td>4.100000</td>\n",
       "      <td>35.200000</td>\n",
       "      <td>22.600000</td>\n",
       "      <td>-0.461000</td>\n",
       "      <td>2.161000</td>\n",
       "      <td>0.000000</td>\n",
       "      <td>202.000000</td>\n",
       "      <td>0.000000</td>\n",
       "      <td>1.800000</td>\n",
       "    </tr>\n",
       "    <tr>\n",
       "      <th>25%</th>\n",
       "      <td>76.355000</td>\n",
       "      <td>4.462464</td>\n",
       "      <td>6.217987</td>\n",
       "      <td>10.400000</td>\n",
       "      <td>45.100000</td>\n",
       "      <td>32.500000</td>\n",
       "      <td>0.777000</td>\n",
       "      <td>21.089000</td>\n",
       "      <td>17919.000000</td>\n",
       "      <td>319.000000</td>\n",
       "      <td>21.666115</td>\n",
       "      <td>2.250000</td>\n",
       "    </tr>\n",
       "    <tr>\n",
       "      <th>50%</th>\n",
       "      <td>96.763486</td>\n",
       "      <td>4.939960</td>\n",
       "      <td>6.505191</td>\n",
       "      <td>21.200000</td>\n",
       "      <td>47.700000</td>\n",
       "      <td>35.100000</td>\n",
       "      <td>1.008000</td>\n",
       "      <td>25.455000</td>\n",
       "      <td>20137.500000</td>\n",
       "      <td>349.000000</td>\n",
       "      <td>24.647736</td>\n",
       "      <td>2.780000</td>\n",
       "    </tr>\n",
       "    <tr>\n",
       "      <th>75%</th>\n",
       "      <td>126.415727</td>\n",
       "      <td>5.518401</td>\n",
       "      <td>6.780550</td>\n",
       "      <td>25.600000</td>\n",
       "      <td>50.100000</td>\n",
       "      <td>37.600000</td>\n",
       "      <td>1.236000</td>\n",
       "      <td>29.790000</td>\n",
       "      <td>22501.750000</td>\n",
       "      <td>380.000000</td>\n",
       "      <td>30.514008</td>\n",
       "      <td>3.270000</td>\n",
       "    </tr>\n",
       "    <tr>\n",
       "      <th>max</th>\n",
       "      <td>191.000000</td>\n",
       "      <td>11.350000</td>\n",
       "      <td>7.973992</td>\n",
       "      <td>98.200000</td>\n",
       "      <td>61.400000</td>\n",
       "      <td>49.500000</td>\n",
       "      <td>2.000000</td>\n",
       "      <td>45.726000</td>\n",
       "      <td>27957.000000</td>\n",
       "      <td>479.000000</td>\n",
       "      <td>55.552400</td>\n",
       "      <td>3.930000</td>\n",
       "    </tr>\n",
       "  </tbody>\n",
       "</table>\n",
       "</div>"
      ],
      "text/plain": [
       "       Hydraulic_Pressure(bar)  Coolant_Pressure(bar)  \\\n",
       "count              2490.000000            2481.000000   \n",
       "mean                101.409084               4.947058   \n",
       "std                  30.289301               0.997357   \n",
       "min                 -14.326454               0.325000   \n",
       "25%                  76.355000               4.462464   \n",
       "50%                  96.763486               4.939960   \n",
       "75%                 126.415727               5.518401   \n",
       "max                 191.000000              11.350000   \n",
       "\n",
       "       Air_System_Pressure(bar)  Coolant_Temperature  \\\n",
       "count               2483.000000          2488.000000   \n",
       "mean                   6.499275            18.559887   \n",
       "std                    0.407279             8.554480   \n",
       "min                    5.063480             4.100000   \n",
       "25%                    6.217987            10.400000   \n",
       "50%                    6.505191            21.200000   \n",
       "75%                    6.780550            25.600000   \n",
       "max                    7.973992            98.200000   \n",
       "\n",
       "       Hydraulic_Oil_Temperature  Spindle_Bearing_Temperature  \\\n",
       "count                2484.000000                  2493.000000   \n",
       "mean                   47.618317                    35.063698   \n",
       "std                     3.768674                     3.764823   \n",
       "min                    35.200000                    22.600000   \n",
       "25%                    45.100000                    32.500000   \n",
       "50%                    47.700000                    35.100000   \n",
       "75%                    50.100000                    37.600000   \n",
       "max                    61.400000                    49.500000   \n",
       "\n",
       "       Spindle_Vibration  Tool_Vibration  Spindle_Speed(RPM)  Voltage(volts)  \\\n",
       "count        2489.000000     2489.000000         2494.000000     2494.000000   \n",
       "mean            1.009334       25.411975        20274.792302      348.996792   \n",
       "std             0.342898        6.437142         3852.660056       45.376024   \n",
       "min            -0.461000        2.161000            0.000000      202.000000   \n",
       "25%             0.777000       21.089000        17919.000000      319.000000   \n",
       "50%             1.008000       25.455000        20137.500000      349.000000   \n",
       "75%             1.236000       29.790000        22501.750000      380.000000   \n",
       "max             2.000000       45.726000        27957.000000      479.000000   \n",
       "\n",
       "        Torque(Nm)  Cutting(kN)  \n",
       "count  2479.000000  2493.000000  \n",
       "mean     25.234968     2.782551  \n",
       "std       6.138564     0.616688  \n",
       "min       0.000000     1.800000  \n",
       "25%      21.666115     2.250000  \n",
       "50%      24.647736     2.780000  \n",
       "75%      30.514008     3.270000  \n",
       "max      55.552400     3.930000  "
      ]
     },
     "execution_count": 6,
     "metadata": {},
     "output_type": "execute_result"
    }
   ],
   "source": [
    "df.describe()"
   ]
  },
  {
   "cell_type": "code",
   "execution_count": 10,
   "id": "6b900eb6-f3d4-4701-b399-e7d971d77a6a",
   "metadata": {},
   "outputs": [
    {
     "data": {
      "text/plain": [
       "Index(['Date', 'Machine_ID', 'Assembly_Line_No', 'Downtime'], dtype='object')"
      ]
     },
     "execution_count": 10,
     "metadata": {},
     "output_type": "execute_result"
    }
   ],
   "source": [
    "# Select object columns\n",
    "object_columns = df.select_dtypes(include=['object']).columns\n",
    "object_columns"
   ]
  },
  {
   "cell_type": "code",
   "execution_count": null,
   "id": "f99c2dd0-f1b8-48ba-adb5-2b516e58df07",
   "metadata": {},
   "outputs": [],
   "source": [
    "# Print unique values for each object columns"
   ]
  },
  {
   "cell_type": "code",
   "execution_count": 12,
   "id": "e1c17ad5-e981-40a4-8649-72d4fe3cc64a",
   "metadata": {},
   "outputs": [
    {
     "name": "stdout",
     "output_type": "stream",
     "text": [
      "Date :  ['31-12-2021' '31-05-2022' '31-03-2022' '31-01-2022' '30-12-2021'\n",
      " '30-04-2022' '30-03-2022' '30-01-2022' '29-12-2021' '29-05-2022'\n",
      " '29-04-2022' '29-03-2022' '29-01-2022' '28-12-2021' '28-04-2022'\n",
      " '28-03-2022' '28-02-2022' '28-01-2022' '27-12-2021' '27-05-2022'\n",
      " '27-04-2022' '27-03-2022' '27-02-2022' '27-01-2022' '26-12-2021'\n",
      " '26-05-2022' '26-04-2022' '26-03-2022' '26-02-2022' '26-01-2022'\n",
      " '25-05-2022' '25-04-2022' '25-03-2022' '25-02-2022' '25-01-2022'\n",
      " '24-12-2021' '24-11-2021' '24-05-2022' '24-04-2022' '24-03-2022'\n",
      " '24-02-2022' '24-01-2022' '23-05-2022' '23-04-2022' '23-03-2022'\n",
      " '23-02-2022' '23-01-2022' '22-12-2021' '22-04-2022' '22-03-2022'\n",
      " '22-02-2022' '22-01-2022' '21-12-2021' '21-05-2022' '21-04-2022'\n",
      " '21-03-2022' '21-02-2022' '21-01-2022' '20-04-2022' '20-03-2022'\n",
      " '20-02-2022' '20-01-2022' '19-06-2022' '19-05-2022' '19-04-2022'\n",
      " '19-03-2022' '19-02-2022' '19-01-2022' '18-05-2022' '18-04-2022'\n",
      " '18-03-2022' '18-02-2022' '18-01-2022' '17-12-2021' '17-05-2022'\n",
      " '17-04-2022' '17-03-2022' '17-02-2022' '17-01-2022' '16-05-2022'\n",
      " '16-04-2022' '16-03-2022' '16-02-2022' '16-01-2022' '15-05-2022'\n",
      " '15-04-2022' '15-03-2022' '15-02-2022' '15-01-2022' '14-05-2022'\n",
      " '14-04-2022' '14-03-2022' '14-02-2022' '14-01-2022' '13-06-2022'\n",
      " '13-05-2022' '13-04-2022' '13-03-2022' '13-02-2022' '13-01-2022'\n",
      " '12-05-2022' '12-04-2022' '12-03-2022' '12-02-2022' '12-01-2022'\n",
      " '11-05-2022' '11-04-2022' '11-03-2022' '11-02-2022' '11-01-2022'\n",
      " '10-05-2022' '10-04-2022' '10-03-2022' '10-02-2022' '10-01-2022'\n",
      " '09-06-2022' '09-05-2022' '09-04-2022' '09-03-2022' '09-02-2022'\n",
      " '09-01-2022' '08-12-2021' '08-05-2022' '08-04-2022' '08-03-2022'\n",
      " '08-02-2022' '08-01-2022' '07-06-2022' '07-05-2022' '07-04-2022'\n",
      " '07-03-2022' '07-02-2022' '07-01-2022' '06-06-2022' '06-05-2022'\n",
      " '06-04-2022' '06-03-2022' '06-02-2022' '06-01-2022' '05-05-2022'\n",
      " '05-04-2022' '05-03-2022' '05-02-2022' '05-01-2022' '04-06-2022'\n",
      " '04-05-2022' '04-04-2022' '04-03-2022' '04-02-2022' '03-07-2022'\n",
      " '03-05-2022' '03-04-2022' '03-03-2022' '03-02-2022' '03-01-2022'\n",
      " '02-05-2022' '02-04-2022' '02-03-2022' '02-02-2022' '01-06-2022'\n",
      " '01-05-2022' '01-04-2022' '01-03-2022' '01-02-2022']\n",
      "Machine_ID :  ['Makino-L1-Unit1-2013' 'Makino-L3-Unit1-2015' 'Makino-L2-Unit1-2015']\n",
      "Assembly_Line_No :  ['Shopfloor-L1' 'Shopfloor-L3' 'Shopfloor-L2']\n",
      "Downtime :  ['Machine_Failure' 'No_Machine_Failure']\n"
     ]
    }
   ],
   "source": [
    "for col in object_columns:\n",
    "    print(f'{col} :  {df[col].unique()}')"
   ]
  },
  {
   "cell_type": "markdown",
   "id": "071e40d3-7576-4f7a-a0ef-de8ea8e352b7",
   "metadata": {},
   "source": [
    "We confirmed that the data presented in the objects is useful; however, we noticed some NaN values and identified opportunities to improve the categorization of the data for a more effective analysis of the dataset."
   ]
  },
  {
   "cell_type": "code",
   "execution_count": 15,
   "id": "15ff7572-10e2-4444-b39a-a3ba83b1097b",
   "metadata": {},
   "outputs": [
    {
     "data": {
      "text/plain": [
       "Index(['Hydraulic_Pressure(bar)', 'Coolant_Pressure(bar)',\n",
       "       'Air_System_Pressure(bar)', 'Coolant_Temperature',\n",
       "       'Hydraulic_Oil_Temperature', 'Spindle_Bearing_Temperature',\n",
       "       'Spindle_Vibration', 'Tool_Vibration', 'Spindle_Speed(RPM)',\n",
       "       'Voltage(volts)', 'Torque(Nm)', 'Cutting(kN)'],\n",
       "      dtype='object')"
      ]
     },
     "execution_count": 15,
     "metadata": {},
     "output_type": "execute_result"
    }
   ],
   "source": [
    "# Select float columns\n",
    "float_columns = df.select_dtypes(include=['float']).columns\n",
    "float_columns"
   ]
  },
  {
   "cell_type": "code",
   "execution_count": null,
   "id": "cda283b8-6f7d-40db-8bfe-090018eb782a",
   "metadata": {},
   "outputs": [],
   "source": []
  }
 ],
 "metadata": {
  "kernelspec": {
   "display_name": "Python 3 (ipykernel)",
   "language": "python",
   "name": "python3"
  },
  "language_info": {
   "codemirror_mode": {
    "name": "ipython",
    "version": 3
   },
   "file_extension": ".py",
   "mimetype": "text/x-python",
   "name": "python",
   "nbconvert_exporter": "python",
   "pygments_lexer": "ipython3",
   "version": "3.12.3"
  }
 },
 "nbformat": 4,
 "nbformat_minor": 5
}
