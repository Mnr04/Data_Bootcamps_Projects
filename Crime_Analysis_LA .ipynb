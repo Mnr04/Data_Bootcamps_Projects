{
 "cells": [
  {
   "cell_type": "markdown",
   "id": "61e13ad2-9cda-4ab5-83a1-9a79af8f1505",
   "metadata": {},
   "source": [
    "# Introduction\n",
    "\n",
    "Welcome to this project analyzing crime data from Los Angeles, California, known as the \"City of Angels.\" 🌴✨\n",
    "\n",
    "Los Angeles is famous for its sunny weather, palm trees, and entertainment industry. However, like any major city, it also faces challenges, including a high crime rate. This project aims to explore a crime dataset to identify patterns in criminal behavior and provide valuable insights to the Los Angeles Police Department (LAPD).\n",
    "\n",
    "By analyzing the `crimes.csv` file, we will address the following questions:\n",
    "\n",
    "- **Which hour has the highest frequency of crimes?** \n",
    "- **Which area has the largest frequency of night crimes (crimes committed between 10 PM and 3:59 AM)?** \n",
    "- **What is the number of crimes committed against victims of different age groups?** \n",
    "\n",
    "These analyses will assist the LAPD in effectively allocating resources to tackle crime in various areas. Let’s dive into the data!"
   ]
  },
  {
   "cell_type": "code",
   "execution_count": 1,
   "id": "888ef591-f40f-47e1-8574-083b48159ea3",
   "metadata": {},
   "outputs": [
    {
     "data": {
      "text/html": [
       "<div>\n",
       "<style scoped>\n",
       "    .dataframe tbody tr th:only-of-type {\n",
       "        vertical-align: middle;\n",
       "    }\n",
       "\n",
       "    .dataframe tbody tr th {\n",
       "        vertical-align: top;\n",
       "    }\n",
       "\n",
       "    .dataframe thead th {\n",
       "        text-align: right;\n",
       "    }\n",
       "</style>\n",
       "<table border=\"1\" class=\"dataframe\">\n",
       "  <thead>\n",
       "    <tr style=\"text-align: right;\">\n",
       "      <th></th>\n",
       "      <th>DR_NO</th>\n",
       "      <th>Date Rptd</th>\n",
       "      <th>DATE OCC</th>\n",
       "      <th>TIME OCC</th>\n",
       "      <th>AREA NAME</th>\n",
       "      <th>Crm Cd Desc</th>\n",
       "      <th>Vict Age</th>\n",
       "      <th>Vict Sex</th>\n",
       "      <th>Vict Descent</th>\n",
       "      <th>Weapon Desc</th>\n",
       "      <th>Status Desc</th>\n",
       "      <th>LOCATION</th>\n",
       "    </tr>\n",
       "  </thead>\n",
       "  <tbody>\n",
       "    <tr>\n",
       "      <th>0</th>\n",
       "      <td>220314085</td>\n",
       "      <td>2022-07-22</td>\n",
       "      <td>2020-05-12</td>\n",
       "      <td>1110</td>\n",
       "      <td>Southwest</td>\n",
       "      <td>THEFT OF IDENTITY</td>\n",
       "      <td>27</td>\n",
       "      <td>F</td>\n",
       "      <td>B</td>\n",
       "      <td>NaN</td>\n",
       "      <td>Invest Cont</td>\n",
       "      <td>2500 S  SYCAMORE                     AV</td>\n",
       "    </tr>\n",
       "    <tr>\n",
       "      <th>1</th>\n",
       "      <td>222013040</td>\n",
       "      <td>2022-08-06</td>\n",
       "      <td>2020-06-04</td>\n",
       "      <td>1620</td>\n",
       "      <td>Olympic</td>\n",
       "      <td>THEFT OF IDENTITY</td>\n",
       "      <td>60</td>\n",
       "      <td>M</td>\n",
       "      <td>H</td>\n",
       "      <td>NaN</td>\n",
       "      <td>Invest Cont</td>\n",
       "      <td>3300    SAN MARINO                   ST</td>\n",
       "    </tr>\n",
       "    <tr>\n",
       "      <th>2</th>\n",
       "      <td>220614831</td>\n",
       "      <td>2022-08-18</td>\n",
       "      <td>2020-08-17</td>\n",
       "      <td>1200</td>\n",
       "      <td>Hollywood</td>\n",
       "      <td>THEFT OF IDENTITY</td>\n",
       "      <td>28</td>\n",
       "      <td>M</td>\n",
       "      <td>H</td>\n",
       "      <td>NaN</td>\n",
       "      <td>Invest Cont</td>\n",
       "      <td>1900    TRANSIENT</td>\n",
       "    </tr>\n",
       "    <tr>\n",
       "      <th>3</th>\n",
       "      <td>231207725</td>\n",
       "      <td>2023-02-27</td>\n",
       "      <td>2020-01-27</td>\n",
       "      <td>0635</td>\n",
       "      <td>77th Street</td>\n",
       "      <td>THEFT OF IDENTITY</td>\n",
       "      <td>37</td>\n",
       "      <td>M</td>\n",
       "      <td>H</td>\n",
       "      <td>NaN</td>\n",
       "      <td>Invest Cont</td>\n",
       "      <td>6200    4TH                          AV</td>\n",
       "    </tr>\n",
       "    <tr>\n",
       "      <th>4</th>\n",
       "      <td>220213256</td>\n",
       "      <td>2022-07-14</td>\n",
       "      <td>2020-07-14</td>\n",
       "      <td>0900</td>\n",
       "      <td>Rampart</td>\n",
       "      <td>THEFT OF IDENTITY</td>\n",
       "      <td>79</td>\n",
       "      <td>M</td>\n",
       "      <td>B</td>\n",
       "      <td>NaN</td>\n",
       "      <td>Invest Cont</td>\n",
       "      <td>1200 W  7TH                          ST</td>\n",
       "    </tr>\n",
       "  </tbody>\n",
       "</table>\n",
       "</div>"
      ],
      "text/plain": [
       "       DR_NO  Date Rptd   DATE OCC TIME OCC    AREA NAME        Crm Cd Desc  \\\n",
       "0  220314085 2022-07-22 2020-05-12     1110    Southwest  THEFT OF IDENTITY   \n",
       "1  222013040 2022-08-06 2020-06-04     1620      Olympic  THEFT OF IDENTITY   \n",
       "2  220614831 2022-08-18 2020-08-17     1200    Hollywood  THEFT OF IDENTITY   \n",
       "3  231207725 2023-02-27 2020-01-27     0635  77th Street  THEFT OF IDENTITY   \n",
       "4  220213256 2022-07-14 2020-07-14     0900      Rampart  THEFT OF IDENTITY   \n",
       "\n",
       "   Vict Age Vict Sex Vict Descent Weapon Desc  Status Desc  \\\n",
       "0        27        F            B         NaN  Invest Cont   \n",
       "1        60        M            H         NaN  Invest Cont   \n",
       "2        28        M            H         NaN  Invest Cont   \n",
       "3        37        M            H         NaN  Invest Cont   \n",
       "4        79        M            B         NaN  Invest Cont   \n",
       "\n",
       "                                  LOCATION  \n",
       "0  2500 S  SYCAMORE                     AV  \n",
       "1  3300    SAN MARINO                   ST  \n",
       "2                        1900    TRANSIENT  \n",
       "3  6200    4TH                          AV  \n",
       "4  1200 W  7TH                          ST  "
      ]
     },
     "execution_count": 1,
     "metadata": {},
     "output_type": "execute_result"
    }
   ],
   "source": [
    "import pandas as pd\n",
    "import numpy as np\n",
    "import matplotlib.pyplot as plt\n",
    "import seaborn as sns\n",
    "crimes = pd.read_csv(\"Dataset/crimes.csv\", parse_dates=[\"Date Rptd\", \"DATE OCC\"], dtype={\"TIME OCC\": str})\n",
    "crimes.head()"
   ]
  },
  {
   "cell_type": "code",
   "execution_count": 2,
   "id": "2232de35-c9a2-4f20-85a9-41265941f97b",
   "metadata": {},
   "outputs": [
    {
     "data": {
      "text/plain": [
       "(185715, 12)"
      ]
     },
     "execution_count": 2,
     "metadata": {},
     "output_type": "execute_result"
    }
   ],
   "source": [
    "crimes.shape"
   ]
  },
  {
   "cell_type": "markdown",
   "id": "8bb54ab1-8120-448c-b9a2-050c2115b961",
   "metadata": {},
   "source": [
    "## 1. Which hour has the highest frequency of crimes?"
   ]
  },
  {
   "cell_type": "markdown",
   "id": "699a7352-8130-4978-9cee-c08ce3a6bc68",
   "metadata": {},
   "source": [
    "To achieve this, we need to retain only the first two elements from each row in the 'TIME OCC' column, as we have already transformed this column into a string type."
   ]
  },
  {
   "cell_type": "code",
   "execution_count": 3,
   "id": "3dfa7dde-4204-451b-899f-54444b21ee0b",
   "metadata": {},
   "outputs": [],
   "source": [
    "hour_crimes = crimes[\"TIME OCC\"].str[:2]"
   ]
  },
  {
   "cell_type": "code",
   "execution_count": 4,
   "id": "d1218937-d649-4cd4-ab56-5bf0f87fa585",
   "metadata": {},
   "outputs": [],
   "source": [
    "hour_crimes = hour_crimes"
   ]
  },
  {
   "cell_type": "code",
   "execution_count": 5,
   "id": "e350be04-938f-4245-aca1-982466f32bb0",
   "metadata": {},
   "outputs": [],
   "source": [
    "hour_crimes_count = hour_crimes.value_counts()"
   ]
  },
  {
   "cell_type": "code",
   "execution_count": 6,
   "id": "5d4e4183-06d0-4339-ad9d-93726bf288a8",
   "metadata": {},
   "outputs": [
    {
     "data": {
      "text/plain": [
       "TIME OCC\n",
       "12    13663\n",
       "18    10125\n",
       "17     9964\n",
       "20     9579\n",
       "15     9393\n",
       "19     9262\n",
       "16     9224\n",
       "14     8872\n",
       "11     8787\n",
       "00     8728\n",
       "21     8701\n",
       "22     8531\n",
       "13     8474\n",
       "10     8440\n",
       "08     7523\n",
       "23     7419\n",
       "09     7092\n",
       "01     5836\n",
       "06     5621\n",
       "07     5403\n",
       "02     4726\n",
       "03     3943\n",
       "04     3238\n",
       "05     3171\n",
       "Name: count, dtype: int64"
      ]
     },
     "execution_count": 6,
     "metadata": {},
     "output_type": "execute_result"
    }
   ],
   "source": [
    "hour_crimes_count"
   ]
  },
  {
   "cell_type": "markdown",
   "id": "7d134b2e-5c1c-4785-ac34-9be610305af7",
   "metadata": {},
   "source": [
    "but its more clear with frequency "
   ]
  },
  {
   "cell_type": "code",
   "execution_count": 7,
   "id": "160a049f-fd68-4c7f-820d-c17ce3b32a3f",
   "metadata": {},
   "outputs": [],
   "source": [
    "hour_crimes = pd.to_numeric(hour_crimes)"
   ]
  },
  {
   "cell_type": "code",
   "execution_count": 8,
   "id": "2d18a873-c805-4a77-a584-6318fecd7726",
   "metadata": {},
   "outputs": [
    {
     "data": {
      "text/plain": [
       "0         11\n",
       "1         16\n",
       "2         12\n",
       "3          6\n",
       "4          9\n",
       "          ..\n",
       "185710    11\n",
       "185711    18\n",
       "185712    10\n",
       "185713    16\n",
       "185714     9\n",
       "Name: TIME OCC, Length: 185715, dtype: int64"
      ]
     },
     "execution_count": 8,
     "metadata": {},
     "output_type": "execute_result"
    }
   ],
   "source": [
    "hour_crimes"
   ]
  },
  {
   "cell_type": "code",
   "execution_count": 9,
   "id": "45a5451f-f47b-4cad-b442-99c9a042442e",
   "metadata": {},
   "outputs": [],
   "source": [
    "total_counts = hour_crimes.value_counts().sum()"
   ]
  },
  {
   "cell_type": "code",
   "execution_count": 10,
   "id": "45d4cfb9-17bf-4238-8be6-79090041245e",
   "metadata": {},
   "outputs": [
    {
     "data": {
      "text/plain": [
       "185715"
      ]
     },
     "execution_count": 10,
     "metadata": {},
     "output_type": "execute_result"
    }
   ],
   "source": [
    "total_counts"
   ]
  },
  {
   "cell_type": "code",
   "execution_count": 11,
   "id": "a9c774c3-44a3-43b0-a81e-496c5f5d3537",
   "metadata": {},
   "outputs": [],
   "source": [
    "percentage_crimes = (hour_crimes_count / total_counts) * 100"
   ]
  },
  {
   "cell_type": "code",
   "execution_count": 12,
   "id": "4a1bb546-7720-46ad-909c-65e7995350b3",
   "metadata": {},
   "outputs": [
    {
     "data": {
      "text/plain": [
       "TIME OCC\n",
       "12    7.356972\n",
       "18    5.451902\n",
       "17    5.365210\n",
       "20    5.157903\n",
       "15    5.057750\n",
       "19    4.987212\n",
       "16    4.966750\n",
       "14    4.777212\n",
       "11    4.731443\n",
       "00    4.699674\n",
       "21    4.685136\n",
       "22    4.593598\n",
       "13    4.562906\n",
       "10    4.544598\n",
       "08    4.050831\n",
       "23    3.994831\n",
       "09    3.818755\n",
       "01    3.142449\n",
       "06    3.026681\n",
       "07    2.909297\n",
       "02    2.544759\n",
       "03    2.123146\n",
       "04    1.743532\n",
       "05    1.707455\n",
       "Name: count, dtype: float64"
      ]
     },
     "execution_count": 12,
     "metadata": {},
     "output_type": "execute_result"
    }
   ],
   "source": [
    "percentage_crimes"
   ]
  },
  {
   "cell_type": "code",
   "execution_count": 13,
   "id": "589a696f-6cbb-4546-8c08-fc765c66bfbd",
   "metadata": {},
   "outputs": [
    {
     "data": {
      "text/plain": [
       "100.0"
      ]
     },
     "execution_count": 13,
     "metadata": {},
     "output_type": "execute_result"
    }
   ],
   "source": [
    "percentage_crimes.sum()"
   ]
  },
  {
   "cell_type": "markdown",
   "id": "9ab774b4-b83f-4c54-ac85-6b40a594f634",
   "metadata": {},
   "source": [
    "It is observed that the highest frequency of offenses occurs at 12 AM, accounting for 7% of all recorded incidents. Conversely, the lowest frequency is noted at 5 AM, representing only 1.7% of the total offenses."
   ]
  },
  {
   "cell_type": "markdown",
   "id": "dcdf882d-8d79-449d-8efa-88793d5e0fdc",
   "metadata": {},
   "source": [
    "### 2. Which area has the largest frequency of night crimes (crimes committed between 10 PM and 3:59 AM)?"
   ]
  },
  {
   "cell_type": "code",
   "execution_count": 14,
   "id": "e152c258-d5d6-41fc-92da-dab1c4acf92f",
   "metadata": {},
   "outputs": [
    {
     "data": {
      "text/plain": [
       "0         1110\n",
       "1         1620\n",
       "2         1200\n",
       "3         0635\n",
       "4         0900\n",
       "          ... \n",
       "185710    1100\n",
       "185711    1800\n",
       "185712    1000\n",
       "185713    1630\n",
       "185714    0900\n",
       "Name: TIME OCC, Length: 185715, dtype: object"
      ]
     },
     "execution_count": 14,
     "metadata": {},
     "output_type": "execute_result"
    }
   ],
   "source": [
    "crimes[\"TIME OCC\"]"
   ]
  },
  {
   "cell_type": "markdown",
   "id": "ec278e6d-5ffe-47f0-8d92-4066780a742f",
   "metadata": {},
   "source": [
    "We want to cover all nighttime hours, including those between 10:00 PM and 11:59 PM (2200 : 2359), as well as those between 12:00 AM and 3:59 AM (0000 : 0359)."
   ]
  },
  {
   "cell_type": "code",
   "execution_count": 15,
   "id": "afc8ba69-1b70-4016-b4fc-00d6d3085494",
   "metadata": {},
   "outputs": [],
   "source": [
    "night_times_crimes = crimes[\n",
    "    (crimes[\"TIME OCC\"].between(\"2200\", \"2359\")) | (crimes[\"TIME OCC\"].between(\"0\", \"0359\"))\n",
    "]\n"
   ]
  },
  {
   "cell_type": "code",
   "execution_count": 16,
   "id": "a6eed197-e7a1-4e12-b2bd-da6e072a2d21",
   "metadata": {},
   "outputs": [
    {
     "data": {
      "text/html": [
       "<div>\n",
       "<style scoped>\n",
       "    .dataframe tbody tr th:only-of-type {\n",
       "        vertical-align: middle;\n",
       "    }\n",
       "\n",
       "    .dataframe tbody tr th {\n",
       "        vertical-align: top;\n",
       "    }\n",
       "\n",
       "    .dataframe thead th {\n",
       "        text-align: right;\n",
       "    }\n",
       "</style>\n",
       "<table border=\"1\" class=\"dataframe\">\n",
       "  <thead>\n",
       "    <tr style=\"text-align: right;\">\n",
       "      <th></th>\n",
       "      <th>DR_NO</th>\n",
       "      <th>Date Rptd</th>\n",
       "      <th>DATE OCC</th>\n",
       "      <th>TIME OCC</th>\n",
       "      <th>AREA NAME</th>\n",
       "      <th>Crm Cd Desc</th>\n",
       "      <th>Vict Age</th>\n",
       "      <th>Vict Sex</th>\n",
       "      <th>Vict Descent</th>\n",
       "      <th>Weapon Desc</th>\n",
       "      <th>Status Desc</th>\n",
       "      <th>LOCATION</th>\n",
       "    </tr>\n",
       "  </thead>\n",
       "  <tbody>\n",
       "    <tr>\n",
       "      <th>8</th>\n",
       "      <td>231207476</td>\n",
       "      <td>2023-02-27</td>\n",
       "      <td>2020-08-15</td>\n",
       "      <td>0001</td>\n",
       "      <td>77th Street</td>\n",
       "      <td>BURGLARY</td>\n",
       "      <td>72</td>\n",
       "      <td>M</td>\n",
       "      <td>B</td>\n",
       "      <td>NaN</td>\n",
       "      <td>Invest Cont</td>\n",
       "      <td>8800    HAAS                         AV</td>\n",
       "    </tr>\n",
       "    <tr>\n",
       "      <th>10</th>\n",
       "      <td>221711184</td>\n",
       "      <td>2022-06-15</td>\n",
       "      <td>2020-05-15</td>\n",
       "      <td>0155</td>\n",
       "      <td>Devonshire</td>\n",
       "      <td>THEFT OF IDENTITY</td>\n",
       "      <td>27</td>\n",
       "      <td>M</td>\n",
       "      <td>B</td>\n",
       "      <td>NaN</td>\n",
       "      <td>Invest Cont</td>\n",
       "      <td>8300    WHITE OAK                    AV</td>\n",
       "    </tr>\n",
       "    <tr>\n",
       "      <th>30</th>\n",
       "      <td>221314362</td>\n",
       "      <td>2022-07-11</td>\n",
       "      <td>2020-04-07</td>\n",
       "      <td>0001</td>\n",
       "      <td>Newton</td>\n",
       "      <td>THEFT OF IDENTITY</td>\n",
       "      <td>53</td>\n",
       "      <td>F</td>\n",
       "      <td>H</td>\n",
       "      <td>NaN</td>\n",
       "      <td>Invest Cont</td>\n",
       "      <td>1600 E  OLYMPIC                      BL</td>\n",
       "    </tr>\n",
       "    <tr>\n",
       "      <th>33</th>\n",
       "      <td>231307252</td>\n",
       "      <td>2023-03-03</td>\n",
       "      <td>2020-07-05</td>\n",
       "      <td>2305</td>\n",
       "      <td>Newton</td>\n",
       "      <td>THEFT OF IDENTITY</td>\n",
       "      <td>22</td>\n",
       "      <td>F</td>\n",
       "      <td>B</td>\n",
       "      <td>NaN</td>\n",
       "      <td>Invest Cont</td>\n",
       "      <td>6600 S  BROADWAY</td>\n",
       "    </tr>\n",
       "    <tr>\n",
       "      <th>36</th>\n",
       "      <td>221614254</td>\n",
       "      <td>2022-11-13</td>\n",
       "      <td>2020-01-01</td>\n",
       "      <td>0001</td>\n",
       "      <td>Foothill</td>\n",
       "      <td>THEFT OF IDENTITY</td>\n",
       "      <td>22</td>\n",
       "      <td>F</td>\n",
       "      <td>H</td>\n",
       "      <td>NaN</td>\n",
       "      <td>Invest Cont</td>\n",
       "      <td>10200    TELFAIR                      AV</td>\n",
       "    </tr>\n",
       "  </tbody>\n",
       "</table>\n",
       "</div>"
      ],
      "text/plain": [
       "        DR_NO  Date Rptd   DATE OCC TIME OCC    AREA NAME        Crm Cd Desc  \\\n",
       "8   231207476 2023-02-27 2020-08-15     0001  77th Street           BURGLARY   \n",
       "10  221711184 2022-06-15 2020-05-15     0155   Devonshire  THEFT OF IDENTITY   \n",
       "30  221314362 2022-07-11 2020-04-07     0001       Newton  THEFT OF IDENTITY   \n",
       "33  231307252 2023-03-03 2020-07-05     2305       Newton  THEFT OF IDENTITY   \n",
       "36  221614254 2022-11-13 2020-01-01     0001     Foothill  THEFT OF IDENTITY   \n",
       "\n",
       "    Vict Age Vict Sex Vict Descent Weapon Desc  Status Desc  \\\n",
       "8         72        M            B         NaN  Invest Cont   \n",
       "10        27        M            B         NaN  Invest Cont   \n",
       "30        53        F            H         NaN  Invest Cont   \n",
       "33        22        F            B         NaN  Invest Cont   \n",
       "36        22        F            H         NaN  Invest Cont   \n",
       "\n",
       "                                    LOCATION  \n",
       "8    8800    HAAS                         AV  \n",
       "10   8300    WHITE OAK                    AV  \n",
       "30   1600 E  OLYMPIC                      BL  \n",
       "33                          6600 S  BROADWAY  \n",
       "36  10200    TELFAIR                      AV  "
      ]
     },
     "execution_count": 16,
     "metadata": {},
     "output_type": "execute_result"
    }
   ],
   "source": [
    "night_times_crimes.head()"
   ]
  },
  {
   "cell_type": "code",
   "execution_count": 17,
   "id": "92d0e48e-3e50-4165-a447-4798ce1a18a4",
   "metadata": {},
   "outputs": [
    {
     "data": {
      "text/plain": [
       "(39183, 12)"
      ]
     },
     "execution_count": 17,
     "metadata": {},
     "output_type": "execute_result"
    }
   ],
   "source": [
    "night_times_crimes.shape"
   ]
  },
  {
   "cell_type": "markdown",
   "id": "2fa5ab73-fb68-4574-8670-e94dd3da1168",
   "metadata": {},
   "source": [
    "We have a total of 39,183 night crimes recorded in the dataset globally."
   ]
  },
  {
   "cell_type": "code",
   "execution_count": 18,
   "id": "d75ae06c-39f3-4004-8294-a94f3a4e5e7f",
   "metadata": {},
   "outputs": [
    {
     "data": {
      "text/plain": [
       "Index(['DR_NO', 'Date Rptd', 'DATE OCC', 'TIME OCC', 'AREA NAME',\n",
       "       'Crm Cd Desc', 'Vict Age', 'Vict Sex', 'Vict Descent', 'Weapon Desc',\n",
       "       'Status Desc', 'LOCATION'],\n",
       "      dtype='object')"
      ]
     },
     "execution_count": 18,
     "metadata": {},
     "output_type": "execute_result"
    }
   ],
   "source": [
    "crimes.columns"
   ]
  },
  {
   "cell_type": "code",
   "execution_count": 19,
   "id": "8d80fe3c-9983-44c8-a6bb-347abc9ed7a4",
   "metadata": {},
   "outputs": [
    {
     "data": {
      "text/plain": [
       "array(['Southwest', 'Olympic', 'Hollywood', '77th Street', 'Rampart',\n",
       "       'N Hollywood', 'Mission', 'Devonshire', 'Central', 'Wilshire',\n",
       "       'Newton', 'Northeast', 'Van Nuys', 'Hollenbeck', 'West Valley',\n",
       "       'Foothill', 'Topanga', 'Southeast', 'Pacific', 'West LA', 'Harbor'],\n",
       "      dtype=object)"
      ]
     },
     "execution_count": 19,
     "metadata": {},
     "output_type": "execute_result"
    }
   ],
   "source": [
    "crimes['AREA NAME'].unique()"
   ]
  },
  {
   "cell_type": "code",
   "execution_count": 20,
   "id": "be033217-5495-4a1a-ae8e-af4ff87312ef",
   "metadata": {},
   "outputs": [
    {
     "data": {
      "text/plain": [
       "AREA NAME\n",
       "Central        8.046738\n",
       "Southwest      6.431898\n",
       "77th Street    6.320976\n",
       "Pacific        5.343133\n",
       "Hollywood      5.256441\n",
       "Southeast      5.153596\n",
       "Olympic        5.069057\n",
       "Newton         4.927981\n",
       "Van Nuys       4.642059\n",
       "N Hollywood    4.577982\n",
       "Wilshire       4.567213\n",
       "Topanga        4.565059\n",
       "Rampart        4.493983\n",
       "West Valley    4.362599\n",
       "West LA        4.259753\n",
       "Northeast      4.107369\n",
       "Devonshire     3.990523\n",
       "Mission        3.763832\n",
       "Harbor         3.563525\n",
       "Hollenbeck     3.334679\n",
       "Foothill       3.221603\n",
       "Name: proportion, dtype: float64"
      ]
     },
     "execution_count": 20,
     "metadata": {},
     "output_type": "execute_result"
    }
   ],
   "source": [
    "crimes[\"AREA NAME\"].value_counts(normalize=True)*100"
   ]
  },
  {
   "cell_type": "markdown",
   "id": "1fabff62-62a9-4efc-acb1-4623e033ac3a",
   "metadata": {},
   "source": [
    "It can be observed that the majority of nighttime crimes occur in the central area, accounting for 8% of the total."
   ]
  },
  {
   "cell_type": "markdown",
   "id": "32566e0f-1616-4a6f-8eb7-056fc90f94a1",
   "metadata": {},
   "source": [
    "### 3. What is the number of crimes committed against victims of different age groups?"
   ]
  },
  {
   "cell_type": "markdown",
   "id": "faeeb7fa-31fb-4401-8521-c3b5c1850fbb",
   "metadata": {},
   "source": [
    "We analyze the minimum and maximum ages in the dataset to adjust the bins and ensure that they are organized into appropriate age groups , then, we will create a new column to add the age groups."
   ]
  },
  {
   "cell_type": "code",
   "execution_count": 21,
   "id": "f5bd08f9-4cfa-48c5-93e2-fc4b19e5dfa9",
   "metadata": {},
   "outputs": [
    {
     "data": {
      "text/plain": [
       "2"
      ]
     },
     "execution_count": 21,
     "metadata": {},
     "output_type": "execute_result"
    }
   ],
   "source": [
    "crimes[\"Vict Age\"].min()"
   ]
  },
  {
   "cell_type": "code",
   "execution_count": 22,
   "id": "df26b8ac-2b43-4c72-869a-eefe2c8a356a",
   "metadata": {},
   "outputs": [
    {
     "data": {
      "text/plain": [
       "99"
      ]
     },
     "execution_count": 22,
     "metadata": {},
     "output_type": "execute_result"
    }
   ],
   "source": [
    "crimes[\"Vict Age\"].max()"
   ]
  },
  {
   "cell_type": "code",
   "execution_count": 23,
   "id": "f3fc0aa1-f424-4277-ba6d-a38e4ef6f66e",
   "metadata": {},
   "outputs": [],
   "source": [
    "bins = [2, 12, 19, 35, 60, 101]  \n",
    "labels = ['Children', 'Teenagers', 'Young Adults', 'Adults', 'Seniors']\n"
   ]
  },
  {
   "cell_type": "code",
   "execution_count": 24,
   "id": "48555657-2bfc-43e4-8279-922001c40392",
   "metadata": {},
   "outputs": [
    {
     "data": {
      "text/plain": [
       "0         27\n",
       "1         60\n",
       "2         28\n",
       "3         37\n",
       "4         79\n",
       "          ..\n",
       "185710    25\n",
       "185711    23\n",
       "185712    25\n",
       "185713    29\n",
       "185714    53\n",
       "Name: Vict Age, Length: 185715, dtype: int64"
      ]
     },
     "execution_count": 24,
     "metadata": {},
     "output_type": "execute_result"
    }
   ],
   "source": [
    "crimes[\"Vict Age\"]"
   ]
  },
  {
   "cell_type": "code",
   "execution_count": 25,
   "id": "f5a8f91b-f463-4184-b814-01f2321473b1",
   "metadata": {},
   "outputs": [],
   "source": [
    "crimes[\"Vict Age Group\"] = pd.cut(crimes[\"Vict Age\"], bins=bins, labels=labels, right=False)\n"
   ]
  },
  {
   "cell_type": "code",
   "execution_count": 26,
   "id": "f4c4a374-99f2-4a13-8d3e-0ca0471ddc5e",
   "metadata": {},
   "outputs": [
    {
     "data": {
      "text/plain": [
       "0         Young Adults\n",
       "1              Seniors\n",
       "2         Young Adults\n",
       "3               Adults\n",
       "4              Seniors\n",
       "              ...     \n",
       "185710    Young Adults\n",
       "185711    Young Adults\n",
       "185712    Young Adults\n",
       "185713    Young Adults\n",
       "185714          Adults\n",
       "Name: Vict Age Group, Length: 185715, dtype: category\n",
       "Categories (5, object): ['Children' < 'Teenagers' < 'Young Adults' < 'Adults' < 'Seniors']"
      ]
     },
     "execution_count": 26,
     "metadata": {},
     "output_type": "execute_result"
    }
   ],
   "source": [
    "crimes[\"Vict Age Group\"]"
   ]
  },
  {
   "cell_type": "code",
   "execution_count": 27,
   "id": "1790291d-b9b7-44c9-9bf3-cdba0e3f0da4",
   "metadata": {},
   "outputs": [
    {
     "data": {
      "text/plain": [
       "Vict Age Group\n",
       "Adults          81545\n",
       "Young Adults    74309\n",
       "Seniors         23881\n",
       "Teenagers        5151\n",
       "Children          829\n",
       "Name: count, dtype: int64"
      ]
     },
     "execution_count": 27,
     "metadata": {},
     "output_type": "execute_result"
    }
   ],
   "source": [
    "crimes[\"Vict Age Group\"].value_counts()"
   ]
  },
  {
   "cell_type": "code",
   "execution_count": 28,
   "id": "fc7ff9a4-3044-406b-94d1-359d8ee7dd6a",
   "metadata": {},
   "outputs": [
    {
     "data": {
      "text/plain": [
       "Vict Age Group\n",
       "Adults          43.908677\n",
       "Young Adults    40.012385\n",
       "Seniors         12.858951\n",
       "Teenagers        2.773605\n",
       "Children         0.446383\n",
       "Name: proportion, dtype: float64"
      ]
     },
     "execution_count": 28,
     "metadata": {},
     "output_type": "execute_result"
    }
   ],
   "source": [
    "crimes[\"Vict Age Group\"].value_counts(normalize = True )*100"
   ]
  },
  {
   "cell_type": "markdown",
   "id": "f06b870b-8dc9-49fc-8539-80b9e8a97f54",
   "metadata": {},
   "source": [
    "We obtain this age distribution expressed as a percentage."
   ]
  },
  {
   "cell_type": "code",
   "execution_count": 37,
   "id": "d34baeb9-29de-4954-8cd7-c6484c4a4e4e",
   "metadata": {},
   "outputs": [],
   "source": [
    "age_distribution = {\n",
    "    'Adults (35 - 60)': 43.908677,\n",
    "    'Young Adults (20 - 35)': 40.012385,\n",
    "    'Seniors (60 - 101)': 12.858951,\n",
    "    'Teenagers (12 - 19)': 2.773605,\n",
    "    'Children (2 - 12)': 0.446383\n",
    "}"
   ]
  },
  {
   "cell_type": "code",
   "execution_count": 41,
   "id": "c178e8c1-2a9a-4a1d-93f3-e9b6c6d44544",
   "metadata": {},
   "outputs": [
    {
     "data": {
      "image/png": "[encoded data removed]",
      "text/plain": [
       "<Figure size 1000x600 with 1 Axes>"
      ]
     },
     "metadata": {},
     "output_type": "display_data"
    }
   ],
   "source": [
    "plt.figure(figsize=(10, 6))\n",
    "plt.bar(age_distribution.keys(), age_distribution.values(), color='red')\n",
    "plt.title('Distribution of Victim Age Groups')\n",
    "plt.xlabel('Victim Age Group')\n",
    "plt.ylabel('Percentage (%)')\n",
    "plt.xticks(rotation=45)  \n",
    "plt.ylim(0, 100)  \n",
    "\n",
    "for i, v in enumerate(age_distribution.values()):\n",
    "    plt.text(i, v + 1, f\"{v:.2f}%\", ha='center')\n",
    "\n",
    "plt.show()"
   ]
  }
 ],
 "metadata": {
  "kernelspec": {
   "display_name": "Python 3 (ipykernel)",
   "language": "python",
   "name": "python3"
  },
  "language_info": {
   "codemirror_mode": {
    "name": "ipython",
    "version": 3
   },
   "file_extension": ".py",
   "mimetype": "text/x-python",
   "name": "python",
   "nbconvert_exporter": "python",
   "pygments_lexer": "ipython3",
   "version": "3.12.3"
  }
 },
 "nbformat": 4,
 "nbformat_minor": 5
}
