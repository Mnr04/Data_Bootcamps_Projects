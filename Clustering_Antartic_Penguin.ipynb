{
 "cells": [
  {
   "cell_type": "markdown",
   "id": "0459a426-ffab-45ea-b6a4-b5084f2119df",
   "metadata": {},
   "source": [
    "<a id=\"1\"></a>\n",
    "# <div style=\"text-align:center; border-radius:30px 30px; padding:13px; color:white; margin:0; font-size:130%; font-family:Pacifico; background-color:#3170af; overflow:hidden\"><b>Pingouins Clustering Projects</b></div>"
   ]
  },
  {
   "cell_type": "markdown",
   "id": "4fcb1809-3558-4080-8e3b-0cf01770bd08",
   "metadata": {},
   "source": [
    "\n",
    "## Project Context\n",
    "This project is part of my training program and aims to support a team of researchers who have been gathering data on penguins in Antarctica. The dataset, provided in a CSV file named `penguins.csv`, was collected by Dr. Kristen Gorman and the Palmer Station, a member of the Long Term Ecological Research (LTER) Network. This collection offers valuable insights into penguin characteristics across the region.\n",
    "\n",
    "## Data Overview\n",
    "The dataset includes five main variables, each describing a specific characteristic of the penguins observed:\n",
    "\n",
    "| Column             | Description                        |\n",
    "|--------------------|------------------------------------|\n",
    "| culmen_length_mm   | Culmen length in millimeters      |\n",
    "| culmen_depth_mm    | Culmen depth in millimeters       |\n",
    "| flipper_length_mm  | Flipper length in millimeters     |\n",
    "| body_mass_g        | Body mass in grams                |\n",
    "| sex                | Sex of the penguin                |\n",
    "\n",
    "The researchers have not been able to record the species of each penguin but know that at least three species are native to this region: **Adelie**, **Chinstrap**, and **Gentoo**.\n",
    "\n",
    "## Project Objective\n",
    "Using data science and unsupervised learning techniques, the goal of this project is to identify meaningful clusters within the dataset that may correspond to different species or distinct groups of penguins. The primary tasks include:\n",
    "\n",
    "1. Importing, investigating, and pre-processing the `penguins.csv` dataset.\n",
    "2. Applying cluster analysis to group the data based on a suitable number of clusters.\n",
    "3. Calculating the average values for each cluster and presenting these in a DataFrame named `stat_penguins`. This DataFrame will contain one row per cluster, displaying the mean of the original numeric variables, excluding any non-numeric columns.\n"
   ]
  },
  {
   "cell_type": "code",
   "execution_count": 31,
   "id": "a7f78915-2841-4699-8902-79c7872ec85d",
   "metadata": {},
   "outputs": [],
   "source": [
    "# Import Required Packages\n",
    "import pandas as pd\n",
    "import matplotlib.pyplot as plt\n",
    "from sklearn.cluster import KMeans\n",
    "from sklearn.preprocessing import StandardScaler\n",
    "from sklearn.decomposition import PCA"
   ]
  },
  {
   "cell_type": "code",
   "execution_count": 3,
   "id": "fad3afed-8ccb-4bf3-ad04-292f72f06d9b",
   "metadata": {},
   "outputs": [
    {
     "data": {
      "text/html": [
       "<div>\n",
       "<style scoped>\n",
       "    .dataframe tbody tr th:only-of-type {\n",
       "        vertical-align: middle;\n",
       "    }\n",
       "\n",
       "    .dataframe tbody tr th {\n",
       "        vertical-align: top;\n",
       "    }\n",
       "\n",
       "    .dataframe thead th {\n",
       "        text-align: right;\n",
       "    }\n",
       "</style>\n",
       "<table border=\"1\" class=\"dataframe\">\n",
       "  <thead>\n",
       "    <tr style=\"text-align: right;\">\n",
       "      <th></th>\n",
       "      <th>culmen_length_mm</th>\n",
       "      <th>culmen_depth_mm</th>\n",
       "      <th>flipper_length_mm</th>\n",
       "      <th>body_mass_g</th>\n",
       "      <th>sex</th>\n",
       "    </tr>\n",
       "  </thead>\n",
       "  <tbody>\n",
       "    <tr>\n",
       "      <th>0</th>\n",
       "      <td>39.1</td>\n",
       "      <td>18.7</td>\n",
       "      <td>181.0</td>\n",
       "      <td>3750.0</td>\n",
       "      <td>MALE</td>\n",
       "    </tr>\n",
       "    <tr>\n",
       "      <th>1</th>\n",
       "      <td>39.5</td>\n",
       "      <td>17.4</td>\n",
       "      <td>186.0</td>\n",
       "      <td>3800.0</td>\n",
       "      <td>FEMALE</td>\n",
       "    </tr>\n",
       "    <tr>\n",
       "      <th>2</th>\n",
       "      <td>40.3</td>\n",
       "      <td>18.0</td>\n",
       "      <td>195.0</td>\n",
       "      <td>3250.0</td>\n",
       "      <td>FEMALE</td>\n",
       "    </tr>\n",
       "    <tr>\n",
       "      <th>3</th>\n",
       "      <td>36.7</td>\n",
       "      <td>19.3</td>\n",
       "      <td>193.0</td>\n",
       "      <td>3450.0</td>\n",
       "      <td>FEMALE</td>\n",
       "    </tr>\n",
       "    <tr>\n",
       "      <th>4</th>\n",
       "      <td>39.3</td>\n",
       "      <td>20.6</td>\n",
       "      <td>190.0</td>\n",
       "      <td>3650.0</td>\n",
       "      <td>MALE</td>\n",
       "    </tr>\n",
       "  </tbody>\n",
       "</table>\n",
       "</div>"
      ],
      "text/plain": [
       "   culmen_length_mm  culmen_depth_mm  flipper_length_mm  body_mass_g     sex\n",
       "0              39.1             18.7              181.0       3750.0    MALE\n",
       "1              39.5             17.4              186.0       3800.0  FEMALE\n",
       "2              40.3             18.0              195.0       3250.0  FEMALE\n",
       "3              36.7             19.3              193.0       3450.0  FEMALE\n",
       "4              39.3             20.6              190.0       3650.0    MALE"
      ]
     },
     "execution_count": 3,
     "metadata": {},
     "output_type": "execute_result"
    }
   ],
   "source": [
    "# Loading and examining the dataset\n",
    "penguins_df = pd.read_csv(\"Dataset/penguins.csv\")\n",
    "penguins_df.head()"
   ]
  },
  {
   "cell_type": "code",
   "execution_count": 4,
   "id": "40ad3533-7e1d-4b86-97a9-fd5e3b96ed0e",
   "metadata": {},
   "outputs": [
    {
     "data": {
      "text/plain": [
       "(332, 5)"
      ]
     },
     "execution_count": 4,
     "metadata": {},
     "output_type": "execute_result"
    }
   ],
   "source": [
    "penguins_df.shape"
   ]
  },
  {
   "cell_type": "code",
   "execution_count": 5,
   "id": "18230697-580d-4714-bafc-18ad048832a7",
   "metadata": {},
   "outputs": [
    {
     "data": {
      "text/plain": [
       "culmen_length_mm     0\n",
       "culmen_depth_mm      0\n",
       "flipper_length_mm    0\n",
       "body_mass_g          0\n",
       "sex                  0\n",
       "dtype: int64"
      ]
     },
     "execution_count": 5,
     "metadata": {},
     "output_type": "execute_result"
    }
   ],
   "source": [
    "penguins_df.isna().sum()"
   ]
  },
  {
   "cell_type": "code",
   "execution_count": 6,
   "id": "805b623a-0907-4def-973d-f4892157930b",
   "metadata": {},
   "outputs": [
    {
     "name": "stdout",
     "output_type": "stream",
     "text": [
      "<class 'pandas.core.frame.DataFrame'>\n",
      "RangeIndex: 332 entries, 0 to 331\n",
      "Data columns (total 5 columns):\n",
      " #   Column             Non-Null Count  Dtype  \n",
      "---  ------             --------------  -----  \n",
      " 0   culmen_length_mm   332 non-null    float64\n",
      " 1   culmen_depth_mm    332 non-null    float64\n",
      " 2   flipper_length_mm  332 non-null    float64\n",
      " 3   body_mass_g        332 non-null    float64\n",
      " 4   sex                332 non-null    object \n",
      "dtypes: float64(4), object(1)\n",
      "memory usage: 13.1+ KB\n"
     ]
    }
   ],
   "source": [
    "penguins_df.info()"
   ]
  },
  {
   "cell_type": "markdown",
   "id": "be07d6fb-f449-4384-9792-e528eec287a0",
   "metadata": {},
   "source": [
    "## 1 - Perform preprocessing steps on the dataset to create dummy variables"
   ]
  },
  {
   "cell_type": "code",
   "execution_count": 7,
   "id": "7935820b-c904-4fb6-9ca8-413f9d12c420",
   "metadata": {},
   "outputs": [],
   "source": [
    "# Create dummy variables for the 'sex' column\n",
    "dummies = pd.get_dummies(penguins_df[\"sex\"], prefix=\"sex\")"
   ]
  },
  {
   "cell_type": "code",
   "execution_count": 8,
   "id": "eb0c3aaf-40a5-47b6-890f-9ce4ea1d0341",
   "metadata": {},
   "outputs": [],
   "source": [
    "# Convert boolean columns (True/False) to integers (0/1)\n",
    "dummies = dummies.astype(int)\n",
    "# Add the new columns to the original DataFrame\n",
    "penguins_df = pd.concat([penguins_df, dummies], axis=1)"
   ]
  },
  {
   "cell_type": "code",
   "execution_count": 9,
   "id": "20021d0a-76b8-4bef-bfc7-3abdd0c03511",
   "metadata": {},
   "outputs": [],
   "source": [
    "# Delete the 'sex' column from the DataFrame\n",
    "penguins_df.drop('sex', axis=1, inplace=True)"
   ]
  },
  {
   "cell_type": "code",
   "execution_count": 10,
   "id": "2f50183d-d8e8-4c3f-b7a3-8a4134828063",
   "metadata": {},
   "outputs": [
    {
     "data": {
      "text/html": [
       "<div>\n",
       "<style scoped>\n",
       "    .dataframe tbody tr th:only-of-type {\n",
       "        vertical-align: middle;\n",
       "    }\n",
       "\n",
       "    .dataframe tbody tr th {\n",
       "        vertical-align: top;\n",
       "    }\n",
       "\n",
       "    .dataframe thead th {\n",
       "        text-align: right;\n",
       "    }\n",
       "</style>\n",
       "<table border=\"1\" class=\"dataframe\">\n",
       "  <thead>\n",
       "    <tr style=\"text-align: right;\">\n",
       "      <th></th>\n",
       "      <th>culmen_length_mm</th>\n",
       "      <th>culmen_depth_mm</th>\n",
       "      <th>flipper_length_mm</th>\n",
       "      <th>body_mass_g</th>\n",
       "      <th>sex_FEMALE</th>\n",
       "      <th>sex_MALE</th>\n",
       "    </tr>\n",
       "  </thead>\n",
       "  <tbody>\n",
       "    <tr>\n",
       "      <th>0</th>\n",
       "      <td>39.1</td>\n",
       "      <td>18.7</td>\n",
       "      <td>181.0</td>\n",
       "      <td>3750.0</td>\n",
       "      <td>0</td>\n",
       "      <td>1</td>\n",
       "    </tr>\n",
       "    <tr>\n",
       "      <th>1</th>\n",
       "      <td>39.5</td>\n",
       "      <td>17.4</td>\n",
       "      <td>186.0</td>\n",
       "      <td>3800.0</td>\n",
       "      <td>1</td>\n",
       "      <td>0</td>\n",
       "    </tr>\n",
       "    <tr>\n",
       "      <th>2</th>\n",
       "      <td>40.3</td>\n",
       "      <td>18.0</td>\n",
       "      <td>195.0</td>\n",
       "      <td>3250.0</td>\n",
       "      <td>1</td>\n",
       "      <td>0</td>\n",
       "    </tr>\n",
       "    <tr>\n",
       "      <th>3</th>\n",
       "      <td>36.7</td>\n",
       "      <td>19.3</td>\n",
       "      <td>193.0</td>\n",
       "      <td>3450.0</td>\n",
       "      <td>1</td>\n",
       "      <td>0</td>\n",
       "    </tr>\n",
       "    <tr>\n",
       "      <th>4</th>\n",
       "      <td>39.3</td>\n",
       "      <td>20.6</td>\n",
       "      <td>190.0</td>\n",
       "      <td>3650.0</td>\n",
       "      <td>0</td>\n",
       "      <td>1</td>\n",
       "    </tr>\n",
       "    <tr>\n",
       "      <th>...</th>\n",
       "      <td>...</td>\n",
       "      <td>...</td>\n",
       "      <td>...</td>\n",
       "      <td>...</td>\n",
       "      <td>...</td>\n",
       "      <td>...</td>\n",
       "    </tr>\n",
       "    <tr>\n",
       "      <th>327</th>\n",
       "      <td>47.2</td>\n",
       "      <td>13.7</td>\n",
       "      <td>214.0</td>\n",
       "      <td>4925.0</td>\n",
       "      <td>1</td>\n",
       "      <td>0</td>\n",
       "    </tr>\n",
       "    <tr>\n",
       "      <th>328</th>\n",
       "      <td>46.8</td>\n",
       "      <td>14.3</td>\n",
       "      <td>215.0</td>\n",
       "      <td>4850.0</td>\n",
       "      <td>1</td>\n",
       "      <td>0</td>\n",
       "    </tr>\n",
       "    <tr>\n",
       "      <th>329</th>\n",
       "      <td>50.4</td>\n",
       "      <td>15.7</td>\n",
       "      <td>222.0</td>\n",
       "      <td>5750.0</td>\n",
       "      <td>0</td>\n",
       "      <td>1</td>\n",
       "    </tr>\n",
       "    <tr>\n",
       "      <th>330</th>\n",
       "      <td>45.2</td>\n",
       "      <td>14.8</td>\n",
       "      <td>212.0</td>\n",
       "      <td>5200.0</td>\n",
       "      <td>1</td>\n",
       "      <td>0</td>\n",
       "    </tr>\n",
       "    <tr>\n",
       "      <th>331</th>\n",
       "      <td>49.9</td>\n",
       "      <td>16.1</td>\n",
       "      <td>213.0</td>\n",
       "      <td>5400.0</td>\n",
       "      <td>0</td>\n",
       "      <td>1</td>\n",
       "    </tr>\n",
       "  </tbody>\n",
       "</table>\n",
       "<p>332 rows × 6 columns</p>\n",
       "</div>"
      ],
      "text/plain": [
       "     culmen_length_mm  culmen_depth_mm  flipper_length_mm  body_mass_g  \\\n",
       "0                39.1             18.7              181.0       3750.0   \n",
       "1                39.5             17.4              186.0       3800.0   \n",
       "2                40.3             18.0              195.0       3250.0   \n",
       "3                36.7             19.3              193.0       3450.0   \n",
       "4                39.3             20.6              190.0       3650.0   \n",
       "..                ...              ...                ...          ...   \n",
       "327              47.2             13.7              214.0       4925.0   \n",
       "328              46.8             14.3              215.0       4850.0   \n",
       "329              50.4             15.7              222.0       5750.0   \n",
       "330              45.2             14.8              212.0       5200.0   \n",
       "331              49.9             16.1              213.0       5400.0   \n",
       "\n",
       "     sex_FEMALE  sex_MALE  \n",
       "0             0         1  \n",
       "1             1         0  \n",
       "2             1         0  \n",
       "3             1         0  \n",
       "4             0         1  \n",
       "..          ...       ...  \n",
       "327           1         0  \n",
       "328           1         0  \n",
       "329           0         1  \n",
       "330           1         0  \n",
       "331           0         1  \n",
       "\n",
       "[332 rows x 6 columns]"
      ]
     },
     "execution_count": 10,
     "metadata": {},
     "output_type": "execute_result"
    }
   ],
   "source": [
    "penguins_df"
   ]
  },
  {
   "cell_type": "markdown",
   "id": "5376b119-9036-4b56-a904-679f4f3e99c0",
   "metadata": {},
   "source": [
    "### Standardizing Features with StandardScaler"
   ]
  },
  {
   "cell_type": "markdown",
   "id": "ee93f90f-1fb4-48ed-b8ba-2b8b9b28ef68",
   "metadata": {},
   "source": [
    "StandardScaler is used to standardize features by scaling them to have a mean of 0 and a standard deviation of 1, which ensures that all features contribute equally to the model, preventing any single feature with a larger scale from dominating the learning process."
   ]
  },
  {
   "cell_type": "code",
   "execution_count": 11,
   "id": "5e5175f2-1913-4945-b888-5e613d17a089",
   "metadata": {},
   "outputs": [],
   "source": [
    "# Convert all columns to float64 type \n",
    "penguins_df = penguins_df.astype('float64')"
   ]
  },
  {
   "cell_type": "code",
   "execution_count": 12,
   "id": "08e3c0a3-3be3-445e-a5f4-7a0f90b94b00",
   "metadata": {},
   "outputs": [],
   "source": [
    "# Initialize Standard Scaler\n",
    "scaler = StandardScaler()"
   ]
  },
  {
   "cell_type": "code",
   "execution_count": 13,
   "id": "2d947dfd-7a20-4766-9a83-04d5da9a1e9a",
   "metadata": {},
   "outputs": [],
   "source": [
    "# Apply scaler to all columns\n",
    "penguins_df[:] = scaler.fit_transform(penguins_df)"
   ]
  },
  {
   "cell_type": "code",
   "execution_count": 14,
   "id": "da11de64-7839-478f-beca-59d8fcd2f32c",
   "metadata": {},
   "outputs": [
    {
     "data": {
      "text/html": [
       "<div>\n",
       "<style scoped>\n",
       "    .dataframe tbody tr th:only-of-type {\n",
       "        vertical-align: middle;\n",
       "    }\n",
       "\n",
       "    .dataframe tbody tr th {\n",
       "        vertical-align: top;\n",
       "    }\n",
       "\n",
       "    .dataframe thead th {\n",
       "        text-align: right;\n",
       "    }\n",
       "</style>\n",
       "<table border=\"1\" class=\"dataframe\">\n",
       "  <thead>\n",
       "    <tr style=\"text-align: right;\">\n",
       "      <th></th>\n",
       "      <th>culmen_length_mm</th>\n",
       "      <th>culmen_depth_mm</th>\n",
       "      <th>flipper_length_mm</th>\n",
       "      <th>body_mass_g</th>\n",
       "      <th>sex_FEMALE</th>\n",
       "      <th>sex_MALE</th>\n",
       "    </tr>\n",
       "  </thead>\n",
       "  <tbody>\n",
       "    <tr>\n",
       "      <th>0</th>\n",
       "      <td>-0.903906</td>\n",
       "      <td>0.790360</td>\n",
       "      <td>-1.425342</td>\n",
       "      <td>-0.566948</td>\n",
       "      <td>-0.993994</td>\n",
       "      <td>0.993994</td>\n",
       "    </tr>\n",
       "    <tr>\n",
       "      <th>1</th>\n",
       "      <td>-0.830434</td>\n",
       "      <td>0.126187</td>\n",
       "      <td>-1.068577</td>\n",
       "      <td>-0.504847</td>\n",
       "      <td>1.006042</td>\n",
       "      <td>-1.006042</td>\n",
       "    </tr>\n",
       "    <tr>\n",
       "      <th>2</th>\n",
       "      <td>-0.683490</td>\n",
       "      <td>0.432728</td>\n",
       "      <td>-0.426399</td>\n",
       "      <td>-1.187953</td>\n",
       "      <td>1.006042</td>\n",
       "      <td>-1.006042</td>\n",
       "    </tr>\n",
       "    <tr>\n",
       "      <th>3</th>\n",
       "      <td>-1.344738</td>\n",
       "      <td>1.096901</td>\n",
       "      <td>-0.569105</td>\n",
       "      <td>-0.939551</td>\n",
       "      <td>1.006042</td>\n",
       "      <td>-1.006042</td>\n",
       "    </tr>\n",
       "    <tr>\n",
       "      <th>4</th>\n",
       "      <td>-0.867170</td>\n",
       "      <td>1.761074</td>\n",
       "      <td>-0.783164</td>\n",
       "      <td>-0.691149</td>\n",
       "      <td>-0.993994</td>\n",
       "      <td>0.993994</td>\n",
       "    </tr>\n",
       "  </tbody>\n",
       "</table>\n",
       "</div>"
      ],
      "text/plain": [
       "   culmen_length_mm  culmen_depth_mm  flipper_length_mm  body_mass_g  \\\n",
       "0         -0.903906         0.790360          -1.425342    -0.566948   \n",
       "1         -0.830434         0.126187          -1.068577    -0.504847   \n",
       "2         -0.683490         0.432728          -0.426399    -1.187953   \n",
       "3         -1.344738         1.096901          -0.569105    -0.939551   \n",
       "4         -0.867170         1.761074          -0.783164    -0.691149   \n",
       "\n",
       "   sex_FEMALE  sex_MALE  \n",
       "0   -0.993994  0.993994  \n",
       "1    1.006042 -1.006042  \n",
       "2    1.006042 -1.006042  \n",
       "3    1.006042 -1.006042  \n",
       "4   -0.993994  0.993994  "
      ]
     },
     "execution_count": 14,
     "metadata": {},
     "output_type": "execute_result"
    }
   ],
   "source": [
    "penguins_df.head()"
   ]
  },
  {
   "cell_type": "code",
   "execution_count": 15,
   "id": "fca66096-7df5-4c49-913d-008fa82541a2",
   "metadata": {},
   "outputs": [
    {
     "data": {
      "text/html": [
       "<div>\n",
       "<style scoped>\n",
       "    .dataframe tbody tr th:only-of-type {\n",
       "        vertical-align: middle;\n",
       "    }\n",
       "\n",
       "    .dataframe tbody tr th {\n",
       "        vertical-align: top;\n",
       "    }\n",
       "\n",
       "    .dataframe thead th {\n",
       "        text-align: right;\n",
       "    }\n",
       "</style>\n",
       "<table border=\"1\" class=\"dataframe\">\n",
       "  <thead>\n",
       "    <tr style=\"text-align: right;\">\n",
       "      <th></th>\n",
       "      <th>culmen_length_mm</th>\n",
       "      <th>culmen_depth_mm</th>\n",
       "      <th>flipper_length_mm</th>\n",
       "      <th>body_mass_g</th>\n",
       "      <th>sex_FEMALE</th>\n",
       "      <th>sex_MALE</th>\n",
       "    </tr>\n",
       "  </thead>\n",
       "  <tbody>\n",
       "    <tr>\n",
       "      <th>count</th>\n",
       "      <td>3.320000e+02</td>\n",
       "      <td>3.320000e+02</td>\n",
       "      <td>3.320000e+02</td>\n",
       "      <td>3.320000e+02</td>\n",
       "      <td>3.320000e+02</td>\n",
       "      <td>3.320000e+02</td>\n",
       "    </tr>\n",
       "    <tr>\n",
       "      <th>mean</th>\n",
       "      <td>-4.708416e-16</td>\n",
       "      <td>1.284113e-16</td>\n",
       "      <td>7.276642e-16</td>\n",
       "      <td>4.280378e-17</td>\n",
       "      <td>1.391123e-16</td>\n",
       "      <td>-1.391123e-16</td>\n",
       "    </tr>\n",
       "    <tr>\n",
       "      <th>std</th>\n",
       "      <td>1.001509e+00</td>\n",
       "      <td>1.001509e+00</td>\n",
       "      <td>1.001509e+00</td>\n",
       "      <td>1.001509e+00</td>\n",
       "      <td>1.001509e+00</td>\n",
       "      <td>1.001509e+00</td>\n",
       "    </tr>\n",
       "    <tr>\n",
       "      <th>min</th>\n",
       "      <td>-2.189667e+00</td>\n",
       "      <td>-2.070694e+00</td>\n",
       "      <td>-2.067519e+00</td>\n",
       "      <td>-1.871059e+00</td>\n",
       "      <td>-9.939939e-01</td>\n",
       "      <td>-1.006042e+00</td>\n",
       "    </tr>\n",
       "    <tr>\n",
       "      <th>25%</th>\n",
       "      <td>-8.304338e-01</td>\n",
       "      <td>-7.934376e-01</td>\n",
       "      <td>-7.831643e-01</td>\n",
       "      <td>-8.153502e-01</td>\n",
       "      <td>-9.939939e-01</td>\n",
       "      <td>-1.006042e+00</td>\n",
       "    </tr>\n",
       "    <tr>\n",
       "      <th>50%</th>\n",
       "      <td>1.247034e-01</td>\n",
       "      <td>7.509650e-02</td>\n",
       "      <td>-2.836929e-01</td>\n",
       "      <td>-2.253950e-01</td>\n",
       "      <td>-9.939939e-01</td>\n",
       "      <td>9.939939e-01</td>\n",
       "    </tr>\n",
       "    <tr>\n",
       "      <th>75%</th>\n",
       "      <td>8.456482e-01</td>\n",
       "      <td>7.903599e-01</td>\n",
       "      <td>8.579560e-01</td>\n",
       "      <td>7.138756e-01</td>\n",
       "      <td>1.006042e+00</td>\n",
       "      <td>9.939939e-01</td>\n",
       "    </tr>\n",
       "    <tr>\n",
       "      <th>max</th>\n",
       "      <td>2.861539e+00</td>\n",
       "      <td>2.220887e+00</td>\n",
       "      <td>2.142311e+00</td>\n",
       "      <td>2.600180e+00</td>\n",
       "      <td>1.006042e+00</td>\n",
       "      <td>9.939939e-01</td>\n",
       "    </tr>\n",
       "  </tbody>\n",
       "</table>\n",
       "</div>"
      ],
      "text/plain": [
       "       culmen_length_mm  culmen_depth_mm  flipper_length_mm   body_mass_g  \\\n",
       "count      3.320000e+02     3.320000e+02       3.320000e+02  3.320000e+02   \n",
       "mean      -4.708416e-16     1.284113e-16       7.276642e-16  4.280378e-17   \n",
       "std        1.001509e+00     1.001509e+00       1.001509e+00  1.001509e+00   \n",
       "min       -2.189667e+00    -2.070694e+00      -2.067519e+00 -1.871059e+00   \n",
       "25%       -8.304338e-01    -7.934376e-01      -7.831643e-01 -8.153502e-01   \n",
       "50%        1.247034e-01     7.509650e-02      -2.836929e-01 -2.253950e-01   \n",
       "75%        8.456482e-01     7.903599e-01       8.579560e-01  7.138756e-01   \n",
       "max        2.861539e+00     2.220887e+00       2.142311e+00  2.600180e+00   \n",
       "\n",
       "         sex_FEMALE      sex_MALE  \n",
       "count  3.320000e+02  3.320000e+02  \n",
       "mean   1.391123e-16 -1.391123e-16  \n",
       "std    1.001509e+00  1.001509e+00  \n",
       "min   -9.939939e-01 -1.006042e+00  \n",
       "25%   -9.939939e-01 -1.006042e+00  \n",
       "50%   -9.939939e-01  9.939939e-01  \n",
       "75%    1.006042e+00  9.939939e-01  \n",
       "max    1.006042e+00  9.939939e-01  "
      ]
     },
     "execution_count": 15,
     "metadata": {},
     "output_type": "execute_result"
    }
   ],
   "source": [
    "# Verify the mean and std\n",
    "penguins_df.describe()"
   ]
  },
  {
   "cell_type": "markdown",
   "id": "9702f3cb-8d6d-491e-937a-e7d5c3b393e2",
   "metadata": {},
   "source": [
    "## 2. Detect the optimal number of clusters for k-means clustering\n"
   ]
  },
  {
   "cell_type": "markdown",
   "id": "afd63ffc-43c5-4be8-a3b3-de9ccdfcd322",
   "metadata": {},
   "source": [
    "\n",
    "The elbow method helps choose the optimal number of clusters by identifying the point where the reduction in inertia slows down. This \"elbow\" indicates the best balance between model simplicity and accurate grouping, avoiding overfitting with too many clusters."
   ]
  },
  {
   "cell_type": "code",
   "execution_count": 17,
   "id": "8a20b3b2-e349-43bf-b129-08155add647f",
   "metadata": {},
   "outputs": [
    {
     "data": {
      "image/png": "[encoded data removed]",
      "text/plain": [
       "<Figure size 640x480 with 1 Axes>"
      ]
     },
     "metadata": {},
     "output_type": "display_data"
    }
   ],
   "source": [
    "# List to store the WCSS (Within-Cluster Sum of Squares)\n",
    "inertia = []\n",
    "\n",
    "# Perform clustering for a range of cluster numbers\n",
    "for i in range(1, 20):\n",
    "    kmeans = KMeans(n_clusters=i, init='k-means++', max_iter=300, n_init=10, random_state=42)\n",
    "    kmeans.fit(penguins_df)\n",
    "    inertia.append(kmeans.inertia_)\n",
    "\n",
    "# Plot the Elbow Graph\n",
    "plt.plot(range(1, 20), inertia)\n",
    "plt.title('Elbow Method for Optimal Number of Clusters')\n",
    "plt.xlabel('Number of Clusters')\n",
    "plt.ylabel('inertia')\n",
    "plt.show()\n"
   ]
  },
  {
   "cell_type": "markdown",
   "id": "9512faa8-b02b-44fa-acdd-e75158994b58",
   "metadata": {},
   "source": [
    "The ideal number of clusters to use is 4.\n",
    "Using more clusters may lead to overfitting, where the model becomes too complex and captures noise rather than true patterns in the data."
   ]
  },
  {
   "cell_type": "markdown",
   "id": "2d4bfa1e-e45c-49c3-b1d8-cf8b664bdb51",
   "metadata": {},
   "source": [
    "## Run the k-means clustering algorithm"
   ]
  },
  {
   "cell_type": "code",
   "execution_count": 32,
   "id": "8cc392b7-cbc2-4cc0-b1d1-bbd7c976f1a5",
   "metadata": {},
   "outputs": [
    {
     "name": "stderr",
     "output_type": "stream",
     "text": [
      "/Library/Frameworks/Python.framework/Versions/3.12/lib/python3.12/site-packages/sklearn/cluster/_kmeans.py:1416: FutureWarning: The default value of `n_init` will change from 10 to 'auto' in 1.4. Set the value of `n_init` explicitly to suppress the warning\n",
      "  super()._check_params_vs_input(X, default_n_init=10)\n"
     ]
    },
    {
     "data": {
      "image/png": "[encoded data removed]",
      "text/plain": [
       "<Figure size 640x480 with 1 Axes>"
      ]
     },
     "metadata": {},
     "output_type": "display_data"
    }
   ],
   "source": [
    "# Instantiating the KMeans model\n",
    "model = KMeans(n_clusters=4)  # Using 4 clusters for this example\n",
    "\n",
    "# Fit the model on all 6 features\n",
    "model.fit(penguins_df)\n",
    "\n",
    "# Predict the clusters\n",
    "labels = model.predict(penguins_df)\n",
    "\n",
    "# Reduce the data to 2D for visualization using PCA\n",
    "pca = PCA(n_components=2)\n",
    "reduced_data = pca.fit_transform(penguins_df)\n",
    "\n",
    "# Visualize the clusters in 2D\n",
    "plt.scatter(reduced_data[:, 0], reduced_data[:, 1], c=labels, cmap='viridis')  # Points colored by cluster\n",
    "plt.scatter(model.cluster_centers_[:, 0], model.cluster_centers_[:, 1], s=200, c='red', marker='X')  # Centroids\n",
    "plt.title(\"K-means Clustering with PCA (2D Projection)\")\n",
    "plt.xlabel(\"PCA Component 1\")\n",
    "plt.ylabel(\"PCA Component 2\")\n",
    "plt.show()"
   ]
  }
 ],
 "metadata": {
  "kernelspec": {
   "display_name": "Python 3 (ipykernel)",
   "language": "python",
   "name": "python3"
  },
  "language_info": {
   "codemirror_mode": {
    "name": "ipython",
    "version": 3
   },
   "file_extension": ".py",
   "mimetype": "text/x-python",
   "name": "python",
   "nbconvert_exporter": "python",
   "pygments_lexer": "ipython3",
   "version": "3.12.3"
  }
 },
 "nbformat": 4,
 "nbformat_minor": 5
}
